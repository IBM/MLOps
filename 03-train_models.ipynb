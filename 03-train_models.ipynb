{
 "cells": [
  {
   "cell_type": "markdown",
   "metadata": {
    "id": "c0e6d4bf-e9ac-4724-8780-609e6c6c0798",
    "tags": []
   },
   "source": [
    "![Alt text](images/banner.png)"
   ]
  },
  {
   "cell_type": "markdown",
   "metadata": {
    "id": "1a43dd74-8805-4c4a-bdd6-8b331bd6b055",
    "tags": []
   },
   "source": [
    "## Training Notebook "
   ]
  },
  {
   "cell_type": "markdown",
   "metadata": {
    "id": "8b34fe3c-2b61-41e6-a230-50716bc6cf31"
   },
   "source": [
    "### Initial Setup\n",
    "\n",
    "Some initial setup specific to running this notebook as part of the pipeline."
   ]
  },
  {
   "cell_type": "code",
   "execution_count": null,
   "metadata": {
    "id": "426f8780-363a-42b0-9218-d373c052935a"
   },
   "outputs": [],
   "source": [
    "import os\n",
    "#This environment variable is automatically set in WS Pipelines and are needed to access various services.\n",
    "TOKEN = os.getenv(\"USER_ACCESS_TOKEN\")"
   ]
  },
  {
   "cell_type": "code",
   "execution_count": null,
   "metadata": {
    "id": "c90d6049-8716-4ece-ba4f-051a4df73467"
   },
   "outputs": [],
   "source": [
    "if os.getenv(\"running_in_production_pipeline\"):\n",
    "    running_in_production_pipeline = True\n",
    "    # If you want to run additional steps when deploying to production like reporting to external services, you can use this variable to trigger that\n",
    "    # It can also be used to skip steps that are only needed in development like plotting\n",
    "    print(\"notebook is running in a production pipeline!\")\n",
    "else:\n",
    "    running_in_production_pipeline = False\n",
    "    print(\"notebook is running in a development enviroment!\")"
   ]
  },
  {
   "cell_type": "markdown",
   "metadata": {
    "id": "8ad76681-6bd5-496f-a646-4befff7f530c"
   },
   "source": [
    "## Imports"
   ]
  },
  {
   "cell_type": "code",
   "execution_count": 3,
   "metadata": {
    "id": "db95f430-80de-400e-9c3e-25511a634210",
    "tags": []
   },
   "outputs": [],
   "source": [
    "from botocore.client import Config\n",
    "from ibm_botocore.client import Config\n",
    "from sklearn.pipeline import Pipeline\n",
    "from sklearn.model_selection import train_test_split,cross_val_score, KFold\n",
    "from sklearn.metrics import roc_auc_score,confusion_matrix,f1_score,auc,roc_curve,accuracy_score\n",
    "from hyperopt import STATUS_OK, Trials, fmin, hp, tpe\n",
    "from ibm_watson_studio_pipelines import WSPipelines\n",
    "from ibm_watson_machine_learning import APIClient\n",
    "import warnings\n",
    "import os\n",
    "import pandas as pd\n",
    "import numpy as np\n",
    "import ibm_boto3\n",
    "import json\n",
    "import pickle\n",
    "import matplotlib.pyplot as plt\n",
    "from dotenv import load_dotenv\n",
    "from os.path import exists\n",
    "\n",
    "warnings.filterwarnings(\"ignore\")\n",
    "\n",
    "try:\n",
    "    import seaborn  as sns\n",
    "except Exception as e:\n",
    "    print(str(e) + \" - Optional pluging skipped\")\n",
    "    \n",
    "# Loading Variables and Utils from common python file\n",
    "import vars_and_utils as vars_and_utils\n",
    "    \n",
    "# some variables are stored in a .env file. Refer to readme for more information\n",
    "load_dotenv()\n",
    "project_id= os.getenv('PROJECT_ID')"
   ]
  },
  {
   "cell_type": "markdown",
   "metadata": {
    "id": "277383c1-2f15-492b-96da-ee0916aac233"
   },
   "source": [
    "## Utility Functions"
   ]
  },
  {
   "cell_type": "markdown",
   "metadata": {
    "id": "13533a52-f97e-44ff-8cb5-d0008bfdbe3c"
   },
   "source": [
    "## Load the Saved Transformer from IBM COS "
   ]
  },
  {
   "cell_type": "code",
   "execution_count": null,
   "metadata": {
    "id": "8a547cb8-d3a3-4349-aeda-4959f7e812cf"
   },
   "outputs": [],
   "source": [
    "vars_and_utils.pipeline_path"
   ]
  },
  {
   "cell_type": "code",
   "execution_count": 6,
   "metadata": {
    "id": "d5dfef69-ef74-4f1a-9800-21b3b5df9b57",
    "tags": []
   },
   "outputs": [],
   "source": [
    "pipeline = vars_and_utils.load_model(vars_and_utils.pipeline_path)"
   ]
  },
  {
   "cell_type": "markdown",
   "metadata": {
    "id": "a9f4de87-187a-449e-ae43-c56f176f46d2"
   },
   "source": [
    "## Instantiate FactSheets Client"
   ]
  },
  {
   "cell_type": "code",
   "execution_count": 7,
   "metadata": {
    "id": "69c97777-cdbe-47cf-9808-9c0274bd971a",
    "tags": []
   },
   "outputs": [],
   "source": [
    "# removing temporarly due to installation issues\n",
    "\n",
    "# # Set-up Factsheets\n",
    "# cpd_creds = CloudPakforDataConfig(service_url=CPD_HOST, username=CPD_USERNAME, password=CPD_PASSWORD)\n",
    "    \n",
    "# if SPACE_ID is None:\n",
    "#     # Only of SPACE_ID is unavailble, fallback to PROJECT_ID\n",
    "#     if PROJECT_ID is None:\n",
    "#         # Neither SPACE_ID nor PROJECT_ID available\n",
    "#         pass\n",
    "#     else:\n",
    "#         # PROJECT_ID available\n",
    "#         deploy_to = 'project'\n",
    "#         try:\n",
    "#             # Create new experiment\n",
    "#             facts_client = AIGovFactsClient(experiment_name=EXPERIMENT_NAME,container_type=deploy_to,container_id=PROJECT_ID,cloud_pak_for_data_configs=cpd_creds)\n",
    "#         except Exception as e:\n",
    "#             # Experiment already exists.. set as current experiment\n",
    "#             facts_client = AIGovFactsClient(experiment_name=EXPERIMENT_NAME,container_type=deploy_to,container_id=PROJECT_ID,cloud_pak_for_data_configs=cpd_creds,set_as_current_experiment=True)\n",
    "#         else:\n",
    "#             print(e)\n",
    "# else:\n",
    "#     # SPACE_ID is available\n",
    "#     deploy_to = 'space'\n",
    "#     try:\n",
    "#         # Create new experiment\n",
    "#         facts_client = AIGovFactsClient(experiment_name=EXPERIMENT_NAME,container_type=deploy_to,container_id=SPACE_ID,cloud_pak_for_data_configs=cpd_creds)\n",
    "#     except Exception as e:\n",
    "#         # Experiment already exists.. set as current experiment\n",
    "#         facts_client = AIGovFactsClient(experiment_name=EXPERIMENT_NAME,container_type=deploy_to,container_id=SPACE_ID,cloud_pak_for_data_configs=cpd_creds,set_as_current_experiment=True)\n",
    "#     else:\n",
    "#         print(e)\n",
    "        \n",
    "# print(f\"Setting up Factsheets in {deploy_to}\")"
   ]
  },
  {
   "cell_type": "markdown",
   "metadata": {
    "id": "cf488463-f80f-40f3-840b-0b208ccb6767"
   },
   "source": [
    "## Load Train Data and Test Data "
   ]
  },
  {
   "cell_type": "code",
   "execution_count": 8,
   "metadata": {
    "id": "796fda8b-dee9-4d67-b108-c42a39d903eb",
    "tags": []
   },
   "outputs": [
    {
     "data": {
      "text/html": [
       "<div>\n",
       "<style scoped>\n",
       "    .dataframe tbody tr th:only-of-type {\n",
       "        vertical-align: middle;\n",
       "    }\n",
       "\n",
       "    .dataframe tbody tr th {\n",
       "        vertical-align: top;\n",
       "    }\n",
       "\n",
       "    .dataframe thead th {\n",
       "        text-align: right;\n",
       "    }\n",
       "</style>\n",
       "<table border=\"1\" class=\"dataframe\">\n",
       "  <thead>\n",
       "    <tr style=\"text-align: right;\">\n",
       "      <th></th>\n",
       "      <th>LoanDuration</th>\n",
       "      <th>LoanAmount</th>\n",
       "      <th>InstallmentPercent</th>\n",
       "      <th>CurrentResidenceDuration</th>\n",
       "      <th>Age</th>\n",
       "      <th>ExistingCreditsCount</th>\n",
       "      <th>Dependents</th>\n",
       "      <th>CheckingStatus</th>\n",
       "      <th>ExistingSavings</th>\n",
       "      <th>Telephone</th>\n",
       "      <th>OthersOnLoan</th>\n",
       "      <th>OwnsProperty</th>\n",
       "      <th>Housing</th>\n",
       "      <th>Job</th>\n",
       "      <th>LoanPurpose</th>\n",
       "      <th>EmploymentDuration</th>\n",
       "      <th>CreditHistory</th>\n",
       "      <th>Sex</th>\n",
       "      <th>Risk</th>\n",
       "    </tr>\n",
       "  </thead>\n",
       "  <tbody>\n",
       "    <tr>\n",
       "      <th>0</th>\n",
       "      <td>18</td>\n",
       "      <td>462</td>\n",
       "      <td>2</td>\n",
       "      <td>2</td>\n",
       "      <td>37</td>\n",
       "      <td>2</td>\n",
       "      <td>1</td>\n",
       "      <td>less_0</td>\n",
       "      <td>less_100</td>\n",
       "      <td>none</td>\n",
       "      <td>none</td>\n",
       "      <td>savings_insurance</td>\n",
       "      <td>own</td>\n",
       "      <td>skilled</td>\n",
       "      <td>car_new</td>\n",
       "      <td>1_to_4</td>\n",
       "      <td>credits_paid_to_date</td>\n",
       "      <td>female</td>\n",
       "      <td>0</td>\n",
       "    </tr>\n",
       "    <tr>\n",
       "      <th>1</th>\n",
       "      <td>15</td>\n",
       "      <td>250</td>\n",
       "      <td>2</td>\n",
       "      <td>3</td>\n",
       "      <td>28</td>\n",
       "      <td>2</td>\n",
       "      <td>1</td>\n",
       "      <td>less_0</td>\n",
       "      <td>less_100</td>\n",
       "      <td>yes</td>\n",
       "      <td>none</td>\n",
       "      <td>real_estate</td>\n",
       "      <td>own</td>\n",
       "      <td>skilled</td>\n",
       "      <td>furniture</td>\n",
       "      <td>1_to_4</td>\n",
       "      <td>prior_payments_delayed</td>\n",
       "      <td>male</td>\n",
       "      <td>0</td>\n",
       "    </tr>\n",
       "    <tr>\n",
       "      <th>2</th>\n",
       "      <td>28</td>\n",
       "      <td>6235</td>\n",
       "      <td>3</td>\n",
       "      <td>3</td>\n",
       "      <td>57</td>\n",
       "      <td>2</td>\n",
       "      <td>1</td>\n",
       "      <td>no_checking</td>\n",
       "      <td>500_to_1000</td>\n",
       "      <td>none</td>\n",
       "      <td>none</td>\n",
       "      <td>unknown</td>\n",
       "      <td>own</td>\n",
       "      <td>skilled</td>\n",
       "      <td>education</td>\n",
       "      <td>greater_7</td>\n",
       "      <td>prior_payments_delayed</td>\n",
       "      <td>male</td>\n",
       "      <td>1</td>\n",
       "    </tr>\n",
       "    <tr>\n",
       "      <th>3</th>\n",
       "      <td>9</td>\n",
       "      <td>1032</td>\n",
       "      <td>3</td>\n",
       "      <td>4</td>\n",
       "      <td>41</td>\n",
       "      <td>1</td>\n",
       "      <td>1</td>\n",
       "      <td>no_checking</td>\n",
       "      <td>100_to_500</td>\n",
       "      <td>none</td>\n",
       "      <td>none</td>\n",
       "      <td>savings_insurance</td>\n",
       "      <td>own</td>\n",
       "      <td>management_self-employed</td>\n",
       "      <td>car_new</td>\n",
       "      <td>4_to_7</td>\n",
       "      <td>prior_payments_delayed</td>\n",
       "      <td>male</td>\n",
       "      <td>0</td>\n",
       "    </tr>\n",
       "    <tr>\n",
       "      <th>4</th>\n",
       "      <td>11</td>\n",
       "      <td>4553</td>\n",
       "      <td>3</td>\n",
       "      <td>3</td>\n",
       "      <td>22</td>\n",
       "      <td>1</td>\n",
       "      <td>1</td>\n",
       "      <td>0_to_200</td>\n",
       "      <td>less_100</td>\n",
       "      <td>none</td>\n",
       "      <td>none</td>\n",
       "      <td>savings_insurance</td>\n",
       "      <td>own</td>\n",
       "      <td>management_self-employed</td>\n",
       "      <td>car_new</td>\n",
       "      <td>less_1</td>\n",
       "      <td>credits_paid_to_date</td>\n",
       "      <td>female</td>\n",
       "      <td>0</td>\n",
       "    </tr>\n",
       "  </tbody>\n",
       "</table>\n",
       "</div>"
      ],
      "text/plain": [
       "   LoanDuration  LoanAmount  InstallmentPercent  CurrentResidenceDuration  \\\n",
       "0            18         462                   2                         2   \n",
       "1            15         250                   2                         3   \n",
       "2            28        6235                   3                         3   \n",
       "3             9        1032                   3                         4   \n",
       "4            11        4553                   3                         3   \n",
       "\n",
       "   Age  ExistingCreditsCount  Dependents CheckingStatus ExistingSavings  \\\n",
       "0   37                     2           1         less_0        less_100   \n",
       "1   28                     2           1         less_0        less_100   \n",
       "2   57                     2           1    no_checking     500_to_1000   \n",
       "3   41                     1           1    no_checking      100_to_500   \n",
       "4   22                     1           1       0_to_200        less_100   \n",
       "\n",
       "  Telephone OthersOnLoan       OwnsProperty Housing                       Job  \\\n",
       "0      none         none  savings_insurance     own                   skilled   \n",
       "1       yes         none        real_estate     own                   skilled   \n",
       "2      none         none            unknown     own                   skilled   \n",
       "3      none         none  savings_insurance     own  management_self-employed   \n",
       "4      none         none  savings_insurance     own  management_self-employed   \n",
       "\n",
       "  LoanPurpose EmploymentDuration           CreditHistory     Sex  Risk  \n",
       "0     car_new             1_to_4    credits_paid_to_date  female     0  \n",
       "1   furniture             1_to_4  prior_payments_delayed    male     0  \n",
       "2   education          greater_7  prior_payments_delayed    male     1  \n",
       "3     car_new             4_to_7  prior_payments_delayed    male     0  \n",
       "4     car_new             less_1    credits_paid_to_date  female     0  "
      ]
     },
     "execution_count": 8,
     "metadata": {},
     "output_type": "execute_result"
    }
   ],
   "source": [
    "train_data = pd.read_csv(vars_and_utils.train_data_path)\n",
    "test_data = pd.read_csv(vars_and_utils.test_data_path)\n",
    "train_data.head()"
   ]
  },
  {
   "cell_type": "markdown",
   "metadata": {
    "id": "88cfea83-bb59-4bfc-a420-715d966b658c"
   },
   "source": [
    "## Load train and test set"
   ]
  },
  {
   "cell_type": "code",
   "execution_count": 9,
   "metadata": {
    "id": "cf8bc456-5dcd-47d6-a798-d49dafe18086",
    "tags": []
   },
   "outputs": [],
   "source": [
    "y_train = train_data['Risk']\n",
    "\n",
    "y_test = test_data['Risk']\n",
    "\n",
    "X_train = train_data.drop('Risk',axis=1)\n",
    "\n",
    "X_test = test_data.drop('Risk',axis=1)"
   ]
  },
  {
   "cell_type": "markdown",
   "metadata": {
    "id": "07d6e6c4-815f-49ef-8482-7fff11bed30a"
   },
   "source": [
    "## Make validation set"
   ]
  },
  {
   "cell_type": "code",
   "execution_count": 10,
   "metadata": {
    "id": "254d4567-14c1-4d4e-aa10-3d6f7c286937",
    "tags": []
   },
   "outputs": [],
   "source": [
    "from sklearn.model_selection import train_test_split\n",
    "X_tr, X_val, y_tr, y_val = train_test_split(X_train, y_train, test_size = 0.2, random_state = 42)"
   ]
  },
  {
   "cell_type": "markdown",
   "metadata": {
    "id": "0fdba6cc-171c-442f-a65b-b2ca7cb37888"
   },
   "source": [
    "## Instantiate a Classifier "
   ]
  },
  {
   "cell_type": "code",
   "execution_count": 11,
   "metadata": {
    "id": "f5ec1d84-4fe3-4fb3-a50f-a887478c3ea1",
    "tags": []
   },
   "outputs": [],
   "source": [
    "from lightgbm import LGBMClassifier\n",
    "\n",
    "model_lgb = LGBMClassifier(learning_rate=0.1,max_depth=5,random_state=42)"
   ]
  },
  {
   "cell_type": "markdown",
   "metadata": {
    "id": "29c55a85-e89e-4899-a28f-49dda521fe1d"
   },
   "source": [
    "## Append the Pipeline"
   ]
  },
  {
   "cell_type": "code",
   "execution_count": 12,
   "metadata": {
    "id": "bffd937d-7a50-4718-a4d0-5c27466c8a2b",
    "scrolled": true,
    "tags": []
   },
   "outputs": [],
   "source": [
    "estimator_step = ['model_lgb',model_lgb]\n",
    "pipeline.steps.append(estimator_step)"
   ]
  },
  {
   "cell_type": "code",
   "execution_count": 13,
   "metadata": {
    "id": "85119fa8-fcf4-46b8-973c-332e8d7ae6e5",
    "scrolled": true,
    "tags": []
   },
   "outputs": [
    {
     "data": {
      "text/html": [
       "<style>#sk-container-id-1 {color: black;background-color: white;}#sk-container-id-1 pre{padding: 0;}#sk-container-id-1 div.sk-toggleable {background-color: white;}#sk-container-id-1 label.sk-toggleable__label {cursor: pointer;display: block;width: 100%;margin-bottom: 0;padding: 0.3em;box-sizing: border-box;text-align: center;}#sk-container-id-1 label.sk-toggleable__label-arrow:before {content: \"▸\";float: left;margin-right: 0.25em;color: #696969;}#sk-container-id-1 label.sk-toggleable__label-arrow:hover:before {color: black;}#sk-container-id-1 div.sk-estimator:hover label.sk-toggleable__label-arrow:before {color: black;}#sk-container-id-1 div.sk-toggleable__content {max-height: 0;max-width: 0;overflow: hidden;text-align: left;background-color: #f0f8ff;}#sk-container-id-1 div.sk-toggleable__content pre {margin: 0.2em;color: black;border-radius: 0.25em;background-color: #f0f8ff;}#sk-container-id-1 input.sk-toggleable__control:checked~div.sk-toggleable__content {max-height: 200px;max-width: 100%;overflow: auto;}#sk-container-id-1 input.sk-toggleable__control:checked~label.sk-toggleable__label-arrow:before {content: \"▾\";}#sk-container-id-1 div.sk-estimator input.sk-toggleable__control:checked~label.sk-toggleable__label {background-color: #d4ebff;}#sk-container-id-1 div.sk-label input.sk-toggleable__control:checked~label.sk-toggleable__label {background-color: #d4ebff;}#sk-container-id-1 input.sk-hidden--visually {border: 0;clip: rect(1px 1px 1px 1px);clip: rect(1px, 1px, 1px, 1px);height: 1px;margin: -1px;overflow: hidden;padding: 0;position: absolute;width: 1px;}#sk-container-id-1 div.sk-estimator {font-family: monospace;background-color: #f0f8ff;border: 1px dotted black;border-radius: 0.25em;box-sizing: border-box;margin-bottom: 0.5em;}#sk-container-id-1 div.sk-estimator:hover {background-color: #d4ebff;}#sk-container-id-1 div.sk-parallel-item::after {content: \"\";width: 100%;border-bottom: 1px solid gray;flex-grow: 1;}#sk-container-id-1 div.sk-label:hover label.sk-toggleable__label {background-color: #d4ebff;}#sk-container-id-1 div.sk-serial::before {content: \"\";position: absolute;border-left: 1px solid gray;box-sizing: border-box;top: 0;bottom: 0;left: 50%;z-index: 0;}#sk-container-id-1 div.sk-serial {display: flex;flex-direction: column;align-items: center;background-color: white;padding-right: 0.2em;padding-left: 0.2em;position: relative;}#sk-container-id-1 div.sk-item {position: relative;z-index: 1;}#sk-container-id-1 div.sk-parallel {display: flex;align-items: stretch;justify-content: center;background-color: white;position: relative;}#sk-container-id-1 div.sk-item::before, #sk-container-id-1 div.sk-parallel-item::before {content: \"\";position: absolute;border-left: 1px solid gray;box-sizing: border-box;top: 0;bottom: 0;left: 50%;z-index: -1;}#sk-container-id-1 div.sk-parallel-item {display: flex;flex-direction: column;z-index: 1;position: relative;background-color: white;}#sk-container-id-1 div.sk-parallel-item:first-child::after {align-self: flex-end;width: 50%;}#sk-container-id-1 div.sk-parallel-item:last-child::after {align-self: flex-start;width: 50%;}#sk-container-id-1 div.sk-parallel-item:only-child::after {width: 0;}#sk-container-id-1 div.sk-dashed-wrapped {border: 1px dashed gray;margin: 0 0.4em 0.5em 0.4em;box-sizing: border-box;padding-bottom: 0.4em;background-color: white;}#sk-container-id-1 div.sk-label label {font-family: monospace;font-weight: bold;display: inline-block;line-height: 1.2em;}#sk-container-id-1 div.sk-label-container {text-align: center;}#sk-container-id-1 div.sk-container {/* jupyter's `normalize.less` sets `[hidden] { display: none; }` but bootstrap.min.css set `[hidden] { display: none !important; }` so we also need the `!important` here to be able to override the default hidden behavior on the sphinx rendered scikit-learn.org. See: https://github.com/scikit-learn/scikit-learn/issues/21755 */display: inline-block !important;position: relative;}#sk-container-id-1 div.sk-text-repr-fallback {display: none;}</style><div id=\"sk-container-id-1\" class=\"sk-top-container\"><div class=\"sk-text-repr-fallback\"><pre>ColumnTransformer(transformers=[(&#x27;cat&#x27;, OrdinalEncoder(),\n",
       "                                 Index([&#x27;CheckingStatus&#x27;, &#x27;ExistingSavings&#x27;, &#x27;Telephone&#x27;, &#x27;OthersOnLoan&#x27;,\n",
       "       &#x27;OwnsProperty&#x27;, &#x27;Housing&#x27;, &#x27;Job&#x27;, &#x27;LoanPurpose&#x27;, &#x27;EmploymentDuration&#x27;,\n",
       "       &#x27;CreditHistory&#x27;, &#x27;Sex&#x27;],\n",
       "      dtype=&#x27;object&#x27;)),\n",
       "                                (&#x27;num&#x27;, MinMaxScaler(),\n",
       "                                 Index([&#x27;LoanDuration&#x27;, &#x27;LoanAmount&#x27;, &#x27;InstallmentPercent&#x27;,\n",
       "       &#x27;CurrentResidenceDuration&#x27;, &#x27;Age&#x27;, &#x27;ExistingCreditsCount&#x27;,\n",
       "       &#x27;Dependents&#x27;],\n",
       "      dtype=&#x27;object&#x27;))])</pre><b>In a Jupyter environment, please rerun this cell to show the HTML representation or trust the notebook. <br />On GitHub, the HTML representation is unable to render, please try loading this page with nbviewer.org.</b></div><div class=\"sk-container\" hidden><div class=\"sk-item sk-dashed-wrapped\"><div class=\"sk-label-container\"><div class=\"sk-label sk-toggleable\"><input class=\"sk-toggleable__control sk-hidden--visually\" id=\"sk-estimator-id-1\" type=\"checkbox\" ><label for=\"sk-estimator-id-1\" class=\"sk-toggleable__label sk-toggleable__label-arrow\">ColumnTransformer</label><div class=\"sk-toggleable__content\"><pre>ColumnTransformer(transformers=[(&#x27;cat&#x27;, OrdinalEncoder(),\n",
       "                                 Index([&#x27;CheckingStatus&#x27;, &#x27;ExistingSavings&#x27;, &#x27;Telephone&#x27;, &#x27;OthersOnLoan&#x27;,\n",
       "       &#x27;OwnsProperty&#x27;, &#x27;Housing&#x27;, &#x27;Job&#x27;, &#x27;LoanPurpose&#x27;, &#x27;EmploymentDuration&#x27;,\n",
       "       &#x27;CreditHistory&#x27;, &#x27;Sex&#x27;],\n",
       "      dtype=&#x27;object&#x27;)),\n",
       "                                (&#x27;num&#x27;, MinMaxScaler(),\n",
       "                                 Index([&#x27;LoanDuration&#x27;, &#x27;LoanAmount&#x27;, &#x27;InstallmentPercent&#x27;,\n",
       "       &#x27;CurrentResidenceDuration&#x27;, &#x27;Age&#x27;, &#x27;ExistingCreditsCount&#x27;,\n",
       "       &#x27;Dependents&#x27;],\n",
       "      dtype=&#x27;object&#x27;))])</pre></div></div></div><div class=\"sk-parallel\"><div class=\"sk-parallel-item\"><div class=\"sk-item\"><div class=\"sk-label-container\"><div class=\"sk-label sk-toggleable\"><input class=\"sk-toggleable__control sk-hidden--visually\" id=\"sk-estimator-id-2\" type=\"checkbox\" ><label for=\"sk-estimator-id-2\" class=\"sk-toggleable__label sk-toggleable__label-arrow\">cat</label><div class=\"sk-toggleable__content\"><pre>Index([&#x27;CheckingStatus&#x27;, &#x27;ExistingSavings&#x27;, &#x27;Telephone&#x27;, &#x27;OthersOnLoan&#x27;,\n",
       "       &#x27;OwnsProperty&#x27;, &#x27;Housing&#x27;, &#x27;Job&#x27;, &#x27;LoanPurpose&#x27;, &#x27;EmploymentDuration&#x27;,\n",
       "       &#x27;CreditHistory&#x27;, &#x27;Sex&#x27;],\n",
       "      dtype=&#x27;object&#x27;)</pre></div></div></div><div class=\"sk-serial\"><div class=\"sk-item\"><div class=\"sk-estimator sk-toggleable\"><input class=\"sk-toggleable__control sk-hidden--visually\" id=\"sk-estimator-id-3\" type=\"checkbox\" ><label for=\"sk-estimator-id-3\" class=\"sk-toggleable__label sk-toggleable__label-arrow\">OrdinalEncoder</label><div class=\"sk-toggleable__content\"><pre>OrdinalEncoder()</pre></div></div></div></div></div></div><div class=\"sk-parallel-item\"><div class=\"sk-item\"><div class=\"sk-label-container\"><div class=\"sk-label sk-toggleable\"><input class=\"sk-toggleable__control sk-hidden--visually\" id=\"sk-estimator-id-4\" type=\"checkbox\" ><label for=\"sk-estimator-id-4\" class=\"sk-toggleable__label sk-toggleable__label-arrow\">num</label><div class=\"sk-toggleable__content\"><pre>Index([&#x27;LoanDuration&#x27;, &#x27;LoanAmount&#x27;, &#x27;InstallmentPercent&#x27;,\n",
       "       &#x27;CurrentResidenceDuration&#x27;, &#x27;Age&#x27;, &#x27;ExistingCreditsCount&#x27;,\n",
       "       &#x27;Dependents&#x27;],\n",
       "      dtype=&#x27;object&#x27;)</pre></div></div></div><div class=\"sk-serial\"><div class=\"sk-item\"><div class=\"sk-estimator sk-toggleable\"><input class=\"sk-toggleable__control sk-hidden--visually\" id=\"sk-estimator-id-5\" type=\"checkbox\" ><label for=\"sk-estimator-id-5\" class=\"sk-toggleable__label sk-toggleable__label-arrow\">MinMaxScaler</label><div class=\"sk-toggleable__content\"><pre>MinMaxScaler()</pre></div></div></div></div></div></div></div></div></div></div>"
      ],
      "text/plain": [
       "ColumnTransformer(transformers=[('cat', OrdinalEncoder(),\n",
       "                                 Index(['CheckingStatus', 'ExistingSavings', 'Telephone', 'OthersOnLoan',\n",
       "       'OwnsProperty', 'Housing', 'Job', 'LoanPurpose', 'EmploymentDuration',\n",
       "       'CreditHistory', 'Sex'],\n",
       "      dtype='object')),\n",
       "                                ('num', MinMaxScaler(),\n",
       "                                 Index(['LoanDuration', 'LoanAmount', 'InstallmentPercent',\n",
       "       'CurrentResidenceDuration', 'Age', 'ExistingCreditsCount',\n",
       "       'Dependents'],\n",
       "      dtype='object'))])"
      ]
     },
     "execution_count": 13,
     "metadata": {},
     "output_type": "execute_result"
    }
   ],
   "source": [
    "pipeline.steps[0][1].fit(X_tr)"
   ]
  },
  {
   "cell_type": "markdown",
   "metadata": {
    "id": "9fbc4586-231f-4033-8196-2070023d2fbf"
   },
   "source": [
    "## Baseline Model "
   ]
  },
  {
   "cell_type": "code",
   "execution_count": 14,
   "metadata": {
    "id": "6517c2f4-e0c6-418e-aa88-b1d3f0758e52",
    "tags": []
   },
   "outputs": [
    {
     "name": "stdout",
     "output_type": "stream",
     "text": [
      "starting Model Training. This might take a while\n",
      "[5]\tvalid_0's binary_logloss: 0.539933\tvalid_1's binary_logloss: 0.516468\n",
      "[10]\tvalid_0's binary_logloss: 0.495028\tvalid_1's binary_logloss: 0.45781\n",
      "[15]\tvalid_0's binary_logloss: 0.47201\tvalid_1's binary_logloss: 0.422009\n",
      "[20]\tvalid_0's binary_logloss: 0.460184\tvalid_1's binary_logloss: 0.397386\n",
      "[25]\tvalid_0's binary_logloss: 0.452409\tvalid_1's binary_logloss: 0.379933\n",
      "[30]\tvalid_0's binary_logloss: 0.447527\tvalid_1's binary_logloss: 0.366433\n",
      "[35]\tvalid_0's binary_logloss: 0.444819\tvalid_1's binary_logloss: 0.356152\n",
      "[40]\tvalid_0's binary_logloss: 0.441855\tvalid_1's binary_logloss: 0.347831\n",
      "[45]\tvalid_0's binary_logloss: 0.440161\tvalid_1's binary_logloss: 0.34118\n",
      "[50]\tvalid_0's binary_logloss: 0.437747\tvalid_1's binary_logloss: 0.335239\n",
      "[55]\tvalid_0's binary_logloss: 0.436925\tvalid_1's binary_logloss: 0.328646\n",
      "[60]\tvalid_0's binary_logloss: 0.437222\tvalid_1's binary_logloss: 0.322972\n",
      "[65]\tvalid_0's binary_logloss: 0.437369\tvalid_1's binary_logloss: 0.317208\n",
      "[70]\tvalid_0's binary_logloss: 0.438004\tvalid_1's binary_logloss: 0.312235\n",
      "[75]\tvalid_0's binary_logloss: 0.436996\tvalid_1's binary_logloss: 0.306848\n",
      "[80]\tvalid_0's binary_logloss: 0.438031\tvalid_1's binary_logloss: 0.301456\n",
      "[85]\tvalid_0's binary_logloss: 0.438162\tvalid_1's binary_logloss: 0.29555\n",
      "[90]\tvalid_0's binary_logloss: 0.439448\tvalid_1's binary_logloss: 0.290057\n",
      "[95]\tvalid_0's binary_logloss: 0.440864\tvalid_1's binary_logloss: 0.284587\n",
      "[100]\tvalid_0's binary_logloss: 0.440806\tvalid_1's binary_logloss: 0.27828\n"
     ]
    }
   ],
   "source": [
    "print(\"starting Model Training. This might take a while\")\n",
    "model_pipeline = pipeline.fit(X_tr,y_tr,model_lgb__verbose=5, model_lgb__eval_set=[(pipeline.steps[0][1].transform(X_val), y_val),(pipeline.steps[0][1].transform(X_tr), y_tr)])"
   ]
  },
  {
   "cell_type": "code",
   "execution_count": 15,
   "metadata": {
    "id": "ac254e0a-ea2e-4e85-a2ae-133efe1c99d8",
    "scrolled": true,
    "tags": []
   },
   "outputs": [
    {
     "data": {
      "text/plain": [
       "<Axes: title={'center': 'Metric during training'}, xlabel='Iterations', ylabel='binary_logloss'>"
      ]
     },
     "execution_count": 15,
     "metadata": {},
     "output_type": "execute_result"
    },
    {
     "data": {
      "image/png": "[encoded data removed]",
      "text/plain": [
       "<Figure size 640x480 with 1 Axes>"
      ]
     },
     "metadata": {},
     "output_type": "display_data"
    }
   ],
   "source": [
    "from lightgbm import plot_metric\n",
    "plot_metric(pipeline.steps[1][1])"
   ]
  },
  {
   "cell_type": "markdown",
   "metadata": {
    "id": "6b475de0-704d-4aa9-b671-76847c08f26a"
   },
   "source": [
    "## Log the Train and Val loss"
   ]
  },
  {
   "cell_type": "code",
   "execution_count": null,
   "metadata": {
    "id": "e66d86ca-c61d-4fa8-a5ff-4cd702da5364",
    "tags": []
   },
   "outputs": [],
   "source": [
    "val_loss = pipeline.steps[1][1].evals_result_['valid_0']\n",
    "train_loss = pipeline.steps[1][1].evals_result_['valid_1']"
   ]
  },
  {
   "cell_type": "markdown",
   "metadata": {
    "id": "f63d5ae7-df9b-4a80-a3f2-3d10b0bd9689"
   },
   "source": [
    "## Save train and val loss to COS"
   ]
  },
  {
   "cell_type": "code",
   "execution_count": null,
   "metadata": {
    "id": "82dce204-9179-4ab4-b6fc-c3666c1b2ba3",
    "scrolled": true,
    "tags": []
   },
   "outputs": [],
   "source": [
    "val_loss_path = os.path.join(vars_and_utils.data_path, 'val_loss.pkl')\n",
    "vars_and_utils.save_data_in_filesystem(val_loss, val_loss_path)\n",
    "\n",
    "train_loss_path = os.path.join(vars_and_utils.data_path, 'train_loss.pkl')\n",
    "vars_and_utils.save_data_in_filesystem(train_loss, train_loss_path)"
   ]
  },
  {
   "cell_type": "markdown",
   "metadata": {
    "id": "7383bf5c-dd5a-4553-9be3-f4f5c82a9cc1"
   },
   "source": [
    "## Check if the files are copied in COS\n"
   ]
  },
  {
   "cell_type": "code",
   "execution_count": null,
   "metadata": {
    "id": "7acdafe5-99fe-4fb0-a9fa-047c8eb447a5",
    "tags": []
   },
   "outputs": [],
   "source": [
    "files_copied_in_cos = os.path.exists(val_loss_path) and os.path.exists(train_loss_path)\n",
    "files_copied_in_cos"
   ]
  },
  {
   "cell_type": "markdown",
   "metadata": {
    "id": "523501c9-fab6-41a5-a5e2-56eee748b7e0"
   },
   "source": [
    "## Baseline Results of the Model"
   ]
  },
  {
   "cell_type": "code",
   "execution_count": null,
   "metadata": {
    "id": "1a085202-ac52-4ea5-b296-511640706167",
    "tags": []
   },
   "outputs": [],
   "source": [
    "predictions = pipeline.predict(X_test)\n",
    "\n",
    "print(roc_auc_score(y_test,predictions))"
   ]
  },
  {
   "cell_type": "code",
   "execution_count": null,
   "metadata": {
    "id": "863d2f3f-fafe-43ec-b192-0dc9bcaf4e82",
    "tags": []
   },
   "outputs": [],
   "source": [
    "if not running_in_production_pipeline:\n",
    "    cv = KFold(n_splits=5, shuffle=True, random_state=1)\n",
    "    scores = np.mean(cross_val_score(pipeline,X_train,y_train, cv=cv, n_jobs=-1,scoring='roc_auc'))\n",
    "    print(f\"The Cross Validated AUC_ROC Score is {scores}\")\n",
    "else:\n",
    "    print(\"Skipping KFold Validation in the production pipeline\")"
   ]
  },
  {
   "cell_type": "code",
   "execution_count": null,
   "metadata": {
    "id": "63a2911c-df05-4361-b0ed-486b291595e3",
    "tags": []
   },
   "outputs": [],
   "source": [
    "# print the scores on training and test set\n",
    "\n",
    "print('Training set score: {:.4f}'.format(pipeline.score(X_train, y_train)))\n",
    "\n",
    "print('Test set score: {:.4f}'.format(pipeline.score(X_test, y_test)))"
   ]
  },
  {
   "cell_type": "code",
   "execution_count": null,
   "metadata": {
    "id": "cf0040d6-75e4-4f47-878e-66128d605731",
    "tags": []
   },
   "outputs": [],
   "source": [
    "df_cm = confusion_matrix(y_test,predictions)\n",
    "\n",
    "group_names = ['True Neg','False Pos','False Neg','True Pos']\n",
    "group_counts = [\"{0:0.0f}\".format(value) for value in df_cm.flatten()]\n",
    "group_percentages = [\"{0:.2%}\".format(value) for value in df_cm.flatten()/np.sum(df_cm)]\n",
    "labels = [f\"{v1}\\n{v2}\\n{v3}\" for v1, v2,v3 in zip(group_names,group_counts,group_percentages)]\n",
    "labels = np.asarray(labels).reshape(2,2)\n",
    "\n",
    "try:\n",
    "    sns.heatmap(df_cm, annot=labels, fmt='', cmap='Blues')\n",
    "except Exception as e:\n",
    "    print(str(e) + \" - Seaborn missing, skipping optional heatmap plot.\")"
   ]
  },
  {
   "cell_type": "code",
   "execution_count": null,
   "metadata": {
    "id": "11ed16b7-7c2a-4c22-9d24-746fbe34bba3",
    "tags": []
   },
   "outputs": [],
   "source": [
    "fpr, tpr, thresholds = roc_curve(y_test, predictions)\n",
    "\n",
    "fig, ax = plt.subplots()\n",
    "ax.plot(fpr, tpr)\n",
    "ax.plot([0, 1], [0, 1], transform=ax.transAxes, ls=\"--\", c=\".3\")\n",
    "plt.xlim([0.0, 1.0])\n",
    "plt.ylim([0.0, 1.0])\n",
    "plt.rcParams['font.size'] = 12\n",
    "\n",
    "plt.xlabel('False Positive Rate (1 - Specificity)')\n",
    "plt.ylabel('True Positive Rate (Sensitivity)')\n",
    "plt.grid(True)\n",
    "\n",
    "print(\"\\n\")\n",
    "print (\"Area Under Curve: %.2f\" %auc(fpr, tpr))\n",
    "print(\"\\n\")"
   ]
  },
  {
   "cell_type": "markdown",
   "metadata": {
    "id": "a0bb90bd-5ab8-4aac-8441-85fe84e9b71a"
   },
   "source": [
    "## Serialize Model locally"
   ]
  },
  {
   "cell_type": "code",
   "execution_count": null,
   "metadata": {
    "id": "4b76e623-29b2-48ea-ba6e-6a83f9998e4f",
    "tags": []
   },
   "outputs": [],
   "source": [
    "with open(vars_and_utils.model_path,'wb') as f:\n",
    "    pickle.dump(model_pipeline,f)"
   ]
  },
  {
   "cell_type": "code",
   "execution_count": null,
   "metadata": {
    "id": "2aa0857f-a656-478c-b225-b043cad82802",
    "tags": []
   },
   "outputs": [],
   "source": [
    "# skipping for now due to installation issues\n",
    "# cpd_ver = facts_client.get_cpd_version()[:3]"
   ]
  },
  {
   "cell_type": "code",
   "execution_count": null,
   "metadata": {
    "id": "f2cde0f0-4420-46f4-9c2b-5bf8c19d1625",
    "tags": []
   },
   "outputs": [],
   "source": [
    "WML_CREDENTIALS = {\n",
    "   \"token\": TOKEN,\n",
    "   \"instance_id\" : \"openshift\",\n",
    "   \"url\": os.environ['RUNTIME_ENV_APSX_URL'],\n",
    "   \"version\": \"4.6\"\n",
    "}"
   ]
  },
  {
   "cell_type": "code",
   "execution_count": null,
   "metadata": {
    "id": "68910d40-e7a0-4a94-aa20-f9bf6a5efd51",
    "tags": []
   },
   "outputs": [],
   "source": [
    "wml_client = APIClient(WML_CREDENTIALS)"
   ]
  },
  {
   "cell_type": "markdown",
   "metadata": {
    "id": "537607ce-a83a-4d79-af52-c2db0855c024"
   },
   "source": [
    "## Save and Log Models in AI Factsheets."
   ]
  },
  {
   "cell_type": "code",
   "execution_count": null,
   "metadata": {
    "id": "4af60e2b-0bd9-4aee-a285-c02afb00f4bb"
   },
   "outputs": [],
   "source": [
    "# TODO: Rework this without helper scripts"
   ]
  },
  {
   "cell_type": "markdown",
   "metadata": {
    "id": "277ad990-c8fb-4cae-8da4-4abd087ae28b"
   },
   "source": [
    "## Custom succes check: Check if training and test score are above a (very low) threshold"
   ]
  },
  {
   "cell_type": "code",
   "execution_count": null,
   "metadata": {
    "id": "3bad54ba-d738-408d-8467-655928d551d2"
   },
   "outputs": [],
   "source": [
    "training_score=pipeline.score(X_train, y_train)\n",
    "test_score=pipeline.score(X_test, y_test)\n",
    "\n",
    "\n",
    "if (training_score>0.7) & (test_score>0.6) & os.path.exists(vars_and_utils.model_path):\n",
    "    training_successful=True\n",
    "else:\n",
    "    training_successful=False\n",
    "\n",
    "training_successful\n"
   ]
  },
  {
   "cell_type": "markdown",
   "metadata": {
    "id": "91dce01e-d426-40e2-88bd-901010d64a96"
   },
   "source": [
    "## Register the output variables for the next pipeine stage\n",
    "every notebook outputs a \"was_successful\" boolean variable. The logic behind this is different for every notebook and can be altered to fit the needs of the project.\n",
    "If needed additional variables can be created here but they also need to registered as output variables in the Watson Pipelines UI."
   ]
  },
  {
   "cell_type": "code",
   "execution_count": null,
   "metadata": {
    "id": "81d2941c-2515-4a10-a8c9-78c1f22410f5",
    "tags": []
   },
   "outputs": [],
   "source": [
    "train_params = {}\n",
    "train_params['was_succesfull'] = training_successful\n",
    "\n",
    "\n",
    "pipelines_client = WSPipelines.from_token(TOKEN)\n",
    "pipelines_client.store_results(train_params)"
   ]
  }
 ],
 "metadata": {
  "kernelspec": {
   "display_name": "Python 3.10",
   "language": "python",
   "name": "python3"
  },
  "language_info": {
   "codemirror_mode": {
    "name": "ipython",
    "version": 3
   },
   "file_extension": ".py",
   "mimetype": "text/x-python",
   "name": "python",
   "nbconvert_exporter": "python",
   "pygments_lexer": "ipython3",
   "version": "3.10.10"
  },
  "vscode": {
   "interpreter": {
    "hash": "bd385fe162c5ca0c84973b7dd5c518456272446b2b64e67c2a69f949ca7a1754"
   }
  }
 },
 "nbformat": 4,
 "nbformat_minor": 4
}
