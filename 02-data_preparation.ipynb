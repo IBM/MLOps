{
 "cells": [
  {
   "cell_type": "markdown",
   "metadata": {},
   "source": [
    "![Alt text](images/banner.png)"
   ]
  },
  {
   "cell_type": "markdown",
   "metadata": {
    "id": "4292d1bf-4e75-4a75-b8ca-914d4f58d925"
   },
   "source": [
    "## Data Preparation Notebook"
   ]
  },
  {
   "cell_type": "markdown",
   "metadata": {},
   "source": [
    "### Initial Setup\n",
    "\n",
    "Some initial setup specific to running this notebook as part of the pipeline."
   ]
  },
  {
   "cell_type": "code",
   "execution_count": 1,
   "metadata": {},
   "outputs": [],
   "source": [
    "import os\n",
    "#This environment variable is automatically set in WS Pipelines and are needed to access various services.\n",
    "TOKEN = os.getenv(\"USER_ACCESS_TOKEN\")"
   ]
  },
  {
   "cell_type": "code",
   "execution_count": 2,
   "metadata": {},
   "outputs": [],
   "source": [
    "if os.getenv(\"running_in_production_pipeline\"):\n",
    "    running_in_production_pipeline = True\n",
    "    # If you want to run additional steps when deploying to production like reporting to external services, you can use this variable to trigger that\n",
    "    # It can also be used to skip steps that are only needed in development like plotting\n",
    "    print(\"notebook is running in a production pipeline!\")\n",
    "else:\n",
    "    running_in_production_pipeline = False"
   ]
  },
  {
   "cell_type": "markdown",
   "metadata": {
    "id": "1e30a381-886e-4710-8874-3ff365e537cd"
   },
   "source": [
    "## Imports"
   ]
  },
  {
   "cell_type": "code",
   "execution_count": 3,
   "metadata": {
    "id": "f161da10-75e1-4e66-8859-345ff5fcb899",
    "tags": []
   },
   "outputs": [],
   "source": [
    "from sklearn.feature_selection import SelectKBest\n",
    "from sklearn.feature_selection import chi2\n",
    "from sklearn.preprocessing import OrdinalEncoder,OneHotEncoder,LabelEncoder,MinMaxScaler\n",
    "from sklearn.feature_selection import mutual_info_classif\n",
    "from sklearn.compose import ColumnTransformer\n",
    "from sklearn.pipeline import Pipeline\n",
    "from botocore.client import Config\n",
    "from ibm_watson_studio_pipelines import WSPipelines\n",
    "import matplotlib.pyplot as plt\n",
    "import heapq\n",
    "import os\n",
    "import pandas as pd\n",
    "\n",
    "# Loading Variables and Utils from common python file\n",
    "import vars_and_utils as vars_and_utils\n"
   ]
  },
  {
   "cell_type": "markdown",
   "metadata": {
    "id": "538bf340-c35f-439a-af79-ad9f5a0c6389"
   },
   "source": [
    "## Preparing the Train Data "
   ]
  },
  {
   "cell_type": "code",
   "execution_count": 4,
   "metadata": {
    "id": "aa1cd88c-f7df-4b8c-a908-49e84c4de6e5",
    "tags": []
   },
   "outputs": [
    {
     "data": {
      "text/html": [
       "<div>\n",
       "<style scoped>\n",
       "    .dataframe tbody tr th:only-of-type {\n",
       "        vertical-align: middle;\n",
       "    }\n",
       "\n",
       "    .dataframe tbody tr th {\n",
       "        vertical-align: top;\n",
       "    }\n",
       "\n",
       "    .dataframe thead th {\n",
       "        text-align: right;\n",
       "    }\n",
       "</style>\n",
       "<table border=\"1\" class=\"dataframe\">\n",
       "  <thead>\n",
       "    <tr style=\"text-align: right;\">\n",
       "      <th></th>\n",
       "      <th>LoanDuration</th>\n",
       "      <th>LoanAmount</th>\n",
       "      <th>InstallmentPercent</th>\n",
       "      <th>CurrentResidenceDuration</th>\n",
       "      <th>Age</th>\n",
       "      <th>ExistingCreditsCount</th>\n",
       "      <th>Dependents</th>\n",
       "      <th>OthersOnLoan</th>\n",
       "      <th>EmploymentDuration</th>\n",
       "      <th>Housing</th>\n",
       "      <th>OwnsProperty</th>\n",
       "      <th>Job</th>\n",
       "      <th>CheckingStatus</th>\n",
       "      <th>LoanPurpose</th>\n",
       "      <th>CreditHistory</th>\n",
       "      <th>ExistingSavings</th>\n",
       "      <th>Telephone</th>\n",
       "      <th>Sex</th>\n",
       "      <th>Risk</th>\n",
       "    </tr>\n",
       "  </thead>\n",
       "  <tbody>\n",
       "    <tr>\n",
       "      <th>0</th>\n",
       "      <td>18</td>\n",
       "      <td>462</td>\n",
       "      <td>2</td>\n",
       "      <td>2</td>\n",
       "      <td>37</td>\n",
       "      <td>2</td>\n",
       "      <td>1</td>\n",
       "      <td>none</td>\n",
       "      <td>1_to_4</td>\n",
       "      <td>own</td>\n",
       "      <td>savings_insurance</td>\n",
       "      <td>skilled</td>\n",
       "      <td>less_0</td>\n",
       "      <td>car_new</td>\n",
       "      <td>credits_paid_to_date</td>\n",
       "      <td>less_100</td>\n",
       "      <td>none</td>\n",
       "      <td>female</td>\n",
       "      <td>0</td>\n",
       "    </tr>\n",
       "    <tr>\n",
       "      <th>1</th>\n",
       "      <td>15</td>\n",
       "      <td>250</td>\n",
       "      <td>2</td>\n",
       "      <td>3</td>\n",
       "      <td>28</td>\n",
       "      <td>2</td>\n",
       "      <td>1</td>\n",
       "      <td>none</td>\n",
       "      <td>1_to_4</td>\n",
       "      <td>own</td>\n",
       "      <td>real_estate</td>\n",
       "      <td>skilled</td>\n",
       "      <td>less_0</td>\n",
       "      <td>furniture</td>\n",
       "      <td>prior_payments_delayed</td>\n",
       "      <td>less_100</td>\n",
       "      <td>yes</td>\n",
       "      <td>male</td>\n",
       "      <td>0</td>\n",
       "    </tr>\n",
       "    <tr>\n",
       "      <th>2</th>\n",
       "      <td>28</td>\n",
       "      <td>6235</td>\n",
       "      <td>3</td>\n",
       "      <td>3</td>\n",
       "      <td>57</td>\n",
       "      <td>2</td>\n",
       "      <td>1</td>\n",
       "      <td>none</td>\n",
       "      <td>greater_7</td>\n",
       "      <td>own</td>\n",
       "      <td>unknown</td>\n",
       "      <td>skilled</td>\n",
       "      <td>no_checking</td>\n",
       "      <td>education</td>\n",
       "      <td>prior_payments_delayed</td>\n",
       "      <td>500_to_1000</td>\n",
       "      <td>none</td>\n",
       "      <td>male</td>\n",
       "      <td>1</td>\n",
       "    </tr>\n",
       "    <tr>\n",
       "      <th>3</th>\n",
       "      <td>9</td>\n",
       "      <td>1032</td>\n",
       "      <td>3</td>\n",
       "      <td>4</td>\n",
       "      <td>41</td>\n",
       "      <td>1</td>\n",
       "      <td>1</td>\n",
       "      <td>none</td>\n",
       "      <td>4_to_7</td>\n",
       "      <td>own</td>\n",
       "      <td>savings_insurance</td>\n",
       "      <td>management_self-employed</td>\n",
       "      <td>no_checking</td>\n",
       "      <td>car_new</td>\n",
       "      <td>prior_payments_delayed</td>\n",
       "      <td>100_to_500</td>\n",
       "      <td>none</td>\n",
       "      <td>male</td>\n",
       "      <td>0</td>\n",
       "    </tr>\n",
       "    <tr>\n",
       "      <th>4</th>\n",
       "      <td>11</td>\n",
       "      <td>4553</td>\n",
       "      <td>3</td>\n",
       "      <td>3</td>\n",
       "      <td>22</td>\n",
       "      <td>1</td>\n",
       "      <td>1</td>\n",
       "      <td>none</td>\n",
       "      <td>less_1</td>\n",
       "      <td>own</td>\n",
       "      <td>savings_insurance</td>\n",
       "      <td>management_self-employed</td>\n",
       "      <td>0_to_200</td>\n",
       "      <td>car_new</td>\n",
       "      <td>credits_paid_to_date</td>\n",
       "      <td>less_100</td>\n",
       "      <td>none</td>\n",
       "      <td>female</td>\n",
       "      <td>0</td>\n",
       "    </tr>\n",
       "  </tbody>\n",
       "</table>\n",
       "</div>"
      ],
      "text/plain": [
       "   LoanDuration  LoanAmount  InstallmentPercent  CurrentResidenceDuration  \\\n",
       "0            18         462                   2                         2   \n",
       "1            15         250                   2                         3   \n",
       "2            28        6235                   3                         3   \n",
       "3             9        1032                   3                         4   \n",
       "4            11        4553                   3                         3   \n",
       "\n",
       "   Age  ExistingCreditsCount  Dependents OthersOnLoan EmploymentDuration  \\\n",
       "0   37                     2           1         none             1_to_4   \n",
       "1   28                     2           1         none             1_to_4   \n",
       "2   57                     2           1         none          greater_7   \n",
       "3   41                     1           1         none             4_to_7   \n",
       "4   22                     1           1         none             less_1   \n",
       "\n",
       "  Housing       OwnsProperty                       Job CheckingStatus  \\\n",
       "0     own  savings_insurance                   skilled         less_0   \n",
       "1     own        real_estate                   skilled         less_0   \n",
       "2     own            unknown                   skilled    no_checking   \n",
       "3     own  savings_insurance  management_self-employed    no_checking   \n",
       "4     own  savings_insurance  management_self-employed       0_to_200   \n",
       "\n",
       "  LoanPurpose           CreditHistory ExistingSavings Telephone     Sex  Risk  \n",
       "0     car_new    credits_paid_to_date        less_100      none  female     0  \n",
       "1   furniture  prior_payments_delayed        less_100       yes    male     0  \n",
       "2   education  prior_payments_delayed     500_to_1000      none    male     1  \n",
       "3     car_new  prior_payments_delayed      100_to_500      none    male     0  \n",
       "4     car_new    credits_paid_to_date        less_100      none  female     0  "
      ]
     },
     "execution_count": 4,
     "metadata": {},
     "output_type": "execute_result"
    }
   ],
   "source": [
    "train_data = vars_and_utils.load_data_from_filesystem(vars_and_utils.train_data_path)\n",
    "train_data.head()"
   ]
  },
  {
   "cell_type": "code",
   "execution_count": 5,
   "metadata": {
    "id": "08be57ad-b834-42f8-bb29-4f66474a0b3b",
    "tags": []
   },
   "outputs": [
    {
     "data": {
      "text/html": [
       "<div>\n",
       "<style scoped>\n",
       "    .dataframe tbody tr th:only-of-type {\n",
       "        vertical-align: middle;\n",
       "    }\n",
       "\n",
       "    .dataframe tbody tr th {\n",
       "        vertical-align: top;\n",
       "    }\n",
       "\n",
       "    .dataframe thead th {\n",
       "        text-align: right;\n",
       "    }\n",
       "</style>\n",
       "<table border=\"1\" class=\"dataframe\">\n",
       "  <thead>\n",
       "    <tr style=\"text-align: right;\">\n",
       "      <th></th>\n",
       "      <th>OthersOnLoan</th>\n",
       "      <th>EmploymentDuration</th>\n",
       "      <th>Housing</th>\n",
       "      <th>OwnsProperty</th>\n",
       "      <th>Job</th>\n",
       "      <th>CheckingStatus</th>\n",
       "      <th>LoanPurpose</th>\n",
       "      <th>CreditHistory</th>\n",
       "      <th>ExistingSavings</th>\n",
       "      <th>Telephone</th>\n",
       "      <th>Sex</th>\n",
       "    </tr>\n",
       "  </thead>\n",
       "  <tbody>\n",
       "    <tr>\n",
       "      <th>0</th>\n",
       "      <td>none</td>\n",
       "      <td>1_to_4</td>\n",
       "      <td>own</td>\n",
       "      <td>savings_insurance</td>\n",
       "      <td>skilled</td>\n",
       "      <td>less_0</td>\n",
       "      <td>car_new</td>\n",
       "      <td>credits_paid_to_date</td>\n",
       "      <td>less_100</td>\n",
       "      <td>none</td>\n",
       "      <td>female</td>\n",
       "    </tr>\n",
       "    <tr>\n",
       "      <th>1</th>\n",
       "      <td>none</td>\n",
       "      <td>1_to_4</td>\n",
       "      <td>own</td>\n",
       "      <td>real_estate</td>\n",
       "      <td>skilled</td>\n",
       "      <td>less_0</td>\n",
       "      <td>furniture</td>\n",
       "      <td>prior_payments_delayed</td>\n",
       "      <td>less_100</td>\n",
       "      <td>yes</td>\n",
       "      <td>male</td>\n",
       "    </tr>\n",
       "    <tr>\n",
       "      <th>2</th>\n",
       "      <td>none</td>\n",
       "      <td>greater_7</td>\n",
       "      <td>own</td>\n",
       "      <td>unknown</td>\n",
       "      <td>skilled</td>\n",
       "      <td>no_checking</td>\n",
       "      <td>education</td>\n",
       "      <td>prior_payments_delayed</td>\n",
       "      <td>500_to_1000</td>\n",
       "      <td>none</td>\n",
       "      <td>male</td>\n",
       "    </tr>\n",
       "    <tr>\n",
       "      <th>3</th>\n",
       "      <td>none</td>\n",
       "      <td>4_to_7</td>\n",
       "      <td>own</td>\n",
       "      <td>savings_insurance</td>\n",
       "      <td>management_self-employed</td>\n",
       "      <td>no_checking</td>\n",
       "      <td>car_new</td>\n",
       "      <td>prior_payments_delayed</td>\n",
       "      <td>100_to_500</td>\n",
       "      <td>none</td>\n",
       "      <td>male</td>\n",
       "    </tr>\n",
       "    <tr>\n",
       "      <th>4</th>\n",
       "      <td>none</td>\n",
       "      <td>less_1</td>\n",
       "      <td>own</td>\n",
       "      <td>savings_insurance</td>\n",
       "      <td>management_self-employed</td>\n",
       "      <td>0_to_200</td>\n",
       "      <td>car_new</td>\n",
       "      <td>credits_paid_to_date</td>\n",
       "      <td>less_100</td>\n",
       "      <td>none</td>\n",
       "      <td>female</td>\n",
       "    </tr>\n",
       "  </tbody>\n",
       "</table>\n",
       "</div>"
      ],
      "text/plain": [
       "  OthersOnLoan EmploymentDuration Housing       OwnsProperty  \\\n",
       "0         none             1_to_4     own  savings_insurance   \n",
       "1         none             1_to_4     own        real_estate   \n",
       "2         none          greater_7     own            unknown   \n",
       "3         none             4_to_7     own  savings_insurance   \n",
       "4         none             less_1     own  savings_insurance   \n",
       "\n",
       "                        Job CheckingStatus LoanPurpose  \\\n",
       "0                   skilled         less_0     car_new   \n",
       "1                   skilled         less_0   furniture   \n",
       "2                   skilled    no_checking   education   \n",
       "3  management_self-employed    no_checking     car_new   \n",
       "4  management_self-employed       0_to_200     car_new   \n",
       "\n",
       "            CreditHistory ExistingSavings Telephone     Sex  \n",
       "0    credits_paid_to_date        less_100      none  female  \n",
       "1  prior_payments_delayed        less_100       yes    male  \n",
       "2  prior_payments_delayed     500_to_1000      none    male  \n",
       "3  prior_payments_delayed      100_to_500      none    male  \n",
       "4    credits_paid_to_date        less_100      none  female  "
      ]
     },
     "execution_count": 5,
     "metadata": {},
     "output_type": "execute_result"
    }
   ],
   "source": [
    "object_df = train_data.select_dtypes('O')\n",
    "object_df.head()"
   ]
  },
  {
   "cell_type": "code",
   "execution_count": 6,
   "metadata": {
    "id": "c3bf8612-3433-4810-b5c5-3b6d9d23d57d",
    "tags": []
   },
   "outputs": [
    {
     "data": {
      "text/plain": [
       "['CheckingStatus',\n",
       " 'ExistingSavings',\n",
       " 'Telephone',\n",
       " 'OthersOnLoan',\n",
       " 'OwnsProperty',\n",
       " 'Housing',\n",
       " 'Sex',\n",
       " 'Job',\n",
       " 'LoanPurpose',\n",
       " 'EmploymentDuration',\n",
       " 'CreditHistory']"
      ]
     },
     "execution_count": 6,
     "metadata": {},
     "output_type": "execute_result"
    }
   ],
   "source": [
    "object_cols = list(set(object_df.columns.tolist()) - set(['Risk']))\n",
    "object_cols"
   ]
  },
  {
   "cell_type": "code",
   "execution_count": 7,
   "metadata": {
    "id": "27f48dcb-7dee-44a8-b8ed-2ed58385912f",
    "tags": []
   },
   "outputs": [],
   "source": [
    "numerical_columns = [col for col in train_data.columns.tolist() if col not in object_cols and col!='Risk']"
   ]
  },
  {
   "cell_type": "markdown",
   "metadata": {
    "id": "10c03047-c200-4f7e-91e6-0bdb31554fea"
   },
   "source": [
    "## Preparing the Test Data "
   ]
  },
  {
   "cell_type": "code",
   "execution_count": 11,
   "metadata": {
    "id": "ca4e5bb6-b11e-48cd-8457-a127a60b06c8",
    "tags": []
   },
   "outputs": [
    {
     "data": {
      "text/html": [
       "<div>\n",
       "<style scoped>\n",
       "    .dataframe tbody tr th:only-of-type {\n",
       "        vertical-align: middle;\n",
       "    }\n",
       "\n",
       "    .dataframe tbody tr th {\n",
       "        vertical-align: top;\n",
       "    }\n",
       "\n",
       "    .dataframe thead th {\n",
       "        text-align: right;\n",
       "    }\n",
       "</style>\n",
       "<table border=\"1\" class=\"dataframe\">\n",
       "  <thead>\n",
       "    <tr style=\"text-align: right;\">\n",
       "      <th></th>\n",
       "      <th>LoanDuration</th>\n",
       "      <th>LoanAmount</th>\n",
       "      <th>InstallmentPercent</th>\n",
       "      <th>CurrentResidenceDuration</th>\n",
       "      <th>Age</th>\n",
       "      <th>ExistingCreditsCount</th>\n",
       "      <th>Dependents</th>\n",
       "      <th>OthersOnLoan</th>\n",
       "      <th>EmploymentDuration</th>\n",
       "      <th>Housing</th>\n",
       "      <th>OwnsProperty</th>\n",
       "      <th>Job</th>\n",
       "      <th>CheckingStatus</th>\n",
       "      <th>LoanPurpose</th>\n",
       "      <th>CreditHistory</th>\n",
       "      <th>ExistingSavings</th>\n",
       "      <th>Telephone</th>\n",
       "      <th>Sex</th>\n",
       "      <th>Risk</th>\n",
       "    </tr>\n",
       "  </thead>\n",
       "  <tbody>\n",
       "    <tr>\n",
       "      <th>0</th>\n",
       "      <td>31</td>\n",
       "      <td>1889</td>\n",
       "      <td>3</td>\n",
       "      <td>3</td>\n",
       "      <td>32</td>\n",
       "      <td>1</td>\n",
       "      <td>1</td>\n",
       "      <td>none</td>\n",
       "      <td>less_1</td>\n",
       "      <td>own</td>\n",
       "      <td>savings_insurance</td>\n",
       "      <td>skilled</td>\n",
       "      <td>0_to_200</td>\n",
       "      <td>other</td>\n",
       "      <td>credits_paid_to_date</td>\n",
       "      <td>100_to_500</td>\n",
       "      <td>none</td>\n",
       "      <td>female</td>\n",
       "      <td>0</td>\n",
       "    </tr>\n",
       "    <tr>\n",
       "      <th>1</th>\n",
       "      <td>28</td>\n",
       "      <td>3693</td>\n",
       "      <td>3</td>\n",
       "      <td>2</td>\n",
       "      <td>32</td>\n",
       "      <td>1</td>\n",
       "      <td>1</td>\n",
       "      <td>none</td>\n",
       "      <td>greater_7</td>\n",
       "      <td>own</td>\n",
       "      <td>savings_insurance</td>\n",
       "      <td>skilled</td>\n",
       "      <td>0_to_200</td>\n",
       "      <td>retraining</td>\n",
       "      <td>credits_paid_to_date</td>\n",
       "      <td>less_100</td>\n",
       "      <td>none</td>\n",
       "      <td>male</td>\n",
       "      <td>0</td>\n",
       "    </tr>\n",
       "    <tr>\n",
       "      <th>2</th>\n",
       "      <td>32</td>\n",
       "      <td>9604</td>\n",
       "      <td>6</td>\n",
       "      <td>5</td>\n",
       "      <td>57</td>\n",
       "      <td>2</td>\n",
       "      <td>2</td>\n",
       "      <td>co-applicant</td>\n",
       "      <td>greater_7</td>\n",
       "      <td>free</td>\n",
       "      <td>unknown</td>\n",
       "      <td>skilled</td>\n",
       "      <td>no_checking</td>\n",
       "      <td>vacation</td>\n",
       "      <td>outstanding_credit</td>\n",
       "      <td>500_to_1000</td>\n",
       "      <td>yes</td>\n",
       "      <td>male</td>\n",
       "      <td>1</td>\n",
       "    </tr>\n",
       "    <tr>\n",
       "      <th>3</th>\n",
       "      <td>16</td>\n",
       "      <td>3109</td>\n",
       "      <td>3</td>\n",
       "      <td>1</td>\n",
       "      <td>36</td>\n",
       "      <td>2</td>\n",
       "      <td>1</td>\n",
       "      <td>none</td>\n",
       "      <td>4_to_7</td>\n",
       "      <td>own</td>\n",
       "      <td>car_other</td>\n",
       "      <td>skilled</td>\n",
       "      <td>less_0</td>\n",
       "      <td>vacation</td>\n",
       "      <td>credits_paid_to_date</td>\n",
       "      <td>less_100</td>\n",
       "      <td>none</td>\n",
       "      <td>female</td>\n",
       "      <td>0</td>\n",
       "    </tr>\n",
       "    <tr>\n",
       "      <th>4</th>\n",
       "      <td>15</td>\n",
       "      <td>250</td>\n",
       "      <td>3</td>\n",
       "      <td>2</td>\n",
       "      <td>24</td>\n",
       "      <td>2</td>\n",
       "      <td>2</td>\n",
       "      <td>none</td>\n",
       "      <td>4_to_7</td>\n",
       "      <td>own</td>\n",
       "      <td>savings_insurance</td>\n",
       "      <td>skilled</td>\n",
       "      <td>0_to_200</td>\n",
       "      <td>furniture</td>\n",
       "      <td>prior_payments_delayed</td>\n",
       "      <td>500_to_1000</td>\n",
       "      <td>yes</td>\n",
       "      <td>male</td>\n",
       "      <td>0</td>\n",
       "    </tr>\n",
       "  </tbody>\n",
       "</table>\n",
       "</div>"
      ],
      "text/plain": [
       "   LoanDuration  LoanAmount  InstallmentPercent  CurrentResidenceDuration  \\\n",
       "0            31        1889                   3                         3   \n",
       "1            28        3693                   3                         2   \n",
       "2            32        9604                   6                         5   \n",
       "3            16        3109                   3                         1   \n",
       "4            15         250                   3                         2   \n",
       "\n",
       "   Age  ExistingCreditsCount  Dependents  OthersOnLoan EmploymentDuration  \\\n",
       "0   32                     1           1          none             less_1   \n",
       "1   32                     1           1          none          greater_7   \n",
       "2   57                     2           2  co-applicant          greater_7   \n",
       "3   36                     2           1          none             4_to_7   \n",
       "4   24                     2           2          none             4_to_7   \n",
       "\n",
       "  Housing       OwnsProperty      Job CheckingStatus LoanPurpose  \\\n",
       "0     own  savings_insurance  skilled       0_to_200       other   \n",
       "1     own  savings_insurance  skilled       0_to_200  retraining   \n",
       "2    free            unknown  skilled    no_checking    vacation   \n",
       "3     own          car_other  skilled         less_0    vacation   \n",
       "4     own  savings_insurance  skilled       0_to_200   furniture   \n",
       "\n",
       "            CreditHistory ExistingSavings Telephone     Sex  Risk  \n",
       "0    credits_paid_to_date      100_to_500      none  female     0  \n",
       "1    credits_paid_to_date        less_100      none    male     0  \n",
       "2      outstanding_credit     500_to_1000       yes    male     1  \n",
       "3    credits_paid_to_date        less_100      none  female     0  \n",
       "4  prior_payments_delayed     500_to_1000       yes    male     0  "
      ]
     },
     "execution_count": 11,
     "metadata": {},
     "output_type": "execute_result"
    }
   ],
   "source": [
    "test_data = vars_and_utils.load_data_from_filesystem(vars_and_utils.test_data_path)\n",
    "test_data.head()"
   ]
  },
  {
   "cell_type": "markdown",
   "metadata": {
    "id": "f31f399e-904c-49f0-9e2b-12b042d8e8b1"
   },
   "source": [
    "## Split the data sets  "
   ]
  },
  {
   "cell_type": "code",
   "execution_count": 12,
   "metadata": {
    "id": "2dfd43ce-7cb2-4db1-b76d-d2ab6c796b2c",
    "tags": []
   },
   "outputs": [],
   "source": [
    "y_train = train_data['Risk']\n",
    "X_train = train_data.drop(\"Risk\",axis=1)\n",
    "\n",
    "\n",
    "y_test = test_data['Risk']\n",
    "X_test = test_data.drop(\"Risk\",axis=1)"
   ]
  },
  {
   "cell_type": "markdown",
   "metadata": {
    "id": "0af40507-eb8d-4e9c-a263-ab624f657375"
   },
   "source": [
    "## Categorcial Feature Analysis "
   ]
  },
  {
   "cell_type": "code",
   "execution_count": 13,
   "metadata": {
    "id": "f97b9595-c499-4dbd-b143-85310dfa73bd",
    "tags": []
   },
   "outputs": [],
   "source": [
    "def prepare_input_data(X_train, X_test):\n",
    "    oe = OrdinalEncoder()\n",
    "    oe.fit(X_train)\n",
    "    X_train_enc = oe.transform(X_train)\n",
    "    X_test_enc = oe.transform(X_test)\n",
    "    return X_train_enc, X_test_enc\n",
    "\n",
    "\n",
    "def prepare_output_data(y_train, y_test):\n",
    "    le = LabelEncoder()\n",
    "    le.fit(y_train)\n",
    "    y_train_enc = le.transform(y_train)\n",
    "    y_test_enc = le.transform(y_test)\n",
    "    return y_train_enc, y_test_enc\n",
    "\n",
    "\n",
    "def select_best_chi2_features(X_train, y_train, X_test,score_func=chi2):\n",
    "    featureselector = SelectKBest(score_func=chi2, k='all')\n",
    "    featureselector.fit(X_train, y_train)\n",
    "    X_train_best_feat = featureselector.transform(X_train)\n",
    "    X_test_best_feat= featureselector.transform(X_test)\n",
    "    return X_train_best_feat, X_test_best_feat, featureselector\n",
    "\n",
    "\n",
    "def select_best_mutualinf_features(X_train, y_train, X_test,k=5):\n",
    "    featureselector = SelectKBest(score_func=mutual_info_classif, k=k)\n",
    "    featureselector.fit(X_train, y_train)\n",
    "    X_train_best_feat = fs.transform(X_train)\n",
    "    X_test_best_feat= fs.transform(X_test)\n",
    "    return X_train_best_feat, X_test_best_feat, featureselector\n",
    "    \n",
    "    \n",
    "def get_top_k_catgeorical(fs,train_cat,k=10):\n",
    "    fs_score_map = {}\n",
    "    for i in range(len(fs.scores_)):\n",
    "        #print(f\"Feature {train_cat.columns.tolist()[i]} {fs.scores_[i]}\")\n",
    "        fs_score_map[train_cat.columns.tolist()[i]] = fs.scores_[i]\n",
    "        \n",
    "    k_keys_sorted_by_values = heapq.nlargest(k, fs_score_map, key=fs_score_map.get)\n",
    "    \n",
    "    return k_keys_sorted_by_values"
   ]
  },
  {
   "cell_type": "markdown",
   "metadata": {
    "id": "660e9d2f-34db-4ecc-9fd5-970462fc2009"
   },
   "source": [
    "## Encode and shape the Variables "
   ]
  },
  {
   "cell_type": "code",
   "execution_count": 14,
   "metadata": {
    "id": "01ed54fe-7afa-4bc4-a37b-b85e6bf6cdc4",
    "tags": []
   },
   "outputs": [],
   "source": [
    "X_train_enc, X_test_enc = prepare_input_data(X_train[object_cols], X_test[object_cols])\n",
    "\n",
    "y_train_enc, y_test_enc = prepare_output_data(y_train, y_test)\n",
    "\n",
    "X_train_fs, X_test_fs, fs = select_best_chi2_features(X_train_enc, y_train_enc, X_test_enc)\n",
    "\n"
   ]
  },
  {
   "cell_type": "markdown",
   "metadata": {
    "id": "8b210746-a131-4ac1-84db-105848cdbf8e"
   },
   "source": [
    "## Top K Categorical Features  based on Chi2"
   ]
  },
  {
   "cell_type": "code",
   "execution_count": 15,
   "metadata": {
    "id": "889c067d-bbb9-4655-8c52-03769449b649",
    "tags": []
   },
   "outputs": [
    {
     "data": {
      "text/plain": [
       "['CreditHistory',\n",
       " 'Telephone',\n",
       " 'CheckingStatus',\n",
       " 'Housing',\n",
       " 'OthersOnLoan',\n",
       " 'OwnsProperty',\n",
       " 'LoanPurpose',\n",
       " 'ExistingSavings',\n",
       " 'EmploymentDuration',\n",
       " 'Job']"
      ]
     },
     "execution_count": 15,
     "metadata": {},
     "output_type": "execute_result"
    }
   ],
   "source": [
    "top_k_cat = get_top_k_catgeorical(fs,X_train[object_cols])\n",
    "top_k_cat"
   ]
  },
  {
   "cell_type": "markdown",
   "metadata": {
    "id": "0a017731-d213-43da-8fbb-67b98b28f8a8"
   },
   "source": [
    "## Top K Categorical Features  based on Mutual Information Feature Selection"
   ]
  },
  {
   "cell_type": "code",
   "execution_count": 16,
   "metadata": {
    "id": "ccb4d703-e822-4e9d-b66b-bc19c0ea94e3",
    "tags": []
   },
   "outputs": [],
   "source": [
    "X_train_enc_mf, X_test_enc_mf = prepare_input_data(X_train[object_cols], X_test[object_cols])\n",
    "\n",
    "y_train_enc_mf, y_test_enc_mf = prepare_output_data(y_train, y_test)\n",
    "\n",
    "X_train_fs_mf, X_test_fs_mf, fs_mf = select_best_chi2_features(X_train_enc_mf, y_train_enc_mf, X_test_enc_mf)"
   ]
  },
  {
   "cell_type": "code",
   "execution_count": 17,
   "metadata": {
    "id": "577ace08-4e4f-4a97-a56c-7d26b610bec0",
    "tags": []
   },
   "outputs": [
    {
     "data": {
      "text/plain": [
       "['CreditHistory',\n",
       " 'Telephone',\n",
       " 'CheckingStatus',\n",
       " 'Housing',\n",
       " 'OthersOnLoan',\n",
       " 'OwnsProperty',\n",
       " 'LoanPurpose',\n",
       " 'ExistingSavings',\n",
       " 'EmploymentDuration',\n",
       " 'Job']"
      ]
     },
     "execution_count": 17,
     "metadata": {},
     "output_type": "execute_result"
    }
   ],
   "source": [
    "top_k_cat_mf = get_top_k_catgeorical(fs_mf,X_train[object_cols])\n",
    "top_k_cat_mf"
   ]
  },
  {
   "cell_type": "code",
   "execution_count": 18,
   "metadata": {
    "id": "faefd6b2-000e-4545-8607-e8ed0efbe772",
    "tags": []
   },
   "outputs": [
    {
     "data": {
      "text/plain": [
       "['CheckingStatus',\n",
       " 'ExistingSavings',\n",
       " 'Telephone',\n",
       " 'OthersOnLoan',\n",
       " 'OwnsProperty',\n",
       " 'Housing',\n",
       " 'Job',\n",
       " 'LoanPurpose',\n",
       " 'EmploymentDuration',\n",
       " 'CreditHistory',\n",
       " 'Sex']"
      ]
     },
     "execution_count": 18,
     "metadata": {},
     "output_type": "execute_result"
    }
   ],
   "source": [
    "union_features = list(set(top_k_cat+top_k_cat_mf))\n",
    "if \"Sex\" not in union_features:\n",
    "    union_features.append(\"Sex\")\n",
    "union_features"
   ]
  },
  {
   "cell_type": "markdown",
   "metadata": {
    "id": "74b9d9c5-636d-4504-841b-53ef8e072462"
   },
   "source": [
    "## Filter the Top K Categorical features and Merge to Original Train and Test Dataframes"
   ]
  },
  {
   "cell_type": "code",
   "execution_count": 19,
   "metadata": {
    "id": "54680c6a-59b4-447e-bfda-cf0ac7076aef",
    "tags": []
   },
   "outputs": [],
   "source": [
    "X_train_object_filtered = X_train[union_features]\n",
    "X_test_object_filtered = X_test[union_features]\n",
    "\n",
    "X_train_final = pd.concat([X_train[numerical_columns],X_train_object_filtered],axis=1)\n",
    "\n",
    "X_test_final = pd.concat([X_test[numerical_columns],X_test_object_filtered],axis=1)"
   ]
  },
  {
   "cell_type": "markdown",
   "metadata": {
    "id": "c997be4b-7089-49f6-b51a-048d8003e0bc"
   },
   "source": [
    "## Use Column Transformer and Pipelines to encode the Input and Output Variables . Scale the Numerical columns using MinMaxScaler."
   ]
  },
  {
   "cell_type": "code",
   "execution_count": 20,
   "metadata": {
    "id": "c2b11376-2c27-47e6-ba1e-db772d63ca12",
    "tags": []
   },
   "outputs": [],
   "source": [
    "numerical_ix = X_train_final.select_dtypes(include=['int64', 'float64']).columns\n",
    "categorical_ix = X_train_final.select_dtypes(include=['object', 'bool']).columns"
   ]
  },
  {
   "cell_type": "code",
   "execution_count": 21,
   "metadata": {
    "id": "b2b5304f-43f4-4509-bf06-9d901fe6b666",
    "tags": []
   },
   "outputs": [],
   "source": [
    "encoding_steps = [('cat', OrdinalEncoder(), categorical_ix), ('num', MinMaxScaler(), numerical_ix)]\n",
    "col_transform = ColumnTransformer(transformers=encoding_steps)"
   ]
  },
  {
   "cell_type": "code",
   "execution_count": 22,
   "metadata": {
    "id": "40b974d3-afc0-46a0-a490-01984513cdae",
    "tags": []
   },
   "outputs": [],
   "source": [
    "pipeline = Pipeline(steps=[('prep',col_transform)])"
   ]
  },
  {
   "cell_type": "code",
   "execution_count": 23,
   "metadata": {
    "id": "221e73d5-e43a-4a1e-a4b0-1203a67ce96e",
    "tags": []
   },
   "outputs": [],
   "source": [
    "train_final = pd.concat([X_train_final,y_train],axis=1)"
   ]
  },
  {
   "cell_type": "code",
   "execution_count": 24,
   "metadata": {
    "id": "2b074997-65a5-4e8a-8ab5-c8594938c4ae",
    "tags": []
   },
   "outputs": [],
   "source": [
    "test_final = pd.concat([X_test_final,y_test],axis=1)"
   ]
  },
  {
   "cell_type": "markdown",
   "metadata": {
    "id": "ad254eee-5c2d-4f2f-802b-9bea72d23d16"
   },
   "source": [
    "## Save the Prepared Data to the project filesystem"
   ]
  },
  {
   "cell_type": "code",
   "execution_count": 25,
   "metadata": {
    "id": "4ac74b08-e76a-435c-8ded-95a4e6907e4b",
    "tags": []
   },
   "outputs": [
    {
     "name": "stdout",
     "output_type": "stream",
     "text": [
      "File data/train_gcr.csv persisted successfully as csv\n"
     ]
    }
   ],
   "source": [
    "vars_and_utils.save_data_in_filesystem(df=train_final, filename=vars_and_utils.train_data_path)"
   ]
  },
  {
   "cell_type": "code",
   "execution_count": 26,
   "metadata": {
    "id": "5de8e8a2-0401-4fcf-bf1d-e64f9d15c325",
    "tags": []
   },
   "outputs": [
    {
     "name": "stdout",
     "output_type": "stream",
     "text": [
      "File data/test_gcr.csv persisted successfully as csv\n"
     ]
    }
   ],
   "source": [
    "vars_and_utils.save_data_in_filesystem(df=test_final, filename=vars_and_utils.test_data_path)"
   ]
  },
  {
   "cell_type": "code",
   "execution_count": 27,
   "metadata": {
    "id": "17576e9f-73ee-422c-8c41-df8debc9a743",
    "tags": []
   },
   "outputs": [
    {
     "name": "stdout",
     "output_type": "stream",
     "text": [
      "File data/feature_encode.pkl pickled successfully\n"
     ]
    }
   ],
   "source": [
    "vars_and_utils.save_data_in_filesystem(df=pipeline, filename=vars_and_utils.pipeline_path)"
   ]
  },
  {
   "cell_type": "markdown",
   "metadata": {
    "id": "b3b2d02f-82bf-4021-8c4d-1a80e8f9d393"
   },
   "source": [
    "## Custom succes check: Check if files have been succesfully created "
   ]
  },
  {
   "cell_type": "code",
   "execution_count": 28,
   "metadata": {
    "id": "c50b68a4-00b7-474a-9b8b-e750eb28a93d",
    "tags": []
   },
   "outputs": [
    {
     "data": {
      "text/plain": [
       "True"
      ]
     },
     "execution_count": 28,
     "metadata": {},
     "output_type": "execute_result"
    }
   ],
   "source": [
    "data_prep_done = os.path.exists(vars_and_utils.train_data_path) and os.path.exists(vars_and_utils.test_data_path) and os.path.exists(vars_and_utils.pipeline_path)\n",
    "data_prep_done"
   ]
  },
  {
   "cell_type": "markdown",
   "metadata": {
    "id": "da0ba538-74ac-45ff-a262-0a6420ff8759"
   },
   "source": [
    "## Register the output variables for the next pipeine stage\n",
    "every notebook outputs a \"was_successful\" boolean variable. The logic behind this is different for every notebook and can be altered to fit the needs of the project.\n",
    "If needed additional variables can be created here but they also need to registered as output variables in the Watson Pipelines UI."
   ]
  },
  {
   "cell_type": "code",
   "execution_count": 29,
   "metadata": {
    "id": "e977c379-c462-4e9e-91c5-3ef319062156",
    "tags": []
   },
   "outputs": [
    {
     "name": "stdout",
     "output_type": "stream",
     "text": [
      "Running outside of Watson Studio Pipeline - storing results in the local filesystem for testing purposes...\n",
      "\n",
      "  output paths:\n",
      "    - \"was_succesfull\": .ibm_watson_studio_pipelines/results/was_succesfull\n"
     ]
    },
    {
     "name": "stderr",
     "output_type": "stream",
     "text": [
      "/opt/conda/envs/Python-RT23.1-Premium/lib/python3.10/site-packages/urllib3/connectionpool.py:1045: InsecureRequestWarning: Unverified HTTPS request is being made to host 'internal-nginx-svc.cp4d.svc.cluster.local'. Adding certificate verification is strongly advised. See: https://urllib3.readthedocs.io/en/1.26.x/advanced-usage.html#ssl-warnings\n",
      "  warnings.warn(\n"
     ]
    },
    {
     "data": {
      "text/plain": [
       "<ibm_cloud_sdk_core.detailed_response.DetailedResponse at 0x7fd79944c070>"
      ]
     },
     "execution_count": 29,
     "metadata": {},
     "output_type": "execute_result"
    }
   ],
   "source": [
    "preparation_params = {}\n",
    "preparation_params['was_succesfull'] = data_prep_done\n",
    "\n",
    "pipelines_client = WSPipelines.from_token(TOKEN)\n",
    "pipelines_client.store_results(preparation_params)"
   ]
  }
 ],
 "metadata": {
  "kernelspec": {
   "display_name": "Python 3.10",
   "language": "python",
   "name": "python3"
  },
  "language_info": {
   "codemirror_mode": {
    "name": "ipython",
    "version": 3
   },
   "file_extension": ".py",
   "mimetype": "text/x-python",
   "name": "python",
   "nbconvert_exporter": "python",
   "pygments_lexer": "ipython3",
   "version": "3.10.10"
  },
  "vscode": {
   "interpreter": {
    "hash": "bd385fe162c5ca0c84973b7dd5c518456272446b2b64e67c2a69f949ca7a1754"
   }
  }
 },
 "nbformat": 4,
 "nbformat_minor": 4
}
