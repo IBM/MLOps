{
 "cells": [
  {
   "cell_type": "markdown",
   "metadata": {
    "id": "4292d1bf-4e75-4a75-b8ca-914d4f58d925"
   },
   "source": [
    "## Data Preparation Notebook"
   ]
  },
  {
   "cell_type": "markdown",
   "metadata": {
    "id": "1e30a381-886e-4710-8874-3ff365e537cd"
   },
   "source": [
    "## Imports"
   ]
  },
  {
   "cell_type": "code",
   "execution_count": null,
   "metadata": {
    "id": "f161da10-75e1-4e66-8859-345ff5fcb899",
    "tags": []
   },
   "outputs": [],
   "source": [
    "from sklearn.feature_selection import SelectKBest\n",
    "from sklearn.feature_selection import chi2\n",
    "from sklearn.preprocessing import OrdinalEncoder,OneHotEncoder,LabelEncoder,MinMaxScaler\n",
    "from sklearn.feature_selection import mutual_info_classif\n",
    "from sklearn.compose import ColumnTransformer\n",
    "from sklearn.pipeline import Pipeline\n",
    "from botocore.client import Config\n",
    "from ibm_watson_studio_pipelines import WSPipelines\n",
    "import matplotlib.pyplot as plt\n",
    "\n",
    "# import itc_utils.flight_service as itcfs\n",
    "\n",
    "import heapq\n",
    "import pickle\n",
    "import os, types\n",
    "import pandas as pd"
   ]
  },
  {
   "cell_type": "markdown",
   "metadata": {
    "id": "30a80194-5380-4e74-a08c-45a28b449063"
   },
   "source": [
    "### Load the validated training and test data from IBM Filesystem (alternatively Db2) \n",
    "\n",
    "```\n",
    "\n",
    "```"
   ]
  },
  {
   "cell_type": "markdown",
   "metadata": {
    "id": "2ca9839b-ef41-4cae-869b-437a8b21c0b4"
   },
   "source": [
    "## Pipeline Params"
   ]
  },
  {
   "cell_type": "code",
   "execution_count": null,
   "metadata": {
    "id": "54c972f7-ffe5-44ea-b2b3-cbb33b92828a",
    "tags": []
   },
   "outputs": [],
   "source": [
    "TOKEN = os.getenv(\"USER_ACCESS_TOKEN\")"
   ]
  },
  {
   "cell_type": "markdown",
   "metadata": {},
   "source": [
    "### Loading Variables and Utils from common python file"
   ]
  },
  {
   "cell_type": "code",
   "execution_count": null,
   "metadata": {
    "id": "8e5f9b98-0db2-45aa-b7d0-0222223a975c",
    "tags": []
   },
   "outputs": [],
   "source": [
    "import vars_and_utils as vars_and_utils\n"
   ]
  },
  {
   "cell_type": "markdown",
   "metadata": {
    "id": "9078e4e9-ba4a-475b-b80a-9bbd2a45fec6"
   },
   "source": [
    "###  Read and Write Utility"
   ]
  },
  {
   "cell_type": "code",
   "execution_count": null,
   "metadata": {
    "id": "785f8fba-fd25-428f-b521-c31040b6f0e2",
    "tags": []
   },
   "outputs": [],
   "source": [
    "# def save_data_in_filesystem(df,filename):\n",
    "#     \"\"\"\n",
    "#     Save Data in Filesystem\n",
    "\n",
    "#     Passed filename should involve path\n",
    "\n",
    "#     \"\"\"\n",
    "#     try:\n",
    "#         if filename[-3:] == \"csv\":\n",
    "#             df.to_csv(filename,index=False)\n",
    "#             print(f\"File {filename} persisted successfully as csv\")\n",
    "#         else:\n",
    "#             with open(filename, 'wb') as f:\n",
    "#                 pickle.dump(df, f)\n",
    "#             print(f\"File {filename} pickled successfully\")\n",
    "#     except Exception as e:\n",
    "#         print(e)\n",
    "#         print(f\"File serialization for {filename} failed\")\n",
    "\n",
    "# def check_for_file_in_filesystem(path):\n",
    "#     \"\"\"\n",
    "#     Check existence of path in filesystem\n",
    "#     \"\"\"\n",
    "#     if os.path.exists(path):\n",
    "#         return True\n",
    "#     else:\n",
    "#         return False\n",
    "    "
   ]
  },
  {
   "cell_type": "markdown",
   "metadata": {
    "id": "538bf340-c35f-439a-af79-ad9f5a0c6389"
   },
   "source": [
    "## Train_Data "
   ]
  },
  {
   "cell_type": "code",
   "execution_count": null,
   "metadata": {
    "id": "aa1cd88c-f7df-4b8c-a908-49e84c4de6e5",
    "tags": []
   },
   "outputs": [],
   "source": [
    "train_data = vars_and_utils.load_data(vars_and_utils.train_data_path)\n",
    "train_data.head()"
   ]
  },
  {
   "cell_type": "code",
   "execution_count": null,
   "metadata": {
    "id": "441675e1-91e6-4987-8c63-9882fed9ab44",
    "tags": []
   },
   "outputs": [],
   "source": [
    "train_data.info()"
   ]
  },
  {
   "cell_type": "code",
   "execution_count": null,
   "metadata": {
    "id": "cb2ef6f5-9725-43e4-bbd7-3d238398174f",
    "tags": []
   },
   "outputs": [],
   "source": [
    "train_data.describe()"
   ]
  },
  {
   "cell_type": "code",
   "execution_count": null,
   "metadata": {
    "id": "08be57ad-b834-42f8-bb29-4f66474a0b3b",
    "tags": []
   },
   "outputs": [],
   "source": [
    "object_df = train_data.select_dtypes('O')\n",
    "object_df.head()"
   ]
  },
  {
   "cell_type": "code",
   "execution_count": null,
   "metadata": {
    "id": "c3bf8612-3433-4810-b5c5-3b6d9d23d57d",
    "tags": []
   },
   "outputs": [],
   "source": [
    "object_cols = list(set(object_df.columns.tolist()) - set(['Risk']))\n",
    "object_cols"
   ]
  },
  {
   "cell_type": "code",
   "execution_count": null,
   "metadata": {
    "id": "27f48dcb-7dee-44a8-b8ed-2ed58385912f",
    "tags": []
   },
   "outputs": [],
   "source": [
    "numerical_columns = [col for col in train_data.columns.tolist() if col not in object_cols and col!='Risk']"
   ]
  },
  {
   "cell_type": "markdown",
   "metadata": {
    "id": "10c03047-c200-4f7e-91e6-0bdb31554fea"
   },
   "source": [
    "## Load Test Data "
   ]
  },
  {
   "cell_type": "code",
   "execution_count": null,
   "metadata": {
    "id": "ca4e5bb6-b11e-48cd-8457-a127a60b06c8",
    "tags": []
   },
   "outputs": [],
   "source": [
    "test_data = vars_and_utils.load_data(vars_and_utils.test_data_path)\n",
    "test_data.head()"
   ]
  },
  {
   "cell_type": "markdown",
   "metadata": {
    "id": "f31f399e-904c-49f0-9e2b-12b042d8e8b1"
   },
   "source": [
    "## Split X and Y "
   ]
  },
  {
   "cell_type": "code",
   "execution_count": null,
   "metadata": {
    "id": "2dfd43ce-7cb2-4db1-b76d-d2ab6c796b2c",
    "tags": []
   },
   "outputs": [],
   "source": [
    "y_train = train_data['Risk']\n",
    "X_train = train_data.drop(\"Risk\",axis=1)\n",
    "\n",
    "\n",
    "y_test = test_data['Risk']\n",
    "X_test = test_data.drop(\"Risk\",axis=1)"
   ]
  },
  {
   "cell_type": "markdown",
   "metadata": {
    "id": "0af40507-eb8d-4e9c-a263-ab624f657375"
   },
   "source": [
    "## Categorcial Feature Analysis "
   ]
  },
  {
   "cell_type": "code",
   "execution_count": null,
   "metadata": {
    "id": "f97b9595-c499-4dbd-b143-85310dfa73bd",
    "tags": []
   },
   "outputs": [],
   "source": [
    "def prepare_input_data(X_train, X_test):\n",
    "    oe = OrdinalEncoder()\n",
    "    oe.fit(X_train)\n",
    "    X_train_enc = oe.transform(X_train)\n",
    "    X_test_enc = oe.transform(X_test)\n",
    "    return X_train_enc, X_test_enc\n",
    "\n",
    "\n",
    "def prepare_output_data(y_train, y_test):\n",
    "    le = LabelEncoder()\n",
    "    le.fit(y_train)\n",
    "    y_train_enc = le.transform(y_train)\n",
    "    y_test_enc = le.transform(y_test)\n",
    "    return y_train_enc, y_test_enc\n",
    "\n",
    "\n",
    "def select_best_chi2_features(X_train, y_train, X_test,score_func=chi2):\n",
    "    featureselector = SelectKBest(score_func=chi2, k='all')\n",
    "    featureselector.fit(X_train, y_train)\n",
    "    X_train_best_feat = featureselector.transform(X_train)\n",
    "    X_test_best_feat= featureselector.transform(X_test)\n",
    "    return X_train_best_feat, X_test_best_feat, featureselector\n",
    "\n",
    "\n",
    "def select_best_mutualinf_features(X_train, y_train, X_test,k=5):\n",
    "    featureselector = SelectKBest(score_func=mutual_info_classif, k=k)\n",
    "    featureselector.fit(X_train, y_train)\n",
    "    X_train_best_feat = fs.transform(X_train)\n",
    "    X_test_best_feat= fs.transform(X_test)\n",
    "    return X_train_best_feat, X_test_best_feat, featureselector\n",
    "\n",
    "# def plot_scores():\n",
    "#     plt.figure(figsize=(14, 12))\n",
    "#     plt.subplot(221)\n",
    "\n",
    "#     ax1 = sns.barplot([i for i in range(len(fs.scores_))], fs.scores_)\n",
    "#     ax1.set_title(\"Chi2 Importance Scores\", fontsize=20)\n",
    "#     ax1.set_xlabel(\"Features\",fontsize=15)\n",
    "#     ax1.set_ylabel(\"Chi2 Scores\",fontsize=15)\n",
    "    \n",
    "    \n",
    "def get_top_k_catgeorical(fs,train_cat,k=10):\n",
    "    fs_score_map = {}\n",
    "    for i in range(len(fs.scores_)):\n",
    "        #print(f\"Feature {train_cat.columns.tolist()[i]} {fs.scores_[i]}\")\n",
    "        fs_score_map[train_cat.columns.tolist()[i]] = fs.scores_[i]\n",
    "        \n",
    "    k_keys_sorted_by_values = heapq.nlargest(k, fs_score_map, key=fs_score_map.get)\n",
    "    \n",
    "    return k_keys_sorted_by_values"
   ]
  },
  {
   "cell_type": "markdown",
   "metadata": {
    "id": "660e9d2f-34db-4ecc-9fd5-970462fc2009"
   },
   "source": [
    "## Encode and shape the Variables "
   ]
  },
  {
   "cell_type": "code",
   "execution_count": null,
   "metadata": {
    "id": "01ed54fe-7afa-4bc4-a37b-b85e6bf6cdc4",
    "tags": []
   },
   "outputs": [],
   "source": [
    "X_train_enc, X_test_enc = prepare_input_data(X_train[object_cols], X_test[object_cols])\n",
    "\n",
    "y_train_enc, y_test_enc = prepare_output_data(y_train, y_test)\n",
    "\n",
    "X_train_fs, X_test_fs, fs = select_best_chi2_features(X_train_enc, y_train_enc, X_test_enc)\n",
    "\n",
    "# plot_scores()\n"
   ]
  },
  {
   "cell_type": "markdown",
   "metadata": {
    "id": "8b210746-a131-4ac1-84db-105848cdbf8e"
   },
   "source": [
    "## Top K Categorical Features  based on Chi2"
   ]
  },
  {
   "cell_type": "code",
   "execution_count": null,
   "metadata": {
    "id": "889c067d-bbb9-4655-8c52-03769449b649",
    "tags": []
   },
   "outputs": [],
   "source": [
    "top_k_cat = get_top_k_catgeorical(fs,X_train[object_cols])\n",
    "top_k_cat"
   ]
  },
  {
   "cell_type": "markdown",
   "metadata": {
    "id": "0a017731-d213-43da-8fbb-67b98b28f8a8"
   },
   "source": [
    "## Top K Categorical Features  based on Mutual Information Feature Selection"
   ]
  },
  {
   "cell_type": "code",
   "execution_count": null,
   "metadata": {
    "id": "ccb4d703-e822-4e9d-b66b-bc19c0ea94e3",
    "tags": []
   },
   "outputs": [],
   "source": [
    "X_train_enc_mf, X_test_enc_mf = prepare_input_data(X_train[object_cols], X_test[object_cols])\n",
    "\n",
    "y_train_enc_mf, y_test_enc_mf = prepare_output_data(y_train, y_test)\n",
    "\n",
    "X_train_fs_mf, X_test_fs_mf, fs_mf = select_best_chi2_features(X_train_enc_mf, y_train_enc_mf, X_test_enc_mf)\n",
    "\n",
    "# plot_scores()"
   ]
  },
  {
   "cell_type": "code",
   "execution_count": null,
   "metadata": {
    "id": "577ace08-4e4f-4a97-a56c-7d26b610bec0",
    "tags": []
   },
   "outputs": [],
   "source": [
    "top_k_cat_mf = get_top_k_catgeorical(fs_mf,X_train[object_cols])\n",
    "top_k_cat_mf"
   ]
  },
  {
   "cell_type": "code",
   "execution_count": null,
   "metadata": {
    "id": "faefd6b2-000e-4545-8607-e8ed0efbe772",
    "tags": []
   },
   "outputs": [],
   "source": [
    "union_features = list(set(top_k_cat+top_k_cat_mf))\n",
    "if \"Sex\" not in union_features:\n",
    "    union_features.append(\"Sex\")\n",
    "union_features"
   ]
  },
  {
   "cell_type": "markdown",
   "metadata": {
    "id": "74b9d9c5-636d-4504-841b-53ef8e072462"
   },
   "source": [
    "## Filter the Top K Categorical features and Merge to Original Train and Test Dataframes"
   ]
  },
  {
   "cell_type": "code",
   "execution_count": null,
   "metadata": {
    "id": "54680c6a-59b4-447e-bfda-cf0ac7076aef",
    "tags": []
   },
   "outputs": [],
   "source": [
    "X_train_object_filtered = X_train[union_features]\n",
    "X_test_object_filtered = X_test[union_features]\n",
    "\n",
    "X_train_final = pd.concat([X_train[numerical_columns],X_train_object_filtered],axis=1)\n",
    "\n",
    "X_test_final = pd.concat([X_test[numerical_columns],X_test_object_filtered],axis=1)"
   ]
  },
  {
   "cell_type": "markdown",
   "metadata": {
    "id": "c997be4b-7089-49f6-b51a-048d8003e0bc"
   },
   "source": [
    "## Use Column Transformer and Pipelines to encode the Input and Output Variables . Scale the Numerical columns using MinMaxScaler."
   ]
  },
  {
   "cell_type": "code",
   "execution_count": null,
   "metadata": {
    "id": "c2b11376-2c27-47e6-ba1e-db772d63ca12",
    "tags": []
   },
   "outputs": [],
   "source": [
    "numerical_ix = X_train_final.select_dtypes(include=['int64', 'float64']).columns\n",
    "categorical_ix = X_train_final.select_dtypes(include=['object', 'bool']).columns"
   ]
  },
  {
   "cell_type": "code",
   "execution_count": null,
   "metadata": {
    "id": "b2b5304f-43f4-4509-bf06-9d901fe6b666",
    "tags": []
   },
   "outputs": [],
   "source": [
    "encoding_steps = [('cat', OrdinalEncoder(), categorical_ix), ('num', MinMaxScaler(), numerical_ix)]\n",
    "col_transform = ColumnTransformer(transformers=encoding_steps)"
   ]
  },
  {
   "cell_type": "code",
   "execution_count": null,
   "metadata": {
    "id": "40b974d3-afc0-46a0-a490-01984513cdae",
    "tags": []
   },
   "outputs": [],
   "source": [
    "pipeline = Pipeline(steps=[('prep',col_transform)])"
   ]
  },
  {
   "cell_type": "code",
   "execution_count": null,
   "metadata": {
    "id": "221e73d5-e43a-4a1e-a4b0-1203a67ce96e",
    "tags": []
   },
   "outputs": [],
   "source": [
    "train_final = pd.concat([X_train_final,y_train],axis=1)"
   ]
  },
  {
   "cell_type": "code",
   "execution_count": null,
   "metadata": {
    "id": "2b074997-65a5-4e8a-8ab5-c8594938c4ae",
    "tags": []
   },
   "outputs": [],
   "source": [
    "test_final = pd.concat([X_test_final,y_test],axis=1)"
   ]
  },
  {
   "cell_type": "code",
   "execution_count": null,
   "metadata": {
    "id": "6d346720-aa42-4c4d-9039-192faa596be7",
    "tags": []
   },
   "outputs": [],
   "source": [
    "#encoded_train = pd.DataFrame(pipeline.fit_transform(X_train_final),columns=X_train_final.columns)"
   ]
  },
  {
   "cell_type": "code",
   "execution_count": null,
   "metadata": {
    "id": "86449660-44f5-4eae-95ca-a57e886483ab",
    "tags": []
   },
   "outputs": [],
   "source": [
    "#encoded_test = pd.DataFrame(pipeline.transform(X_test_final),columns=X_test_final.columns)"
   ]
  },
  {
   "cell_type": "markdown",
   "metadata": {
    "id": "ad254eee-5c2d-4f2f-802b-9bea72d23d16"
   },
   "source": [
    "## Save the Prepared Data to IBM COS"
   ]
  },
  {
   "cell_type": "code",
   "execution_count": null,
   "metadata": {
    "id": "4ac74b08-e76a-435c-8ded-95a4e6907e4b",
    "tags": []
   },
   "outputs": [],
   "source": [
    "vars_and_utils.save_data_in_filesystem(df=train_final, filename=vars_and_utils.train_data_path)"
   ]
  },
  {
   "cell_type": "code",
   "execution_count": null,
   "metadata": {
    "id": "5de8e8a2-0401-4fcf-bf1d-e64f9d15c325",
    "tags": []
   },
   "outputs": [],
   "source": [
    "vars_and_utils.save_data_in_filesystem(df=test_final, filename=vars_and_utils.test_data_path)"
   ]
  },
  {
   "cell_type": "code",
   "execution_count": null,
   "metadata": {
    "id": "17576e9f-73ee-422c-8c41-df8debc9a743",
    "tags": []
   },
   "outputs": [],
   "source": [
    "vars_and_utils.save_data_in_filesystem(df=pipeline, filename=vars_and_utils.pipeline_path)"
   ]
  },
  {
   "cell_type": "markdown",
   "metadata": {
    "id": "b3b2d02f-82bf-4021-8c4d-1a80e8f9d393"
   },
   "source": [
    "## Check if files have been copied "
   ]
  },
  {
   "cell_type": "code",
   "execution_count": null,
   "metadata": {
    "id": "c50b68a4-00b7-474a-9b8b-e750eb28a93d",
    "tags": []
   },
   "outputs": [],
   "source": [
    "data_prep_done = os.path.exists(vars_and_utils.train_data_path) and os.path.exists(vars_and_utils.test_data_path) and os.path.exists(vars_and_utils.pipeline_path)\n",
    "data_prep_done"
   ]
  },
  {
   "cell_type": "markdown",
   "metadata": {
    "id": "da0ba538-74ac-45ff-a262-0a6420ff8759"
   },
   "source": [
    "## Store Params in WS Pipelines"
   ]
  },
  {
   "cell_type": "code",
   "execution_count": null,
   "metadata": {
    "id": "e977c379-c462-4e9e-91c5-3ef319062156",
    "tags": []
   },
   "outputs": [],
   "source": [
    "preparation_params = {}\n",
    "preparation_params['data_prep_done'] = data_prep_done\n",
    "\n",
    "pipelines_client = WSPipelines.from_token(TOKEN)\n",
    "pipelines_client.store_results(preparation_params)"
   ]
  },
  {
   "cell_type": "code",
   "execution_count": null,
   "metadata": {},
   "outputs": [],
   "source": []
  }
 ],
 "metadata": {
  "kernelspec": {
   "display_name": "Python 3.10",
   "language": "python",
   "name": "python3"
  },
  "language_info": {
   "codemirror_mode": {
    "name": "ipython",
    "version": 3
   },
   "file_extension": ".py",
   "mimetype": "text/x-python",
   "name": "python",
   "nbconvert_exporter": "python",
   "pygments_lexer": "ipython3",
   "version": "3.10.10"
  },
  "vscode": {
   "interpreter": {
    "hash": "bd385fe162c5ca0c84973b7dd5c518456272446b2b64e67c2a69f949ca7a1754"
   }
  }
 },
 "nbformat": 4,
 "nbformat_minor": 4
}
