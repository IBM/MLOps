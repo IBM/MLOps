{
 "cells": [
  {
   "cell_type": "markdown",
   "metadata": {
    "id": "4292d1bf-4e75-4a75-b8ca-914d4f58d925"
   },
   "source": [
    "## Data Preparation Notebook"
   ]
  },
  {
   "cell_type": "markdown",
   "metadata": {
    "id": "1e30a381-886e-4710-8874-3ff365e537cd"
   },
   "source": [
    "## Imports"
   ]
  },
  {
   "cell_type": "code",
   "execution_count": 1,
   "metadata": {
    "id": "f161da10-75e1-4e66-8859-345ff5fcb899",
    "tags": []
   },
   "outputs": [],
   "source": [
    "from sklearn.feature_selection import SelectKBest\n",
    "from sklearn.feature_selection import chi2\n",
    "from sklearn.preprocessing import OrdinalEncoder,OneHotEncoder,LabelEncoder,MinMaxScaler\n",
    "from sklearn.feature_selection import mutual_info_classif\n",
    "from sklearn.compose import ColumnTransformer\n",
    "from sklearn.pipeline import Pipeline\n",
    "from botocore.client import Config\n",
    "from ibm_watson_studio_pipelines import WSPipelines\n",
    "import matplotlib.pyplot as plt\n",
    "\n",
    "# import itc_utils.flight_service as itcfs\n",
    "\n",
    "import heapq\n",
    "import pickle\n",
    "import os, types\n",
    "import pandas as pd\n",
    "import ibm_boto3"
   ]
  },
  {
   "cell_type": "markdown",
   "metadata": {
    "id": "30a80194-5380-4e74-a08c-45a28b449063"
   },
   "source": [
    "### Load the validated training and test data from IBM Filesystem (alternatively Db2) \n",
    "\n",
    "```\n",
    "\n",
    "```"
   ]
  },
  {
   "cell_type": "markdown",
   "metadata": {
    "id": "2ca9839b-ef41-4cae-869b-437a8b21c0b4"
   },
   "source": [
    "## Pipeline Params"
   ]
  },
  {
   "cell_type": "code",
   "execution_count": 2,
   "metadata": {
    "id": "54c972f7-ffe5-44ea-b2b3-cbb33b92828a",
    "tags": []
   },
   "outputs": [],
   "source": [
    "TOKEN = os.getenv(\"USER_ACCESS_TOKEN\")"
   ]
  },
  {
   "cell_type": "code",
   "execution_count": 3,
   "metadata": {
    "id": "8e5f9b98-0db2-45aa-b7d0-0222223a975c",
    "tags": []
   },
   "outputs": [],
   "source": [
    "train_data_filename = os.getenv(\"train_data_filename\")\n",
    "test_data_filename = os.getenv(\"test_data_filename\")\n",
    "path = os.getenv(\"path\")\n",
    "\n",
    "train_data_path = os.path.join(path, train_data_filename)\n",
    "test_data_path = os.path.join(path, test_data_filename)"
   ]
  },
  {
   "cell_type": "code",
   "execution_count": 4,
   "metadata": {
    "id": "97f12bb0-9db2-4be7-aba2-4e9a0c03fc61",
    "tags": []
   },
   "outputs": [],
   "source": [
    "pipeline_filename = os.getenv(\"pipeline_filename\")\n",
    "if pipeline_filename is None:\n",
    "    pipeline_filename = \"feature_encode.pkl\""
   ]
  },
  {
   "cell_type": "code",
   "execution_count": null,
   "metadata": {
    "id": "9b5b50c6-678b-4461-a170-6160c9b2b9a1",
    "tags": []
   },
   "outputs": [],
   "source": [
    "# train_data_path = \"mlops-dir/train_gcr.csv\"\n",
    "# test_data_path = \"mlops-dir/test_gcr.csv\""
   ]
  },
  {
   "cell_type": "markdown",
   "metadata": {
    "id": "9078e4e9-ba4a-475b-b80a-9bbd2a45fec6"
   },
   "source": [
    "###  Read and Write Utility"
   ]
  },
  {
   "cell_type": "code",
   "execution_count": 6,
   "metadata": {
    "id": "785f8fba-fd25-428f-b521-c31040b6f0e2",
    "tags": []
   },
   "outputs": [],
   "source": [
    "def save_data_in_filesystem(df,filename):\n",
    "    \"\"\"\n",
    "    Save Data in Filesystem\n",
    "\n",
    "    Passed filename should involve path\n",
    "\n",
    "    \"\"\"\n",
    "    try:\n",
    "        if filename[-3:] == \"csv\":\n",
    "            df.to_csv(filename,index=False)\n",
    "            print(f\"File {filename} persisted successfully as csv\")\n",
    "        else:\n",
    "            with open(filename, 'wb') as f:\n",
    "                pickle.dump(df, f)\n",
    "            print(f\"File {filename} pickled successfully\")\n",
    "    except Exception as e:\n",
    "        print(e)\n",
    "        print(f\"File serialization for {filename} failed\")\n",
    "\n",
    "def check_for_file_in_filesystem(path):\n",
    "    \"\"\"\n",
    "    Check existence of path in filesystem\n",
    "    \"\"\"\n",
    "    if os.path.exists(path):\n",
    "        return True\n",
    "    else:\n",
    "        return False\n",
    "    \n",
    "def read_data_from_db2(data_request):\n",
    "    read_client = itcfs.get_flight_client()\n",
    "    DB2_DATA_data_request = {\n",
    "        'connection_name': \"\"\"DB2_DATA\"\"\",\n",
    "        'interaction_properties': {\n",
    "            'select_statement': 'SELECT * FROM \"CUSTOMER_DATA\".\"GERMAN_CREDIT_RISK_TRAINING\" FETCH FIRST 5000 ROWS ONLY'\n",
    "        }\n",
    "    }\n",
    "\n",
    "    flightInfo = itcfs.get_flight_info(read_client, nb_data_request=data_request)\n",
    "\n",
    "    df = itcfs.read_pandas_and_concat(read_client, flightInfo, timeout=240)\n",
    "    return df\n",
    "    \n",
    "def load_data_from_filesystem(path):\n",
    "    \"\"\"\n",
    "    Check existence of path in filesystem.\n",
    "    If it does exist, loads csv via path\n",
    "    If it does NOT exist, try to load data from Db2\n",
    "    \"\"\"\n",
    "    body = check_for_file_in_filesystem(path)\n",
    "    if body:\n",
    "        suffix = path[-3:]\n",
    "        # Check whether path ends on csv\n",
    "        if suffix == \"csv\":\n",
    "            gcf_df = pd.read_csv(path)\n",
    "        else:\n",
    "            with open(path) as f:\n",
    "                gcf_df = pickle.load(f)\n",
    "\n",
    "        return gcf_df\n",
    "    else:\n",
    "        print(\"\\n\")\n",
    "        print(f\"{path} file/path is probably not in project. Loading File from MLOps COS Bucket.\")\n",
    "\n",
    "        data_request = {\n",
    "                'connection_name': \"\"\"DB2_DATA\"\"\",\n",
    "                'interaction_properties': {\n",
    "                    'select_statement': 'SELECT * FROM \"CUSTOMER_DATA\".\"GERMAN_CREDIT_RISK_TRAINING\" FETCH FIRST 5000 ROWS ONLY'\n",
    "                }\n",
    "            }\n",
    "\n",
    "        gcf_df = read_data_from_db2(data_request)\n",
    "        return gcf_df"
   ]
  },
  {
   "cell_type": "markdown",
   "metadata": {
    "id": "538bf340-c35f-439a-af79-ad9f5a0c6389"
   },
   "source": [
    "## Train_Data "
   ]
  },
  {
   "cell_type": "code",
   "execution_count": 7,
   "metadata": {
    "id": "aa1cd88c-f7df-4b8c-a908-49e84c4de6e5",
    "tags": []
   },
   "outputs": [
    {
     "data": {
      "text/html": [
       "<div>\n",
       "<style scoped>\n",
       "    .dataframe tbody tr th:only-of-type {\n",
       "        vertical-align: middle;\n",
       "    }\n",
       "\n",
       "    .dataframe tbody tr th {\n",
       "        vertical-align: top;\n",
       "    }\n",
       "\n",
       "    .dataframe thead th {\n",
       "        text-align: right;\n",
       "    }\n",
       "</style>\n",
       "<table border=\"1\" class=\"dataframe\">\n",
       "  <thead>\n",
       "    <tr style=\"text-align: right;\">\n",
       "      <th></th>\n",
       "      <th>CheckingStatus</th>\n",
       "      <th>LoanDuration</th>\n",
       "      <th>CreditHistory</th>\n",
       "      <th>LoanPurpose</th>\n",
       "      <th>LoanAmount</th>\n",
       "      <th>ExistingSavings</th>\n",
       "      <th>EmploymentDuration</th>\n",
       "      <th>InstallmentPercent</th>\n",
       "      <th>Sex</th>\n",
       "      <th>OthersOnLoan</th>\n",
       "      <th>...</th>\n",
       "      <th>OwnsProperty</th>\n",
       "      <th>Age</th>\n",
       "      <th>InstallmentPlans</th>\n",
       "      <th>Housing</th>\n",
       "      <th>ExistingCreditsCount</th>\n",
       "      <th>Job</th>\n",
       "      <th>Dependents</th>\n",
       "      <th>Telephone</th>\n",
       "      <th>ForeignWorker</th>\n",
       "      <th>Risk</th>\n",
       "    </tr>\n",
       "  </thead>\n",
       "  <tbody>\n",
       "    <tr>\n",
       "      <th>0</th>\n",
       "      <td>less_0</td>\n",
       "      <td>18</td>\n",
       "      <td>credits_paid_to_date</td>\n",
       "      <td>car_new</td>\n",
       "      <td>462</td>\n",
       "      <td>less_100</td>\n",
       "      <td>1_to_4</td>\n",
       "      <td>2</td>\n",
       "      <td>female</td>\n",
       "      <td>none</td>\n",
       "      <td>...</td>\n",
       "      <td>savings_insurance</td>\n",
       "      <td>37</td>\n",
       "      <td>stores</td>\n",
       "      <td>own</td>\n",
       "      <td>2</td>\n",
       "      <td>skilled</td>\n",
       "      <td>1</td>\n",
       "      <td>none</td>\n",
       "      <td>yes</td>\n",
       "      <td>0</td>\n",
       "    </tr>\n",
       "    <tr>\n",
       "      <th>1</th>\n",
       "      <td>less_0</td>\n",
       "      <td>15</td>\n",
       "      <td>prior_payments_delayed</td>\n",
       "      <td>furniture</td>\n",
       "      <td>250</td>\n",
       "      <td>less_100</td>\n",
       "      <td>1_to_4</td>\n",
       "      <td>2</td>\n",
       "      <td>male</td>\n",
       "      <td>none</td>\n",
       "      <td>...</td>\n",
       "      <td>real_estate</td>\n",
       "      <td>28</td>\n",
       "      <td>none</td>\n",
       "      <td>own</td>\n",
       "      <td>2</td>\n",
       "      <td>skilled</td>\n",
       "      <td>1</td>\n",
       "      <td>yes</td>\n",
       "      <td>no</td>\n",
       "      <td>0</td>\n",
       "    </tr>\n",
       "    <tr>\n",
       "      <th>2</th>\n",
       "      <td>no_checking</td>\n",
       "      <td>28</td>\n",
       "      <td>prior_payments_delayed</td>\n",
       "      <td>education</td>\n",
       "      <td>6235</td>\n",
       "      <td>500_to_1000</td>\n",
       "      <td>greater_7</td>\n",
       "      <td>3</td>\n",
       "      <td>male</td>\n",
       "      <td>none</td>\n",
       "      <td>...</td>\n",
       "      <td>unknown</td>\n",
       "      <td>57</td>\n",
       "      <td>none</td>\n",
       "      <td>own</td>\n",
       "      <td>2</td>\n",
       "      <td>skilled</td>\n",
       "      <td>1</td>\n",
       "      <td>none</td>\n",
       "      <td>yes</td>\n",
       "      <td>1</td>\n",
       "    </tr>\n",
       "    <tr>\n",
       "      <th>3</th>\n",
       "      <td>no_checking</td>\n",
       "      <td>9</td>\n",
       "      <td>prior_payments_delayed</td>\n",
       "      <td>car_new</td>\n",
       "      <td>1032</td>\n",
       "      <td>100_to_500</td>\n",
       "      <td>4_to_7</td>\n",
       "      <td>3</td>\n",
       "      <td>male</td>\n",
       "      <td>none</td>\n",
       "      <td>...</td>\n",
       "      <td>savings_insurance</td>\n",
       "      <td>41</td>\n",
       "      <td>none</td>\n",
       "      <td>own</td>\n",
       "      <td>1</td>\n",
       "      <td>management_self-employed</td>\n",
       "      <td>1</td>\n",
       "      <td>none</td>\n",
       "      <td>yes</td>\n",
       "      <td>0</td>\n",
       "    </tr>\n",
       "    <tr>\n",
       "      <th>4</th>\n",
       "      <td>0_to_200</td>\n",
       "      <td>11</td>\n",
       "      <td>credits_paid_to_date</td>\n",
       "      <td>car_new</td>\n",
       "      <td>4553</td>\n",
       "      <td>less_100</td>\n",
       "      <td>less_1</td>\n",
       "      <td>3</td>\n",
       "      <td>female</td>\n",
       "      <td>none</td>\n",
       "      <td>...</td>\n",
       "      <td>savings_insurance</td>\n",
       "      <td>22</td>\n",
       "      <td>none</td>\n",
       "      <td>own</td>\n",
       "      <td>1</td>\n",
       "      <td>management_self-employed</td>\n",
       "      <td>1</td>\n",
       "      <td>none</td>\n",
       "      <td>yes</td>\n",
       "      <td>0</td>\n",
       "    </tr>\n",
       "  </tbody>\n",
       "</table>\n",
       "<p>5 rows × 21 columns</p>\n",
       "</div>"
      ],
      "text/plain": [
       "  CheckingStatus  LoanDuration           CreditHistory LoanPurpose  \\\n",
       "0         less_0            18    credits_paid_to_date     car_new   \n",
       "1         less_0            15  prior_payments_delayed   furniture   \n",
       "2    no_checking            28  prior_payments_delayed   education   \n",
       "3    no_checking             9  prior_payments_delayed     car_new   \n",
       "4       0_to_200            11    credits_paid_to_date     car_new   \n",
       "\n",
       "   LoanAmount ExistingSavings EmploymentDuration  InstallmentPercent     Sex  \\\n",
       "0         462        less_100             1_to_4                   2  female   \n",
       "1         250        less_100             1_to_4                   2    male   \n",
       "2        6235     500_to_1000          greater_7                   3    male   \n",
       "3        1032      100_to_500             4_to_7                   3    male   \n",
       "4        4553        less_100             less_1                   3  female   \n",
       "\n",
       "  OthersOnLoan  ...       OwnsProperty Age  InstallmentPlans Housing  \\\n",
       "0         none  ...  savings_insurance  37            stores     own   \n",
       "1         none  ...        real_estate  28              none     own   \n",
       "2         none  ...            unknown  57              none     own   \n",
       "3         none  ...  savings_insurance  41              none     own   \n",
       "4         none  ...  savings_insurance  22              none     own   \n",
       "\n",
       "  ExistingCreditsCount                       Job Dependents  Telephone  \\\n",
       "0                    2                   skilled          1       none   \n",
       "1                    2                   skilled          1        yes   \n",
       "2                    2                   skilled          1       none   \n",
       "3                    1  management_self-employed          1       none   \n",
       "4                    1  management_self-employed          1       none   \n",
       "\n",
       "  ForeignWorker Risk  \n",
       "0           yes    0  \n",
       "1            no    0  \n",
       "2           yes    1  \n",
       "3           yes    0  \n",
       "4           yes    0  \n",
       "\n",
       "[5 rows x 21 columns]"
      ]
     },
     "execution_count": 7,
     "metadata": {},
     "output_type": "execute_result"
    }
   ],
   "source": [
    "train_data = load_data_from_filesystem(train_data_path)\n",
    "train_data.head()"
   ]
  },
  {
   "cell_type": "code",
   "execution_count": 8,
   "metadata": {
    "id": "441675e1-91e6-4987-8c63-9882fed9ab44",
    "tags": []
   },
   "outputs": [
    {
     "name": "stdout",
     "output_type": "stream",
     "text": [
      "<class 'pandas.core.frame.DataFrame'>\n",
      "RangeIndex: 3995 entries, 0 to 3994\n",
      "Data columns (total 21 columns):\n",
      " #   Column                    Non-Null Count  Dtype \n",
      "---  ------                    --------------  ----- \n",
      " 0   CheckingStatus            3995 non-null   object\n",
      " 1   LoanDuration              3995 non-null   int64 \n",
      " 2   CreditHistory             3995 non-null   object\n",
      " 3   LoanPurpose               3995 non-null   object\n",
      " 4   LoanAmount                3995 non-null   int64 \n",
      " 5   ExistingSavings           3995 non-null   object\n",
      " 6   EmploymentDuration        3995 non-null   object\n",
      " 7   InstallmentPercent        3995 non-null   int64 \n",
      " 8   Sex                       3995 non-null   object\n",
      " 9   OthersOnLoan              3995 non-null   object\n",
      " 10  CurrentResidenceDuration  3995 non-null   int64 \n",
      " 11  OwnsProperty              3995 non-null   object\n",
      " 12  Age                       3995 non-null   int64 \n",
      " 13  InstallmentPlans          3995 non-null   object\n",
      " 14  Housing                   3995 non-null   object\n",
      " 15  ExistingCreditsCount      3995 non-null   int64 \n",
      " 16  Job                       3995 non-null   object\n",
      " 17  Dependents                3995 non-null   int64 \n",
      " 18  Telephone                 3995 non-null   object\n",
      " 19  ForeignWorker             3995 non-null   object\n",
      " 20  Risk                      3995 non-null   int64 \n",
      "dtypes: int64(8), object(13)\n",
      "memory usage: 655.6+ KB\n"
     ]
    }
   ],
   "source": [
    "train_data.info()"
   ]
  },
  {
   "cell_type": "code",
   "execution_count": 9,
   "metadata": {
    "id": "cb2ef6f5-9725-43e4-bbd7-3d238398174f",
    "tags": []
   },
   "outputs": [
    {
     "data": {
      "text/html": [
       "<div>\n",
       "<style scoped>\n",
       "    .dataframe tbody tr th:only-of-type {\n",
       "        vertical-align: middle;\n",
       "    }\n",
       "\n",
       "    .dataframe tbody tr th {\n",
       "        vertical-align: top;\n",
       "    }\n",
       "\n",
       "    .dataframe thead th {\n",
       "        text-align: right;\n",
       "    }\n",
       "</style>\n",
       "<table border=\"1\" class=\"dataframe\">\n",
       "  <thead>\n",
       "    <tr style=\"text-align: right;\">\n",
       "      <th></th>\n",
       "      <th>LoanDuration</th>\n",
       "      <th>LoanAmount</th>\n",
       "      <th>InstallmentPercent</th>\n",
       "      <th>CurrentResidenceDuration</th>\n",
       "      <th>Age</th>\n",
       "      <th>ExistingCreditsCount</th>\n",
       "      <th>Dependents</th>\n",
       "      <th>Risk</th>\n",
       "    </tr>\n",
       "  </thead>\n",
       "  <tbody>\n",
       "    <tr>\n",
       "      <th>count</th>\n",
       "      <td>3995.000000</td>\n",
       "      <td>3995.000000</td>\n",
       "      <td>3995.000000</td>\n",
       "      <td>3995.00000</td>\n",
       "      <td>3995.000000</td>\n",
       "      <td>3995.000000</td>\n",
       "      <td>3995.00000</td>\n",
       "      <td>3995.000000</td>\n",
       "    </tr>\n",
       "    <tr>\n",
       "      <th>mean</th>\n",
       "      <td>21.395745</td>\n",
       "      <td>3488.971464</td>\n",
       "      <td>2.977222</td>\n",
       "      <td>2.84781</td>\n",
       "      <td>35.979224</td>\n",
       "      <td>1.472340</td>\n",
       "      <td>1.16821</td>\n",
       "      <td>0.330914</td>\n",
       "    </tr>\n",
       "    <tr>\n",
       "      <th>std</th>\n",
       "      <td>11.175001</td>\n",
       "      <td>2500.504918</td>\n",
       "      <td>1.130774</td>\n",
       "      <td>1.12105</td>\n",
       "      <td>10.678289</td>\n",
       "      <td>0.567809</td>\n",
       "      <td>0.37410</td>\n",
       "      <td>0.470601</td>\n",
       "    </tr>\n",
       "    <tr>\n",
       "      <th>min</th>\n",
       "      <td>4.000000</td>\n",
       "      <td>250.000000</td>\n",
       "      <td>1.000000</td>\n",
       "      <td>1.00000</td>\n",
       "      <td>19.000000</td>\n",
       "      <td>1.000000</td>\n",
       "      <td>1.00000</td>\n",
       "      <td>0.000000</td>\n",
       "    </tr>\n",
       "    <tr>\n",
       "      <th>25%</th>\n",
       "      <td>12.500000</td>\n",
       "      <td>1328.000000</td>\n",
       "      <td>2.000000</td>\n",
       "      <td>2.00000</td>\n",
       "      <td>28.000000</td>\n",
       "      <td>1.000000</td>\n",
       "      <td>1.00000</td>\n",
       "      <td>0.000000</td>\n",
       "    </tr>\n",
       "    <tr>\n",
       "      <th>50%</th>\n",
       "      <td>21.000000</td>\n",
       "      <td>3237.000000</td>\n",
       "      <td>3.000000</td>\n",
       "      <td>3.00000</td>\n",
       "      <td>36.000000</td>\n",
       "      <td>1.000000</td>\n",
       "      <td>1.00000</td>\n",
       "      <td>0.000000</td>\n",
       "    </tr>\n",
       "    <tr>\n",
       "      <th>75%</th>\n",
       "      <td>29.000000</td>\n",
       "      <td>5334.500000</td>\n",
       "      <td>4.000000</td>\n",
       "      <td>4.00000</td>\n",
       "      <td>44.000000</td>\n",
       "      <td>2.000000</td>\n",
       "      <td>1.00000</td>\n",
       "      <td>1.000000</td>\n",
       "    </tr>\n",
       "    <tr>\n",
       "      <th>max</th>\n",
       "      <td>64.000000</td>\n",
       "      <td>11676.000000</td>\n",
       "      <td>6.000000</td>\n",
       "      <td>6.00000</td>\n",
       "      <td>74.000000</td>\n",
       "      <td>4.000000</td>\n",
       "      <td>2.00000</td>\n",
       "      <td>1.000000</td>\n",
       "    </tr>\n",
       "  </tbody>\n",
       "</table>\n",
       "</div>"
      ],
      "text/plain": [
       "       LoanDuration    LoanAmount  InstallmentPercent  \\\n",
       "count   3995.000000   3995.000000         3995.000000   \n",
       "mean      21.395745   3488.971464            2.977222   \n",
       "std       11.175001   2500.504918            1.130774   \n",
       "min        4.000000    250.000000            1.000000   \n",
       "25%       12.500000   1328.000000            2.000000   \n",
       "50%       21.000000   3237.000000            3.000000   \n",
       "75%       29.000000   5334.500000            4.000000   \n",
       "max       64.000000  11676.000000            6.000000   \n",
       "\n",
       "       CurrentResidenceDuration          Age  ExistingCreditsCount  \\\n",
       "count                3995.00000  3995.000000           3995.000000   \n",
       "mean                    2.84781    35.979224              1.472340   \n",
       "std                     1.12105    10.678289              0.567809   \n",
       "min                     1.00000    19.000000              1.000000   \n",
       "25%                     2.00000    28.000000              1.000000   \n",
       "50%                     3.00000    36.000000              1.000000   \n",
       "75%                     4.00000    44.000000              2.000000   \n",
       "max                     6.00000    74.000000              4.000000   \n",
       "\n",
       "       Dependents         Risk  \n",
       "count  3995.00000  3995.000000  \n",
       "mean      1.16821     0.330914  \n",
       "std       0.37410     0.470601  \n",
       "min       1.00000     0.000000  \n",
       "25%       1.00000     0.000000  \n",
       "50%       1.00000     0.000000  \n",
       "75%       1.00000     1.000000  \n",
       "max       2.00000     1.000000  "
      ]
     },
     "execution_count": 9,
     "metadata": {},
     "output_type": "execute_result"
    }
   ],
   "source": [
    "train_data.describe()"
   ]
  },
  {
   "cell_type": "code",
   "execution_count": 10,
   "metadata": {
    "id": "08be57ad-b834-42f8-bb29-4f66474a0b3b",
    "tags": []
   },
   "outputs": [
    {
     "data": {
      "text/html": [
       "<div>\n",
       "<style scoped>\n",
       "    .dataframe tbody tr th:only-of-type {\n",
       "        vertical-align: middle;\n",
       "    }\n",
       "\n",
       "    .dataframe tbody tr th {\n",
       "        vertical-align: top;\n",
       "    }\n",
       "\n",
       "    .dataframe thead th {\n",
       "        text-align: right;\n",
       "    }\n",
       "</style>\n",
       "<table border=\"1\" class=\"dataframe\">\n",
       "  <thead>\n",
       "    <tr style=\"text-align: right;\">\n",
       "      <th></th>\n",
       "      <th>CheckingStatus</th>\n",
       "      <th>CreditHistory</th>\n",
       "      <th>LoanPurpose</th>\n",
       "      <th>ExistingSavings</th>\n",
       "      <th>EmploymentDuration</th>\n",
       "      <th>Sex</th>\n",
       "      <th>OthersOnLoan</th>\n",
       "      <th>OwnsProperty</th>\n",
       "      <th>InstallmentPlans</th>\n",
       "      <th>Housing</th>\n",
       "      <th>Job</th>\n",
       "      <th>Telephone</th>\n",
       "      <th>ForeignWorker</th>\n",
       "    </tr>\n",
       "  </thead>\n",
       "  <tbody>\n",
       "    <tr>\n",
       "      <th>0</th>\n",
       "      <td>less_0</td>\n",
       "      <td>credits_paid_to_date</td>\n",
       "      <td>car_new</td>\n",
       "      <td>less_100</td>\n",
       "      <td>1_to_4</td>\n",
       "      <td>female</td>\n",
       "      <td>none</td>\n",
       "      <td>savings_insurance</td>\n",
       "      <td>stores</td>\n",
       "      <td>own</td>\n",
       "      <td>skilled</td>\n",
       "      <td>none</td>\n",
       "      <td>yes</td>\n",
       "    </tr>\n",
       "    <tr>\n",
       "      <th>1</th>\n",
       "      <td>less_0</td>\n",
       "      <td>prior_payments_delayed</td>\n",
       "      <td>furniture</td>\n",
       "      <td>less_100</td>\n",
       "      <td>1_to_4</td>\n",
       "      <td>male</td>\n",
       "      <td>none</td>\n",
       "      <td>real_estate</td>\n",
       "      <td>none</td>\n",
       "      <td>own</td>\n",
       "      <td>skilled</td>\n",
       "      <td>yes</td>\n",
       "      <td>no</td>\n",
       "    </tr>\n",
       "    <tr>\n",
       "      <th>2</th>\n",
       "      <td>no_checking</td>\n",
       "      <td>prior_payments_delayed</td>\n",
       "      <td>education</td>\n",
       "      <td>500_to_1000</td>\n",
       "      <td>greater_7</td>\n",
       "      <td>male</td>\n",
       "      <td>none</td>\n",
       "      <td>unknown</td>\n",
       "      <td>none</td>\n",
       "      <td>own</td>\n",
       "      <td>skilled</td>\n",
       "      <td>none</td>\n",
       "      <td>yes</td>\n",
       "    </tr>\n",
       "    <tr>\n",
       "      <th>3</th>\n",
       "      <td>no_checking</td>\n",
       "      <td>prior_payments_delayed</td>\n",
       "      <td>car_new</td>\n",
       "      <td>100_to_500</td>\n",
       "      <td>4_to_7</td>\n",
       "      <td>male</td>\n",
       "      <td>none</td>\n",
       "      <td>savings_insurance</td>\n",
       "      <td>none</td>\n",
       "      <td>own</td>\n",
       "      <td>management_self-employed</td>\n",
       "      <td>none</td>\n",
       "      <td>yes</td>\n",
       "    </tr>\n",
       "    <tr>\n",
       "      <th>4</th>\n",
       "      <td>0_to_200</td>\n",
       "      <td>credits_paid_to_date</td>\n",
       "      <td>car_new</td>\n",
       "      <td>less_100</td>\n",
       "      <td>less_1</td>\n",
       "      <td>female</td>\n",
       "      <td>none</td>\n",
       "      <td>savings_insurance</td>\n",
       "      <td>none</td>\n",
       "      <td>own</td>\n",
       "      <td>management_self-employed</td>\n",
       "      <td>none</td>\n",
       "      <td>yes</td>\n",
       "    </tr>\n",
       "  </tbody>\n",
       "</table>\n",
       "</div>"
      ],
      "text/plain": [
       "  CheckingStatus           CreditHistory LoanPurpose ExistingSavings  \\\n",
       "0         less_0    credits_paid_to_date     car_new        less_100   \n",
       "1         less_0  prior_payments_delayed   furniture        less_100   \n",
       "2    no_checking  prior_payments_delayed   education     500_to_1000   \n",
       "3    no_checking  prior_payments_delayed     car_new      100_to_500   \n",
       "4       0_to_200    credits_paid_to_date     car_new        less_100   \n",
       "\n",
       "  EmploymentDuration     Sex OthersOnLoan       OwnsProperty InstallmentPlans  \\\n",
       "0             1_to_4  female         none  savings_insurance           stores   \n",
       "1             1_to_4    male         none        real_estate             none   \n",
       "2          greater_7    male         none            unknown             none   \n",
       "3             4_to_7    male         none  savings_insurance             none   \n",
       "4             less_1  female         none  savings_insurance             none   \n",
       "\n",
       "  Housing                       Job Telephone ForeignWorker  \n",
       "0     own                   skilled      none           yes  \n",
       "1     own                   skilled       yes            no  \n",
       "2     own                   skilled      none           yes  \n",
       "3     own  management_self-employed      none           yes  \n",
       "4     own  management_self-employed      none           yes  "
      ]
     },
     "execution_count": 10,
     "metadata": {},
     "output_type": "execute_result"
    }
   ],
   "source": [
    "object_df = train_data.select_dtypes('O')\n",
    "object_df.head()"
   ]
  },
  {
   "cell_type": "code",
   "execution_count": 11,
   "metadata": {
    "id": "c3bf8612-3433-4810-b5c5-3b6d9d23d57d",
    "tags": []
   },
   "outputs": [
    {
     "data": {
      "text/plain": [
       "['ForeignWorker',\n",
       " 'Telephone',\n",
       " 'OthersOnLoan',\n",
       " 'ExistingSavings',\n",
       " 'Job',\n",
       " 'LoanPurpose',\n",
       " 'InstallmentPlans',\n",
       " 'Sex',\n",
       " 'CheckingStatus',\n",
       " 'CreditHistory',\n",
       " 'OwnsProperty',\n",
       " 'Housing',\n",
       " 'EmploymentDuration']"
      ]
     },
     "execution_count": 11,
     "metadata": {},
     "output_type": "execute_result"
    }
   ],
   "source": [
    "object_cols = list(set(object_df.columns.tolist()) - set(['Risk']))\n",
    "object_cols"
   ]
  },
  {
   "cell_type": "code",
   "execution_count": 12,
   "metadata": {
    "id": "27f48dcb-7dee-44a8-b8ed-2ed58385912f",
    "tags": []
   },
   "outputs": [],
   "source": [
    "numerical_columns = [col for col in train_data.columns.tolist() if col not in object_cols and col!='Risk']"
   ]
  },
  {
   "cell_type": "markdown",
   "metadata": {
    "id": "10c03047-c200-4f7e-91e6-0bdb31554fea"
   },
   "source": [
    "## Load Test Data "
   ]
  },
  {
   "cell_type": "code",
   "execution_count": 13,
   "metadata": {
    "id": "ca4e5bb6-b11e-48cd-8457-a127a60b06c8",
    "tags": []
   },
   "outputs": [
    {
     "data": {
      "text/html": [
       "<div>\n",
       "<style scoped>\n",
       "    .dataframe tbody tr th:only-of-type {\n",
       "        vertical-align: middle;\n",
       "    }\n",
       "\n",
       "    .dataframe tbody tr th {\n",
       "        vertical-align: top;\n",
       "    }\n",
       "\n",
       "    .dataframe thead th {\n",
       "        text-align: right;\n",
       "    }\n",
       "</style>\n",
       "<table border=\"1\" class=\"dataframe\">\n",
       "  <thead>\n",
       "    <tr style=\"text-align: right;\">\n",
       "      <th></th>\n",
       "      <th>CheckingStatus</th>\n",
       "      <th>LoanDuration</th>\n",
       "      <th>CreditHistory</th>\n",
       "      <th>LoanPurpose</th>\n",
       "      <th>LoanAmount</th>\n",
       "      <th>ExistingSavings</th>\n",
       "      <th>EmploymentDuration</th>\n",
       "      <th>InstallmentPercent</th>\n",
       "      <th>Sex</th>\n",
       "      <th>OthersOnLoan</th>\n",
       "      <th>...</th>\n",
       "      <th>OwnsProperty</th>\n",
       "      <th>Age</th>\n",
       "      <th>InstallmentPlans</th>\n",
       "      <th>Housing</th>\n",
       "      <th>ExistingCreditsCount</th>\n",
       "      <th>Job</th>\n",
       "      <th>Dependents</th>\n",
       "      <th>Telephone</th>\n",
       "      <th>ForeignWorker</th>\n",
       "      <th>Risk</th>\n",
       "    </tr>\n",
       "  </thead>\n",
       "  <tbody>\n",
       "    <tr>\n",
       "      <th>0</th>\n",
       "      <td>0_to_200</td>\n",
       "      <td>31</td>\n",
       "      <td>credits_paid_to_date</td>\n",
       "      <td>other</td>\n",
       "      <td>1889</td>\n",
       "      <td>100_to_500</td>\n",
       "      <td>less_1</td>\n",
       "      <td>3</td>\n",
       "      <td>female</td>\n",
       "      <td>none</td>\n",
       "      <td>...</td>\n",
       "      <td>savings_insurance</td>\n",
       "      <td>32</td>\n",
       "      <td>none</td>\n",
       "      <td>own</td>\n",
       "      <td>1</td>\n",
       "      <td>skilled</td>\n",
       "      <td>1</td>\n",
       "      <td>none</td>\n",
       "      <td>yes</td>\n",
       "      <td>0</td>\n",
       "    </tr>\n",
       "    <tr>\n",
       "      <th>1</th>\n",
       "      <td>0_to_200</td>\n",
       "      <td>28</td>\n",
       "      <td>credits_paid_to_date</td>\n",
       "      <td>retraining</td>\n",
       "      <td>3693</td>\n",
       "      <td>less_100</td>\n",
       "      <td>greater_7</td>\n",
       "      <td>3</td>\n",
       "      <td>male</td>\n",
       "      <td>none</td>\n",
       "      <td>...</td>\n",
       "      <td>savings_insurance</td>\n",
       "      <td>32</td>\n",
       "      <td>none</td>\n",
       "      <td>own</td>\n",
       "      <td>1</td>\n",
       "      <td>skilled</td>\n",
       "      <td>1</td>\n",
       "      <td>none</td>\n",
       "      <td>yes</td>\n",
       "      <td>0</td>\n",
       "    </tr>\n",
       "    <tr>\n",
       "      <th>2</th>\n",
       "      <td>no_checking</td>\n",
       "      <td>32</td>\n",
       "      <td>outstanding_credit</td>\n",
       "      <td>vacation</td>\n",
       "      <td>9604</td>\n",
       "      <td>500_to_1000</td>\n",
       "      <td>greater_7</td>\n",
       "      <td>6</td>\n",
       "      <td>male</td>\n",
       "      <td>co-applicant</td>\n",
       "      <td>...</td>\n",
       "      <td>unknown</td>\n",
       "      <td>57</td>\n",
       "      <td>none</td>\n",
       "      <td>free</td>\n",
       "      <td>2</td>\n",
       "      <td>skilled</td>\n",
       "      <td>2</td>\n",
       "      <td>yes</td>\n",
       "      <td>yes</td>\n",
       "      <td>1</td>\n",
       "    </tr>\n",
       "    <tr>\n",
       "      <th>3</th>\n",
       "      <td>less_0</td>\n",
       "      <td>16</td>\n",
       "      <td>credits_paid_to_date</td>\n",
       "      <td>vacation</td>\n",
       "      <td>3109</td>\n",
       "      <td>less_100</td>\n",
       "      <td>4_to_7</td>\n",
       "      <td>3</td>\n",
       "      <td>female</td>\n",
       "      <td>none</td>\n",
       "      <td>...</td>\n",
       "      <td>car_other</td>\n",
       "      <td>36</td>\n",
       "      <td>none</td>\n",
       "      <td>own</td>\n",
       "      <td>2</td>\n",
       "      <td>skilled</td>\n",
       "      <td>1</td>\n",
       "      <td>none</td>\n",
       "      <td>yes</td>\n",
       "      <td>0</td>\n",
       "    </tr>\n",
       "    <tr>\n",
       "      <th>4</th>\n",
       "      <td>0_to_200</td>\n",
       "      <td>15</td>\n",
       "      <td>prior_payments_delayed</td>\n",
       "      <td>furniture</td>\n",
       "      <td>250</td>\n",
       "      <td>500_to_1000</td>\n",
       "      <td>4_to_7</td>\n",
       "      <td>3</td>\n",
       "      <td>male</td>\n",
       "      <td>none</td>\n",
       "      <td>...</td>\n",
       "      <td>savings_insurance</td>\n",
       "      <td>24</td>\n",
       "      <td>none</td>\n",
       "      <td>own</td>\n",
       "      <td>2</td>\n",
       "      <td>skilled</td>\n",
       "      <td>2</td>\n",
       "      <td>yes</td>\n",
       "      <td>yes</td>\n",
       "      <td>0</td>\n",
       "    </tr>\n",
       "  </tbody>\n",
       "</table>\n",
       "<p>5 rows × 21 columns</p>\n",
       "</div>"
      ],
      "text/plain": [
       "  CheckingStatus  LoanDuration           CreditHistory LoanPurpose  \\\n",
       "0       0_to_200            31    credits_paid_to_date       other   \n",
       "1       0_to_200            28    credits_paid_to_date  retraining   \n",
       "2    no_checking            32      outstanding_credit    vacation   \n",
       "3         less_0            16    credits_paid_to_date    vacation   \n",
       "4       0_to_200            15  prior_payments_delayed   furniture   \n",
       "\n",
       "   LoanAmount ExistingSavings EmploymentDuration  InstallmentPercent     Sex  \\\n",
       "0        1889      100_to_500             less_1                   3  female   \n",
       "1        3693        less_100          greater_7                   3    male   \n",
       "2        9604     500_to_1000          greater_7                   6    male   \n",
       "3        3109        less_100             4_to_7                   3  female   \n",
       "4         250     500_to_1000             4_to_7                   3    male   \n",
       "\n",
       "   OthersOnLoan  ...       OwnsProperty Age  InstallmentPlans Housing  \\\n",
       "0          none  ...  savings_insurance  32              none     own   \n",
       "1          none  ...  savings_insurance  32              none     own   \n",
       "2  co-applicant  ...            unknown  57              none    free   \n",
       "3          none  ...          car_other  36              none     own   \n",
       "4          none  ...  savings_insurance  24              none     own   \n",
       "\n",
       "  ExistingCreditsCount      Job Dependents  Telephone ForeignWorker Risk  \n",
       "0                    1  skilled          1       none           yes    0  \n",
       "1                    1  skilled          1       none           yes    0  \n",
       "2                    2  skilled          2        yes           yes    1  \n",
       "3                    2  skilled          1       none           yes    0  \n",
       "4                    2  skilled          2        yes           yes    0  \n",
       "\n",
       "[5 rows x 21 columns]"
      ]
     },
     "execution_count": 13,
     "metadata": {},
     "output_type": "execute_result"
    }
   ],
   "source": [
    "test_data = load_data_from_filesystem(test_data_path)\n",
    "test_data.head()"
   ]
  },
  {
   "cell_type": "markdown",
   "metadata": {
    "id": "f31f399e-904c-49f0-9e2b-12b042d8e8b1"
   },
   "source": [
    "## Split X and Y "
   ]
  },
  {
   "cell_type": "code",
   "execution_count": null,
   "metadata": {
    "id": "2dfd43ce-7cb2-4db1-b76d-d2ab6c796b2c",
    "tags": []
   },
   "outputs": [],
   "source": [
    "y_train = train_data['Risk']\n",
    "X_train = train_data.drop(\"Risk\",axis=1)\n",
    "\n",
    "\n",
    "y_test = test_data['Risk']\n",
    "X_test = test_data.drop(\"Risk\",axis=1)"
   ]
  },
  {
   "cell_type": "markdown",
   "metadata": {
    "id": "0af40507-eb8d-4e9c-a263-ab624f657375"
   },
   "source": [
    "## Categorcial Feature Analysis "
   ]
  },
  {
   "cell_type": "code",
   "execution_count": 15,
   "metadata": {
    "id": "f97b9595-c499-4dbd-b143-85310dfa73bd",
    "tags": []
   },
   "outputs": [],
   "source": [
    "def prepare_input_data(X_train, X_test):\n",
    "    oe = OrdinalEncoder()\n",
    "    oe.fit(X_train)\n",
    "    X_train_enc = oe.transform(X_train)\n",
    "    X_test_enc = oe.transform(X_test)\n",
    "    return X_train_enc, X_test_enc\n",
    "\n",
    "\n",
    "def prepare_output_data(y_train, y_test):\n",
    "    le = LabelEncoder()\n",
    "    le.fit(y_train)\n",
    "    y_train_enc = le.transform(y_train)\n",
    "    y_test_enc = le.transform(y_test)\n",
    "    return y_train_enc, y_test_enc\n",
    "\n",
    "\n",
    "def select_best_chi2_features(X_train, y_train, X_test,score_func=chi2):\n",
    "    featureselector = SelectKBest(score_func=chi2, k='all')\n",
    "    featureselector.fit(X_train, y_train)\n",
    "    X_train_best_feat = featureselector.transform(X_train)\n",
    "    X_test_best_feat= featureselector.transform(X_test)\n",
    "    return X_train_best_feat, X_test_best_feat, featureselector\n",
    "\n",
    "\n",
    "def select_best_mutualinf_features(X_train, y_train, X_test,k=5):\n",
    "    featureselector = SelectKBest(score_func=mutual_info_classif, k=k)\n",
    "    featureselector.fit(X_train, y_train)\n",
    "    X_train_best_feat = fs.transform(X_train)\n",
    "    X_test_best_feat= fs.transform(X_test)\n",
    "    return X_train_best_feat, X_test_best_feat, featureselector\n",
    "\n",
    "# def plot_scores():\n",
    "#     plt.figure(figsize=(14, 12))\n",
    "#     plt.subplot(221)\n",
    "\n",
    "#     ax1 = sns.barplot([i for i in range(len(fs.scores_))], fs.scores_)\n",
    "#     ax1.set_title(\"Chi2 Importance Scores\", fontsize=20)\n",
    "#     ax1.set_xlabel(\"Features\",fontsize=15)\n",
    "#     ax1.set_ylabel(\"Chi2 Scores\",fontsize=15)\n",
    "    \n",
    "    \n",
    "def get_top_k_catgeorical(fs,train_cat,k=10):\n",
    "    fs_score_map = {}\n",
    "    for i in range(len(fs.scores_)):\n",
    "        #print(f\"Feature {train_cat.columns.tolist()[i]} {fs.scores_[i]}\")\n",
    "        fs_score_map[train_cat.columns.tolist()[i]] = fs.scores_[i]\n",
    "        \n",
    "    k_keys_sorted_by_values = heapq.nlargest(k, fs_score_map, key=fs_score_map.get)\n",
    "    \n",
    "    return k_keys_sorted_by_values"
   ]
  },
  {
   "cell_type": "markdown",
   "metadata": {
    "id": "660e9d2f-34db-4ecc-9fd5-970462fc2009"
   },
   "source": [
    "## Encode and shape the Variables "
   ]
  },
  {
   "cell_type": "code",
   "execution_count": 16,
   "metadata": {
    "id": "01ed54fe-7afa-4bc4-a37b-b85e6bf6cdc4",
    "tags": []
   },
   "outputs": [],
   "source": [
    "X_train_enc, X_test_enc = prepare_input_data(X_train[object_cols], X_test[object_cols])\n",
    "\n",
    "y_train_enc, y_test_enc = prepare_output_data(y_train, y_test)\n",
    "\n",
    "X_train_fs, X_test_fs, fs = select_best_chi2_features(X_train_enc, y_train_enc, X_test_enc)\n",
    "\n",
    "# plot_scores()\n"
   ]
  },
  {
   "cell_type": "markdown",
   "metadata": {
    "id": "8b210746-a131-4ac1-84db-105848cdbf8e"
   },
   "source": [
    "## Top K Categorical Features  based on Chi2"
   ]
  },
  {
   "cell_type": "code",
   "execution_count": 17,
   "metadata": {
    "id": "889c067d-bbb9-4655-8c52-03769449b649",
    "tags": []
   },
   "outputs": [
    {
     "data": {
      "text/plain": [
       "['CreditHistory',\n",
       " 'Telephone',\n",
       " 'CheckingStatus',\n",
       " 'Housing',\n",
       " 'OthersOnLoan',\n",
       " 'OwnsProperty',\n",
       " 'LoanPurpose',\n",
       " 'ExistingSavings',\n",
       " 'EmploymentDuration',\n",
       " 'Job']"
      ]
     },
     "execution_count": 17,
     "metadata": {},
     "output_type": "execute_result"
    }
   ],
   "source": [
    "top_k_cat = get_top_k_catgeorical(fs,X_train[object_cols])\n",
    "top_k_cat"
   ]
  },
  {
   "cell_type": "markdown",
   "metadata": {
    "id": "0a017731-d213-43da-8fbb-67b98b28f8a8"
   },
   "source": [
    "## Top K Categorical Features  based on Mutual Information Feature Selection"
   ]
  },
  {
   "cell_type": "code",
   "execution_count": 18,
   "metadata": {
    "id": "ccb4d703-e822-4e9d-b66b-bc19c0ea94e3",
    "tags": []
   },
   "outputs": [],
   "source": [
    "X_train_enc_mf, X_test_enc_mf = prepare_input_data(X_train[object_cols], X_test[object_cols])\n",
    "\n",
    "y_train_enc_mf, y_test_enc_mf = prepare_output_data(y_train, y_test)\n",
    "\n",
    "X_train_fs_mf, X_test_fs_mf, fs_mf = select_best_chi2_features(X_train_enc_mf, y_train_enc_mf, X_test_enc_mf)\n",
    "\n",
    "# plot_scores()"
   ]
  },
  {
   "cell_type": "code",
   "execution_count": 19,
   "metadata": {
    "id": "577ace08-4e4f-4a97-a56c-7d26b610bec0",
    "tags": []
   },
   "outputs": [
    {
     "data": {
      "text/plain": [
       "['CreditHistory',\n",
       " 'Telephone',\n",
       " 'CheckingStatus',\n",
       " 'Housing',\n",
       " 'OthersOnLoan',\n",
       " 'OwnsProperty',\n",
       " 'LoanPurpose',\n",
       " 'ExistingSavings',\n",
       " 'EmploymentDuration',\n",
       " 'Job']"
      ]
     },
     "execution_count": 19,
     "metadata": {},
     "output_type": "execute_result"
    }
   ],
   "source": [
    "top_k_cat_mf = get_top_k_catgeorical(fs_mf,X_train[object_cols])\n",
    "top_k_cat_mf"
   ]
  },
  {
   "cell_type": "code",
   "execution_count": 20,
   "metadata": {
    "id": "faefd6b2-000e-4545-8607-e8ed0efbe772",
    "tags": []
   },
   "outputs": [
    {
     "data": {
      "text/plain": [
       "['Telephone',\n",
       " 'OthersOnLoan',\n",
       " 'ExistingSavings',\n",
       " 'Job',\n",
       " 'LoanPurpose',\n",
       " 'CheckingStatus',\n",
       " 'CreditHistory',\n",
       " 'OwnsProperty',\n",
       " 'Housing',\n",
       " 'EmploymentDuration',\n",
       " 'Sex']"
      ]
     },
     "execution_count": 20,
     "metadata": {},
     "output_type": "execute_result"
    }
   ],
   "source": [
    "union_features = list(set(top_k_cat+top_k_cat_mf))\n",
    "if \"Sex\" not in union_features:\n",
    "    union_features.append(\"Sex\")\n",
    "union_features"
   ]
  },
  {
   "cell_type": "markdown",
   "metadata": {
    "id": "74b9d9c5-636d-4504-841b-53ef8e072462"
   },
   "source": [
    "## Filter the Top K Categorical features and Merge to Original Train and Test Dataframes"
   ]
  },
  {
   "cell_type": "code",
   "execution_count": 21,
   "metadata": {
    "id": "54680c6a-59b4-447e-bfda-cf0ac7076aef",
    "tags": []
   },
   "outputs": [],
   "source": [
    "X_train_object_filtered = X_train[union_features]\n",
    "X_test_object_filtered = X_test[union_features]\n",
    "\n",
    "X_train_final = pd.concat([X_train[numerical_columns],X_train_object_filtered],axis=1)\n",
    "\n",
    "X_test_final = pd.concat([X_test[numerical_columns],X_test_object_filtered],axis=1)"
   ]
  },
  {
   "cell_type": "markdown",
   "metadata": {
    "id": "c997be4b-7089-49f6-b51a-048d8003e0bc"
   },
   "source": [
    "## Use Column Transformer and Pipelines to encode the Input and Output Variables . Scale the Numerical columns using MinMaxScaler."
   ]
  },
  {
   "cell_type": "code",
   "execution_count": 22,
   "metadata": {
    "id": "c2b11376-2c27-47e6-ba1e-db772d63ca12",
    "tags": []
   },
   "outputs": [],
   "source": [
    "numerical_ix = X_train_final.select_dtypes(include=['int64', 'float64']).columns\n",
    "categorical_ix = X_train_final.select_dtypes(include=['object', 'bool']).columns"
   ]
  },
  {
   "cell_type": "code",
   "execution_count": null,
   "metadata": {
    "id": "b2b5304f-43f4-4509-bf06-9d901fe6b666",
    "tags": []
   },
   "outputs": [],
   "source": [
    "encoding_steps = [('cat', OrdinalEncoder(), categorical_ix), ('num', MinMaxScaler(), numerical_ix)]\n",
    "col_transform = ColumnTransformer(transformers=encoding_steps)"
   ]
  },
  {
   "cell_type": "code",
   "execution_count": 24,
   "metadata": {
    "id": "40b974d3-afc0-46a0-a490-01984513cdae",
    "tags": []
   },
   "outputs": [],
   "source": [
    "pipeline = Pipeline(steps=[('prep',col_transform)])"
   ]
  },
  {
   "cell_type": "code",
   "execution_count": 25,
   "metadata": {
    "id": "221e73d5-e43a-4a1e-a4b0-1203a67ce96e",
    "tags": []
   },
   "outputs": [],
   "source": [
    "train_final = pd.concat([X_train_final,y_train],axis=1)"
   ]
  },
  {
   "cell_type": "code",
   "execution_count": 26,
   "metadata": {
    "id": "2b074997-65a5-4e8a-8ab5-c8594938c4ae",
    "tags": []
   },
   "outputs": [],
   "source": [
    "test_final = pd.concat([X_test_final,y_test],axis=1)"
   ]
  },
  {
   "cell_type": "code",
   "execution_count": 27,
   "metadata": {
    "id": "6d346720-aa42-4c4d-9039-192faa596be7",
    "tags": []
   },
   "outputs": [],
   "source": [
    "#encoded_train = pd.DataFrame(pipeline.fit_transform(X_train_final),columns=X_train_final.columns)"
   ]
  },
  {
   "cell_type": "code",
   "execution_count": 28,
   "metadata": {
    "id": "86449660-44f5-4eae-95ca-a57e886483ab",
    "tags": []
   },
   "outputs": [],
   "source": [
    "#encoded_test = pd.DataFrame(pipeline.transform(X_test_final),columns=X_test_final.columns)"
   ]
  },
  {
   "cell_type": "markdown",
   "metadata": {
    "id": "ad254eee-5c2d-4f2f-802b-9bea72d23d16"
   },
   "source": [
    "## Save the Prepared Data to IBM COS"
   ]
  },
  {
   "cell_type": "code",
   "execution_count": 29,
   "metadata": {
    "id": "4ac74b08-e76a-435c-8ded-95a4e6907e4b",
    "tags": []
   },
   "outputs": [
    {
     "name": "stdout",
     "output_type": "stream",
     "text": [
      "File mlops-dir/train_gcr.csv persisted successfully as csv\n"
     ]
    }
   ],
   "source": [
    "save_data_in_filesystem(df=train_final, filename=train_data_path)"
   ]
  },
  {
   "cell_type": "code",
   "execution_count": 30,
   "metadata": {
    "id": "5de8e8a2-0401-4fcf-bf1d-e64f9d15c325",
    "tags": []
   },
   "outputs": [
    {
     "name": "stdout",
     "output_type": "stream",
     "text": [
      "File mlops-dir/test_gcr.csv persisted successfully as csv\n"
     ]
    }
   ],
   "source": [
    "save_data_in_filesystem(df=test_final, filename=test_data_path)"
   ]
  },
  {
   "cell_type": "code",
   "execution_count": 31,
   "metadata": {
    "id": "17576e9f-73ee-422c-8c41-df8debc9a743",
    "tags": []
   },
   "outputs": [
    {
     "name": "stdout",
     "output_type": "stream",
     "text": [
      "File feature_encode.pickle pickled successfully\n"
     ]
    }
   ],
   "source": [
    "pipeline_path = os.path.join(path, pipeline_filename)\n",
    "save_data_in_filesystem(df=pipeline, filename=pipeline_path)"
   ]
  },
  {
   "cell_type": "markdown",
   "metadata": {
    "id": "b3b2d02f-82bf-4021-8c4d-1a80e8f9d393"
   },
   "source": [
    "## Check if files have been copied "
   ]
  },
  {
   "cell_type": "code",
   "execution_count": null,
   "metadata": {
    "id": "c50b68a4-00b7-474a-9b8b-e750eb28a93d",
    "tags": []
   },
   "outputs": [],
   "source": [
    "data_prep_done = check_for_file_in_filesystem(train_data_path) and check_for_file_in_filesystem(test_data_path) and check_for_file_in_filesystem(pipeline_path)\n",
    "data_prep_done"
   ]
  },
  {
   "cell_type": "markdown",
   "metadata": {
    "id": "da0ba538-74ac-45ff-a262-0a6420ff8759"
   },
   "source": [
    "## Store Params in WS Pipelines"
   ]
  },
  {
   "cell_type": "code",
   "execution_count": 34,
   "metadata": {
    "id": "e977c379-c462-4e9e-91c5-3ef319062156",
    "tags": []
   },
   "outputs": [
    {
     "name": "stdout",
     "output_type": "stream",
     "text": [
      "Running outside of Watson Studio Pipeline - storing results in the local filesystem for testing purposes...\n",
      "\n",
      "  output paths:\n",
      "    - \"data_prep_done\": .ibm_watson_studio_pipelines/results/data_prep_done\n",
      "    - \"pipeline_path\": .ibm_watson_studio_pipelines/results/pipeline_path\n"
     ]
    },
    {
     "name": "stderr",
     "output_type": "stream",
     "text": [
      "/opt/conda/envs/Python-3.10-Premium/lib/python3.10/site-packages/urllib3/connectionpool.py:1045: InsecureRequestWarning: Unverified HTTPS request is being made to host 'internal-nginx-svc.cp4d.svc.cluster.local'. Adding certificate verification is strongly advised. See: https://urllib3.readthedocs.io/en/1.26.x/advanced-usage.html#ssl-warnings\n",
      "  warnings.warn(\n"
     ]
    },
    {
     "data": {
      "text/plain": [
       "<ibm_cloud_sdk_core.detailed_response.DetailedResponse at 0x7f2619b190f0>"
      ]
     },
     "execution_count": 34,
     "metadata": {},
     "output_type": "execute_result"
    }
   ],
   "source": [
    "preparation_params = {}\n",
    "preparation_params['data_prep_done'] = data_prep_done\n",
    "preparation_params['pipeline_path'] = pipeline_filename\n",
    "\n",
    "pipelines_client = WSPipelines.from_token(TOKEN)\n",
    "pipelines_client.store_results(preparation_params)"
   ]
  }
 ],
 "metadata": {
  "kernelspec": {
   "display_name": "Python 3.10",
   "language": "python",
   "name": "python3"
  },
  "language_info": {
   "codemirror_mode": {
    "name": "ipython",
    "version": 3
   },
   "file_extension": ".py",
   "mimetype": "text/x-python",
   "name": "python",
   "nbconvert_exporter": "python",
   "pygments_lexer": "ipython3",
   "version": "3.10.6"
  },
  "vscode": {
   "interpreter": {
    "hash": "bd385fe162c5ca0c84973b7dd5c518456272446b2b64e67c2a69f949ca7a1754"
   }
  }
 },
 "nbformat": 4,
 "nbformat_minor": 4
}
