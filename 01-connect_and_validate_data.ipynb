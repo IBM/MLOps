{
 "cells": [
  {
   "cell_type": "markdown",
   "metadata": {
    "id": "9501e8a8-d435-4451-a8ae-513e984aafe9"
   },
   "source": [
    "## Connection and Data Validation Notebook"
   ]
  },
  {
   "cell_type": "markdown",
   "metadata": {
    "id": "b64a45cb-07f3-4a20-a863-6a17d9fb17c9"
   },
   "source": [
    "## Table of Contents\n",
    "* [Check for Training Data in Project Space](#DataCheck)\n",
    "    * [Load the Training Data from Db2 if it does not exist in the project space](#section_1_1)\n",
    "    \n",
    "    * [Check the connection and data loading](#section_1_2)\n",
    "  \n",
    "* [Data Validation](#chapter2)\n",
    "    * [Split the Data](#Optional)\n",
    "\n",
    "    * [Generate Training Stats on both Splits](#section_2_2)\n",
    "    * [Infer Schema on both Splits](#section_2_3) \n",
    "    * [Check for anomalies](#section_2_4) \n",
    "    * [Return a boolean to validate the tests](#section_3_1) \n"
   ]
  },
  {
   "cell_type": "markdown",
   "metadata": {
    "id": "f1f3c063-b384-4b66-8087-854e8e76d88c"
   },
   "source": [
    "## Imports"
   ]
  },
  {
   "cell_type": "code",
   "execution_count": null,
   "metadata": {
    "id": "34a50f5a-6d4c-4c7d-9277-0cd5a502695a"
   },
   "outputs": [],
   "source": [
    "!pip install tensorflow-data-validation"
   ]
  },
  {
   "cell_type": "code",
   "execution_count": null,
   "metadata": {
    "id": "05e70b86-c9cf-409d-9777-d88170aebe18"
   },
   "outputs": [],
   "source": [
    "!python3 --version"
   ]
  },
  {
   "cell_type": "code",
   "execution_count": null,
   "metadata": {
    "id": "026eacb6-5395-46e5-a456-35295c8f6323"
   },
   "outputs": [],
   "source": [
    "# this is a workaround as long as there are issues with custom python enviroments in multiple projects\n",
    "!pip install ibm_watson_studio_pipelines"
   ]
  },
  {
   "cell_type": "code",
   "execution_count": 32,
   "metadata": {
    "id": "fe00539c-a0ab-4769-ba7b-805adea59cf8",
    "tags": []
   },
   "outputs": [],
   "source": [
    "from botocore.client import Config\n",
    "from sklearn.model_selection import train_test_split\n",
    "from dataclasses import dataclass\n",
    "import tensorflow_data_validation as tfdv\n",
    "import numpy as np\n",
    "import pandas as pd\n",
    "from ibm_watson_studio_pipelines import WSPipelines\n",
    "import logging\n",
    "import os, types\n",
    "import warnings\n",
    "import requests\n",
    "\n",
    "warnings.filterwarnings(\"ignore\")"
   ]
  },
  {
   "cell_type": "markdown",
   "metadata": {
    "id": "062a2e71-ddbf-4c77-aaeb-d5aa7ac8d265"
   },
   "source": [
    "### Load the Credentials\n"
   ]
  },
  {
   "cell_type": "markdown",
   "metadata": {
    "id": "63ab6462-e420-4aea-93ee-4e0b80de3c9e"
   },
   "source": [
    "These environment variables are set in WS Pipelines"
   ]
  },
  {
   "cell_type": "code",
   "execution_count": 33,
   "metadata": {
    "id": "e875ff36-3235-43fb-8008-4bfb334c1325",
    "tags": []
   },
   "outputs": [],
   "source": [
    "TOKEN = os.getenv(\"USER_ACCESS_TOKEN\")"
   ]
  },
  {
   "cell_type": "code",
   "execution_count": 34,
   "metadata": {
    "id": "583927e9-c110-412a-812a-5d3b120bd594",
    "tags": []
   },
   "outputs": [],
   "source": [
    "training_file_path = \"german_credit_data_biased_training.csv\""
   ]
  },
  {
   "cell_type": "markdown",
   "metadata": {
    "id": "0d25efd1-cabd-4721-bb9d-461875a977db"
   },
   "source": [
    "## Check for Training Data in Project Space"
   ]
  },
  {
   "cell_type": "code",
   "execution_count": 39,
   "metadata": {
    "id": "ddbad934-b284-46ed-ae5f-90a0e7fc3800",
    "tags": []
   },
   "outputs": [],
   "source": [
    "def download_data_to_filesystem(training_file_path):\n",
    "        \n",
    "    url = \"https://raw.githubusercontent.com/IBM/monitor-wml-model-with-watson-openscale/master/data/german_credit_data_biased_training.csv\"\n",
    "    response = requests.get(url)\n",
    "\n",
    "    # Check if the request was successful\n",
    "    if response.status_code == 200:\n",
    "        with open(training_file_path, \"wb\") as file:\n",
    "            file.write(response.content)\n",
    "        print(\"Downloaded and saved as \"+training_file_path)\n",
    "    else:\n",
    "        print(\"Failed to download the CSV file. Status code:\", response.status_code)\n",
    "    \n",
    "\n",
    "def load_data_from_db2():\n",
    "    '''\n",
    "    currently not implemented due to issues with the flight service\n",
    "    '''\n",
    "    # data_request = {\n",
    "    #         'connection_name': \"\"\"DB2_DATA\"\"\",\n",
    "    #         'interaction_properties': {\n",
    "    #             'select_statement': 'SELECT * FROM \"CUSTOMER_DATA\".\"GERMAN_CREDIT_RISK_TRAINING\" FETCH FIRST 5000 ROWS ONLY'\n",
    "    #         }\n",
    "    #     }\n",
    "\n",
    "    # read_client = itcfs.get_flight_client()\n",
    "\n",
    "\n",
    "    # flightInfo = itcfs.get_flight_info(read_client, nb_data_request=data_request)\n",
    "\n",
    "    # df = itcfs.read_pandas_and_concat(read_client, flightInfo, timeout=240)\n",
    "    # create empty dataframe to have a valid return type\n",
    "    \n",
    "    # throw an exception to signal that this functionality is not available\n",
    "    raise Exception(\"Data not available\")\n"
   ]
  },
  {
   "cell_type": "code",
   "execution_count": 40,
   "metadata": {
    "id": "1b343151-c20f-41ba-b7b2-6cea3e9ca42a",
    "tags": []
   },
   "outputs": [],
   "source": [
    "def load_data():\n",
    "    try:\n",
    "        return load_data_from_db2()\n",
    "    except:\n",
    "        print(\"Error while loading data from db2. downloading csv file to filesystem instead\")\n",
    "\n",
    "    if os.path.isfile(training_file_path):\n",
    "        print(\"File already exists\")\n",
    "    else:\n",
    "        download_data_to_filesystem(training_file_path)\n",
    "    return pd.read_csv(training_file_path)"
   ]
  },
  {
   "cell_type": "markdown",
   "metadata": {
    "id": "d44e72ca-25cf-44c2-a8f4-4ad6eff50e4a"
   },
   "source": [
    "## Load the Training Data from Db2 if the file doesn't exist"
   ]
  },
  {
   "cell_type": "code",
   "execution_count": 42,
   "metadata": {
    "id": "0487c397-3d75-4292-ae6f-8f2cd4bb8f19",
    "tags": []
   },
   "outputs": [
    {
     "name": "stdout",
     "output_type": "stream",
     "text": [
      "Error while loading data from db2. downloading csv file to filesystem instead\n",
      "File already exists\n"
     ]
    },
    {
     "data": {
      "text/html": [
       "<div>\n",
       "<style scoped>\n",
       "    .dataframe tbody tr th:only-of-type {\n",
       "        vertical-align: middle;\n",
       "    }\n",
       "\n",
       "    .dataframe tbody tr th {\n",
       "        vertical-align: top;\n",
       "    }\n",
       "\n",
       "    .dataframe thead th {\n",
       "        text-align: right;\n",
       "    }\n",
       "</style>\n",
       "<table border=\"1\" class=\"dataframe\">\n",
       "  <thead>\n",
       "    <tr style=\"text-align: right;\">\n",
       "      <th></th>\n",
       "      <th>CheckingStatus</th>\n",
       "      <th>LoanDuration</th>\n",
       "      <th>CreditHistory</th>\n",
       "      <th>LoanPurpose</th>\n",
       "      <th>LoanAmount</th>\n",
       "      <th>ExistingSavings</th>\n",
       "      <th>EmploymentDuration</th>\n",
       "      <th>InstallmentPercent</th>\n",
       "      <th>Sex</th>\n",
       "      <th>OthersOnLoan</th>\n",
       "      <th>...</th>\n",
       "      <th>OwnsProperty</th>\n",
       "      <th>Age</th>\n",
       "      <th>InstallmentPlans</th>\n",
       "      <th>Housing</th>\n",
       "      <th>ExistingCreditsCount</th>\n",
       "      <th>Job</th>\n",
       "      <th>Dependents</th>\n",
       "      <th>Telephone</th>\n",
       "      <th>ForeignWorker</th>\n",
       "      <th>Risk</th>\n",
       "    </tr>\n",
       "  </thead>\n",
       "  <tbody>\n",
       "    <tr>\n",
       "      <th>0</th>\n",
       "      <td>0_to_200</td>\n",
       "      <td>31</td>\n",
       "      <td>credits_paid_to_date</td>\n",
       "      <td>other</td>\n",
       "      <td>1889</td>\n",
       "      <td>100_to_500</td>\n",
       "      <td>less_1</td>\n",
       "      <td>3</td>\n",
       "      <td>female</td>\n",
       "      <td>none</td>\n",
       "      <td>...</td>\n",
       "      <td>savings_insurance</td>\n",
       "      <td>32</td>\n",
       "      <td>none</td>\n",
       "      <td>own</td>\n",
       "      <td>1</td>\n",
       "      <td>skilled</td>\n",
       "      <td>1</td>\n",
       "      <td>none</td>\n",
       "      <td>yes</td>\n",
       "      <td>0</td>\n",
       "    </tr>\n",
       "    <tr>\n",
       "      <th>1</th>\n",
       "      <td>less_0</td>\n",
       "      <td>18</td>\n",
       "      <td>credits_paid_to_date</td>\n",
       "      <td>car_new</td>\n",
       "      <td>462</td>\n",
       "      <td>less_100</td>\n",
       "      <td>1_to_4</td>\n",
       "      <td>2</td>\n",
       "      <td>female</td>\n",
       "      <td>none</td>\n",
       "      <td>...</td>\n",
       "      <td>savings_insurance</td>\n",
       "      <td>37</td>\n",
       "      <td>stores</td>\n",
       "      <td>own</td>\n",
       "      <td>2</td>\n",
       "      <td>skilled</td>\n",
       "      <td>1</td>\n",
       "      <td>none</td>\n",
       "      <td>yes</td>\n",
       "      <td>0</td>\n",
       "    </tr>\n",
       "    <tr>\n",
       "      <th>2</th>\n",
       "      <td>less_0</td>\n",
       "      <td>15</td>\n",
       "      <td>prior_payments_delayed</td>\n",
       "      <td>furniture</td>\n",
       "      <td>250</td>\n",
       "      <td>less_100</td>\n",
       "      <td>1_to_4</td>\n",
       "      <td>2</td>\n",
       "      <td>male</td>\n",
       "      <td>none</td>\n",
       "      <td>...</td>\n",
       "      <td>real_estate</td>\n",
       "      <td>28</td>\n",
       "      <td>none</td>\n",
       "      <td>own</td>\n",
       "      <td>2</td>\n",
       "      <td>skilled</td>\n",
       "      <td>1</td>\n",
       "      <td>yes</td>\n",
       "      <td>no</td>\n",
       "      <td>0</td>\n",
       "    </tr>\n",
       "    <tr>\n",
       "      <th>3</th>\n",
       "      <td>0_to_200</td>\n",
       "      <td>28</td>\n",
       "      <td>credits_paid_to_date</td>\n",
       "      <td>retraining</td>\n",
       "      <td>3693</td>\n",
       "      <td>less_100</td>\n",
       "      <td>greater_7</td>\n",
       "      <td>3</td>\n",
       "      <td>male</td>\n",
       "      <td>none</td>\n",
       "      <td>...</td>\n",
       "      <td>savings_insurance</td>\n",
       "      <td>32</td>\n",
       "      <td>none</td>\n",
       "      <td>own</td>\n",
       "      <td>1</td>\n",
       "      <td>skilled</td>\n",
       "      <td>1</td>\n",
       "      <td>none</td>\n",
       "      <td>yes</td>\n",
       "      <td>0</td>\n",
       "    </tr>\n",
       "    <tr>\n",
       "      <th>4</th>\n",
       "      <td>no_checking</td>\n",
       "      <td>28</td>\n",
       "      <td>prior_payments_delayed</td>\n",
       "      <td>education</td>\n",
       "      <td>6235</td>\n",
       "      <td>500_to_1000</td>\n",
       "      <td>greater_7</td>\n",
       "      <td>3</td>\n",
       "      <td>male</td>\n",
       "      <td>none</td>\n",
       "      <td>...</td>\n",
       "      <td>unknown</td>\n",
       "      <td>57</td>\n",
       "      <td>none</td>\n",
       "      <td>own</td>\n",
       "      <td>2</td>\n",
       "      <td>skilled</td>\n",
       "      <td>1</td>\n",
       "      <td>none</td>\n",
       "      <td>yes</td>\n",
       "      <td>1</td>\n",
       "    </tr>\n",
       "  </tbody>\n",
       "</table>\n",
       "<p>5 rows × 21 columns</p>\n",
       "</div>"
      ],
      "text/plain": [
       "  CheckingStatus  LoanDuration           CreditHistory LoanPurpose  \\\n",
       "0       0_to_200            31    credits_paid_to_date       other   \n",
       "1         less_0            18    credits_paid_to_date     car_new   \n",
       "2         less_0            15  prior_payments_delayed   furniture   \n",
       "3       0_to_200            28    credits_paid_to_date  retraining   \n",
       "4    no_checking            28  prior_payments_delayed   education   \n",
       "\n",
       "   LoanAmount ExistingSavings EmploymentDuration  InstallmentPercent     Sex  \\\n",
       "0        1889      100_to_500             less_1                   3  female   \n",
       "1         462        less_100             1_to_4                   2  female   \n",
       "2         250        less_100             1_to_4                   2    male   \n",
       "3        3693        less_100          greater_7                   3    male   \n",
       "4        6235     500_to_1000          greater_7                   3    male   \n",
       "\n",
       "  OthersOnLoan  ...       OwnsProperty Age  InstallmentPlans Housing  \\\n",
       "0         none  ...  savings_insurance  32              none     own   \n",
       "1         none  ...  savings_insurance  37            stores     own   \n",
       "2         none  ...        real_estate  28              none     own   \n",
       "3         none  ...  savings_insurance  32              none     own   \n",
       "4         none  ...            unknown  57              none     own   \n",
       "\n",
       "  ExistingCreditsCount      Job Dependents  Telephone ForeignWorker Risk  \n",
       "0                    1  skilled          1       none           yes    0  \n",
       "1                    2  skilled          1       none           yes    0  \n",
       "2                    2  skilled          1        yes            no    0  \n",
       "3                    1  skilled          1       none           yes    0  \n",
       "4                    2  skilled          1       none           yes    1  \n",
       "\n",
       "[5 rows x 21 columns]"
      ]
     },
     "execution_count": 42,
     "metadata": {},
     "output_type": "execute_result"
    }
   ],
   "source": [
    "\n",
    "gcr_df = load_data()\n",
    "\n",
    "## Encode for ease of use with OpenScale\n",
    "gcr_df['Risk'] = gcr_df['Risk'].map({'Risk':1,'No Risk':0})\n",
    "gcr_df.head()"
   ]
  },
  {
   "cell_type": "markdown",
   "metadata": {
    "id": "e38d5859-3df7-4174-8f8c-a047c0dcdb3c"
   },
   "source": [
    "## Data Validation "
   ]
  },
  {
   "cell_type": "code",
   "execution_count": 43,
   "metadata": {
    "id": "37d30747-1f1d-42ad-ab50-6001740df627",
    "tags": []
   },
   "outputs": [],
   "source": [
    "@dataclass\n",
    "class Datavalidation:\n",
    "    \"\"\"\n",
    "    \n",
    "    Data Validation Class\n",
    "    \n",
    "    \"\"\"\n",
    "    dataframe : pd.DataFrame\n",
    "    mask_per :int\n",
    "    \n",
    "    \n",
    "    def split_data(self,seed=32):\n",
    "        \"\"\"\n",
    "        Split Data into Train and Test Splits\n",
    "        \n",
    "        \"\"\"\n",
    "        np.random.seed(seed)\n",
    "        mask = np.random.rand(len(self.dataframe)) <= self.mask_per\n",
    "        training_data = gcr_df[mask]\n",
    "        testing_data = gcr_df[~mask]\n",
    "\n",
    "        print(f\"No. of training examples: {training_data.shape[0]}\")\n",
    "        print(f\"No. of testing examples: {testing_data.shape[0]}\")\n",
    "        \n",
    "        return training_data, testing_data\n",
    "    \n",
    "    # TODO: Replace with Db2/fileystem\n",
    "    def save_data_in_filesystem(self,df,filename):\n",
    "        \"\"\"\n",
    "        Save Data in Filesystem\n",
    "\n",
    "        Passed filename should involve path\n",
    "\n",
    "        \"\"\"\n",
    "        try:\n",
    "            df.to_csv(filename,index=False)\n",
    "            print(f\"File {filename} persisted successfully\")\n",
    "        except Exception as e:\n",
    "            print(e)\n",
    "            print(f\"File serialization for {filename} failed\")\n",
    "    \n",
    "    def generate_statistics(self,df):\n",
    "        \"\"\"\n",
    "        \n",
    "        Generate Statistics on a given Dataframe\n",
    "        \n",
    "        \"\"\"\n",
    "        train_stats = tfdv.generate_statistics_from_dataframe(df)\n",
    "        tfdv.visualize_statistics(train_stats)\n",
    "        return train_stats\n",
    "    \n",
    "    def inferSchema(self,stats):\n",
    "        \n",
    "        \"\"\"\n",
    "        InferSchema on a given Dataframe\n",
    "        \n",
    "        \"\"\"\n",
    "        schema = tfdv.infer_schema(statistics=stats)\n",
    "        tfdv.display_schema(schema=schema)\n",
    "        return schema\n",
    "    \n",
    "    def compare_statistics(self,lhs,rhs):\n",
    "        \"\"\"\n",
    "        \n",
    "        Compare Statistics between a test dataframe and reference Schema\n",
    "        \n",
    "        \"\"\"\n",
    "        # Compare evaluation data with training data\n",
    "        tfdv.visualize_statistics(lhs_statistics=lhs, rhs_statistics=rhs,\n",
    "                                  lhs_name='TEST_DATASET', rhs_name='TRAIN_DATASET')\n",
    "        \n",
    "        \n",
    "    def check_for_anomalies(self,testable_stats,ref_schema):\n",
    "        \"\"\"\n",
    "        \n",
    "        Check for any anomalies based on statistics and schema and values\n",
    "        \n",
    "        \"\"\"\n",
    "        anomalies = tfdv.validate_statistics(statistics=testable_stats, schema=ref_schema)\n",
    "        tfdv.display_anomalies(anomalies)\n",
    "        if len(anomalies.anomaly_info.items()) > 0:\n",
    "            logger.error(\"Anomalies found in dataset...\")\n",
    "            logger.error(str(self.anomalies.anomaly_info.items()))\n",
    "            return True\n",
    "        else:\n",
    "            return False"
   ]
  },
  {
   "cell_type": "markdown",
   "metadata": {
    "id": "fff2bb05-abd0-4e0a-9727-d1127a617f57"
   },
   "source": [
    "###  Split Data into Train and Eval Splits to Check for Consistency"
   ]
  },
  {
   "cell_type": "code",
   "execution_count": 44,
   "metadata": {
    "id": "65163ff9-3193-4837-ab55-d66de3a5076f",
    "tags": []
   },
   "outputs": [
    {
     "name": "stdout",
     "output_type": "stream",
     "text": [
      "No. of training examples: 3995\n",
      "No. of testing examples: 1005\n"
     ]
    }
   ],
   "source": [
    "classvalidate = Datavalidation(dataframe=gcr_df,mask_per=0.8) \n",
    "\n",
    "training_data, testing_data = classvalidate.split_data()"
   ]
  },
  {
   "cell_type": "markdown",
   "metadata": {
    "id": "75029b2c-6341-4a59-957c-cbb2d33e3e39"
   },
   "source": [
    "## Generate Training Stats on both Splits"
   ]
  },
  {
   "cell_type": "code",
   "execution_count": 45,
   "metadata": {
    "id": "36a97f3f-3cd7-493d-8a4b-c3c87ae0710f",
    "tags": []
   },
   "outputs": [
    {
     "data": {
      "text/html": [
       "<iframe id='facets-iframe' width=\"100%\" height=\"500px\"></iframe>\n",
       "        <script>\n",
       "        facets_iframe = document.getElementById('facets-iframe');\n",
       "        facets_html = '<script src=\"https://cdnjs.cloudflare.com/ajax/libs/webcomponentsjs/1.3.3/webcomponents-lite.js\"><\\/script><link rel=\"import\" href=\"https://raw.githubusercontent.com/PAIR-code/facets/master/facets-dist/facets-jupyter.html\"><facets-overview proto-input=\"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\"></facets-overview>';\n",
       "        facets_iframe.srcdoc = facets_html;\n",
       "         facets_iframe.id = \"\";\n",
       "         setTimeout(() => {\n",
       "           facets_iframe.setAttribute('height', facets_iframe.contentWindow.document.body.offsetHeight + 'px')\n",
       "         }, 1500)\n",
       "         </script>"
      ],
      "text/plain": [
       "<IPython.core.display.HTML object>"
      ]
     },
     "metadata": {},
     "output_type": "display_data"
    }
   ],
   "source": [
    "train_stats = classvalidate.generate_statistics(training_data)"
   ]
  },
  {
   "cell_type": "code",
   "execution_count": 46,
   "metadata": {
    "id": "020788e5-00ba-4779-bdb7-398445bfb7fc",
    "tags": []
   },
   "outputs": [
    {
     "data": {
      "text/html": [
       "<iframe id='facets-iframe' width=\"100%\" height=\"500px\"></iframe>\n",
       "        <script>\n",
       "        facets_iframe = document.getElementById('facets-iframe');\n",
       "        facets_html = '<script src=\"https://cdnjs.cloudflare.com/ajax/libs/webcomponentsjs/1.3.3/webcomponents-lite.js\"><\\/script><link rel=\"import\" href=\"https://raw.githubusercontent.com/PAIR-code/facets/master/facets-dist/facets-jupyter.html\"><facets-overview proto-input=\"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\"></facets-overview>';\n",
       "        facets_iframe.srcdoc = facets_html;\n",
       "         facets_iframe.id = \"\";\n",
       "         setTimeout(() => {\n",
       "           facets_iframe.setAttribute('height', facets_iframe.contentWindow.document.body.offsetHeight + 'px')\n",
       "         }, 1500)\n",
       "         </script>"
      ],
      "text/plain": [
       "<IPython.core.display.HTML object>"
      ]
     },
     "metadata": {},
     "output_type": "display_data"
    }
   ],
   "source": [
    "test_stats = classvalidate.generate_statistics(testing_data)"
   ]
  },
  {
   "cell_type": "markdown",
   "metadata": {
    "id": "ed4d3f56-e852-4269-a3dd-8426d71bed8e"
   },
   "source": [
    "## Infer Training Data Schema"
   ]
  },
  {
   "cell_type": "code",
   "execution_count": 47,
   "metadata": {
    "id": "13f7be93-3fb1-49ca-9238-ebb1fcc1af28",
    "tags": []
   },
   "outputs": [
    {
     "data": {
      "text/html": [
       "<div>\n",
       "<style scoped>\n",
       "    .dataframe tbody tr th:only-of-type {\n",
       "        vertical-align: middle;\n",
       "    }\n",
       "\n",
       "    .dataframe tbody tr th {\n",
       "        vertical-align: top;\n",
       "    }\n",
       "\n",
       "    .dataframe thead th {\n",
       "        text-align: right;\n",
       "    }\n",
       "</style>\n",
       "<table border=\"1\" class=\"dataframe\">\n",
       "  <thead>\n",
       "    <tr style=\"text-align: right;\">\n",
       "      <th></th>\n",
       "      <th>Type</th>\n",
       "      <th>Presence</th>\n",
       "      <th>Valency</th>\n",
       "      <th>Domain</th>\n",
       "    </tr>\n",
       "    <tr>\n",
       "      <th>Feature name</th>\n",
       "      <th></th>\n",
       "      <th></th>\n",
       "      <th></th>\n",
       "      <th></th>\n",
       "    </tr>\n",
       "  </thead>\n",
       "  <tbody>\n",
       "    <tr>\n",
       "      <th>'CheckingStatus'</th>\n",
       "      <td>STRING</td>\n",
       "      <td>required</td>\n",
       "      <td></td>\n",
       "      <td>'CheckingStatus'</td>\n",
       "    </tr>\n",
       "    <tr>\n",
       "      <th>'LoanDuration'</th>\n",
       "      <td>INT</td>\n",
       "      <td>required</td>\n",
       "      <td></td>\n",
       "      <td>-</td>\n",
       "    </tr>\n",
       "    <tr>\n",
       "      <th>'CreditHistory'</th>\n",
       "      <td>STRING</td>\n",
       "      <td>required</td>\n",
       "      <td></td>\n",
       "      <td>'CreditHistory'</td>\n",
       "    </tr>\n",
       "    <tr>\n",
       "      <th>'LoanPurpose'</th>\n",
       "      <td>STRING</td>\n",
       "      <td>required</td>\n",
       "      <td></td>\n",
       "      <td>'LoanPurpose'</td>\n",
       "    </tr>\n",
       "    <tr>\n",
       "      <th>'LoanAmount'</th>\n",
       "      <td>INT</td>\n",
       "      <td>required</td>\n",
       "      <td></td>\n",
       "      <td>-</td>\n",
       "    </tr>\n",
       "    <tr>\n",
       "      <th>'ExistingSavings'</th>\n",
       "      <td>STRING</td>\n",
       "      <td>required</td>\n",
       "      <td></td>\n",
       "      <td>'ExistingSavings'</td>\n",
       "    </tr>\n",
       "    <tr>\n",
       "      <th>'EmploymentDuration'</th>\n",
       "      <td>STRING</td>\n",
       "      <td>required</td>\n",
       "      <td></td>\n",
       "      <td>'EmploymentDuration'</td>\n",
       "    </tr>\n",
       "    <tr>\n",
       "      <th>'InstallmentPercent'</th>\n",
       "      <td>INT</td>\n",
       "      <td>required</td>\n",
       "      <td></td>\n",
       "      <td>-</td>\n",
       "    </tr>\n",
       "    <tr>\n",
       "      <th>'Sex'</th>\n",
       "      <td>STRING</td>\n",
       "      <td>required</td>\n",
       "      <td></td>\n",
       "      <td>'Sex'</td>\n",
       "    </tr>\n",
       "    <tr>\n",
       "      <th>'OthersOnLoan'</th>\n",
       "      <td>STRING</td>\n",
       "      <td>required</td>\n",
       "      <td></td>\n",
       "      <td>'OthersOnLoan'</td>\n",
       "    </tr>\n",
       "    <tr>\n",
       "      <th>'CurrentResidenceDuration'</th>\n",
       "      <td>INT</td>\n",
       "      <td>required</td>\n",
       "      <td></td>\n",
       "      <td>-</td>\n",
       "    </tr>\n",
       "    <tr>\n",
       "      <th>'OwnsProperty'</th>\n",
       "      <td>STRING</td>\n",
       "      <td>required</td>\n",
       "      <td></td>\n",
       "      <td>'OwnsProperty'</td>\n",
       "    </tr>\n",
       "    <tr>\n",
       "      <th>'Age'</th>\n",
       "      <td>INT</td>\n",
       "      <td>required</td>\n",
       "      <td></td>\n",
       "      <td>-</td>\n",
       "    </tr>\n",
       "    <tr>\n",
       "      <th>'InstallmentPlans'</th>\n",
       "      <td>STRING</td>\n",
       "      <td>required</td>\n",
       "      <td></td>\n",
       "      <td>'InstallmentPlans'</td>\n",
       "    </tr>\n",
       "    <tr>\n",
       "      <th>'Housing'</th>\n",
       "      <td>STRING</td>\n",
       "      <td>required</td>\n",
       "      <td></td>\n",
       "      <td>'Housing'</td>\n",
       "    </tr>\n",
       "    <tr>\n",
       "      <th>'ExistingCreditsCount'</th>\n",
       "      <td>INT</td>\n",
       "      <td>required</td>\n",
       "      <td></td>\n",
       "      <td>-</td>\n",
       "    </tr>\n",
       "    <tr>\n",
       "      <th>'Job'</th>\n",
       "      <td>STRING</td>\n",
       "      <td>required</td>\n",
       "      <td></td>\n",
       "      <td>'Job'</td>\n",
       "    </tr>\n",
       "    <tr>\n",
       "      <th>'Dependents'</th>\n",
       "      <td>INT</td>\n",
       "      <td>required</td>\n",
       "      <td></td>\n",
       "      <td>-</td>\n",
       "    </tr>\n",
       "    <tr>\n",
       "      <th>'Telephone'</th>\n",
       "      <td>STRING</td>\n",
       "      <td>required</td>\n",
       "      <td></td>\n",
       "      <td>'Telephone'</td>\n",
       "    </tr>\n",
       "    <tr>\n",
       "      <th>'ForeignWorker'</th>\n",
       "      <td>STRING</td>\n",
       "      <td>required</td>\n",
       "      <td></td>\n",
       "      <td>'ForeignWorker'</td>\n",
       "    </tr>\n",
       "    <tr>\n",
       "      <th>'Risk'</th>\n",
       "      <td>INT</td>\n",
       "      <td>required</td>\n",
       "      <td></td>\n",
       "      <td>-</td>\n",
       "    </tr>\n",
       "    <tr>\n",
       "      <th>'__index_level_0__'</th>\n",
       "      <td>INT</td>\n",
       "      <td>required</td>\n",
       "      <td></td>\n",
       "      <td>-</td>\n",
       "    </tr>\n",
       "  </tbody>\n",
       "</table>\n",
       "</div>"
      ],
      "text/plain": [
       "                              Type  Presence Valency                Domain\n",
       "Feature name                                                              \n",
       "'CheckingStatus'            STRING  required              'CheckingStatus'\n",
       "'LoanDuration'                 INT  required                             -\n",
       "'CreditHistory'             STRING  required               'CreditHistory'\n",
       "'LoanPurpose'               STRING  required                 'LoanPurpose'\n",
       "'LoanAmount'                   INT  required                             -\n",
       "'ExistingSavings'           STRING  required             'ExistingSavings'\n",
       "'EmploymentDuration'        STRING  required          'EmploymentDuration'\n",
       "'InstallmentPercent'           INT  required                             -\n",
       "'Sex'                       STRING  required                         'Sex'\n",
       "'OthersOnLoan'              STRING  required                'OthersOnLoan'\n",
       "'CurrentResidenceDuration'     INT  required                             -\n",
       "'OwnsProperty'              STRING  required                'OwnsProperty'\n",
       "'Age'                          INT  required                             -\n",
       "'InstallmentPlans'          STRING  required            'InstallmentPlans'\n",
       "'Housing'                   STRING  required                     'Housing'\n",
       "'ExistingCreditsCount'         INT  required                             -\n",
       "'Job'                       STRING  required                         'Job'\n",
       "'Dependents'                   INT  required                             -\n",
       "'Telephone'                 STRING  required                   'Telephone'\n",
       "'ForeignWorker'             STRING  required               'ForeignWorker'\n",
       "'Risk'                         INT  required                             -\n",
       "'__index_level_0__'            INT  required                             -"
      ]
     },
     "metadata": {},
     "output_type": "display_data"
    },
    {
     "data": {
      "text/html": [
       "<div>\n",
       "<style scoped>\n",
       "    .dataframe tbody tr th:only-of-type {\n",
       "        vertical-align: middle;\n",
       "    }\n",
       "\n",
       "    .dataframe tbody tr th {\n",
       "        vertical-align: top;\n",
       "    }\n",
       "\n",
       "    .dataframe thead th {\n",
       "        text-align: right;\n",
       "    }\n",
       "</style>\n",
       "<table border=\"1\" class=\"dataframe\">\n",
       "  <thead>\n",
       "    <tr style=\"text-align: right;\">\n",
       "      <th></th>\n",
       "      <th>Values</th>\n",
       "    </tr>\n",
       "    <tr>\n",
       "      <th>Domain</th>\n",
       "      <th></th>\n",
       "    </tr>\n",
       "  </thead>\n",
       "  <tbody>\n",
       "    <tr>\n",
       "      <th>'CheckingStatus'</th>\n",
       "      <td>'0_to_200', 'greater_200', 'less_0', 'no_checking'</td>\n",
       "    </tr>\n",
       "    <tr>\n",
       "      <th>'CreditHistory'</th>\n",
       "      <td>'all_credits_paid_back', 'credits_paid_to_date', 'no_credits', 'outstanding_credit', 'prior_payments_delayed'</td>\n",
       "    </tr>\n",
       "    <tr>\n",
       "      <th>'LoanPurpose'</th>\n",
       "      <td>'appliances', 'business', 'car_new', 'car_used', 'education', 'furniture', 'other', 'radio_tv', 'repairs', 'retraining', 'vacation'</td>\n",
       "    </tr>\n",
       "    <tr>\n",
       "      <th>'ExistingSavings'</th>\n",
       "      <td>'100_to_500', '500_to_1000', 'greater_1000', 'less_100', 'unknown'</td>\n",
       "    </tr>\n",
       "    <tr>\n",
       "      <th>'EmploymentDuration'</th>\n",
       "      <td>'1_to_4', '4_to_7', 'greater_7', 'less_1', 'unemployed'</td>\n",
       "    </tr>\n",
       "    <tr>\n",
       "      <th>'Sex'</th>\n",
       "      <td>'female', 'male'</td>\n",
       "    </tr>\n",
       "    <tr>\n",
       "      <th>'OthersOnLoan'</th>\n",
       "      <td>'co-applicant', 'guarantor', 'none'</td>\n",
       "    </tr>\n",
       "    <tr>\n",
       "      <th>'OwnsProperty'</th>\n",
       "      <td>'car_other', 'real_estate', 'savings_insurance', 'unknown'</td>\n",
       "    </tr>\n",
       "    <tr>\n",
       "      <th>'InstallmentPlans'</th>\n",
       "      <td>'bank', 'none', 'stores'</td>\n",
       "    </tr>\n",
       "    <tr>\n",
       "      <th>'Housing'</th>\n",
       "      <td>'free', 'own', 'rent'</td>\n",
       "    </tr>\n",
       "    <tr>\n",
       "      <th>'Job'</th>\n",
       "      <td>'management_self-employed', 'skilled', 'unemployed', 'unskilled'</td>\n",
       "    </tr>\n",
       "    <tr>\n",
       "      <th>'Telephone'</th>\n",
       "      <td>'none', 'yes'</td>\n",
       "    </tr>\n",
       "    <tr>\n",
       "      <th>'ForeignWorker'</th>\n",
       "      <td>'no', 'yes'</td>\n",
       "    </tr>\n",
       "  </tbody>\n",
       "</table>\n",
       "</div>"
      ],
      "text/plain": [
       "                                                                                                                                                   Values\n",
       "Domain                                                                                                                                                   \n",
       "'CheckingStatus'                                                                                       '0_to_200', 'greater_200', 'less_0', 'no_checking'\n",
       "'CreditHistory'                             'all_credits_paid_back', 'credits_paid_to_date', 'no_credits', 'outstanding_credit', 'prior_payments_delayed'\n",
       "'LoanPurpose'         'appliances', 'business', 'car_new', 'car_used', 'education', 'furniture', 'other', 'radio_tv', 'repairs', 'retraining', 'vacation'\n",
       "'ExistingSavings'                                                                      '100_to_500', '500_to_1000', 'greater_1000', 'less_100', 'unknown'\n",
       "'EmploymentDuration'                                                                              '1_to_4', '4_to_7', 'greater_7', 'less_1', 'unemployed'\n",
       "'Sex'                                                                                                                                    'female', 'male'\n",
       "'OthersOnLoan'                                                                                                        'co-applicant', 'guarantor', 'none'\n",
       "'OwnsProperty'                                                                                 'car_other', 'real_estate', 'savings_insurance', 'unknown'\n",
       "'InstallmentPlans'                                                                                                               'bank', 'none', 'stores'\n",
       "'Housing'                                                                                                                           'free', 'own', 'rent'\n",
       "'Job'                                                                                    'management_self-employed', 'skilled', 'unemployed', 'unskilled'\n",
       "'Telephone'                                                                                                                                 'none', 'yes'\n",
       "'ForeignWorker'                                                                                                                               'no', 'yes'"
      ]
     },
     "metadata": {},
     "output_type": "display_data"
    }
   ],
   "source": [
    "train_schema = classvalidate.inferSchema(train_stats)"
   ]
  },
  {
   "cell_type": "markdown",
   "metadata": {
    "id": "8e79f56a-29b6-4c80-a201-16fe5eb5a245"
   },
   "source": [
    "## Infer Test Data Schema"
   ]
  },
  {
   "cell_type": "code",
   "execution_count": 48,
   "metadata": {
    "id": "6ce74ad2-9ec9-48f3-959a-f0b59b077706",
    "tags": []
   },
   "outputs": [
    {
     "data": {
      "text/html": [
       "<div>\n",
       "<style scoped>\n",
       "    .dataframe tbody tr th:only-of-type {\n",
       "        vertical-align: middle;\n",
       "    }\n",
       "\n",
       "    .dataframe tbody tr th {\n",
       "        vertical-align: top;\n",
       "    }\n",
       "\n",
       "    .dataframe thead th {\n",
       "        text-align: right;\n",
       "    }\n",
       "</style>\n",
       "<table border=\"1\" class=\"dataframe\">\n",
       "  <thead>\n",
       "    <tr style=\"text-align: right;\">\n",
       "      <th></th>\n",
       "      <th>Type</th>\n",
       "      <th>Presence</th>\n",
       "      <th>Valency</th>\n",
       "      <th>Domain</th>\n",
       "    </tr>\n",
       "    <tr>\n",
       "      <th>Feature name</th>\n",
       "      <th></th>\n",
       "      <th></th>\n",
       "      <th></th>\n",
       "      <th></th>\n",
       "    </tr>\n",
       "  </thead>\n",
       "  <tbody>\n",
       "    <tr>\n",
       "      <th>'CheckingStatus'</th>\n",
       "      <td>STRING</td>\n",
       "      <td>required</td>\n",
       "      <td></td>\n",
       "      <td>'CheckingStatus'</td>\n",
       "    </tr>\n",
       "    <tr>\n",
       "      <th>'LoanDuration'</th>\n",
       "      <td>INT</td>\n",
       "      <td>required</td>\n",
       "      <td></td>\n",
       "      <td>-</td>\n",
       "    </tr>\n",
       "    <tr>\n",
       "      <th>'CreditHistory'</th>\n",
       "      <td>STRING</td>\n",
       "      <td>required</td>\n",
       "      <td></td>\n",
       "      <td>'CreditHistory'</td>\n",
       "    </tr>\n",
       "    <tr>\n",
       "      <th>'LoanPurpose'</th>\n",
       "      <td>STRING</td>\n",
       "      <td>required</td>\n",
       "      <td></td>\n",
       "      <td>'LoanPurpose'</td>\n",
       "    </tr>\n",
       "    <tr>\n",
       "      <th>'LoanAmount'</th>\n",
       "      <td>INT</td>\n",
       "      <td>required</td>\n",
       "      <td></td>\n",
       "      <td>-</td>\n",
       "    </tr>\n",
       "    <tr>\n",
       "      <th>'ExistingSavings'</th>\n",
       "      <td>STRING</td>\n",
       "      <td>required</td>\n",
       "      <td></td>\n",
       "      <td>'ExistingSavings'</td>\n",
       "    </tr>\n",
       "    <tr>\n",
       "      <th>'EmploymentDuration'</th>\n",
       "      <td>STRING</td>\n",
       "      <td>required</td>\n",
       "      <td></td>\n",
       "      <td>'EmploymentDuration'</td>\n",
       "    </tr>\n",
       "    <tr>\n",
       "      <th>'InstallmentPercent'</th>\n",
       "      <td>INT</td>\n",
       "      <td>required</td>\n",
       "      <td></td>\n",
       "      <td>-</td>\n",
       "    </tr>\n",
       "    <tr>\n",
       "      <th>'Sex'</th>\n",
       "      <td>STRING</td>\n",
       "      <td>required</td>\n",
       "      <td></td>\n",
       "      <td>'Sex'</td>\n",
       "    </tr>\n",
       "    <tr>\n",
       "      <th>'OthersOnLoan'</th>\n",
       "      <td>STRING</td>\n",
       "      <td>required</td>\n",
       "      <td></td>\n",
       "      <td>'OthersOnLoan'</td>\n",
       "    </tr>\n",
       "    <tr>\n",
       "      <th>'CurrentResidenceDuration'</th>\n",
       "      <td>INT</td>\n",
       "      <td>required</td>\n",
       "      <td></td>\n",
       "      <td>-</td>\n",
       "    </tr>\n",
       "    <tr>\n",
       "      <th>'OwnsProperty'</th>\n",
       "      <td>STRING</td>\n",
       "      <td>required</td>\n",
       "      <td></td>\n",
       "      <td>'OwnsProperty'</td>\n",
       "    </tr>\n",
       "    <tr>\n",
       "      <th>'Age'</th>\n",
       "      <td>INT</td>\n",
       "      <td>required</td>\n",
       "      <td></td>\n",
       "      <td>-</td>\n",
       "    </tr>\n",
       "    <tr>\n",
       "      <th>'InstallmentPlans'</th>\n",
       "      <td>STRING</td>\n",
       "      <td>required</td>\n",
       "      <td></td>\n",
       "      <td>'InstallmentPlans'</td>\n",
       "    </tr>\n",
       "    <tr>\n",
       "      <th>'Housing'</th>\n",
       "      <td>STRING</td>\n",
       "      <td>required</td>\n",
       "      <td></td>\n",
       "      <td>'Housing'</td>\n",
       "    </tr>\n",
       "    <tr>\n",
       "      <th>'ExistingCreditsCount'</th>\n",
       "      <td>INT</td>\n",
       "      <td>required</td>\n",
       "      <td></td>\n",
       "      <td>-</td>\n",
       "    </tr>\n",
       "    <tr>\n",
       "      <th>'Job'</th>\n",
       "      <td>STRING</td>\n",
       "      <td>required</td>\n",
       "      <td></td>\n",
       "      <td>'Job'</td>\n",
       "    </tr>\n",
       "    <tr>\n",
       "      <th>'Dependents'</th>\n",
       "      <td>INT</td>\n",
       "      <td>required</td>\n",
       "      <td></td>\n",
       "      <td>-</td>\n",
       "    </tr>\n",
       "    <tr>\n",
       "      <th>'Telephone'</th>\n",
       "      <td>STRING</td>\n",
       "      <td>required</td>\n",
       "      <td></td>\n",
       "      <td>'Telephone'</td>\n",
       "    </tr>\n",
       "    <tr>\n",
       "      <th>'ForeignWorker'</th>\n",
       "      <td>STRING</td>\n",
       "      <td>required</td>\n",
       "      <td></td>\n",
       "      <td>'ForeignWorker'</td>\n",
       "    </tr>\n",
       "    <tr>\n",
       "      <th>'Risk'</th>\n",
       "      <td>INT</td>\n",
       "      <td>required</td>\n",
       "      <td></td>\n",
       "      <td>-</td>\n",
       "    </tr>\n",
       "    <tr>\n",
       "      <th>'__index_level_0__'</th>\n",
       "      <td>INT</td>\n",
       "      <td>required</td>\n",
       "      <td></td>\n",
       "      <td>-</td>\n",
       "    </tr>\n",
       "  </tbody>\n",
       "</table>\n",
       "</div>"
      ],
      "text/plain": [
       "                              Type  Presence Valency                Domain\n",
       "Feature name                                                              \n",
       "'CheckingStatus'            STRING  required              'CheckingStatus'\n",
       "'LoanDuration'                 INT  required                             -\n",
       "'CreditHistory'             STRING  required               'CreditHistory'\n",
       "'LoanPurpose'               STRING  required                 'LoanPurpose'\n",
       "'LoanAmount'                   INT  required                             -\n",
       "'ExistingSavings'           STRING  required             'ExistingSavings'\n",
       "'EmploymentDuration'        STRING  required          'EmploymentDuration'\n",
       "'InstallmentPercent'           INT  required                             -\n",
       "'Sex'                       STRING  required                         'Sex'\n",
       "'OthersOnLoan'              STRING  required                'OthersOnLoan'\n",
       "'CurrentResidenceDuration'     INT  required                             -\n",
       "'OwnsProperty'              STRING  required                'OwnsProperty'\n",
       "'Age'                          INT  required                             -\n",
       "'InstallmentPlans'          STRING  required            'InstallmentPlans'\n",
       "'Housing'                   STRING  required                     'Housing'\n",
       "'ExistingCreditsCount'         INT  required                             -\n",
       "'Job'                       STRING  required                         'Job'\n",
       "'Dependents'                   INT  required                             -\n",
       "'Telephone'                 STRING  required                   'Telephone'\n",
       "'ForeignWorker'             STRING  required               'ForeignWorker'\n",
       "'Risk'                         INT  required                             -\n",
       "'__index_level_0__'            INT  required                             -"
      ]
     },
     "metadata": {},
     "output_type": "display_data"
    },
    {
     "data": {
      "text/html": [
       "<div>\n",
       "<style scoped>\n",
       "    .dataframe tbody tr th:only-of-type {\n",
       "        vertical-align: middle;\n",
       "    }\n",
       "\n",
       "    .dataframe tbody tr th {\n",
       "        vertical-align: top;\n",
       "    }\n",
       "\n",
       "    .dataframe thead th {\n",
       "        text-align: right;\n",
       "    }\n",
       "</style>\n",
       "<table border=\"1\" class=\"dataframe\">\n",
       "  <thead>\n",
       "    <tr style=\"text-align: right;\">\n",
       "      <th></th>\n",
       "      <th>Values</th>\n",
       "    </tr>\n",
       "    <tr>\n",
       "      <th>Domain</th>\n",
       "      <th></th>\n",
       "    </tr>\n",
       "  </thead>\n",
       "  <tbody>\n",
       "    <tr>\n",
       "      <th>'CheckingStatus'</th>\n",
       "      <td>'0_to_200', 'greater_200', 'less_0', 'no_checking'</td>\n",
       "    </tr>\n",
       "    <tr>\n",
       "      <th>'CreditHistory'</th>\n",
       "      <td>'all_credits_paid_back', 'credits_paid_to_date', 'no_credits', 'outstanding_credit', 'prior_payments_delayed'</td>\n",
       "    </tr>\n",
       "    <tr>\n",
       "      <th>'LoanPurpose'</th>\n",
       "      <td>'appliances', 'business', 'car_new', 'car_used', 'education', 'furniture', 'other', 'radio_tv', 'repairs', 'retraining', 'vacation'</td>\n",
       "    </tr>\n",
       "    <tr>\n",
       "      <th>'ExistingSavings'</th>\n",
       "      <td>'100_to_500', '500_to_1000', 'greater_1000', 'less_100', 'unknown'</td>\n",
       "    </tr>\n",
       "    <tr>\n",
       "      <th>'EmploymentDuration'</th>\n",
       "      <td>'1_to_4', '4_to_7', 'greater_7', 'less_1', 'unemployed'</td>\n",
       "    </tr>\n",
       "    <tr>\n",
       "      <th>'Sex'</th>\n",
       "      <td>'female', 'male'</td>\n",
       "    </tr>\n",
       "    <tr>\n",
       "      <th>'OthersOnLoan'</th>\n",
       "      <td>'co-applicant', 'guarantor', 'none'</td>\n",
       "    </tr>\n",
       "    <tr>\n",
       "      <th>'OwnsProperty'</th>\n",
       "      <td>'car_other', 'real_estate', 'savings_insurance', 'unknown'</td>\n",
       "    </tr>\n",
       "    <tr>\n",
       "      <th>'InstallmentPlans'</th>\n",
       "      <td>'bank', 'none', 'stores'</td>\n",
       "    </tr>\n",
       "    <tr>\n",
       "      <th>'Housing'</th>\n",
       "      <td>'free', 'own', 'rent'</td>\n",
       "    </tr>\n",
       "    <tr>\n",
       "      <th>'Job'</th>\n",
       "      <td>'management_self-employed', 'skilled', 'unemployed', 'unskilled'</td>\n",
       "    </tr>\n",
       "    <tr>\n",
       "      <th>'Telephone'</th>\n",
       "      <td>'none', 'yes'</td>\n",
       "    </tr>\n",
       "    <tr>\n",
       "      <th>'ForeignWorker'</th>\n",
       "      <td>'no', 'yes'</td>\n",
       "    </tr>\n",
       "  </tbody>\n",
       "</table>\n",
       "</div>"
      ],
      "text/plain": [
       "                                                                                                                                                   Values\n",
       "Domain                                                                                                                                                   \n",
       "'CheckingStatus'                                                                                       '0_to_200', 'greater_200', 'less_0', 'no_checking'\n",
       "'CreditHistory'                             'all_credits_paid_back', 'credits_paid_to_date', 'no_credits', 'outstanding_credit', 'prior_payments_delayed'\n",
       "'LoanPurpose'         'appliances', 'business', 'car_new', 'car_used', 'education', 'furniture', 'other', 'radio_tv', 'repairs', 'retraining', 'vacation'\n",
       "'ExistingSavings'                                                                      '100_to_500', '500_to_1000', 'greater_1000', 'less_100', 'unknown'\n",
       "'EmploymentDuration'                                                                              '1_to_4', '4_to_7', 'greater_7', 'less_1', 'unemployed'\n",
       "'Sex'                                                                                                                                    'female', 'male'\n",
       "'OthersOnLoan'                                                                                                        'co-applicant', 'guarantor', 'none'\n",
       "'OwnsProperty'                                                                                 'car_other', 'real_estate', 'savings_insurance', 'unknown'\n",
       "'InstallmentPlans'                                                                                                               'bank', 'none', 'stores'\n",
       "'Housing'                                                                                                                           'free', 'own', 'rent'\n",
       "'Job'                                                                                    'management_self-employed', 'skilled', 'unemployed', 'unskilled'\n",
       "'Telephone'                                                                                                                                 'none', 'yes'\n",
       "'ForeignWorker'                                                                                                                               'no', 'yes'"
      ]
     },
     "metadata": {},
     "output_type": "display_data"
    }
   ],
   "source": [
    "test_schema = classvalidate.inferSchema(test_stats)"
   ]
  },
  {
   "cell_type": "markdown",
   "metadata": {
    "id": "ea9f07ac-ac4b-4ecd-8840-a5ab07bfb7f8"
   },
   "source": [
    "## Compare Eval and Train Data "
   ]
  },
  {
   "cell_type": "code",
   "execution_count": 49,
   "metadata": {
    "id": "f5ccfb5d-05bd-4b3b-9f4d-8082252457c3",
    "tags": []
   },
   "outputs": [
    {
     "data": {
      "text/html": [
       "<iframe id='facets-iframe' width=\"100%\" height=\"500px\"></iframe>\n",
       "        <script>\n",
       "        facets_iframe = document.getElementById('facets-iframe');\n",
       "        facets_html = '<script src=\"https://cdnjs.cloudflare.com/ajax/libs/webcomponentsjs/1.3.3/webcomponents-lite.js\"><\\/script><link rel=\"import\" href=\"https://raw.githubusercontent.com/PAIR-code/facets/master/facets-dist/facets-jupyter.html\"><facets-overview proto-input=\"CrB5CgxURVNUX0RBVEFTRVQQ7QcalQQQAiL+Awq2AgjtBxgBIAEtAACAPzKkAhobCQAAAAAAAPA/EQAAAAAAAPA/IQAAAAAAIFlAGhsJAAAAAAAA8D8RAAAAAAAA8D8hAAAAAAAgWUAaGwkAAAAAAADwPxEAAAAAAADwPyEAAAAAACBZQBobCQAAAAAAAPA/EQAAAAAAAPA/IQAAAAAAIFlAGhsJAAAAAAAA8D8RAAAAAAAA8D8hAAAAAAAgWUAaGwkAAAAAAADwPxEAAAAAAADwPyEAAAAAACBZQBobCQAAAAAAAPA/EQAAAAAAAPA/IQAAAAAAIFlAGhsJAAAAAAAA8D8RAAAAAAAA8D8hAAAAAAAgWUAaGwkAAAAAAADwPxEAAAAAAADwPyEAAAAAACBZQBobCQAAAAAAAPA/EQAAAAAAAPA/IQAAAAAAIFlAIAFA7QcQBBoWEgtub19jaGVja2luZxkAAAAAALB5QBoTEggwX3RvXzIwMBkAAAAAAABxQBoREgZsZXNzXzAZAAAAAACQcEAaFhILZ3JlYXRlcl8yMDAZAAAAAACATEAlGOoNQSpkChYiC25vX2NoZWNraW5nKQAAAAAAsHlAChcIARABIggwX3RvXzIwMCkAAAAAAABxQAoVCAIQAiIGbGVzc18wKQAAAAAAkHBAChoIAxADIgtncmVhdGVyXzIwMCkAAAAAAIBMQEIQCg5DaGVja2luZ1N0YXR1cxrFBxqyBwq2AgjtBxgBIAEtAACAPzKkAhobCQAAAAAAAPA/EQAAAAAAAPA/IQAAAAAAIFlAGhsJAAAAAAAA8D8RAAAAAAAA8D8hAAAAAAAgWUAaGwkAAAAAAADwPxEAAAAAAADwPyEAAAAAACBZQBobCQAAAAAAAPA/EQAAAAAAAPA/IQAAAAAAIFlAGhsJAAAAAAAA8D8RAAAAAAAA8D8hAAAAAAAgWUAaGwkAAAAAAADwPxEAAAAAAADwPyEAAAAAACBZQBobCQAAAAAAAPA/EQAAAAAAAPA/IQAAAAAAIFlAGhsJAAAAAAAA8D8RAAAAAAAA8D8hAAAAAAAgWUAaGwkAAAAAAADwPxEAAAAAAADwPyEAAAAAACBZQBobCQAAAAAAAPA/EQAAAAAAAPA/IQAAAAAAIFlAIAFA7QcRSwLzntBhNUAZHhK6HZE6JkApAAAAAAAAEEAxAAAAAAAANUA5AAAAAACAT0BCogIaGwkAAAAAAAAQQBHNzMzMzMwjQCHLzMzMzLxlQBobCc3MzMzMzCNAEZqZmZmZmS9AIc7MzMzM/GVAGhsJmpmZmZmZL0ARNDMzMzOzNUAhzszMzMxcZUAaGwk0MzMzM7M1QBGamZmZmZk7QCHPzMzMzPxlQBobCZqZmZmZmTtAEQAAAAAAwEBAIc7MzMzM3GNAGhsJAAAAAADAQEARNDMzMzOzQ0AhmpmZmZk5WEAaGwk0MzMzM7NDQBFnZmZmZqZGQCEzMzMzM3NCQBobCWdmZmZmpkZAEZqZmZmZmUlAIXkUrkfheidAGhsJmpmZmZmZSUARzczMzMyMTEAhOm2g0wY69T8aGwnNzMzMzIxMQBEAAAAAAIBPQCEQEREREREFQEKkAhobCQAAAAAAABBAEQAAAAAAABhAIQAAAAAAAFtAGhsJAAAAAAAAGEARAAAAAAAAJkAhAAAAAABAWkAaGwkAAAAAAAAmQBEAAAAAAAAsQCEAAAAAAEBYQBobCQAAAAAAACxAEQAAAAAAADJAIQAAAAAAQF1AGhsJAAAAAAAAMkARAAAAAAAANUAhAAAAAABAV0AaGwkAAAAAAAA1QBEAAAAAAAA5QCEAAAAAAMBbQBobCQAAAAAAADlAEQAAAAAAADxAIQAAAAAAQFhAGhsJAAAAAAAAPEARAAAAAAAAP0AhAAAAAADAVEAaGwkAAAAAAAA/QBEAAAAAAABCQCEAAAAAAIBbQBobCQAAAAAAAEJAEQAAAAAAgE9AIQAAAAAAAFVAIAFCDgoMTG9hbkR1cmF0aW9uGqEFEAIiiwUKtgII7QcYASABLQAAgD8ypAIaGwkAAAAAAADwPxEAAAAAAADwPyEAAAAAACBZQBobCQAAAAAAAPA/EQAAAAAAAPA/IQAAAAAAIFlAGhsJAAAAAAAA8D8RAAAAAAAA8D8hAAAAAAAgWUAaGwkAAAAAAADwPxEAAAAAAADwPyEAAAAAACBZQBobCQAAAAAAAPA/EQAAAAAAAPA/IQAAAAAAIFlAGhsJAAAAAAAA8D8RAAAAAAAA8D8hAAAAAAAgWUAaGwkAAAAAAADwPxEAAAAAAADwPyEAAAAAACBZQBobCQAAAAAAAPA/EQAAAAAAAPA/IQAAAAAAIFlAGhsJAAAAAAAA8D8RAAAAAAAA8D8hAAAAAAAgWUAaGwkAAAAAAADwPxEAAAAAAADwPyEAAAAAACBZQCABQO0HEAUaIRIWcHJpb3JfcGF5bWVudHNfZGVsYXllZBkAAAAAAPB1QBofEhRjcmVkaXRzX3BhaWRfdG9fZGF0ZRkAAAAAANByQBodEhJvdXRzdGFuZGluZ19jcmVkaXQZAAAAAAAgZkAaIBIVYWxsX2NyZWRpdHNfcGFpZF9iYWNrGQAAAAAAoGJAGhUSCm5vX2NyZWRpdHMZAAAAAAAAO0Allc6hQSqsAQohIhZwcmlvcl9wYXltZW50c19kZWxheWVkKQAAAAAA8HVACiMIARABIhRjcmVkaXRzX3BhaWRfdG9fZGF0ZSkAAAAAANByQAohCAIQAiISb3V0c3RhbmRpbmdfY3JlZGl0KQAAAAAAIGZACiQIAxADIhVhbGxfY3JlZGl0c19wYWlkX2JhY2spAAAAAACgYkAKGQgEEAQiCm5vX2NyZWRpdHMpAAAAAAAAO0BCDwoNQ3JlZGl0SGlzdG9yeRrPBhACIrsGCrYCCO0HGAEgAS0AAIA/MqQCGhsJAAAAAAAA8D8RAAAAAAAA8D8hAAAAAAAgWUAaGwkAAAAAAADwPxEAAAAAAADwPyEAAAAAACBZQBobCQAAAAAAAPA/EQAAAAAAAPA/IQAAAAAAIFlAGhsJAAAAAAAA8D8RAAAAAAAA8D8hAAAAAAAgWUAaGwkAAAAAAADwPxEAAAAAAADwPyEAAAAAACBZQBobCQAAAAAAAPA/EQAAAAAAAPA/IQAAAAAAIFlAGhsJAAAAAAAA8D8RAAAAAAAA8D8hAAAAAAAgWUAaGwkAAAAAAADwPxEAAAAAAADwPyEAAAAAACBZQBobCQAAAAAAAPA/EQAAAAAAAPA/IQAAAAAAIFlAGhsJAAAAAAAA8D8RAAAAAAAA8D8hAAAAAAAgWUAgAUDtBxALGhISB2Nhcl9uZXcZAAAAAAAgaUAaFBIJZnVybml0dXJlGQAAAAAAYGVAGhMSCGNhcl91c2VkGQAAAAAA4GNAGhMSCHJhZGlvX3R2GQAAAAAAQGNAGhUSCmFwcGxpYW5jZXMZAAAAAADAW0AaEhIHcmVwYWlycxkAAAAAAABJQBoTEgh2YWNhdGlvbhkAAAAAAABEQBoTEghidXNpbmVzcxkAAAAAAIBBQBoUEgllZHVjYXRpb24ZAAAAAAAAP0AaFRIKcmV0cmFpbmluZxkAAAAAAAA+QBoQEgVvdGhlchkAAAAAAAA3QCVnnAJBKpACChIiB2Nhcl9uZXcpAAAAAAAgaUAKGAgBEAEiCWZ1cm5pdHVyZSkAAAAAAGBlQAoXCAIQAiIIY2FyX3VzZWQpAAAAAADgY0AKFwgDEAMiCHJhZGlvX3R2KQAAAAAAQGNAChkIBBAEIgphcHBsaWFuY2VzKQAAAAAAwFtAChYIBRAFIgdyZXBhaXJzKQAAAAAAAElAChcIBhAGIgh2YWNhdGlvbikAAAAAAABEQAoXCAcQByIIYnVzaW5lc3MpAAAAAACAQUAKGAgIEAgiCWVkdWNhdGlvbikAAAAAAAA/QAoZCAkQCSIKcmV0cmFpbmluZykAAAAAAAA+QAoUCAoQCiIFb3RoZXIpAAAAAAAAN0BCDQoLTG9hblB1cnBvc2UawwcasgcKtgII7QcYASABLQAAgD8ypAIaGwkAAAAAAADwPxEAAAAAAADwPyEAAAAAACBZQBobCQAAAAAAAPA/EQAAAAAAAPA/IQAAAAAAIFlAGhsJAAAAAAAA8D8RAAAAAAAA8D8hAAAAAAAgWUAaGwkAAAAAAADwPxEAAAAAAADwPyEAAAAAACBZQBobCQAAAAAAAPA/EQAAAAAAAPA/IQAAAAAAIFlAGhsJAAAAAAAA8D8RAAAAAAAA8D8hAAAAAAAgWUAaGwkAAAAAAADwPxEAAAAAAADwPyEAAAAAACBZQBobCQAAAAAAAPA/EQAAAAAAAPA/IQAAAAAAIFlAGhsJAAAAAAAA8D8RAAAAAAAA8D8hAAAAAAAgWUAaGwkAAAAAAADwPxEAAAAAAADwPyEAAAAAACBZQCABQO0HEVctxg4e6qpAGaomijQSDaNAKQAAAAAAQG9AMQAAAAAApqlAOQAAAACAx8RAQqICGhsJAAAAAABAb0ARmpmZmZkjlEAhcXd3d3dPb0AaGwmamZmZmSOUQBGamZmZmS+iQCHqdaReR7JhQBobCZqZmZmZL6JAEWdmZmZmTapAIXRY+4a1R19AGhsJZ2ZmZmZNqkARmpmZmZk1sUAhU1VVVVX9XkAaGwmamZmZmTWxQBEAAAAAgES1QCGKJb9Y8qtcQBobCQAAAACARLVAEWdmZmZmU7lAIWsDnTbQWWBAGhsJZ2ZmZmZTuUARzszMzExivUAh7yBUh7qNUEAaGwnOzMzMTGK9QBGamZmZmbjAQCE4iRtAidtBQBobCZqZmZmZuMBAEc3MzMwMwMJAIYdOBXNOBSZAGhsJzczMzAzAwkARAAAAAIDHxEAhjru7u7u7FUBCpAIaGwkAAAAAAEBvQBEAAAAAAEBvQCEAAAAAAIBiQBobCQAAAAAAQG9AEQAAAAAA6IhAIQAAAAAAAEtAGhsJAAAAAADoiEARAAAAAADImkAhAAAAAAAAWUAaGwkAAAAAAMiaQBEAAAAAAP6iQCEAAAAAAEBZQBobCQAAAAAA/qJAEQAAAAAApqlAIQAAAAAAQFlAGhsJAAAAAACmqUARAAAAAADOr0AhAAAAAAAAWUAaGwkAAAAAAM6vQBEAAAAAAIKzQCEAAAAAAABZQBobCQAAAAAAgrNAEQAAAAAAgbZAIQAAAAAAQFlAGhsJAAAAAACBtkARAAAAAABFukAhAAAAAAAAWUAaGwkAAAAAAEW6QBEAAAAAgMfEQCEAAAAAAABZQCABQgwKCkxvYW5BbW91bnQazQQQAiK1BAq2AgjtBxgBIAEtAACAPzKkAhobCQAAAAAAAPA/EQAAAAAAAPA/IQAAAAAAIFlAGhsJAAAAAAAA8D8RAAAAAAAA8D8hAAAAAAAgWUAaGwkAAAAAAADwPxEAAAAAAADwPyEAAAAAACBZQBobCQAAAAAAAPA/EQAAAAAAAPA/IQAAAAAAIFlAGhsJAAAAAAAA8D8RAAAAAAAA8D8hAAAAAAAgWUAaGwkAAAAAAADwPxEAAAAAAADwPyEAAAAAACBZQBobCQAAAAAAAPA/EQAAAAAAAPA/IQAAAAAAIFlAGhsJAAAAAAAA8D8RAAAAAAAA8D8hAAAAAAAgWUAaGwkAAAAAAADwPxEAAAAAAADwPyEAAAAAACBZQBobCQAAAAAAAPA/EQAAAAAAAPA/IQAAAAAAIFlAIAFA7QcQBRoTEghsZXNzXzEwMBkAAAAAAHB3QBoVEgoxMDBfdG9fNTAwGQAAAAAAgG1AGhYSCzUwMF90b18xMDAwGQAAAAAAYGpAGhcSDGdyZWF0ZXJfMTAwMBkAAAAAAEBbQBoSEgd1bmtub3duGQAAAAAAgFJAJfBaF0EqgQEKEyIIbGVzc18xMDApAAAAAABwd0AKGQgBEAEiCjEwMF90b181MDApAAAAAACAbUAKGggCEAIiCzUwMF90b18xMDAwKQAAAAAAYGpAChsIAxADIgxncmVhdGVyXzEwMDApAAAAAABAW0AKFggEEAQiB3Vua25vd24pAAAAAACAUkBCEQoPRXhpc3RpbmdTYXZpbmdzGrkEEAIingQKtgII7QcYASABLQAAgD8ypAIaGwkAAAAAAADwPxEAAAAAAADwPyEAAAAAACBZQBobCQAAAAAAAPA/EQAAAAAAAPA/IQAAAAAAIFlAGhsJAAAAAAAA8D8RAAAAAAAA8D8hAAAAAAAgWUAaGwkAAAAAAADwPxEAAAAAAADwPyEAAAAAACBZQBobCQAAAAAAAPA/EQAAAAAAAPA/IQAAAAAAIFlAGhsJAAAAAAAA8D8RAAAAAAAA8D8hAAAAAAAgWUAaGwkAAAAAAADwPxEAAAAAAADwPyEAAAAAACBZQBobCQAAAAAAAPA/EQAAAAAAAPA/IQAAAAAAIFlAGhsJAAAAAAAA8D8RAAAAAAAA8D8hAAAAAAAgWUAaGwkAAAAAAADwPxEAAAAAAADwPyEAAAAAACBZQCABQO0HEAUaERIGMV90b180GQAAAAAA8HJAGhESBjRfdG9fNxkAAAAAAJByQBoUEglncmVhdGVyXzcZAAAAAABgZkAaERIGbGVzc18xGQAAAAAAoGVAGhUSCnVuZW1wbG95ZWQZAAAAAACASkAlSNnXQCp2ChEiBjFfdG9fNCkAAAAAAPByQAoVCAEQASIGNF90b183KQAAAAAAkHJAChgIAhACIglncmVhdGVyXzcpAAAAAABgZkAKFQgDEAMiBmxlc3NfMSkAAAAAAKBlQAoZCAQQBCIKdW5lbXBsb3llZCkAAAAAAIBKQEIUChJFbXBsb3ltZW50RHVyYXRpb24aywcasgcKtgII7QcYASABLQAAgD8ypAIaGwkAAAAAAADwPxEAAAAAAADwPyEAAAAAACBZQBobCQAAAAAAAPA/EQAAAAAAAPA/IQAAAAAAIFlAGhsJAAAAAAAA8D8RAAAAAAAA8D8hAAAAAAAgWUAaGwkAAAAAAADwPxEAAAAAAADwPyEAAAAAACBZQBobCQAAAAAAAPA/EQAAAAAAAPA/IQAAAAAAIFlAGhsJAAAAAAAA8D8RAAAAAAAA8D8hAAAAAAAgWUAaGwkAAAAAAADwPxEAAAAAAADwPyEAAAAAACBZQBobCQAAAAAAAPA/EQAAAAAAAPA/IQAAAAAAIFlAGhsJAAAAAAAA8D8RAAAAAAAA8D8hAAAAAAAgWUAaGwkAAAAAAADwPxEAAAAAAADwPyEAAAAAACBZQCABQO0HESUw7wkdBghAGWXTf4I8y/E/KQAAAAAAAPA/MQAAAAAAAAhAOQAAAAAAABhAQqICGhsJAAAAAAAA8D8RAAAAAAAA+D8hO1sNniPgWEAaGwkAAAAAAAD4PxEAAAAAAAAAQCFcUvkw7s9sQBobCQAAAAAAAABAEQAAAAAAAARAIRkwjQHTGOA/GhsJAAAAAAAABEARAAAAAAAACEAhUDl/lvO3dEAaGwkAAAAAAAAIQBEAAAAAAAAMQCEAAAAAABDgPxobCQAAAAAAAAxAEQAAAAAAABBAIQAAAAD4B3BAGhsJAAAAAAAAEEARAAAAAAAAEkAhAAAAAAAA4D8aGwkAAAAAAAASQBEAAAAAAAAUQCEAAAAAAKBUQBobCQAAAAAAABRAEQAAAAAAABZAIQAAAAAAAOA/GhsJAAAAAAAAFkARAAAAAAAAGEAhAAAAAAAABEBCpAIaGwkAAAAAAADwPxEAAAAAAAAAQCEAAAAAAABmQBobCQAAAAAAAABAEQAAAAAAAABAIQAAAAAAQFNAGhsJAAAAAAAAAEARAAAAAAAAAEAhAAAAAABAU0AaGwkAAAAAAAAAQBEAAAAAAAAIQCGrqqqqqqpbQBobCQAAAAAAAAhAEQAAAAAAAAhAIauqqqqqqltAGhsJAAAAAAAACEARAAAAAAAACEAhq6qqqqqqW0AaGwkAAAAAAAAIQBEAAAAAAAAQQCGrqqqqqmpVQBobCQAAAAAAABBAEQAAAAAAABBAIauqqqqqalVAGhsJAAAAAAAAEEARAAAAAAAAEEAhq6qqqqpqVUAaGwkAAAAAAAAQQBEAAAAAAAAYQCEAAAAAAIBVQCABQhQKEkluc3RhbGxtZW50UGVyY2VudBqaAxACIo4DCrYCCO0HGAEgAS0AAIA/MqQCGhsJAAAAAAAA8D8RAAAAAAAA8D8hAAAAAAAgWUAaGwkAAAAAAADwPxEAAAAAAADwPyEAAAAAACBZQBobCQAAAAAAAPA/EQAAAAAAAPA/IQAAAAAAIFlAGhsJAAAAAAAA8D8RAAAAAAAA8D8hAAAAAAAgWUAaGwkAAAAAAADwPxEAAAAAAADwPyEAAAAAACBZQBobCQAAAAAAAPA/EQAAAAAAAPA/IQAAAAAAIFlAGhsJAAAAAAAA8D8RAAAAAAAA8D8hAAAAAAAgWUAaGwkAAAAAAADwPxEAAAAAAADwPyEAAAAAACBZQBobCQAAAAAAAPA/EQAAAAAAAPA/IQAAAAAAIFlAGhsJAAAAAAAA8D8RAAAAAAAA8D8hAAAAAAAgWUAgAUDtBxACGg8SBG1hbGUZAAAAAAB4g0AaERIGZmVtYWxlGQAAAAAA4HdAJY1TmEAqKAoPIgRtYWxlKQAAAAAAeINAChUIARABIgZmZW1hbGUpAAAAAADgd0BCBQoDU2V4Gt8DEAIiygMKtgII7QcYASABLQAAgD8ypAIaGwkAAAAAAADwPxEAAAAAAADwPyEAAAAAACBZQBobCQAAAAAAAPA/EQAAAAAAAPA/IQAAAAAAIFlAGhsJAAAAAAAA8D8RAAAAAAAA8D8hAAAAAAAgWUAaGwkAAAAAAADwPxEAAAAAAADwPyEAAAAAACBZQBobCQAAAAAAAPA/EQAAAAAAAPA/IQAAAAAAIFlAGhsJAAAAAAAA8D8RAAAAAAAA8D8hAAAAAAAgWUAaGwkAAAAAAADwPxEAAAAAAADwPyEAAAAAACBZQBobCQAAAAAAAPA/EQAAAAAAAPA/IQAAAAAAIFlAGhsJAAAAAAAA8D8RAAAAAAAA8D8hAAAAAAAgWUAaGwkAAAAAAADwPxEAAAAAAADwPyEAAAAAACBZQCABQO0HEAMaDxIEbm9uZRkAAAAAACCKQBoXEgxjby1hcHBsaWNhbnQZAAAAAAAgYkAaFBIJZ3VhcmFudG9yGQAAAAAAADhAJZjBqEAqSAoPIgRub25lKQAAAAAAIIpAChsIARABIgxjby1hcHBsaWNhbnQpAAAAAAAgYkAKGAgCEAIiCWd1YXJhbnRvcikAAAAAAAA4QEIOCgxPdGhlcnNPbkxvYW4a0QcasgcKtgII7QcYASABLQAAgD8ypAIaGwkAAAAAAADwPxEAAAAAAADwPyEAAAAAACBZQBobCQAAAAAAAPA/EQAAAAAAAPA/IQAAAAAAIFlAGhsJAAAAAAAA8D8RAAAAAAAA8D8hAAAAAAAgWUAaGwkAAAAAAADwPxEAAAAAAADwPyEAAAAAACBZQBobCQAAAAAAAPA/EQAAAAAAAPA/IQAAAAAAIFlAGhsJAAAAAAAA8D8RAAAAAAAA8D8hAAAAAAAgWUAaGwkAAAAAAADwPxEAAAAAAADwPyEAAAAAACBZQBobCQAAAAAAAPA/EQAAAAAAAPA/IQAAAAAAIFlAGhsJAAAAAAAA8D8RAAAAAAAA8D8hAAAAAAAgWUAaGwkAAAAAAADwPxEAAAAAAADwPyEAAAAAACBZQCABQO0HEeMUpsRsCQdAGabfjfJMgPE/KQAAAAAAAPA/MQAAAAAAAAhAOQAAAAAAABRAQqICGhsJAAAAAAAA8D8RZmZmZmZm9j8hhnlVrrSZXUAaGwlmZmZmZmb2PxHNzMzMzMz8PyH+cHlVrrTZPxobCc3MzMzMzPw/EZqZmZmZmQFAITqrauy6TG5AGhsJmpmZmZmZAUARzczMzMzMBEAhmkWTAGu+2T8aGwnNzMzMzMwEQBEAAAAAAAAIQCH2yN+XWFZ2QBobCQAAAAAAAAhAETQzMzMzMwtAIZu/KzpeuNk/GhsJNDMzMzMzC0ARZ2ZmZmZmDkAhk78rOl642T8aGwlnZmZmZmYOQBHNzMzMzMwQQCGBOiwIrqxqQBobCc3MzMzMzBBAEWZmZmZmZhJAIZCZmZmZmdk/GhsJZmZmZmZmEkARAAAAAAAAFEAhmpmZmZnZUUBCpAIaGwkAAAAAAADwPxEAAAAAAADwPyEAAAAAAIBdQBobCQAAAAAAAPA/EQAAAAAAAABAIQAAAAAAYF5AGhsJAAAAAAAAAEARAAAAAAAAAEAhAAAAAABgXkAaGwkAAAAAAAAAQBEAAAAAAAAIQCEAAAAAAGBWQBobCQAAAAAAAAhAEQAAAAAAAAhAIQAAAAAAYFZAGhsJAAAAAAAACEARAAAAAAAACEAhAAAAAABgVkAaGwkAAAAAAAAIQBEAAAAAAAAIQCEAAAAAAGBWQBobCQAAAAAAAAhAEQAAAAAAABBAIQAAAAAAwFpAGhsJAAAAAAAAEEARAAAAAAAAEEAhAAAAAADAWkAaGwkAAAAAAAAQQBEAAAAAAAAUQCEAAAAAAABSQCABQhoKGEN1cnJlbnRSZXNpZGVuY2VEdXJhdGlvbhqjBBACIo4ECrYCCO0HGAEgAS0AAIA/MqQCGhsJAAAAAAAA8D8RAAAAAAAA8D8hAAAAAAAgWUAaGwkAAAAAAADwPxEAAAAAAADwPyEAAAAAACBZQBobCQAAAAAAAPA/EQAAAAAAAPA/IQAAAAAAIFlAGhsJAAAAAAAA8D8RAAAAAAAA8D8hAAAAAAAgWUAaGwkAAAAAAADwPxEAAAAAAADwPyEAAAAAACBZQBobCQAAAAAAAPA/EQAAAAAAAPA/IQAAAAAAIFlAGhsJAAAAAAAA8D8RAAAAAAAA8D8hAAAAAAAgWUAaGwkAAAAAAADwPxEAAAAAAADwPyEAAAAAACBZQBobCQAAAAAAAPA/EQAAAAAAAPA/IQAAAAAAIFlAGhsJAAAAAAAA8D8RAAAAAAAA8D8hAAAAAAAgWUAgAUDtBxAEGhwSEXNhdmluZ3NfaW5zdXJhbmNlGQAAAAAAoHVAGhQSCWNhcl9vdGhlchkAAAAAADB0QBoWEgtyZWFsX2VzdGF0ZRkAAAAAAABqQBoSEgd1bmtub3duGQAAAAAAAGBAJWydPkEqbAocIhFzYXZpbmdzX2luc3VyYW5jZSkAAAAAAKB1QAoYCAEQASIJY2FyX290aGVyKQAAAAAAMHRAChoIAhACIgtyZWFsX2VzdGF0ZSkAAAAAAABqQAoWCAMQAyIHdW5rbm93bikAAAAAAABgQEIOCgxPd25zUHJvcGVydHkavAcasgcKtgII7QcYASABLQAAgD8ypAIaGwkAAAAAAADwPxEAAAAAAADwPyEAAAAAACBZQBobCQAAAAAAAPA/EQAAAAAAAPA/IQAAAAAAIFlAGhsJAAAAAAAA8D8RAAAAAAAA8D8hAAAAAAAgWUAaGwkAAAAAAADwPxEAAAAAAADwPyEAAAAAACBZQBobCQAAAAAAAPA/EQAAAAAAAPA/IQAAAAAAIFlAGhsJAAAAAAAA8D8RAAAAAAAA8D8hAAAAAAAgWUAaGwkAAAAAAADwPxEAAAAAAADwPyEAAAAAACBZQBobCQAAAAAAAPA/EQAAAAAAAPA/IQAAAAAAIFlAGhsJAAAAAAAA8D8RAAAAAAAA8D8hAAAAAAAgWUAaGwkAAAAAAADwPxEAAAAAAADwPyEAAAAAACBZQCABQO0HET1QObuF30FAGWRmYnoHDiVAKQAAAAAAADNAMQAAAAAAAEJAOQAAAAAAwFFAQqICGhsJAAAAAAAAM0ARMzMzMzMzOEAhZmZmZmbmZUAaGwkzMzMzMzM4QBFmZmZmZmY9QCFmZmZmZgZgQBobCWZmZmZmZj1AEc3MzMzMTEFAIWxmZmZm5mVAGhsJzczMzMxMQUARZmZmZmbmQ0AhZmZmZmaGZEAaGwlmZmZmZuZDQBEAAAAAAIBGQCFkZmZmZkZkQBobCQAAAAAAgEZAEZqZmZmZGUlAIc3MzMzMjFpAGhsJmpmZmZkZSUARMzMzMzOzS0AhmZmZmZmZT0AaGwkzMzMzM7NLQBHNzMzMzExOQCE0MzMzMzM4QBobCc3MzMzMTE5AETQzMzMzc1BAIc3MzMzMzBJAGhsJNDMzMzNzUEARAAAAAADAUUAhKjMzMzMz+z9CpAIaGwkAAAAAAAAzQBEAAAAAAAA1QCEAAAAAAEBbQBobCQAAAAAAADVAEQAAAAAAADpAIQAAAAAAAFxAGhsJAAAAAAAAOkARAAAAAAAAPUAhAAAAAACAVEAaGwkAAAAAAAA9QBEAAAAAAABAQCEAAAAAAIBaQBobCQAAAAAAAEBAEQAAAAAAAEJAIQAAAAAAYGBAGhsJAAAAAAAAQkARAAAAAAAAQ0AhAAAAAACAUkAaGwkAAAAAAABDQBEAAAAAAABFQCEAAAAAAMBbQBobCQAAAAAAAEVAEQAAAAAAgEZAIQAAAAAAAFRAGhsJAAAAAACARkARAAAAAAAASUAhAAAAAACAWkAaGwkAAAAAAABJQBEAAAAAAMBRQCEAAAAAAIBXQCABQgUKA0FnZRrNAxACIrQDCrYCCO0HGAEgAS0AAIA/MqQCGhsJAAAAAAAA8D8RAAAAAAAA8D8hAAAAAAAgWUAaGwkAAAAAAADwPxEAAAAAAADwPyEAAAAAACBZQBobCQAAAAAAAPA/EQAAAAAAAPA/IQAAAAAAIFlAGhsJAAAAAAAA8D8RAAAAAAAA8D8hAAAAAAAgWUAaGwkAAAAAAADwPxEAAAAAAADwPyEAAAAAACBZQBobCQAAAAAAAPA/EQAAAAAAAPA/IQAAAAAAIFlAGhsJAAAAAAAA8D8RAAAAAAAA8D8hAAAAAAAgWUAaGwkAAAAAAADwPxEAAAAAAADwPyEAAAAAACBZQBobCQAAAAAAAPA/EQAAAAAAAPA/IQAAAAAAIFlAGhsJAAAAAAAA8D8RAAAAAAAA8D8hAAAAAAAgWUAgAUDtBxADGg8SBG5vbmUZAAAAAAAwhkAaERIGc3RvcmVzGQAAAAAAwGlAGg8SBGJhbmsZAAAAAABAVkAlUB6NQCo9Cg8iBG5vbmUpAAAAAAAwhkAKFQgBEAEiBnN0b3JlcykAAAAAAMBpQAoTCAIQAiIEYmFuaykAAAAAAEBWQEISChBJbnN0YWxsbWVudFBsYW5zGr4DEAIirgMKtgII7QcYASABLQAAgD8ypAIaGwkAAAAAAADwPxEAAAAAAADwPyEAAAAAACBZQBobCQAAAAAAAPA/EQAAAAAAAPA/IQAAAAAAIFlAGhsJAAAAAAAA8D8RAAAAAAAA8D8hAAAAAAAgWUAaGwkAAAAAAADwPxEAAAAAAADwPyEAAAAAACBZQBobCQAAAAAAAPA/EQAAAAAAAPA/IQAAAAAAIFlAGhsJAAAAAAAA8D8RAAAAAAAA8D8hAAAAAAAgWUAaGwkAAAAAAADwPxEAAAAAAADwPyEAAAAAACBZQBobCQAAAAAAAPA/EQAAAAAAAPA/IQAAAAAAIFlAGhsJAAAAAAAA8D8RAAAAAAAA8D8hAAAAAAAgWUAaGwkAAAAAAADwPxEAAAAAAADwPyEAAAAAACBZQCABQO0HEAMaDhIDb3duGQAAAAAAcIRAGg8SBHJlbnQZAAAAAAAAaUAaDxIEZnJlZRkAAAAAAOBiQCUsWlZAKjoKDiIDb3duKQAAAAAAcIRAChMIARABIgRyZW50KQAAAAAAAGlAChMIAhACIgRmcmVlKQAAAAAA4GJAQgkKB0hvdXNpbmcazQcasgcKtgII7QcYASABLQAAgD8ypAIaGwkAAAAAAADwPxEAAAAAAADwPyEAAAAAACBZQBobCQAAAAAAAPA/EQAAAAAAAPA/IQAAAAAAIFlAGhsJAAAAAAAA8D8RAAAAAAAA8D8hAAAAAAAgWUAaGwkAAAAAAADwPxEAAAAAAADwPyEAAAAAACBZQBobCQAAAAAAAPA/EQAAAAAAAPA/IQAAAAAAIFlAGhsJAAAAAAAA8D8RAAAAAAAA8D8hAAAAAAAgWUAaGwkAAAAAAADwPxEAAAAAAADwPyEAAAAAACBZQBobCQAAAAAAAPA/EQAAAAAAAPA/IQAAAAAAIFlAGhsJAAAAAAAA8D8RAAAAAAAA8D8hAAAAAAAgWUAaGwkAAAAAAADwPxEAAAAAAADwPyEAAAAAACBZQCABQO0HEeMUpsRsCfc/GUmNXeLfwuE/KQAAAAAAAPA/MQAAAAAAAPA/OQAAAAAAAAhAQqICGhsJAAAAAAAA8D8RMzMzMzMz8z8hRPFmxJuRgkAaGwkzMzMzMzPzPxFmZmZmZmb2PyHDmxFvRrzJPxobCWZmZmZmZvY/EZqZmZmZmfk/IcubEW9GvMk/GhsJmpmZmZmZ+T8RzczMzMzM/D8hw5sRb0a8yT8aGwnNzMzMzMz8PxEAAAAAAAAAQCETd8jcIbN3QBobCQAAAAAAAABAEZqZmZmZmQFAIaCZmZmZmck/GhsJmpmZmZmZAUARNDMzMzMzA0AhoJmZmZmZyT8aGwk0MzMzMzMDQBHNzMzMzMwEQCGQmZmZmZnJPxobCc3MzMzMzARAEWZmZmZmZgZAIZCZmZmZmck/GhsJZmZmZmZmBkARAAAAAAAACEAhMzMzMzMzPkBCpAIaGwkAAAAAAADwPxEAAAAAAADwPyEzMzMzM7NdQBobCQAAAAAAAPA/EQAAAAAAAPA/ITMzMzMzs11AGhsJAAAAAAAA8D8RAAAAAAAA8D8hMzMzMzOzXUAaGwkAAAAAAADwPxEAAAAAAADwPyEzMzMzM7NdQBobCQAAAAAAAPA/EQAAAAAAAPA/ITMzMzMzs11AGhsJAAAAAAAA8D8RAAAAAAAAAEAhAAAAAADAV0AaGwkAAAAAAAAAQBEAAAAAAAAAQCEAAAAAAMBXQBobCQAAAAAAAABAEQAAAAAAAABAIQAAAAAAwFdAGhsJAAAAAAAAAEARAAAAAAAAAEAhAAAAAADAV0AaGwkAAAAAAAAAQBEAAAAAAAAIQCEAAAAAAAA/QCABQhYKFEV4aXN0aW5nQ3JlZGl0c0NvdW50GqYEEAIimgQKtgII7QcYASABLQAAgD8ypAIaGwkAAAAAAADwPxEAAAAAAADwPyEAAAAAACBZQBobCQAAAAAAAPA/EQAAAAAAAPA/IQAAAAAAIFlAGhsJAAAAAAAA8D8RAAAAAAAA8D8hAAAAAAAgWUAaGwkAAAAAAADwPxEAAAAAAADwPyEAAAAAACBZQBobCQAAAAAAAPA/EQAAAAAAAPA/IQAAAAAAIFlAGhsJAAAAAAAA8D8RAAAAAAAA8D8hAAAAAAAgWUAaGwkAAAAAAADwPxEAAAAAAADwPyEAAAAAACBZQBobCQAAAAAAAPA/EQAAAAAAAPA/IQAAAAAAIFlAGhsJAAAAAAAA8D8RAAAAAAAA8D8hAAAAAAAgWUAaGwkAAAAAAADwPxEAAAAAAADwPyEAAAAAACBZQCABQO0HEAQaEhIHc2tpbGxlZBkAAAAAAFiFQBoUEgl1bnNraWxsZWQZAAAAAACAYUAaIxIYbWFuYWdlbWVudF9zZWxmLWVtcGxveWVkGQAAAAAAYGBAGhUSCnVuZW1wbG95ZWQZAAAAAACASUAlJ1kaQSpyChIiB3NraWxsZWQpAAAAAABYhUAKGAgBEAEiCXVuc2tpbGxlZCkAAAAAAIBhQAonCAIQAiIYbWFuYWdlbWVudF9zZWxmLWVtcGxveWVkKQAAAAAAYGBAChkIAxADIgp1bmVtcGxveWVkKQAAAAAAgElAQgUKA0pvYhrDBxqyBwq2AgjtBxgBIAEtAACAPzKkAhobCQAAAAAAAPA/EQAAAAAAAPA/IQAAAAAAIFlAGhsJAAAAAAAA8D8RAAAAAAAA8D8hAAAAAAAgWUAaGwkAAAAAAADwPxEAAAAAAADwPyEAAAAAACBZQBobCQAAAAAAAPA/EQAAAAAAAPA/IQAAAAAAIFlAGhsJAAAAAAAA8D8RAAAAAAAA8D8hAAAAAAAgWUAaGwkAAAAAAADwPxEAAAAAAADwPyEAAAAAACBZQBobCQAAAAAAAPA/EQAAAAAAAPA/IQAAAAAAIFlAGhsJAAAAAAAA8D8RAAAAAAAA8D8hAAAAAAAgWUAaGwkAAAAAAADwPxEAAAAAAADwPyEAAAAAACBZQBobCQAAAAAAAPA/EQAAAAAAAPA/IQAAAAAAIFlAIAFA7QcRF5ljPWtn8j8ZtKNcE0De1j8pAAAAAAAA8D8xAAAAAAAA8D85AAAAAAAAAEBCogIaGwkAAAAAAADwPxGamZmZmZnxPyGHzMzMzLCKQBobCZqZmZmZmfE/ETMzMzMzM/M/IZCZmZmZmbk/GhsJMzMzMzMz8z8RzczMzMzM9D8hoJmZmZmZuT8aGwnNzMzMzMz0PxFmZmZmZmb2PyGQmZmZmZm5PxobCWZmZmZmZvY/EQAAAAAAAPg/IaCZmZmZmbk/GhsJAAAAAAAA+D8RmpmZmZmZ+T8hoJmZmZmZuT8aGwmamZmZmZn5PxE0MzMzMzP7PyGgmZmZmZm5PxobCTQzMzMzM/s/Ec3MzMzMzPw/IZCZmZmZmbk/GhsJzczMzMzM/D8RZmZmZmZm/j8hkJmZmZmZuT8aGwlmZmZmZmb+PxEAAAAAAAAAQCEzMzMzM8NiQEKkAhobCQAAAAAAAPA/EQAAAAAAAPA/IQAAAAAAsFpAGhsJAAAAAAAA8D8RAAAAAAAA8D8hAAAAAACwWkAaGwkAAAAAAADwPxEAAAAAAADwPyEAAAAAALBaQBobCQAAAAAAAPA/EQAAAAAAAPA/IQAAAAAAsFpAGhsJAAAAAAAA8D8RAAAAAAAA8D8hAAAAAACwWkAaGwkAAAAAAADwPxEAAAAAAADwPyEAAAAAALBaQBobCQAAAAAAAPA/EQAAAAAAAPA/IQAAAAAAsFpAGhsJAAAAAAAA8D8RAAAAAAAA8D8hAAAAAACwWkAaGwkAAAAAAADwPxEAAAAAAAAAQCEAAAAAAOBSQBobCQAAAAAAAABAEQAAAAAAAABAIQAAAAAA4FJAIAFCDAoKRGVwZW5kZW50cxqaAxACIogDCrYCCO0HGAEgAS0AAIA/MqQCGhsJAAAAAAAA8D8RAAAAAAAA8D8hAAAAAAAgWUAaGwkAAAAAAADwPxEAAAAAAADwPyEAAAAAACBZQBobCQAAAAAAAPA/EQAAAAAAAPA/IQAAAAAAIFlAGhsJAAAAAAAA8D8RAAAAAAAA8D8hAAAAAAAgWUAaGwkAAAAAAADwPxEAAAAAAADwPyEAAAAAACBZQBobCQAAAAAAAPA/EQAAAAAAAPA/IQAAAAAAIFlAGhsJAAAAAAAA8D8RAAAAAAAA8D8hAAAAAAAgWUAaGwkAAAAAAADwPxEAAAAAAADwPyEAAAAAACBZQBobCQAAAAAAAPA/EQAAAAAAAPA/IQAAAAAAIFlAGhsJAAAAAAAA8D8RAAAAAAAA8D8hAAAAAAAgWUAgAUDtBxACGg8SBG5vbmUZAAAAAADQgkAaDhIDeWVzGQAAAAAAMHlAJRlWZkAqJQoPIgRub25lKQAAAAAA0IJAChIIARABIgN5ZXMpAAAAAAAweUBCCwoJVGVsZXBob25lGpoDEAIihAMKtgII7QcYASABLQAAgD8ypAIaGwkAAAAAAADwPxEAAAAAAADwPyEAAAAAACBZQBobCQAAAAAAAPA/EQAAAAAAAPA/IQAAAAAAIFlAGhsJAAAAAAAA8D8RAAAAAAAA8D8hAAAAAAAgWUAaGwkAAAAAAADwPxEAAAAAAADwPyEAAAAAACBZQBobCQAAAAAAAPA/EQAAAAAAAPA/IQAAAAAAIFlAGhsJAAAAAAAA8D8RAAAAAAAA8D8hAAAAAAAgWUAaGwkAAAAAAADwPxEAAAAAAADwPyEAAAAAACBZQBobCQAAAAAAAPA/EQAAAAAAAPA/IQAAAAAAIFlAGhsJAAAAAAAA8D8RAAAAAAAA8D8hAAAAAAAgWUAaGwkAAAAAAADwPxEAAAAAAADwPyEAAAAAACBZQCABQO0HEAIaDhIDeWVzGQAAAAAAuI5AGg0SAm5vGQAAAAAAADZAJViZPkAqIwoOIgN5ZXMpAAAAAAC4jkAKEQgBEAEiAm5vKQAAAAAAADZAQg8KDUZvcmVpZ25Xb3JrZXIasAYapQYKtgII7QcYASABLQAAgD8ypAIaGwkAAAAAAADwPxEAAAAAAADwPyEAAAAAACBZQBobCQAAAAAAAPA/EQAAAAAAAPA/IQAAAAAAIFlAGhsJAAAAAAAA8D8RAAAAAAAA8D8hAAAAAAAgWUAaGwkAAAAAAADwPxEAAAAAAADwPyEAAAAAACBZQBobCQAAAAAAAPA/EQAAAAAAAPA/IQAAAAAAIFlAGhsJAAAAAAAA8D8RAAAAAAAA8D8hAAAAAAAgWUAaGwkAAAAAAADwPxEAAAAAAADwPyEAAAAAACBZQBobCQAAAAAAAPA/EQAAAAAAAPA/IQAAAAAAIFlAGhsJAAAAAAAA8D8RAAAAAAAA8D8hAAAAAAAgWUAaGwkAAAAAAADwPxEAAAAAAADwPyEAAAAAACBZQCABQO0HEfiEDgNEKdY/GZhhJj8uc94/IJEFOQAAAAAAAPA/QpkCGhIRmpmZmZmZuT8hjULkY82IhEAaGwmamZmZmZm5PxGamZmZmZnJPyFiK1aIfKy5PxobCZqZmZmZmck/ETQzMzMzM9M/IWQrVoh8rLk/GhsJNDMzMzMz0z8RmpmZmZmZ2T8hYCtWiHysuT8aGwmamZmZmZnZPxEAAAAAAADgPyFgK1aIfKy5PxobCQAAAAAAAOA/ETQzMzMzM+M/IWgrVoh8rLk/GhsJNDMzMzMz4z8RZ2ZmZmZm5j8hYCtWiHysuT8aGwlnZmZmZmbmPxGamZmZmZnpPyFgK1aIfKy5PxobCZqZmZmZmek/Ec3MzMzMzOw/IWArVoh8rLk/GhsJzczMzMzM7D8RAAAAAAAA8D8haU/z+Y6xdUBCrwEaCSEAAAAAAGBbQBoJIQAAAAAAYFtAGgkhAAAAAABgW0AaCSEAAAAAAGBbQBoJIQAAAAAAYFtAGgkhAAAAAABgW0AaEhEAAAAAAADwPyEAAAAAAMBVQBobCQAAAAAAAPA/EQAAAAAAAPA/IQAAAAAAwFVAGhsJAAAAAAAA8D8RAAAAAAAA8D8hAAAAAADAVUAaGwkAAAAAAADwPxEAAAAAAADwPyEAAAAAAMBVQCABQgYKBFJpc2sasQcamQcKtgII7QcYASABLQAAgD8ypAIaGwkAAAAAAADwPxEAAAAAAADwPyEAAAAAACBZQBobCQAAAAAAAPA/EQAAAAAAAPA/IQAAAAAAIFlAGhsJAAAAAAAA8D8RAAAAAAAA8D8hAAAAAAAgWUAaGwkAAAAAAADwPxEAAAAAAADwPyEAAAAAACBZQBobCQAAAAAAAPA/EQAAAAAAAPA/IQAAAAAAIFlAGhsJAAAAAAAA8D8RAAAAAAAA8D8hAAAAAAAgWUAaGwkAAAAAAADwPxEAAAAAAADwPyEAAAAAACBZQBobCQAAAAAAAPA/EQAAAAAAAPA/IQAAAAAAIFlAGhsJAAAAAAAA8D8RAAAAAAAA8D8hAAAAAAAgWUAaGwkAAAAAAADwPxEAAAAAAADwPyEAAAAAACBZQCABQO0HEfyFerugTaNAGV8BrWI8epZAIAExAAAAAADookA5AAAAAACBs0BCmQIaEhHNzMzMzDR/QCEzMzMzM21YQBobCc3MzMzMNH9AEc3MzMzMNI9AIYmIiIiIzlpAGhsJzczMzMw0j0ARmpmZmZlnl0AhERERERG5W0AaGwmamZmZmWeXQBHNzMzMzDSfQCHv7u7u7hZbQBobCc3MzMzMNJ9AEQAAAAAAgaNAIURERERENlhAGhsJAAAAAACBo0ARmpmZmZlnp0AhilO/55Y2VUAaGwmamZmZmWenQBEzMzMzM06rQCErDUzOyTJZQBobCTMzMzMzTqtAEc3MzMzMNK9AIT21Uzu1c1dAGhsJzczMzMw0r0ARMzMzM7ONsUAh+diP/dgvW0AaGwkzMzMzs42xQBEAAAAAAIGzQCEWEREREfFXQEKbAhoSEQAAAAAAGIBAIQAAAAAAQFlAGhsJAAAAAAAYgEARAAAAAACwjkAhAAAAAABAWUAaGwkAAAAAALCOQBEAAAAAAKCWQCEAAAAAAABZQBobCQAAAAAAoJZAEQAAAAAAAJ5AIQAAAAAAQFlAGhsJAAAAAAAAnkARAAAAAADookAhAAAAAAAAWUAaGwkAAAAAAOiiQBEAAAAAAD6nQCEAAAAAAEBZQBobCQAAAAAAPqdAEQAAAAAAGqtAIQAAAAAAAFlAGhsJAAAAAAAaq0ARAAAAAAB2r0AhAAAAAABAWUAaGwkAAAAAAHavQBEAAAAAAIixQCEAAAAAAABZQBobCQAAAAAAiLFAEQAAAAAAgbNAIQAAAAAAAFlAIAFCEwoRX19pbmRleF9sZXZlbF8wX18KynkKDVRSQUlOX0RBVEFTRVQQmx8alQQQAiL+Awq2AgibHxgBIAEtAACAPzKkAhobCQAAAAAAAPA/EQAAAAAAAPA/IQAAAAAA+HhAGhsJAAAAAAAA8D8RAAAAAAAA8D8hAAAAAAD4eEAaGwkAAAAAAADwPxEAAAAAAADwPyEAAAAAAPh4QBobCQAAAAAAAPA/EQAAAAAAAPA/IQAAAAAA+HhAGhsJAAAAAAAA8D8RAAAAAAAA8D8hAAAAAAD4eEAaGwkAAAAAAADwPxEAAAAAAADwPyEAAAAAAPh4QBobCQAAAAAAAPA/EQAAAAAAAPA/IQAAAAAA+HhAGhsJAAAAAAAA8D8RAAAAAAAA8D8hAAAAAAD4eEAaGwkAAAAAAADwPxEAAAAAAADwPyEAAAAAAPh4QBobCQAAAAAAAPA/EQAAAAAAAPA/IQAAAAAA+HhAIAFAmx8QBBoWEgtub19jaGVja2luZxkAAAAAALiYQBoREgZsZXNzXzAZAAAAAAC0kUAaExIIMF90b18yMDAZAAAAAAAgkEAaFhILZ3JlYXRlcl8yMDAZAAAAAAAAb0AlgukMQSpkChYiC25vX2NoZWNraW5nKQAAAAAAuJhAChUIARABIgZsZXNzXzApAAAAAAC0kUAKFwgCEAIiCDBfdG9fMjAwKQAAAAAAIJBAChoIAxADIgtncmVhdGVyXzIwMCkAAAAAAABvQEIQCg5DaGVja2luZ1N0YXR1cxrFBxqyBwq2AgibHxgBIAEtAACAPzKkAhobCQAAAAAAAPA/EQAAAAAAAPA/IQAAAAAA+HhAGhsJAAAAAAAA8D8RAAAAAAAA8D8hAAAAAAD4eEAaGwkAAAAAAADwPxEAAAAAAADwPyEAAAAAAPh4QBobCQAAAAAAAPA/EQAAAAAAAPA/IQAAAAAA+HhAGhsJAAAAAAAA8D8RAAAAAAAA8D8hAAAAAAD4eEAaGwkAAAAAAADwPxEAAAAAAADwPyEAAAAAAPh4QBobCQAAAAAAAPA/EQAAAAAAAPA/IQAAAAAA+HhAGhsJAAAAAAAA8D8RAAAAAAAA8D8hAAAAAAD4eEAaGwkAAAAAAADwPxEAAAAAAADwPyEAAAAAAPh4QBobCQAAAAAAAPA/EQAAAAAAAPA/IQAAAAAA+HhAIAFAmx8RP9L9hU9lNUAZp6WGbuJYJkApAAAAAAAAEEAxAAAAAAAANUA5AAAAAAAAUEBCogIaGwkAAAAAAAAQQBEAAAAAAAAkQCEWAAAAADCJQBobCQAAAAAAACRAEQAAAAAAADBAIe7/////R4VAGhsJAAAAAAAAMEARAAAAAAAANkAh/v////8HhEAaGwkAAAAAAAA2QBEAAAAAAAA8QCEOAAAAAJCHQBobCQAAAAAAADxAEQAAAAAAAEFAIQAAAAAAgIJAGhsJAAAAAAAAQUARAAAAAAAAREAh+f////8vdUAaGwkAAAAAAABEQBEAAAAAAABHQCH///////9gQBobCQAAAAAAAEdAEQAAAAAAAEpAIQAAAAAAgEBAGhsJAAAAAAAASkARAAAAAAAATUAhbtu2bdu2IUAaGwkAAAAAAABNQBEAAAAAAABQQCEkSZIkSZIQQEKkAhobCQAAAAAAABBAEQAAAAAAABhAIQAAAAAAsHpAGhsJAAAAAAAAGEARAAAAAAAAJEAhAAAAAACwd0AaGwkAAAAAAAAkQBEAAAAAAAAsQCEAAAAAAJB6QBobCQAAAAAAACxAEQAAAAAAADFAIQAAAAAAUHdAGhsJAAAAAAAAMUARAAAAAAAANUAhAAAAAABwekAaGwkAAAAAAAA1QBEAAAAAAAA5QCEAAAAAAPB9QBobCQAAAAAAADlAEQAAAAAAADxAIQAAAAAAgHdAGhsJAAAAAAAAPEARAAAAAAAAP0AhAAAAAABgdEAaGwkAAAAAAAA/QBEAAAAAAABCQCEAAAAAANB5QBobCQAAAAAAAEJAEQAAAAAAAFBAIQAAAAAAYHdAIAFCDgoMTG9hbkR1cmF0aW9uGqEFEAIiiwUKtgIImx8YASABLQAAgD8ypAIaGwkAAAAAAADwPxEAAAAAAADwPyEAAAAAAPh4QBobCQAAAAAAAPA/EQAAAAAAAPA/IQAAAAAA+HhAGhsJAAAAAAAA8D8RAAAAAAAA8D8hAAAAAAD4eEAaGwkAAAAAAADwPxEAAAAAAADwPyEAAAAAAPh4QBobCQAAAAAAAPA/EQAAAAAAAPA/IQAAAAAA+HhAGhsJAAAAAAAA8D8RAAAAAAAA8D8hAAAAAAD4eEAaGwkAAAAAAADwPxEAAAAAAADwPyEAAAAAAPh4QBobCQAAAAAAAPA/EQAAAAAAAPA/IQAAAAAA+HhAGhsJAAAAAAAA8D8RAAAAAAAA8D8hAAAAAAD4eEAaGwkAAAAAAADwPxEAAAAAAADwPyEAAAAAAPh4QCABQJsfEAUaIRIWcHJpb3JfcGF5bWVudHNfZGVsYXllZBkAAAAAANyUQBofEhRjcmVkaXRzX3BhaWRfdG9fZGF0ZRkAAAAAAJSSQBodEhJvdXRzdGFuZGluZ19jcmVkaXQZAAAAAADIh0AaIBIVYWxsX2NyZWRpdHNfcGFpZF9iYWNrGQAAAAAAYINAGhUSCm5vX2NyZWRpdHMZAAAAAACAVkAl+byhQSqsAQohIhZwcmlvcl9wYXltZW50c19kZWxheWVkKQAAAAAA3JRACiMIARABIhRjcmVkaXRzX3BhaWRfdG9fZGF0ZSkAAAAAAJSSQAohCAIQAiISb3V0c3RhbmRpbmdfY3JlZGl0KQAAAAAAyIdACiQIAxADIhVhbGxfY3JlZGl0c19wYWlkX2JhY2spAAAAAABgg0AKGQgEEAQiCm5vX2NyZWRpdHMpAAAAAACAVkBCDwoNQ3JlZGl0SGlzdG9yeRrPBhACIrsGCrYCCJsfGAEgAS0AAIA/MqQCGhsJAAAAAAAA8D8RAAAAAAAA8D8hAAAAAAD4eEAaGwkAAAAAAADwPxEAAAAAAADwPyEAAAAAAPh4QBobCQAAAAAAAPA/EQAAAAAAAPA/IQAAAAAA+HhAGhsJAAAAAAAA8D8RAAAAAAAA8D8hAAAAAAD4eEAaGwkAAAAAAADwPxEAAAAAAADwPyEAAAAAAPh4QBobCQAAAAAAAPA/EQAAAAAAAPA/IQAAAAAA+HhAGhsJAAAAAAAA8D8RAAAAAAAA8D8hAAAAAAD4eEAaGwkAAAAAAADwPxEAAAAAAADwPyEAAAAAAPh4QBobCQAAAAAAAPA/EQAAAAAAAPA/IQAAAAAA+HhAGhsJAAAAAAAA8D8RAAAAAAAA8D8hAAAAAAD4eEAgAUCbHxALGhISB2Nhcl9uZXcZAAAAAABAh0AaFBIJZnVybml0dXJlGQAAAAAAUIVAGhMSCGNhcl91c2VkGQAAAAAASIRAGhMSCHJhZGlvX3R2GQAAAAAAyIJAGhUSCmFwcGxpYW5jZXMZAAAAAAAgfEAaEhIHcmVwYWlycxkAAAAAACBtQBoTEgh2YWNhdGlvbhkAAAAAAKBkQBoUEgllZHVjYXRpb24ZAAAAAAAAYUAaFRIKcmV0cmFpbmluZxkAAAAAAMBgQBoTEghidXNpbmVzcxkAAAAAAMBbQBoQEgVvdGhlchkAAAAAAIBWQCWv9QJBKpACChIiB2Nhcl9uZXcpAAAAAABAh0AKGAgBEAEiCWZ1cm5pdHVyZSkAAAAAAFCFQAoXCAIQAiIIY2FyX3VzZWQpAAAAAABIhEAKFwgDEAMiCHJhZGlvX3R2KQAAAAAAyIJAChkIBBAEIgphcHBsaWFuY2VzKQAAAAAAIHxAChYIBRAFIgdyZXBhaXJzKQAAAAAAIG1AChcIBhAGIgh2YWNhdGlvbikAAAAAAKBkQAoYCAcQByIJZWR1Y2F0aW9uKQAAAAAAAGFAChkICBAIIgpyZXRyYWluaW5nKQAAAAAAwGBAChcICRAJIghidXNpbmVzcykAAAAAAMBbQAoUCAoQCiIFb3RoZXIpAAAAAACAVkBCDQoLTG9hblB1cnBvc2UawwcasgcKtgIImx8YASABLQAAgD8ypAIaGwkAAAAAAADwPxEAAAAAAADwPyEAAAAAAPh4QBobCQAAAAAAAPA/EQAAAAAAAPA/IQAAAAAA+HhAGhsJAAAAAAAA8D8RAAAAAAAA8D8hAAAAAAD4eEAaGwkAAAAAAADwPxEAAAAAAADwPyEAAAAAAPh4QBobCQAAAAAAAPA/EQAAAAAAAPA/IQAAAAAA+HhAGhsJAAAAAAAA8D8RAAAAAAAA8D8hAAAAAAD4eEAaGwkAAAAAAADwPxEAAAAAAADwPyEAAAAAAPh4QBobCQAAAAAAAPA/EQAAAAAAAPA/IQAAAAAA+HhAGhsJAAAAAAAA8D8RAAAAAAAA8D8hAAAAAAD4eEAaGwkAAAAAAADwPxEAAAAAAADwPyEAAAAAAPh4QCABQJsfEbXQxWPxQatAGZy6bkZiiKNAKQAAAAAAQG9AMQAAAAAASqlAOQAAAAAAzsZAQqICGhsJAAAAAABAb0ARZmZmZmbClUAhBwAAAAAakEAaGwlmZmZmZsKVQBFmZmZmZs6jQCHhehSuR3WCQBobCWZmZmZmzqNAEZmZmZmZu6xAIWCiv5PVaoJAGhsJmZmZmZm7rEARZmZmZmbUskAhf/mXf/k/gUAaGwlmZmZmZtSyQBEAAAAAAEu3QCGA0id90t9+QBobCQAAAAAAS7dAEZmZmZmZwbtAIf3/////+3dAGhsJmZmZmZnBu0ARmZmZmRkcwEAhKPnFkl8ka0AaGwmZmZmZGRzAQBFmZmZmZlfCQCFqBv+JOfJUQBobCWZmZmZmV8JAETMzMzOzksRAIdRBHdRB1UNAGhsJMzMzM7OSxEARAAAAAADOxkAhQDMzMzNTLEBCpAIaGwkAAAAAAEBvQBEAAAAAAEBvQCEAAAAAAEiCQBobCQAAAAAAQG9AEQAAAAAAWItAIQAAAAAA4GpAGhsJAAAAAABYi0ARAAAAAACQm0AhAAAAAADweEAaGwkAAAAAAJCbQBEAAAAAAGajQCEAAAAAAAB5QBobCQAAAAAAZqNAEQAAAAAASqlAIQAAAAAAIHlAGhsJAAAAAABKqUARAAAAAAC6r0AhAAAAAADQeEAaGwkAAAAAALqvQBEAAAAAABGzQCEAAAAAAPB4QBobCQAAAAAAEbNAEQAAAAAAwrZAIQAAAAAAAHlAGhsJAAAAAADCtkARAAAAAAAku0AhAAAAAADweEAaGwkAAAAAACS7QBEAAAAAAM7GQCEAAAAAAPB4QCABQgwKCkxvYW5BbW91bnQazQQQAiK1BAq2AgibHxgBIAEtAACAPzKkAhobCQAAAAAAAPA/EQAAAAAAAPA/IQAAAAAA+HhAGhsJAAAAAAAA8D8RAAAAAAAA8D8hAAAAAAD4eEAaGwkAAAAAAADwPxEAAAAAAADwPyEAAAAAAPh4QBobCQAAAAAAAPA/EQAAAAAAAPA/IQAAAAAA+HhAGhsJAAAAAAAA8D8RAAAAAAAA8D8hAAAAAAD4eEAaGwkAAAAAAADwPxEAAAAAAADwPyEAAAAAAPh4QBobCQAAAAAAAPA/EQAAAAAAAPA/IQAAAAAA+HhAGhsJAAAAAAAA8D8RAAAAAAAA8D8hAAAAAAD4eEAaGwkAAAAAAADwPxEAAAAAAADwPyEAAAAAAPh4QBobCQAAAAAAAPA/EQAAAAAAAPA/IQAAAAAA+HhAIAFAmx8QBRoTEghsZXNzXzEwMBkAAAAAACSXQBoVEgoxMDBfdG9fNTAwGQAAAAAACIxAGhYSCzUwMF90b18xMDAwGQAAAAAAGItAGhcSDGdyZWF0ZXJfMTAwMBkAAAAAABB8QBoSEgd1bmtub3duGQAAAAAA0HJAJemWF0EqgQEKEyIIbGVzc18xMDApAAAAAAAkl0AKGQgBEAEiCjEwMF90b181MDApAAAAAAAIjEAKGggCEAIiCzUwMF90b18xMDAwKQAAAAAAGItAChsIAxADIgxncmVhdGVyXzEwMDApAAAAAAAQfEAKFggEEAQiB3Vua25vd24pAAAAAADQckBCEQoPRXhpc3RpbmdTYXZpbmdzGrkEEAIingQKtgIImx8YASABLQAAgD8ypAIaGwkAAAAAAADwPxEAAAAAAADwPyEAAAAAAPh4QBobCQAAAAAAAPA/EQAAAAAAAPA/IQAAAAAA+HhAGhsJAAAAAAAA8D8RAAAAAAAA8D8hAAAAAAD4eEAaGwkAAAAAAADwPxEAAAAAAADwPyEAAAAAAPh4QBobCQAAAAAAAPA/EQAAAAAAAPA/IQAAAAAA+HhAGhsJAAAAAAAA8D8RAAAAAAAA8D8hAAAAAAD4eEAaGwkAAAAAAADwPxEAAAAAAADwPyEAAAAAAPh4QBobCQAAAAAAAPA/EQAAAAAAAPA/IQAAAAAA+HhAGhsJAAAAAAAA8D8RAAAAAAAA8D8hAAAAAAD4eEAaGwkAAAAAAADwPxEAAAAAAADwPyEAAAAAAPh4QCABQJsfEAUaERIGMV90b180GQAAAAAAPJJAGhESBjRfdG9fNxkAAAAAADyRQBoUEglncmVhdGVyXzcZAAAAAAB4h0AaERIGbGVzc18xGQAAAAAA2IZAGhUSCnVuZW1wbG95ZWQZAAAAAABgbkAlEdXZQCp2ChEiBjFfdG9fNCkAAAAAADySQAoVCAEQASIGNF90b183KQAAAAAAPJFAChgIAhACIglncmVhdGVyXzcpAAAAAAB4h0AKFQgDEAMiBmxlc3NfMSkAAAAAANiGQAoZCAQQBCIKdW5lbXBsb3llZCkAAAAAAGBuQEIUChJFbXBsb3ltZW50RHVyYXRpb24aywcasgcKtgIImx8YASABLQAAgD8ypAIaGwkAAAAAAADwPxEAAAAAAADwPyEAAAAAAPh4QBobCQAAAAAAAPA/EQAAAAAAAPA/IQAAAAAA+HhAGhsJAAAAAAAA8D8RAAAAAAAA8D8hAAAAAAD4eEAaGwkAAAAAAADwPxEAAAAAAADwPyEAAAAAAPh4QBobCQAAAAAAAPA/EQAAAAAAAPA/IQAAAAAA+HhAGhsJAAAAAAAA8D8RAAAAAAAA8D8hAAAAAAD4eEAaGwkAAAAAAADwPxEAAAAAAADwPyEAAAAAAPh4QBobCQAAAAAAAPA/EQAAAAAAAPA/IQAAAAAA+HhAGhsJAAAAAAAA8D8RAAAAAAAA8D8hAAAAAAD4eEAaGwkAAAAAAADwPxEAAAAAAADwPyEAAAAAAPh4QCABQJsfEYAoGIVZ0QdAGTMxHQkSF/I/KQAAAAAAAPA/MQAAAAAAAAhAOQAAAAAAABhAQqICGhsJAAAAAAAA8D8RAAAAAAAA+D8hjeaXgeb/eUAaGwkAAAAAAAD4PxEAAAAAAAAAQCHlDDS/DPiNQBobCQAAAAAAAABAEQAAAAAAAARAIQAAAAAAAABAGhsJAAAAAAAABEARAAAAAAAACEAhAAAAAABYlEAaGwkAAAAAAAAIQBEAAAAAAAAMQCFUL+ZTL+b/PxobCQAAAAAAAAxAEQAAAAAAABBAIc4MVugMmI1AGhsJAAAAAAAAEEARAAAAAAAAEkAhAAAAAAAAAEAaGwkAAAAAAAASQBEAAAAAAAAUQCEAAAAAAOB1QBobCQAAAAAAABRAEQAAAAAAABZAIQAAAAAAAP4/GhsJAAAAAAAAFkARAAAAAAAAGEAhAAAAAABAKkBCpAIaGwkAAAAAAADwPxEAAAAAAADwPyEAAAAAAOB5QBobCQAAAAAAAPA/EQAAAAAAAABAIQAAAAAACH5AGhsJAAAAAAAAAEARAAAAAAAAAEAhAAAAAAAIfkAaGwkAAAAAAAAAQBEAAAAAAAAIQCGrqqqqqip7QBobCQAAAAAAAAhAEQAAAAAAAAhAIauqqqqqKntAGhsJAAAAAAAACEARAAAAAAAACEAhq6qqqqoqe0AaGwkAAAAAAAAIQBEAAAAAAAAQQCFVVVVVVcVzQBobCQAAAAAAABBAEQAAAAAAABBAIVVVVVVVxXNAGhsJAAAAAAAAEEARAAAAAAAAEEAhVVVVVVXFc0AaGwkAAAAAAAAQQBEAAAAAAAAYQCEAAAAAAPB2QCABQhQKEkluc3RhbGxtZW50UGVyY2VudBqaAxACIo4DCrYCCJsfGAEgAS0AAIA/MqQCGhsJAAAAAAAA8D8RAAAAAAAA8D8hAAAAAAD4eEAaGwkAAAAAAADwPxEAAAAAAADwPyEAAAAAAPh4QBobCQAAAAAAAPA/EQAAAAAAAPA/IQAAAAAA+HhAGhsJAAAAAAAA8D8RAAAAAAAA8D8hAAAAAAD4eEAaGwkAAAAAAADwPxEAAAAAAADwPyEAAAAAAPh4QBobCQAAAAAAAPA/EQAAAAAAAPA/IQAAAAAA+HhAGhsJAAAAAAAA8D8RAAAAAAAA8D8hAAAAAAD4eEAaGwkAAAAAAADwPxEAAAAAAADwPyEAAAAAAPh4QBobCQAAAAAAAPA/EQAAAAAAAPA/IQAAAAAA+HhAGhsJAAAAAAAA8D8RAAAAAAAA8D8hAAAAAAD4eEAgAUCbHxACGg8SBG1hbGUZAAAAAABio0AaERIGZmVtYWxlGQAAAAAAqJdAJRtBmEAqKAoPIgRtYWxlKQAAAAAAYqNAChUIARABIgZmZW1hbGUpAAAAAACol0BCBQoDU2V4Gt8DEAIiygMKtgIImx8YASABLQAAgD8ypAIaGwkAAAAAAADwPxEAAAAAAADwPyEAAAAAAPh4QBobCQAAAAAAAPA/EQAAAAAAAPA/IQAAAAAA+HhAGhsJAAAAAAAA8D8RAAAAAAAA8D8hAAAAAAD4eEAaGwkAAAAAAADwPxEAAAAAAADwPyEAAAAAAPh4QBobCQAAAAAAAPA/EQAAAAAAAPA/IQAAAAAA+HhAGhsJAAAAAAAA8D8RAAAAAAAA8D8hAAAAAAD4eEAaGwkAAAAAAADwPxEAAAAAAADwPyEAAAAAAPh4QBobCQAAAAAAAPA/EQAAAAAAAPA/IQAAAAAA+HhAGhsJAAAAAAAA8D8RAAAAAAAA8D8hAAAAAAD4eEAaGwkAAAAAAADwPxEAAAAAAADwPyEAAAAAAPh4QCABQJsfEAMaDxIEbm9uZRkAAAAAABKqQBoXEgxjby1hcHBsaWNhbnQZAAAAAADggUAaFBIJZ3VhcmFudG9yGQAAAAAAgFVAJR8ZqEAqSAoPIgRub25lKQAAAAAAEqpAChsIARABIgxjby1hcHBsaWNhbnQpAAAAAADggUAKGAgCEAIiCWd1YXJhbnRvcikAAAAAAIBVQEIOCgxPdGhlcnNPbkxvYW4a0QcasgcKtgIImx8YASABLQAAgD8ypAIaGwkAAAAAAADwPxEAAAAAAADwPyEAAAAAAPh4QBobCQAAAAAAAPA/EQAAAAAAAPA/IQAAAAAA+HhAGhsJAAAAAAAA8D8RAAAAAAAA8D8hAAAAAAD4eEAaGwkAAAAAAADwPxEAAAAAAADwPyEAAAAAAPh4QBobCQAAAAAAAPA/EQAAAAAAAPA/IQAAAAAA+HhAGhsJAAAAAAAA8D8RAAAAAAAA8D8hAAAAAAD4eEAaGwkAAAAAAADwPxEAAAAAAADwPyEAAAAAAPh4QBobCQAAAAAAAPA/EQAAAAAAAPA/IQAAAAAA+HhAGhsJAAAAAAAA8D8RAAAAAAAA8D8hAAAAAAD4eEAaGwkAAAAAAADwPxEAAAAAAADwPyEAAAAAAPh4QCABQJsfEXcfD3xQyAZAGYJFvJM+7/E/KQAAAAAAAPA/MQAAAAAAAAhAOQAAAAAAABhAQqICGhsJAAAAAAAA8D8RAAAAAAAA+D8hDQKa6/tfgEAaGwkAAAAAAAD4PxEAAAAAAAAAQCHO/WUUBEiPQBobCQAAAAAAAABAEQAAAAAAAARAIfqznD/L+f8/GhsJAAAAAAAABEARAAAAAAAACEAh1hgwjQGUlEAaGwkAAAAAAAAIQBEAAAAAAAAMQCF/tD/aH+3/PxobCQAAAAAAAAxAEQAAAAAAABBAIfrfEnAJAItAGhsJAAAAAAAAEEARAAAAAAAAEkAhyvjtUk/G/z8aGwkAAAAAAAASQBEAAAAAAAAUQCEHEq2wOYBxQBobCQAAAAAAABRAEQAAAAAAABZAIQAAAAAAAPg/GhsJAAAAAAAAFkARAAAAAAAAGEAhAAAAAAAA+D9CpAIaGwkAAAAAAADwPxEAAAAAAADwPyEAAAAAAFCAQBobCQAAAAAAAPA/EQAAAAAAAABAIQAAAAAAWH9AGhsJAAAAAAAAAEARAAAAAAAAAEAhAAAAAABYf0AaGwkAAAAAAAAAQBEAAAAAAAAIQCEAAAAAAJx0QBobCQAAAAAAAAhAEQAAAAAAAAhAIQAAAAAAnHRAGhsJAAAAAAAACEARAAAAAAAACEAhAAAAAACcdEAaGwkAAAAAAAAIQBEAAAAAAAAIQCEAAAAAAJx0QBobCQAAAAAAAAhAEQAAAAAAABBAIQAAAAAAEHtAGhsJAAAAAAAAEEARAAAAAAAAEEAhAAAAAAAQe0AaGwkAAAAAAAAQQBEAAAAAAAAYQCEAAAAAANBxQCABQhoKGEN1cnJlbnRSZXNpZGVuY2VEdXJhdGlvbhqjBBACIo4ECrYCCJsfGAEgAS0AAIA/MqQCGhsJAAAAAAAA8D8RAAAAAAAA8D8hAAAAAAD4eEAaGwkAAAAAAADwPxEAAAAAAADwPyEAAAAAAPh4QBobCQAAAAAAAPA/EQAAAAAAAPA/IQAAAAAA+HhAGhsJAAAAAAAA8D8RAAAAAAAA8D8hAAAAAAD4eEAaGwkAAAAAAADwPxEAAAAAAADwPyEAAAAAAPh4QBobCQAAAAAAAPA/EQAAAAAAAPA/IQAAAAAA+HhAGhsJAAAAAAAA8D8RAAAAAAAA8D8hAAAAAAD4eEAaGwkAAAAAAADwPxEAAAAAAADwPyEAAAAAAPh4QBobCQAAAAAAAPA/EQAAAAAAAPA/IQAAAAAA+HhAGhsJAAAAAAAA8D8RAAAAAAAA8D8hAAAAAAD4eEAgAUCbHxAEGhwSEXNhdmluZ3NfaW5zdXJhbmNlGQAAAAAAiJRAGhQSCWNhcl9vdGhlchkAAAAAAASTQBoWEgtyZWFsX2VzdGF0ZRkAAAAAAHiLQBoSEgd1bmtub3duGQAAAAAASIJAJaB0PEEqbAocIhFzYXZpbmdzX2luc3VyYW5jZSkAAAAAAIiUQAoYCAEQASIJY2FyX290aGVyKQAAAAAABJNAChoIAhACIgtyZWFsX2VzdGF0ZSkAAAAAAHiLQAoWCAMQAyIHdW5rbm93bikAAAAAAEiCQEIOCgxPd25zUHJvcGVydHkavAcasgcKtgIImx8YASABLQAAgD8ypAIaGwkAAAAAAADwPxEAAAAAAADwPyEAAAAAAPh4QBobCQAAAAAAAPA/EQAAAAAAAPA/IQAAAAAA+HhAGhsJAAAAAAAA8D8RAAAAAAAA8D8hAAAAAAD4eEAaGwkAAAAAAADwPxEAAAAAAADwPyEAAAAAAPh4QBobCQAAAAAAAPA/EQAAAAAAAPA/IQAAAAAA+HhAGhsJAAAAAAAA8D8RAAAAAAAA8D8hAAAAAAD4eEAaGwkAAAAAAADwPxEAAAAAAADwPyEAAAAAAPh4QBobCQAAAAAAAPA/EQAAAAAAAPA/IQAAAAAA+HhAGhsJAAAAAAAA8D8RAAAAAAAA8D8hAAAAAAD4eEAaGwkAAAAAAADwPxEAAAAAAADwPyEAAAAAAPh4QCABQJsfEfs7iDZX/UFAGdkl+YWZWiVAKQAAAAAAADNAMQAAAAAAAEJAOQAAAAAAgFJAQqICGhsJAAAAAAAAM0ARAAAAAACAOEAhep7neZ6HhUAaGwkAAAAAAIA4QBEAAAAAAAA+QCGHYRiGYSiDQBobCQAAAAAAAD5AEQAAAAAAwEFAIWkcx3EcQIRAGhsJAAAAAADAQUARAAAAAACAREAhpeM4juOviEAaGwkAAAAAAIBEQBEAAAAAAEBHQCH1/////3+BQBobCQAAAAAAQEdAEQAAAAAAAEpAIfX/////H3tAGhsJAAAAAAAASkARAAAAAADATEAhBAAAAABEZkAaGwkAAAAAAMBMQBEAAAAAAIBPQCH//////+9PQBobCQAAAAAAgE9AEQAAAAAAIFFAIQAAAAAAAC1AGhsJAAAAAAAgUUARAAAAAACAUkAhAAAAAAAAEkBCpAIaGwkAAAAAAAAzQBEAAAAAAAA1QCEAAAAAANB8QBobCQAAAAAAADVAEQAAAAAAADpAIQAAAAAA4HhAGhsJAAAAAAAAOkARAAAAAAAAPUAhAAAAAABAdUAaGwkAAAAAAAA9QBEAAAAAAIBAQCEAAAAAABB/QBobCQAAAAAAgEBAEQAAAAAAAEJAIQAAAAAA0HhAGhsJAAAAAAAAQkARAAAAAACAQ0AhAAAAAAAwd0AaGwkAAAAAAIBDQBEAAAAAAABFQCEAAAAAAEB5QBobCQAAAAAAAEVAEQAAAAAAAEdAIQAAAAAA4HpAGhsJAAAAAAAAR0ARAAAAAAAASUAhAAAAAAAQdEAaGwkAAAAAAABJQBEAAAAAAIBSQCEAAAAAAIB3QCABQgUKA0FnZRrNAxACIrQDCrYCCJsfGAEgAS0AAIA/MqQCGhsJAAAAAAAA8D8RAAAAAAAA8D8hAAAAAAD4eEAaGwkAAAAAAADwPxEAAAAAAADwPyEAAAAAAPh4QBobCQAAAAAAAPA/EQAAAAAAAPA/IQAAAAAA+HhAGhsJAAAAAAAA8D8RAAAAAAAA8D8hAAAAAAD4eEAaGwkAAAAAAADwPxEAAAAAAADwPyEAAAAAAPh4QBobCQAAAAAAAPA/EQAAAAAAAPA/IQAAAAAA+HhAGhsJAAAAAAAA8D8RAAAAAAAA8D8hAAAAAAD4eEAaGwkAAAAAAADwPxEAAAAAAADwPyEAAAAAAPh4QBobCQAAAAAAAPA/EQAAAAAAAPA/IQAAAAAA+HhAGhsJAAAAAAAA8D8RAAAAAAAA8D8hAAAAAAD4eEAgAUCbHxADGg8SBG5vbmUZAAAAAADupUAaERIGc3RvcmVzGQAAAAAAWIlAGg8SBGJhbmsZAAAAAACQd0AlA/6MQCo9Cg8iBG5vbmUpAAAAAADupUAKFQgBEAEiBnN0b3JlcykAAAAAAFiJQAoTCAIQAiIEYmFuaykAAAAAAJB3QEISChBJbnN0YWxsbWVudFBsYW5zGr4DEAIirgMKtgIImx8YASABLQAAgD8ypAIaGwkAAAAAAADwPxEAAAAAAADwPyEAAAAAAPh4QBobCQAAAAAAAPA/EQAAAAAAAPA/IQAAAAAA+HhAGhsJAAAAAAAA8D8RAAAAAAAA8D8hAAAAAAD4eEAaGwkAAAAAAADwPxEAAAAAAADwPyEAAAAAAPh4QBobCQAAAAAAAPA/EQAAAAAAAPA/IQAAAAAA+HhAGhsJAAAAAAAA8D8RAAAAAAAA8D8hAAAAAAD4eEAaGwkAAAAAAADwPxEAAAAAAADwPyEAAAAAAPh4QBobCQAAAAAAAPA/EQAAAAAAAPA/IQAAAAAA+HhAGhsJAAAAAAAA8D8RAAAAAAAA8D8hAAAAAAD4eEAaGwkAAAAAAADwPxEAAAAAAADwPyEAAAAAAPh4QCABQJsfEAMaDhIDb3duGQAAAAAA2qNAGg8SBHJlbnQZAAAAAAAQi0AaDxIEZnJlZRkAAAAAAGCCQCUKS1dAKjoKDiIDb3duKQAAAAAA2qNAChMIARABIgRyZW50KQAAAAAAEItAChMIAhACIgRmcmVlKQAAAAAAYIJAQgkKB0hvdXNpbmcazQcasgcKtgIImx8YASABLQAAgD8ypAIaGwkAAAAAAADwPxEAAAAAAADwPyEAAAAAAPh4QBobCQAAAAAAAPA/EQAAAAAAAPA/IQAAAAAA+HhAGhsJAAAAAAAA8D8RAAAAAAAA8D8hAAAAAAD4eEAaGwkAAAAAAADwPxEAAAAAAADwPyEAAAAAAPh4QBobCQAAAAAAAPA/EQAAAAAAAPA/IQAAAAAA+HhAGhsJAAAAAAAA8D8RAAAAAAAA8D8hAAAAAAD4eEAaGwkAAAAAAADwPxEAAAAAAADwPyEAAAAAAPh4QBobCQAAAAAAAPA/EQAAAAAAAPA/IQAAAAAA+HhAGhsJAAAAAAAA8D8RAAAAAAAA8D8hAAAAAAD4eEAaGwkAAAAAAADwPxEAAAAAAADwPyEAAAAAAPh4QCABQJsfERHQg9W0jvc/GTni+KboKuI/KQAAAAAAAPA/MQAAAAAAAPA/OQAAAAAAABBAQqICGhsJAAAAAAAA8D8RzczMzMzM9D8hk8DKoWWcoUAaGwnNzMzMzMz0PxGamZmZmZn5PyGUGARWDi3zPxobCZqZmZmZmfk/EWZmZmZmZv4/IZAYBFYOLfM/GhsJZmZmZmZm/j8RmpmZmZmZAUAhMaoXuMvsmEAaGwmamZmZmZkBQBEAAAAAAAAEQCEOERERERHzPxobCQAAAAAAAARAEWZmZmZmZgZAIQ4REREREfM/GhsJZmZmZmZmBkARzczMzMzMCEAh3IIt2IJ9YUAaGwnNzMzMzMwIQBEzMzMzMzMLQCEwMzMzMzPTPxobCTMzMzMzMwtAEZmZmZmZmQ1AITAzMzMzM9M/GhsJmZmZmZmZDUARAAAAAAAAEEAhODMzMzMz0z9CpAIaGwkAAAAAAADwPxEAAAAAAADwPyGamZmZmSl8QBobCQAAAAAAAPA/EQAAAAAAAPA/IZqZmZmZKXxAGhsJAAAAAAAA8D8RAAAAAAAA8D8hmpmZmZkpfEAaGwkAAAAAAADwPxEAAAAAAADwPyGamZmZmSl8QBobCQAAAAAAAPA/EQAAAAAAAPA/IZqZmZmZKXxAGhsJAAAAAAAA8D8RAAAAAAAAAEAhAAAAAAD4eEAaGwkAAAAAAAAAQBEAAAAAAAAAQCEAAAAAAPh4QBobCQAAAAAAAABAEQAAAAAAAABAIQAAAAAA+HhAGhsJAAAAAAAAAEARAAAAAAAAAEAhAAAAAAD4eEAaGwkAAAAAAAAAQBEAAAAAAAAQQCEAAAAAAABiQCABQhYKFEV4aXN0aW5nQ3JlZGl0c0NvdW50GqYEEAIimgQKtgIImx8YASABLQAAgD8ypAIaGwkAAAAAAADwPxEAAAAAAADwPyEAAAAAAPh4QBobCQAAAAAAAPA/EQAAAAAAAPA/IQAAAAAA+HhAGhsJAAAAAAAA8D8RAAAAAAAA8D8hAAAAAAD4eEAaGwkAAAAAAADwPxEAAAAAAADwPyEAAAAAAPh4QBobCQAAAAAAAPA/EQAAAAAAAPA/IQAAAAAA+HhAGhsJAAAAAAAA8D8RAAAAAAAA8D8hAAAAAAD4eEAaGwkAAAAAAADwPxEAAAAAAADwPyEAAAAAAPh4QBobCQAAAAAAAPA/EQAAAAAAAPA/IQAAAAAA+HhAGhsJAAAAAAAA8D8RAAAAAAAA8D8hAAAAAAD4eEAaGwkAAAAAAADwPxEAAAAAAADwPyEAAAAAAPh4QCABQJsfEAQaEhIHc2tpbGxlZBkAAAAAADqlQBoUEgl1bnNraWxsZWQZAAAAAACogEAaIxIYbWFuYWdlbWVudF9zZWxmLWVtcGxveWVkGQAAAAAA4H9AGhUSCnVuZW1wbG95ZWQZAAAAAABgbUAl99AZQSpyChIiB3NraWxsZWQpAAAAAAA6pUAKGAgBEAEiCXVuc2tpbGxlZCkAAAAAAKiAQAonCAIQAiIYbWFuYWdlbWVudF9zZWxmLWVtcGxveWVkKQAAAAAA4H9AChkIAxADIgp1bmVtcGxveWVkKQAAAAAAYG1AQgUKA0pvYhrDBxqyBwq2AgibHxgBIAEtAACAPzKkAhobCQAAAAAAAPA/EQAAAAAAAPA/IQAAAAAA+HhAGhsJAAAAAAAA8D8RAAAAAAAA8D8hAAAAAAD4eEAaGwkAAAAAAADwPxEAAAAAAADwPyEAAAAAAPh4QBobCQAAAAAAAPA/EQAAAAAAAPA/IQAAAAAA+HhAGhsJAAAAAAAA8D8RAAAAAAAA8D8hAAAAAAD4eEAaGwkAAAAAAADwPxEAAAAAAADwPyEAAAAAAPh4QBobCQAAAAAAAPA/EQAAAAAAAPA/IQAAAAAA+HhAGhsJAAAAAAAA8D8RAAAAAAAA8D8hAAAAAAD4eEAaGwkAAAAAAADwPxEAAAAAAADwPyEAAAAAAPh4QBobCQAAAAAAAPA/EQAAAAAAAPA/IQAAAAAA+HhAIAFAmx8RtjObPv2w8j8Z8huxkHvw1z8pAAAAAAAA8D8xAAAAAAAA8D85AAAAAAAAAEBCogIaGwkAAAAAAADwPxGamZmZmZnxPyHhBpKWy/apQBobCZqZmZmZmfE/ETMzMzMzM/M/IV5I1UDSctk/GhsJMzMzMzMz8z8RzczMzMzM9D8hbkjVQNJy2T8aGwnNzMzMzMz0PxFmZmZmZmb2PyFeSNVA0nLZPxobCWZmZmZmZvY/EQAAAAAAAPg/IW5I1UDSctk/GhsJAAAAAAAA+D8RmpmZmZmZ+T8hbkjVQNJy2T8aGwmamZmZmZn5PxE0MzMzMzP7PyFuSNVA0nLZPxobCTQzMzMzM/s/Ec3MzMzMzPw/IV5I1UDSctk/GhsJzczMzMzM/D8RZmZmZmZm/j8hXkjVQNJy2T8aGwlmZmZmZmb+PxEAAAAAAAAAQCEhEHfTXuOEQEKkAhobCQAAAAAAAPA/EQAAAAAAAPA/IQAAAAAA9nlAGhsJAAAAAAAA8D8RAAAAAAAA8D8hAAAAAAD2eUAaGwkAAAAAAADwPxEAAAAAAADwPyEAAAAAAPZ5QBobCQAAAAAAAPA/EQAAAAAAAPA/IQAAAAAA9nlAGhsJAAAAAAAA8D8RAAAAAAAA8D8hAAAAAAD2eUAaGwkAAAAAAADwPxEAAAAAAADwPyEAAAAAAPZ5QBobCQAAAAAAAPA/EQAAAAAAAPA/IQAAAAAA9nlAGhsJAAAAAAAA8D8RAAAAAAAA8D8hAAAAAAD2eUAaGwkAAAAAAADwPxEAAAAAAAAAQCEAAAAAAAB1QBobCQAAAAAAAABAEQAAAAAAAABAIQAAAAAAAHVAIAFCDAoKRGVwZW5kZW50cxqaAxACIogDCrYCCJsfGAEgAS0AAIA/MqQCGhsJAAAAAAAA8D8RAAAAAAAA8D8hAAAAAAD4eEAaGwkAAAAAAADwPxEAAAAAAADwPyEAAAAAAPh4QBobCQAAAAAAAPA/EQAAAAAAAPA/IQAAAAAA+HhAGhsJAAAAAAAA8D8RAAAAAAAA8D8hAAAAAAD4eEAaGwkAAAAAAADwPxEAAAAAAADwPyEAAAAAAPh4QBobCQAAAAAAAPA/EQAAAAAAAPA/IQAAAAAA+HhAGhsJAAAAAAAA8D8RAAAAAAAA8D8hAAAAAAD4eEAaGwkAAAAAAADwPxEAAAAAAADwPyEAAAAAAPh4QBobCQAAAAAAAPA/EQAAAAAAAPA/IQAAAAAA+HhAGhsJAAAAAAAA8D8RAAAAAAAA8D8hAAAAAAD4eEAgAUCbHxACGg8SBG5vbmUZAAAAAABGokAaDhIDeWVzGQAAAAAA4JlAJYl4ZUAqJQoPIgRub25lKQAAAAAARqJAChIIARABIgN5ZXMpAAAAAADgmUBCCwoJVGVsZXBob25lGpoDEAIihAMKtgIImx8YASABLQAAgD8ypAIaGwkAAAAAAADwPxEAAAAAAADwPyEAAAAAAPh4QBobCQAAAAAAAPA/EQAAAAAAAPA/IQAAAAAA+HhAGhsJAAAAAAAA8D8RAAAAAAAA8D8hAAAAAAD4eEAaGwkAAAAAAADwPxEAAAAAAADwPyEAAAAAAPh4QBobCQAAAAAAAPA/EQAAAAAAAPA/IQAAAAAA+HhAGhsJAAAAAAAA8D8RAAAAAAAA8D8hAAAAAAD4eEAaGwkAAAAAAADwPxEAAAAAAADwPyEAAAAAAPh4QBobCQAAAAAAAPA/EQAAAAAAAPA/IQAAAAAA+HhAGhsJAAAAAAAA8D8RAAAAAAAA8D8hAAAAAAD4eEAaGwkAAAAAAADwPxEAAAAAAADwPyEAAAAAAPh4QCABQJsfEAIaDhIDeWVzGQAAAAAAbK5AGg0SAm5vGQAAAAAAQFlAJclhPkAqIwoOIgN5ZXMpAAAAAABsrkAKEQgBEAEiAm5vKQAAAAAAQFlAQg8KDUZvcmVpZ25Xb3JrZXIasAYapQYKtgIImx8YASABLQAAgD8ypAIaGwkAAAAAAADwPxEAAAAAAADwPyEAAAAAAPh4QBobCQAAAAAAAPA/EQAAAAAAAPA/IQAAAAAA+HhAGhsJAAAAAAAA8D8RAAAAAAAA8D8hAAAAAAD4eEAaGwkAAAAAAADwPxEAAAAAAADwPyEAAAAAAPh4QBobCQAAAAAAAPA/EQAAAAAAAPA/IQAAAAAA+HhAGhsJAAAAAAAA8D8RAAAAAAAA8D8hAAAAAAD4eEAaGwkAAAAAAADwPxEAAAAAAADwPyEAAAAAAPh4QBobCQAAAAAAAPA/EQAAAAAAAPA/IQAAAAAA+HhAGhsJAAAAAAAA8D8RAAAAAAAA8D8hAAAAAAD4eEAaGwkAAAAAAADwPxEAAAAAAADwPyEAAAAAAPh4QCABQJsfERKgmmmwLdU/GcoaV1NcHd4/IPEUOQAAAAAAAPA/QpkCGhIRmpmZmZmZuT8hIjiafczipEAaGwmamZmZmZm5PxGamZmZmZnJPyFn2P9Gs4/ZPxobCZqZmZmZmck/ETQzMzMzM9M/IWnY/0azj9k/GhsJNDMzMzMz0z8RmpmZmZmZ2T8hZdj/RrOP2T8aGwmamZmZmZnZPxEAAAAAAADgPyFl2P9Gs4/ZPxobCQAAAAAAAOA/ETQzMzMzM+M/IW3Y/0azj9k/GhsJNDMzMzMz4z8RZ2ZmZmZm5j8hZdj/RrOP2T8aGwlnZmZmZmbmPxGamZmZmZnpPyFl2P9Gs4/ZPxobCZqZmZmZmek/Ec3MzMzMzOw/IWXY/0azj9k/GhsJzczMzMzM7D8RAAAAAAAA8D8h5A8oK5+ZlEBCrwEaCSEAAAAAANh7QBoJIQAAAAAA2HtAGgkhAAAAAADYe0AaCSEAAAAAANh7QBoJIQAAAAAA2HtAGgkhAAAAAADYe0AaEhEAAAAAAADwPyEAAAAAAKh0QBobCQAAAAAAAPA/EQAAAAAAAPA/IQAAAAAAqHRAGhsJAAAAAAAA8D8RAAAAAAAA8D8hAAAAAACodEAaGwkAAAAAAADwPxEAAAAAAADwPyEAAAAAAKh0QCABQgYKBFJpc2saygcasgcKtgIImx8YASABLQAAgD8ypAIaGwkAAAAAAADwPxEAAAAAAADwPyEAAAAAAPh4QBobCQAAAAAAAPA/EQAAAAAAAPA/IQAAAAAA+HhAGhsJAAAAAAAA8D8RAAAAAAAA8D8hAAAAAAD4eEAaGwkAAAAAAADwPxEAAAAAAADwPyEAAAAAAPh4QBobCQAAAAAAAPA/EQAAAAAAAPA/IQAAAAAA+HhAGhsJAAAAAAAA8D8RAAAAAAAA8D8hAAAAAAD4eEAaGwkAAAAAAADwPxEAAAAAAADwPyEAAAAAAPh4QBobCQAAAAAAAPA/EQAAAAAAAPA/IQAAAAAA+HhAGhsJAAAAAAAA8D8RAAAAAAAA8D8hAAAAAAD4eEAaGwkAAAAAAADwPxEAAAAAAADwPyEAAAAAAPh4QCABQJsfEaDmY8tulaNAGeJtfwb7kZZAKQAAAAAAAPA/MQAAAAAArqNAOQAAAAAAh7NAQqICGhsJAAAAAAAA8D8RzczMzMxMf0AhCtejcD1KeUAaGwnNzMzMzEx/QBHNzMzMzESPQCGQwvUoXH94QBobCc3MzMzMRI9AEZqZmZmZcZdAIVO4HoXrUXhAGhsJmpmZmZlxl0ARzczMzMxAn0AhR+F6FK53eEAaGwnNzMzMzECfQBEAAAAAAIijQCHMzMzMzCx5QBobCQAAAAAAiKNAEZqZmZmZb6dAIdDMzMzM7HlAGhsJmpmZmZlvp0ARMzMzMzNXq0Ah6+7u7u7eeEAaGwkzMzMzM1erQBHNzMzMzD6vQCETEREREW15QBobCc3MzMzMPq9AETMzMzMzk7FAIYzC9ShcY3hAGhsJMzMzMzOTsUARAAAAAACHs0AhpnA9CtdTeUBCpAIaGwkAAAAAAADwPxEAAAAAAAB/QCEAAAAAAAB5QBobCQAAAAAAAH9AEQAAAAAAYI9AIQAAAAAAAHlAGhsJAAAAAABgj0ARAAAAAADAl0AhAAAAAADweEAaGwkAAAAAAMCXQBEAAAAAAJyfQCEAAAAAAAB5QBobCQAAAAAAnJ9AEQAAAAAArqNAIQAAAAAA8HhAGhsJAAAAAACuo0ARAAAAAAB2p0AhAAAAAAAAeUAaGwkAAAAAAHanQBEAAAAAAGCrQCEAAAAAAPB4QBobCQAAAAAAYKtAEQAAAAAAOK9AIQAAAAAAAHlAGhsJAAAAAAA4r0ARAAAAAACbsUAhAAAAAADweEAaGwkAAAAAAJuxQBEAAAAAAIezQCEAAAAAAPB4QCABQhMKEV9faW5kZXhfbGV2ZWxfMF9f\"></facets-overview>';\n",
       "        facets_iframe.srcdoc = facets_html;\n",
       "         facets_iframe.id = \"\";\n",
       "         setTimeout(() => {\n",
       "           facets_iframe.setAttribute('height', facets_iframe.contentWindow.document.body.offsetHeight + 'px')\n",
       "         }, 1500)\n",
       "         </script>"
      ],
      "text/plain": [
       "<IPython.core.display.HTML object>"
      ]
     },
     "metadata": {},
     "output_type": "display_data"
    }
   ],
   "source": [
    "classvalidate.compare_statistics(lhs=test_stats,rhs=train_stats)"
   ]
  },
  {
   "cell_type": "markdown",
   "metadata": {
    "id": "915f6a20-aab3-47b5-86e9-93bde2f548ff"
   },
   "source": [
    "## Check For Data Anomalies "
   ]
  },
  {
   "cell_type": "markdown",
   "metadata": {
    "id": "eae32b5f-46b3-4e5d-919e-68c206a47b8e"
   },
   "source": [
    "### Check eval data for errors by validating the eval data stats using the previously inferred schema."
   ]
  },
  {
   "cell_type": "code",
   "execution_count": 54,
   "metadata": {
    "id": "f2927d8b-fa0f-420f-9181-a080cdfcb748",
    "tags": []
   },
   "outputs": [
    {
     "data": {
      "text/html": [
       "<h4 style=\"color:green;\">No anomalies found.</h4>"
      ],
      "text/plain": [
       "<IPython.core.display.HTML object>"
      ]
     },
     "metadata": {},
     "output_type": "display_data"
    },
    {
     "data": {
      "text/plain": [
       "False"
      ]
     },
     "execution_count": 54,
     "metadata": {},
     "output_type": "execute_result"
    }
   ],
   "source": [
    "anomaly_status = classvalidate.check_for_anomalies(test_stats,train_schema)\n",
    "anomaly_status"
   ]
  },
  {
   "cell_type": "markdown",
   "metadata": {
    "id": "c914eade-25d9-497a-960e-ec5a57282def"
   },
   "source": [
    "## Save Train and Test Data for Data Preparation Stage"
   ]
  },
  {
   "cell_type": "code",
   "execution_count": 53,
   "metadata": {
    "id": "7e508e03-07c4-4a22-bdba-dc8fc400eca8",
    "tags": []
   },
   "outputs": [],
   "source": [
    "train_data_path = \"train_gcr.csv\"\n",
    "test_data_path = \"test_gcr.csv\""
   ]
  },
  {
   "cell_type": "code",
   "execution_count": 55,
   "metadata": {
    "id": "0f1d08cc-e4f7-4010-8b4e-7414529e874a",
    "tags": []
   },
   "outputs": [
    {
     "name": "stdout",
     "output_type": "stream",
     "text": [
      "File train_gcr.csv persisted successfully\n",
      "File test_gcr.csv persisted successfully\n"
     ]
    }
   ],
   "source": [
    "# TODO: Replace with Db2/fileystem\n",
    "if not anomaly_status:\n",
    "    classvalidate.save_data_in_filesystem(df=training_data,filename=train_data_path)\n",
    "    classvalidate.save_data_in_filesystem(df=testing_data,filename=test_data_path)"
   ]
  },
  {
   "cell_type": "markdown",
   "metadata": {
    "id": "23d79a03-46e7-49de-a549-65797ba3d46c"
   },
   "source": [
    "## Check if files Exists in COS"
   ]
  },
  {
   "cell_type": "code",
   "execution_count": 59,
   "metadata": {
    "id": "ae4be228-beed-46f3-a7de-c0ea1b08d574",
    "tags": []
   },
   "outputs": [
    {
     "data": {
      "text/plain": [
       "True"
      ]
     },
     "execution_count": 59,
     "metadata": {},
     "output_type": "execute_result"
    }
   ],
   "source": [
    "# TODO: Replace with Db2/fileystem\n",
    "files_copied_in_cos = check_for_file_in_filesystem(train_data_path) and check_for_file_in_filesystem(test_data_path)\n",
    "files_copied_in_cos"
   ]
  },
  {
   "cell_type": "markdown",
   "metadata": {
    "id": "b42568a9-36f8-407e-be7a-f8bbbf93444a"
   },
   "source": [
    "## Register a Boolean Variable in WS Pipeline"
   ]
  },
  {
   "cell_type": "code",
   "execution_count": 57,
   "metadata": {
    "id": "9f210efd-7358-41a4-9ab5-37a856f3ab47",
    "tags": []
   },
   "outputs": [],
   "source": [
    "validation_params = {}\n",
    "validation_params['anomaly_status'] = anomaly_status\n",
    "validation_params['files_copied_in_cos'] = files_copied_in_cos\n",
    "validation_params['train_data_filename'] = train_data_filename\n",
    "validation_params['test_data_filename'] = test_data_filename"
   ]
  },
  {
   "cell_type": "code",
   "execution_count": 58,
   "metadata": {
    "id": "bf0ff093-af79-4bb5-bd22-d2d5315926e7",
    "tags": []
   },
   "outputs": [
    {
     "name": "stdout",
     "output_type": "stream",
     "text": [
      "Running outside of Watson Studio Pipeline - storing results in the local filesystem for testing purposes...\n",
      "\n",
      "  output paths:\n",
      "    - \"anomaly_status\": .ibm_watson_studio_pipelines/results/anomaly_status\n",
      "    - \"files_copied_in_cos\": .ibm_watson_studio_pipelines/results/files_copied_in_cos\n",
      "    - \"train_data_filename\": .ibm_watson_studio_pipelines/results/train_data_filename\n",
      "    - \"test_data_filename\": .ibm_watson_studio_pipelines/results/test_data_filename\n"
     ]
    },
    {
     "data": {
      "text/plain": [
       "<ibm_cloud_sdk_core.detailed_response.DetailedResponse at 0x7f101ed3ab90>"
      ]
     },
     "execution_count": 58,
     "metadata": {},
     "output_type": "execute_result"
    }
   ],
   "source": [
    "# pipelines_client = WSPipelines.from_token(token=TOKEN)\n",
    "pipelines_client = WSPipelines.from_token(TOKEN)\n",
    "pipelines_client.store_results(validation_params)"
   ]
  }
 ],
 "metadata": {
  "kernelspec": {
   "display_name": "Python 3.10",
   "language": "python",
   "name": "python3"
  },
  "language_info": {
   "codemirror_mode": {
    "name": "ipython",
    "version": 3
   },
   "file_extension": ".py",
   "mimetype": "text/x-python",
   "name": "python",
   "nbconvert_exporter": "python",
   "pygments_lexer": "ipython3",
   "version": "3.10.10"
  },
  "vscode": {
   "interpreter": {
    "hash": "bd385fe162c5ca0c84973b7dd5c518456272446b2b64e67c2a69f949ca7a1754"
   }
  }
 },
 "nbformat": 4,
 "nbformat_minor": 4
}
