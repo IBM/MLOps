{
    "cells": [
        {
            "cell_type": "markdown",
            "metadata": {},
            "source": [
                "## Deploy the Saved Model in the project to Deployment Space"
            ]
        },
        {
            "attachments": {},
            "cell_type": "markdown",
            "metadata": {},
            "source": [
                "### The following cell is a way to get the utility script required for this notebook. \n",
                "Since IBM CPD SaaS doesn't have a filesystem, this is the only reliable way to get scripts on the cloud environment. \n",
                "```\n",
                "!rm -rf MLOps-CPD && git clone --quiet -b master https://github.com/IBM/MLOps-CPD.git\n",
                "```\n",
                "⚠️ Run the following cells only if you are executing on IBM CPD SaaS."
            ]
        },
        {
            "cell_type": "code",
            "execution_count": null,
            "metadata": {},
            "outputs": [],
            "source": [
                "#!rm -rf MLOps-CPD && git clone --quiet -b master https://github.com/IBM/MLOps-CPD.git"
            ]
        },
        {
            "cell_type": "code",
            "execution_count": null,
            "metadata": {},
            "outputs": [],
            "source": [
                "#!mv MLOps-CPD MLOps_CPD"
            ]
        },
        {
            "cell_type": "code",
            "execution_count": null,
            "metadata": {},
            "outputs": [],
            "source": [
                "from ibm_cloud_sdk_core.authenticators import IAMAuthenticator\n",
                "from ibm_watson_machine_learning import APIClient\n",
                "from ibm_aigov_facts_client import AIGovFactsClient\n",
                "from ibm_watson_studio_pipelines import WSPipelines\n",
                "from botocore.client import Config\n",
                "import ibm_boto3\n",
                "import pandas as pd\n",
                "import json\n",
                "import os\n",
                "import requests\n",
                "\n",
                "from os.path import exists\n",
                "if exists(\"utils/fs_utils.py\") and exists(\"utils/catalog_utils.py\"):\n",
                "    from utils import fs_utils,catalog_utils\n",
                "else:\n",
                "    # If utils/fs_utils.py and utils/catalog_utils.py do not exist, we assume that you are running on CPDaaS\n",
                "    # and will therefore import scripts from the freshly cloned repository\n",
                "    from MLOps_CPD.utils import fs_utils, catalog_utils"
            ]
        },
        {
            "attachments": {},
            "cell_type": "markdown",
            "metadata": {},
            "source": [
                "## Succeeding cell contains the credentials for MLOps COS\n",
                "```\n",
                "## PROJECT COS \n",
                "AUTH_ENDPOINT = \"https://iam.cloud.ibm.com/oidc/token\"\n",
                "ENDPOINT_URL = \"https://s3.private.us.cloud-object-storage.appdomain.cloud\"\n",
                "API_KEY_COS = \"xxx\"\n",
                "BUCKET_PROJECT_COS = \"mlops-donotdelete-pr-qxxcecxi1dtw94\"\n",
                "\n",
                "## MLOPS COS\n",
                "ENDPOINT_URL_MLOPS = \"https://s3.jp-tok.cloud-object-storage.appdomain.cloud\"\n",
                "API_KEY_MLOPS = \"xxx\"\n",
                "CRN_MLOPS = \"xxx\"\n",
                "BUCKET_MLOPS  = \"mlops-asset\"\n",
                "\n",
                "## CATALOG\n",
                "CATALOG_NAME = \"MLOps-ns\"\n",
                "```"
            ]
        },
        {
            "cell_type": "markdown",
            "metadata": {},
            "source": [
                "## Pipeline Params"
            ]
        },
        {
            "cell_type": "code",
            "execution_count": null,
            "metadata": {},
            "outputs": [],
            "source": [
                "CLOUD_API_KEY = os.getenv(\"cloud_api_key\")\n",
                "\n",
                "# Model parameters\n",
                "MODEL_NAME = os.getenv(\"model_name\")\n",
                "DEPLOYMENT_NAME = os.getenv(\"deployment_name\")\n",
                "model_id = os.getenv('model_id')\n",
                "\n",
                "# Watson Studio parameters\n",
                "space_id = os.getenv(\"space_id\")\n",
                "project_id = os.environ['PROJECT_ID']\n",
                "CATALOG_NAME = os.getenv(\"catalog_name\")"
            ]
        },
        {
            "cell_type": "code",
            "execution_count": null,
            "metadata": {},
            "outputs": [],
            "source": [
                "## Retrieve cos credentials from pipeline parameters\n",
                "# import json\n",
                "# # Get json from environment and convert to string\n",
                "# project_cos_credentials = json.loads(os.getenv('project_cos_credentials'))\n",
                "# mlops_cos_credentials = json.loads(os.getenv('mlops_cos_credentials'))\n",
                "\n",
                "# ## PROJECT COS \n",
                "# AUTH_ENDPOINT = project_cos_credentials['AUTH_ENDPOINT']\n",
                "# ENDPOINT_URL = project_cos_credentials['ENDPOINT_URL']\n",
                "# API_KEY_COS = project_cos_credentials['API_KEY']\n",
                "# BUCKET_PROJECT_COS = project_cos_credentials['BUCKET']\n",
                "\n",
                "# ## MLOPS COS\n",
                "# ENDPOINT_URL_MLOPS = mlops_cos_credentials['ENDPOINT_URL']\n",
                "# API_KEY_MLOPS = mlops_cos_credentials['API_KEY']\n",
                "# CRN_MLOPS = mlops_cos_credentials['CRN']\n",
                "# BUCKET_MLOPS  = mlops_cos_credentials['BUCKET']"
            ]
        },
        {
            "cell_type": "markdown",
            "metadata": {},
            "source": [
                "## Instantiate WML Client"
            ]
        },
        {
            "cell_type": "code",
            "execution_count": null,
            "metadata": {},
            "outputs": [],
            "source": [
                "WML_CREDENTIALS = {\n",
                "                   \"url\": \"https://us-south.ml.cloud.ibm.com\",\n",
                "                   \"apikey\": CLOUD_API_KEY\n",
                "            }\n",
                "\n",
                "wml_client = APIClient(WML_CREDENTIALS)\n",
                "wml_client.version"
            ]
        },
        {
            "cell_type": "markdown",
            "metadata": {},
            "source": [
                "## Utility Functions"
            ]
        },
        {
            "cell_type": "code",
            "execution_count": null,
            "metadata": {},
            "outputs": [],
            "source": [
                "def get_model_from_registry(catalog_name):\n",
                "    ctutils = catalog_utils.CatalogUtils(\n",
                "    service_url=\"https://api.dataplatform.cloud.ibm.com\",\n",
                "    api_key=CLOUD_API_KEY,\n",
                "    project_id=project_id,\n",
                "    auth_url=\"https://iam.cloud.ibm.com/identity/token\")\n",
                "\n",
                "    catalog_id = ctutils.get_catalog_id_map()[catalog_name]\n",
                "    model_id = ctutils.get_model_from_registry(MODEL_NAME)\n",
                "    print(model_id)\n",
                "    \n",
                "    wml_client.set.default_project(project_id)\n",
                "    model_pipeline = wml_client.repository.load(model_id)\n",
                "    \n",
                "    return model_id,catalog_id,model_pipeline\n",
                "\n",
                "\n",
                "def read_data_from_mlops_cos(key,json=False):\n",
                "    def __iter__(self): return 0\n",
                "    MLOPS_DATA_STORE_client = ibm_boto3.client(\n",
                "        service_name='s3',\n",
                "        ibm_api_key_id=API_KEY_MLOPS,\n",
                "        ibm_service_instance_id=CRN_MLOPS,\n",
                "        ibm_auth_endpoint=AUTH_ENDPOINT,\n",
                "        config=Config(signature_version='oauth'),\n",
                "        endpoint_url=ENDPOINT_URL_MLOPS)\n",
                "\n",
                "    body = MLOPS_DATA_STORE_client.get_object(Bucket=BUCKET_MLOPS, Key=key)['Body']\n",
                "    # add missing __iter__ method, so pandas accepts body as file-like object\n",
                "    if not hasattr(body, \"__iter__\"): body.__iter__ = types.MethodType( __iter__, body )\n",
                "    if json:\n",
                "        gcf_df = body\n",
                "    else:\n",
                "        gcf_df = pd.read_csv(body)\n",
                "    return gcf_df\n",
                "\n",
                "def promote_and_deploy_model(experiment_name):\n",
                "    facts_client = AIGovFactsClient(api_key=CLOUD_API_KEY, experiment_name=experiment_name, container_type=\"project\", container_id=project_id, set_as_current_experiment=True)\n",
                "    fsutils = fs_utils.FSUtils(wml_client=wml_client,catalog_id=catalog_id,project_id=project_id,bss_account_id='27ff418fedd6aedffb8dc6ae4164a1d2',space_id=space_id,\n",
                "                           facts_client=facts_client)\n",
                "    result = fsutils.promote_model(model_uid=model_id,model_name=MODEL_NAME)\n",
                "    dep_model_uid = result['metadata']['asset_id']\n",
                "    deployment_uid = fsutils.deploy_model(space_id=space_id,deployment_name=DEPLOYMENT_NAME,model_uid=dep_model_uid)\n",
                "    return deployment_uid,dep_model_uid\n",
                "\n",
                "\n",
                "def test_deployment(CLOUD_API_KEY,deploymet_uid):\n",
                "    # NOTE: you must manually set API_KEY below using information retrieved from your IBM Cloud account.\n",
                "    token_response = requests.post('https://iam.cloud.ibm.com/identity/token', data={\"apikey\":CLOUD_API_KEY, \"grant_type\": 'urn:ibm:params:oauth:grant-type:apikey'})\n",
                "\n",
                "    mltoken = token_response.json()[\"access_token\"]\n",
                "\n",
                "    header = {'Content-Type': 'application/json', 'Authorization': 'Bearer ' + mltoken}\n",
                "\n",
                "    # NOTE: manually define and pass the array(s) of values to be scored in the next line\n",
                "\n",
                "    payload_scoring = {\"input_data\": [{\"fields\": fields, \"values\": values}]}\n",
                "\n",
                "    response_scoring = requests.post(f'https://us-south.ml.cloud.ibm.com/ml/v4/deployments/{deployment_uid}/predictions?version=2022-10-12', json=payload_scoring,\n",
                "     headers={'Authorization': 'Bearer ' + mltoken})\n",
                "\n",
                "    print(response_scoring.json())\n",
                "    if response_scoring.json():\n",
                "        return True"
            ]
        },
        {
            "cell_type": "markdown",
            "metadata": {},
            "source": [
                "## Load the Trained Model from Model Registry"
            ]
        },
        {
            "cell_type": "code",
            "execution_count": null,
            "metadata": {},
            "outputs": [],
            "source": [
                "model_id,catalog_id,model_pipeline = get_model_from_registry(CATALOG_NAME)"
            ]
        },
        {
            "cell_type": "markdown",
            "metadata": {},
            "source": [
                "## Promote the Model to deployment space and Deploy the Model"
            ]
        },
        {
            "cell_type": "code",
            "execution_count": null,
            "metadata": {},
            "outputs": [],
            "source": [
                "# TODO: Softcode this model name\n",
                "deployment_uid,dep_model_uid = promote_and_deploy_model('CreditRiskModel')"
            ]
        },
        {
            "cell_type": "markdown",
            "metadata": {},
            "source": [
                "## Model Testing on the Serving Endpoint\n",
                "\n"
            ]
        },
        {
            "cell_type": "markdown",
            "metadata": {},
            "source": [
                "### Load Sample Data "
            ]
        },
        {
            "cell_type": "code",
            "execution_count": null,
            "metadata": {},
            "outputs": [],
            "source": [
                "payload_data = read_data_from_mlops_cos('test_tfr.csv')\n",
                "payload_data = payload_data.drop('Risk',axis=1)\n",
                "fields = payload_data.columns.tolist()\n",
                "values = [payload_data.values.tolist()[0]]\n",
                "\n",
                "payload_scoring = {\"input_data\": [{\"fields\": fields, \"values\": values}]}\n",
                "json.dumps(payload_scoring)"
            ]
        },
        {
            "cell_type": "markdown",
            "metadata": {},
            "source": [
                "## Score the Endpoint"
            ]
        },
        {
            "cell_type": "code",
            "execution_count": null,
            "metadata": {},
            "outputs": [],
            "source": [
                "predictions = wml_client.deployments.score(deployment_uid, payload_scoring)\n",
                "predictions"
            ]
        },
        {
            "cell_type": "markdown",
            "metadata": {},
            "source": [
                "### Test for Downstream Apps without using WML SDK."
            ]
        },
        {
            "cell_type": "code",
            "execution_count": null,
            "metadata": {},
            "outputs": [],
            "source": [
                "deploy_done = test_deployment(CLOUD_API_KEY, deployment_uid)\n",
                "deploy_done"
            ]
        },
        {
            "cell_type": "markdown",
            "metadata": {},
            "source": [
                "## Save Params in WS Pipeline"
            ]
        },
        {
            "cell_type": "code",
            "execution_count": null,
            "metadata": {},
            "outputs": [],
            "source": [
                "deployment_done = {}\n",
                "deployment_done['deployment_status'] = deploy_done\n",
                "deployment_done['deployment_id'] = deployment_uid\n",
                "deployment_done['model_id'] = dep_model_uid\n",
                "deployment_done['space_id'] = space_id"
            ]
        },
        {
            "cell_type": "code",
            "execution_count": null,
            "metadata": {},
            "outputs": [],
            "source": [
                "pipelines_client = WSPipelines.from_apikey(apikey=CLOUD_API_KEY)\n",
                "pipelines_client.store_results(deployment_done)"
            ]
        }
    ],
    "metadata": {
        "kernelspec": {
            "display_name": "Python 3",
            "language": "python",
            "name": "python3"
        },
        "language_info": {
            "codemirror_mode": {
                "name": "ipython",
                "version": 3
            },
            "file_extension": ".py",
            "mimetype": "text/x-python",
            "name": "python",
            "nbconvert_exporter": "python",
            "pygments_lexer": "ipython3",
            "version": "3.10.10"
        },
        "vscode": {
            "interpreter": {
                "hash": "bd385fe162c5ca0c84973b7dd5c518456272446b2b64e67c2a69f949ca7a1754"
            }
        }
    },
    "nbformat": 4,
    "nbformat_minor": 1
}
