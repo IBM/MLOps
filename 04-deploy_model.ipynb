{
 "cells": [
  {
   "cell_type": "markdown",
   "metadata": {},
   "source": [
    "![Alt text](images/banner.png)"
   ]
  },
  {
   "cell_type": "markdown",
   "metadata": {
    "id": "9909ba97-1cfe-495b-bd18-d663ea13c7fa"
   },
   "source": [
    "## Deploy the Saved Model in the project to Deployment Space"
   ]
  },
  {
   "cell_type": "markdown",
   "metadata": {},
   "source": [
    "### Initial Setup\n",
    "\n",
    "Some initial setup specific to running this notebook as part of the pipeline."
   ]
  },
  {
   "cell_type": "code",
   "execution_count": null,
   "metadata": {},
   "outputs": [],
   "source": [
    "import os\n",
    "#This environment variable is automatically set in WS Pipelines and are needed to access various services.\n",
    "TOKEN = os.getenv(\"USER_ACCESS_TOKEN\")"
   ]
  },
  {
   "cell_type": "code",
   "execution_count": null,
   "metadata": {},
   "outputs": [],
   "source": [
    "if os.getenv(\"running_in_production_pipeline\"):\n",
    "    running_in_production_pipeline = True\n",
    "    # If you want to run additional steps when deploying to production like reporting to external services, you can use this variable to trigger that\n",
    "    # It can also be used to skip steps that are only needed in development like plotting\n",
    "    print(\"notebook is running in a production pipeline!\")\n",
    "else:\n",
    "    running_in_production_pipeline = False\n",
    "    print(\"notebook is running in a development enviroment!\")"
   ]
  },
  {
   "cell_type": "code",
   "execution_count": 26,
   "metadata": {
    "id": "d600fa56-ad81-4587-95c4-3f6c67e211c4",
    "tags": []
   },
   "outputs": [],
   "source": [
    "from ibm_cloud_sdk_core.authenticators import IAMAuthenticator\n",
    "from ibm_watson_machine_learning import APIClient\n",
    "# from ibm_aigov_facts_client import AIGovFactsClient #removing due to current issues --> put back ASAP\n",
    "from ibm_watson_studio_pipelines import WSPipelines\n",
    "from botocore.client import Config\n",
    "import ibm_boto3\n",
    "import pandas as pd\n",
    "import json\n",
    "import os\n",
    "import requests\n",
    "import pickle\n",
    "import vars_and_utils as vars_and_utils\n"
   ]
  },
  {
   "cell_type": "markdown",
   "metadata": {
    "id": "c892c8cd-46b7-4a16-85cf-0ac039fd8a61"
   },
   "source": [
    "## Instantiate WML Client"
   ]
  },
  {
   "cell_type": "code",
   "execution_count": null,
   "metadata": {
    "id": "6a324dbf-3194-4a1b-897e-3a74d7ec1346",
    "tags": []
   },
   "outputs": [],
   "source": [
    "WML_CREDENTIALS = {\n",
    "   \"token\": TOKEN,\n",
    "   \"instance_id\" : \"openshift\",\n",
    "   \"url\": os.environ['RUNTIME_ENV_APSX_URL'],\n",
    "   \"version\": \"4.6\"\n",
    "}\n",
    "\n",
    "wml_client = APIClient(WML_CREDENTIALS)"
   ]
  },
  {
   "cell_type": "code",
   "execution_count": null,
   "metadata": {},
   "outputs": [],
   "source": [
    "if running_in_production_pipeline:\n",
    "    deployment_space_id=vars_and_utils.deployment_space_id_PROD\n",
    "else:\n",
    "    deployment_space_id=vars_and_utils.deployment_space_id_DEV\n",
    "    \n",
    "deployment_space_id\n",
    "    "
   ]
  },
  {
   "cell_type": "code",
   "execution_count": null,
   "metadata": {
    "id": "08df0fad-f279-483f-87dc-e0b8d96f14bf",
    "tags": []
   },
   "outputs": [],
   "source": [
    "wml_client.set.default_space(deployment_space_id)"
   ]
  },
  {
   "cell_type": "markdown",
   "metadata": {
    "id": "288ce55e-9b82-4185-8297-a399f1648cea",
    "tags": []
   },
   "source": [
    "# Deserialize model\n",
    "\n",
    "TODO: Later get model from model inventory instead"
   ]
  },
  {
   "cell_type": "code",
   "execution_count": null,
   "metadata": {
    "id": "e5bd323f-cf79-4ab1-ae8c-c81a14d81f3b",
    "tags": []
   },
   "outputs": [],
   "source": [
    "with open(vars_and_utils.model_path, 'rb') as f:\n",
    "    model = pickle.load(f)"
   ]
  },
  {
   "cell_type": "markdown",
   "metadata": {
    "id": "40fc914b-9675-46a3-ad8f-e6f53dc72437"
   },
   "source": [
    "### Load Sample Data "
   ]
  },
  {
   "cell_type": "code",
   "execution_count": null,
   "metadata": {
    "id": "1f16e30e-c9cb-4581-bead-352c127018d4",
    "tags": []
   },
   "outputs": [],
   "source": [
    "payload_data = vars_and_utils.load_data_from_filesystem(vars_and_utils.test_data_path)\n",
    "payload_data = payload_data.drop('Risk',axis=1)\n",
    "fields = payload_data.columns.tolist()\n",
    "values = [payload_data.values.tolist()[0]]\n",
    "\n",
    "payload_scoring = {\"input_data\": [{\"fields\": fields, \"values\": values}]}\n",
    "json.dumps(payload_scoring)"
   ]
  },
  {
   "cell_type": "code",
   "execution_count": null,
   "metadata": {
    "id": "eb8a1006-f0a0-4223-8c67-2f4aafe610dd",
    "tags": []
   },
   "outputs": [],
   "source": [
    "# TODO: Move to notebook 3 and skip (de)serialization process\n",
    "software_spec_uid = wml_client.software_specifications.get_id_by_name(\"runtime-22.2-py3.10\")\n",
    "model_props_gbt = {\n",
    "    wml_client.repository.ModelMetaNames.NAME: vars_and_utils.model_name,\n",
    "    wml_client.repository.ModelMetaNames.DESCRIPTION: vars_and_utils.model_name,\n",
    "    wml_client.repository.ModelMetaNames.SOFTWARE_SPEC_UID: software_spec_uid,\n",
    "    wml_client.repository.ModelMetaNames.TYPE: \"scikit-learn_1.1\"\n",
    "}\n",
    "\n",
    "published_model_details = wml_client.repository.store_model(model=model, meta_props=model_props_gbt, training_data=fields,training_target=values)\n",
    "print(published_model_details)"
   ]
  },
  {
   "cell_type": "code",
   "execution_count": null,
   "metadata": {
    "id": "920713be-ff4d-4fa3-8dd8-81623801b641",
    "tags": []
   },
   "outputs": [],
   "source": [
    "model_id = wml_client.repository.get_model_id(published_model_details)\n",
    "model_id"
   ]
  },
  {
   "cell_type": "code",
   "execution_count": null,
   "metadata": {},
   "outputs": [],
   "source": [
    "# There is an issue with WML Deployments right now. TODO: fix this\n",
    "# This is the ID of the model that was uploaded manually --> that works\n",
    "model_id = \"65c060dc-ea5b-4c48-86fe-acb97853b5df\"\n",
    "# This is fake and we need to fix this!"
   ]
  },
  {
   "cell_type": "markdown",
   "metadata": {
    "id": "ad6fe0e3-d01e-4363-83c0-4ac57bd9e3dc"
   },
   "source": [
    "## Promote the Model to deployment space and Deploy the Model"
   ]
  },
  {
   "cell_type": "code",
   "execution_count": null,
   "metadata": {
    "id": "d25ed89c-62dd-4bc8-8644-3439c9586f8b",
    "tags": []
   },
   "outputs": [],
   "source": [
    "meta_data = {\n",
    "    wml_client.deployments.ConfigurationMetaNames.NAME: vars_and_utils.deployment_name,\n",
    "    wml_client.deployments.ConfigurationMetaNames.ONLINE: {},\n",
    "    wml_client.deployments.ConfigurationMetaNames.HARDWARE_SPEC: {\n",
    "        \"name\": \"S\",\n",
    "        \"num_nodes\": 1,\n",
    "    }\n",
    "}\n",
    "\n",
    "deployment_details = wml_client.deployments.create(model_id, meta_props=meta_data)"
   ]
  },
  {
   "cell_type": "code",
   "execution_count": null,
   "metadata": {
    "id": "4802233a-fbc2-458e-91b0-a859a2f57d66",
    "tags": []
   },
   "outputs": [],
   "source": [
    "deployment_uid = wml_client.deployments.get_id(deployment_details)\n",
    "deployment_uid"
   ]
  },
  {
   "cell_type": "markdown",
   "metadata": {
    "id": "728d19a0-395f-4b11-a5cd-df099ea4abdb",
    "tags": []
   },
   "source": [
    "## Score the Endpoint"
   ]
  },
  {
   "cell_type": "markdown",
   "metadata": {
    "id": "5f93a3a4-aaa5-4304-a513-e887619e6079"
   },
   "source": [
    "### Model Testing on the Serving Endpoint\n",
    "\n"
   ]
  },
  {
   "cell_type": "code",
   "execution_count": null,
   "metadata": {
    "id": "cb6e54f2-aed6-4f1e-8ec9-8297454f6a07",
    "tags": []
   },
   "outputs": [],
   "source": [
    "predictions = wml_client.deployments.score(deployment_uid, payload_scoring)\n",
    "predictions"
   ]
  },
  {
   "cell_type": "markdown",
   "metadata": {
    "id": "cff76dc2-be3f-48a6-a583-a75d6583e1da"
   },
   "source": [
    "### Test for Downstream Apps without using WML SDK."
   ]
  },
  {
   "cell_type": "code",
   "execution_count": null,
   "metadata": {
    "id": "ff65ef37-ba78-4149-9f06-6d2744b1a668",
    "tags": []
   },
   "outputs": [],
   "source": [
    "# deploy_done is true if deployment_uid and model_id are not null\n",
    "deploy_done = bool(deployment_uid) and bool(model_id)"
   ]
  },
  {
   "cell_type": "markdown",
   "metadata": {
    "id": "a4032cce-515e-4509-810d-51d216ed9ac3"
   },
   "source": [
    "## Register the output variables for the next pipeine stage\n",
    "every notebook outputs a \"was_successful\" boolean variable. The logic behind this is different for every notebook and can be altered to fit the needs of the project.\n",
    "If needed additional variables can be created here but they also need to registered as output variables in the Watson Pipelines UI."
   ]
  },
  {
   "cell_type": "code",
   "execution_count": null,
   "metadata": {
    "id": "96ccb5fc-9d30-42c8-ac75-4141e7c663df",
    "tags": []
   },
   "outputs": [],
   "source": [
    "deployment_done = {}\n",
    "deployment_done['was_succesfull'] = deploy_done\n",
    "deployment_done['deployment_id'] = deployment_uid\n",
    "deployment_done['model_id'] = model_id\n",
    "\n",
    "pipelines_client = WSPipelines.from_token(TOKEN)\n",
    "pipelines_client.store_results(deployment_done)"
   ]
  }
 ],
 "metadata": {
  "kernelspec": {
   "display_name": "Python 3.10",
   "language": "python",
   "name": "python3"
  },
  "language_info": {
   "codemirror_mode": {
    "name": "ipython",
    "version": 3
   },
   "file_extension": ".py",
   "mimetype": "text/x-python",
   "name": "python",
   "nbconvert_exporter": "python",
   "pygments_lexer": "ipython3",
   "version": "3.10.10"
  },
  "vscode": {
   "interpreter": {
    "hash": "bd385fe162c5ca0c84973b7dd5c518456272446b2b64e67c2a69f949ca7a1754"
   }
  }
 },
 "nbformat": 4,
 "nbformat_minor": 4
}
