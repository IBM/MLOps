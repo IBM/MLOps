{
 "cells": [
  {
   "cell_type": "markdown",
   "metadata": {
    "id": "9909ba97-1cfe-495b-bd18-d663ea13c7fa"
   },
   "source": [
    "## Deploy the Saved Model in the project to Deployment Space"
   ]
  },
  {
   "cell_type": "markdown",
   "metadata": {
    "id": "28f6f13f-8826-4ff7-96e3-9c7e13b22bc7"
   },
   "source": [
    "### The following cell is a way to get the utility script required for this notebook. \n",
    "Since IBM CPD SaaS doesn't have a filesystem, this is the only reliable way to get scripts on the cloud environment. \n",
    "```\n",
    "!rm -rf MLOps-CPD && git clone --quiet -b master https://github.com/IBM/MLOps-CPD.git\n",
    "```\n",
    "⚠️ Run the following cells only if you are executing on IBM CPD SaaS."
   ]
  },
  {
   "cell_type": "code",
   "execution_count": null,
   "metadata": {
    "id": "8ff116bf-8acf-43b1-8a28-65bcbd8238e1"
   },
   "outputs": [],
   "source": [
    "#!rm -rf MLOps-CPD && git clone --quiet -b master https://github.com/IBM/MLOps-CPD.git"
   ]
  },
  {
   "cell_type": "code",
   "execution_count": null,
   "metadata": {
    "id": "846a8062-34bf-4df4-bcda-acd99e3613e4"
   },
   "outputs": [],
   "source": [
    "#!mv MLOps-CPD MLOps_CPD"
   ]
  },
  {
   "cell_type": "code",
   "execution_count": 2,
   "metadata": {},
   "outputs": [
    {
     "name": "stdout",
     "output_type": "stream",
     "text": [
      "Requirement already satisfied: hyperopt in /opt/conda/envs/Python-3.10-Premium/lib/python3.10/site-packages (0.2.5)\n",
      "Collecting ibm_aigov_facts_client\n",
      "  Obtaining dependency information for ibm_aigov_facts_client from https://files.pythonhosted.org/packages/a1/06/f38a9524334660c9c25b592ecd84c8a884641c95a9f324df107c2c9dabb9/ibm_aigov_facts_client-1.0.59-py3-none-any.whl.metadata\n",
      "  Downloading ibm_aigov_facts_client-1.0.59-py3-none-any.whl.metadata (1.0 kB)\n",
      "Requirement already satisfied: ibm_watson_machine_learning in /opt/conda/envs/Python-3.10-Premium/lib/python3.10/site-packages (1.0.286)\n",
      "Collecting ibm_watson_studio_pipelines\n",
      "  Downloading ibm_watson_studio_pipelines-0.2.12-py3-none-any.whl (30 kB)\n",
      "Requirement already satisfied: lightgbm in /opt/conda/envs/Python-3.10-Premium/lib/python3.10/site-packages (3.3.2)\n",
      "Requirement already satisfied: numpy in /opt/conda/envs/Python-3.10-Premium/lib/python3.10/site-packages (from hyperopt) (1.23.1)\n",
      "Requirement already satisfied: scipy in /opt/conda/envs/Python-3.10-Premium/lib/python3.10/site-packages (from hyperopt) (1.8.1)\n",
      "Requirement already satisfied: six in /opt/conda/envs/Python-3.10-Premium/lib/python3.10/site-packages (from hyperopt) (1.16.0)\n",
      "Requirement already satisfied: networkx>=2.2 in /opt/conda/envs/Python-3.10-Premium/lib/python3.10/site-packages (from hyperopt) (2.8.4)\n",
      "Requirement already satisfied: future in /opt/conda/envs/Python-3.10-Premium/lib/python3.10/site-packages (from hyperopt) (0.18.3)\n",
      "Requirement already satisfied: tqdm in /opt/conda/envs/Python-3.10-Premium/lib/python3.10/site-packages (from hyperopt) (4.64.0)\n",
      "Requirement already satisfied: cloudpickle in /opt/conda/envs/Python-3.10-Premium/lib/python3.10/site-packages (from hyperopt) (2.1.0)\n",
      "Requirement already satisfied: pandas in /opt/conda/envs/Python-3.10-Premium/lib/python3.10/site-packages (from ibm_aigov_facts_client) (1.4.3)\n",
      "Collecting mlflow-skinny==1.28.0 (from ibm_aigov_facts_client)\n",
      "  Downloading mlflow_skinny-1.28.0-py3-none-any.whl (3.5 MB)\n",
      "\u001b[2K     \u001b[90m━━━━━━━━━━━━━━━━━━━━━━━━━━━━━━━━━━━━━━━━\u001b[0m \u001b[32m3.5/3.5 MB\u001b[0m \u001b[31m58.0 MB/s\u001b[0m eta \u001b[36m0:00:00\u001b[0ma \u001b[36m0:00:01\u001b[0m\n",
      "\u001b[?25hRequirement already satisfied: requests<3.0,>=2.0 in /opt/conda/envs/Python-3.10-Premium/lib/python3.10/site-packages (from ibm_aigov_facts_client) (2.28.1)\n",
      "Requirement already satisfied: ibm-cloud-sdk-core>=3.5.2 in /opt/conda/envs/Python-3.10-Premium/lib/python3.10/site-packages (from ibm_aigov_facts_client) (3.10.1)\n",
      "Collecting sqlparse>=0.3.1 (from ibm_aigov_facts_client)\n",
      "  Downloading sqlparse-0.4.4-py3-none-any.whl (41 kB)\n",
      "\u001b[2K     \u001b[90m━━━━━━━━━━━━━━━━━━━━━━━━━━━━━━━━━━━━━━━━\u001b[0m \u001b[32m41.2/41.2 kB\u001b[0m \u001b[31m7.9 MB/s\u001b[0m eta \u001b[36m0:00:00\u001b[0m\n",
      "\u001b[?25hCollecting docutils<0.16,>=0.10 (from ibm_aigov_facts_client)\n",
      "  Downloading docutils-0.15.2-py3-none-any.whl (547 kB)\n",
      "\u001b[2K     \u001b[90m━━━━━━━━━━━━━━━━━━━━━━━━━━━━━━━━━━━━━━\u001b[0m \u001b[32m547.6/547.6 kB\u001b[0m \u001b[31m58.0 MB/s\u001b[0m eta \u001b[36m0:00:00\u001b[0m\n",
      "\u001b[?25hCollecting timeout-decorator (from ibm_aigov_facts_client)\n",
      "  Downloading timeout-decorator-0.5.0.tar.gz (4.8 kB)\n",
      "  Preparing metadata (setup.py) ... \u001b[?25ldone\n",
      "\u001b[?25hCollecting python-magic (from ibm_aigov_facts_client)\n",
      "  Downloading python_magic-0.4.27-py2.py3-none-any.whl (13 kB)\n",
      "Requirement already satisfied: pillow in /opt/conda/envs/Python-3.10-Premium/lib/python3.10/site-packages (from ibm_aigov_facts_client) (9.3.0)\n",
      "Requirement already satisfied: click<9,>=7.0 in /opt/conda/envs/Python-3.10-Premium/lib/python3.10/site-packages (from mlflow-skinny==1.28.0->ibm_aigov_facts_client) (8.0.4)\n",
      "Collecting databricks-cli<1,>=0.8.7 (from mlflow-skinny==1.28.0->ibm_aigov_facts_client)\n",
      "  Downloading databricks-cli-0.17.7.tar.gz (83 kB)\n",
      "\u001b[2K     \u001b[90m━━━━━━━━━━━━━━━━━━━━━━━━━━━━━━━━━━━━━━━━\u001b[0m \u001b[32m83.5/83.5 kB\u001b[0m \u001b[31m15.2 MB/s\u001b[0m eta \u001b[36m0:00:00\u001b[0m\n",
      "\u001b[?25h  Preparing metadata (setup.py) ... \u001b[?25ldone\n",
      "\u001b[?25hRequirement already satisfied: entrypoints<1 in /opt/conda/envs/Python-3.10-Premium/lib/python3.10/site-packages (from mlflow-skinny==1.28.0->ibm_aigov_facts_client) (0.4)\n",
      "Collecting gitpython<4,>=2.1.0 (from mlflow-skinny==1.28.0->ibm_aigov_facts_client)\n",
      "  Obtaining dependency information for gitpython<4,>=2.1.0 from https://files.pythonhosted.org/packages/67/50/742c2fb60989b76ccf7302c7b1d9e26505d7054c24f08cc7ec187faaaea7/GitPython-3.1.32-py3-none-any.whl.metadata\n",
      "  Downloading GitPython-3.1.32-py3-none-any.whl.metadata (10.0 kB)\n",
      "Requirement already satisfied: pyyaml<7,>=5.1 in /opt/conda/envs/Python-3.10-Premium/lib/python3.10/site-packages (from mlflow-skinny==1.28.0->ibm_aigov_facts_client) (6.0)\n",
      "Requirement already satisfied: protobuf<5,>=3.12.0 in /opt/conda/envs/Python-3.10-Premium/lib/python3.10/site-packages (from mlflow-skinny==1.28.0->ibm_aigov_facts_client) (3.19.6)\n",
      "Requirement already satisfied: pytz<2023 in /opt/conda/envs/Python-3.10-Premium/lib/python3.10/site-packages (from mlflow-skinny==1.28.0->ibm_aigov_facts_client) (2022.1)\n",
      "Requirement already satisfied: packaging<22 in /opt/conda/envs/Python-3.10-Premium/lib/python3.10/site-packages (from mlflow-skinny==1.28.0->ibm_aigov_facts_client) (21.3)\n",
      "Requirement already satisfied: importlib-metadata!=4.7.0,<5,>=3.7.0 in /opt/conda/envs/Python-3.10-Premium/lib/python3.10/site-packages (from mlflow-skinny==1.28.0->ibm_aigov_facts_client) (4.11.3)\n",
      "Requirement already satisfied: urllib3 in /opt/conda/envs/Python-3.10-Premium/lib/python3.10/site-packages (from ibm_watson_machine_learning) (1.26.11)\n",
      "Requirement already satisfied: certifi in /opt/conda/envs/Python-3.10-Premium/lib/python3.10/site-packages (from ibm_watson_machine_learning) (2022.12.7)\n",
      "Requirement already satisfied: lomond in /opt/conda/envs/Python-3.10-Premium/lib/python3.10/site-packages (from ibm_watson_machine_learning) (0.3.3)\n",
      "Requirement already satisfied: tabulate in /opt/conda/envs/Python-3.10-Premium/lib/python3.10/site-packages (from ibm_watson_machine_learning) (0.8.10)\n",
      "Requirement already satisfied: ibm-cos-sdk==2.12.* in /opt/conda/envs/Python-3.10-Premium/lib/python3.10/site-packages (from ibm_watson_machine_learning) (2.12.0)\n",
      "Requirement already satisfied: ibm-cos-sdk-core==2.12.0 in /opt/conda/envs/Python-3.10-Premium/lib/python3.10/site-packages (from ibm-cos-sdk==2.12.*->ibm_watson_machine_learning) (2.12.0)\n",
      "Requirement already satisfied: ibm-cos-sdk-s3transfer==2.12.0 in /opt/conda/envs/Python-3.10-Premium/lib/python3.10/site-packages (from ibm-cos-sdk==2.12.*->ibm_watson_machine_learning) (2.12.0)\n",
      "Requirement already satisfied: jmespath<1.0.0,>=0.10.0 in /opt/conda/envs/Python-3.10-Premium/lib/python3.10/site-packages (from ibm-cos-sdk==2.12.*->ibm_watson_machine_learning) (0.10.0)\n",
      "Requirement already satisfied: python-dateutil<3.0.0,>=2.8.2 in /opt/conda/envs/Python-3.10-Premium/lib/python3.10/site-packages (from ibm-cos-sdk-core==2.12.0->ibm-cos-sdk==2.12.*->ibm_watson_machine_learning) (2.8.2)\n",
      "Collecting ibm-cloud-sdk-core>=3.5.2 (from ibm_aigov_facts_client)\n",
      "  Downloading ibm-cloud-sdk-core-3.16.7.tar.gz (52 kB)\n",
      "\u001b[2K     \u001b[90m━━━━━━━━━━━━━━━━━━━━━━━━━━━━━━━━━━━━━━━━\u001b[0m \u001b[32m52.3/52.3 kB\u001b[0m \u001b[31m11.4 MB/s\u001b[0m eta \u001b[36m0:00:00\u001b[0m\n",
      "\u001b[?25h  Installing build dependencies ... \u001b[?25ldone\n",
      "\u001b[?25h  Getting requirements to build wheel ... \u001b[?25ldone\n",
      "\u001b[?25h  Preparing metadata (pyproject.toml) ... \u001b[?25ldone\n",
      "\u001b[?25hRequirement already satisfied: attrs>=21.2.0 in /opt/conda/envs/Python-3.10-Premium/lib/python3.10/site-packages (from ibm_watson_studio_pipelines) (21.4.0)\n",
      "Collecting responses>=0.13.4 (from ibm_watson_studio_pipelines)\n",
      "  Obtaining dependency information for responses>=0.13.4 from https://files.pythonhosted.org/packages/1d/83/6ce6c2b447af3c02d944639c387edef2ea9eb72e734bce4442d56ecb97f5/responses-0.23.3-py3-none-any.whl.metadata\n",
      "  Downloading responses-0.23.3-py3-none-any.whl.metadata (44 kB)\n",
      "\u001b[2K     \u001b[90m━━━━━━━━━━━━━━━━━━━━━━━━━━━━━━━━━━━━━━━━\u001b[0m \u001b[32m44.6/44.6 kB\u001b[0m \u001b[31m7.0 MB/s\u001b[0m eta \u001b[36m0:00:00\u001b[0m\n",
      "\u001b[?25hRequirement already satisfied: pytest>=6.2.5 in /opt/conda/envs/Python-3.10-Premium/lib/python3.10/site-packages (from ibm_watson_studio_pipelines) (7.1.2)\n",
      "Requirement already satisfied: typing-extensions>=3.7.4 in /opt/conda/envs/Python-3.10-Premium/lib/python3.10/site-packages (from ibm_watson_studio_pipelines) (4.3.0)\n",
      "Requirement already satisfied: wheel in /opt/conda/envs/Python-3.10-Premium/lib/python3.10/site-packages (from lightgbm) (0.38.4)\n",
      "Requirement already satisfied: scikit-learn!=0.22.0 in /opt/conda/envs/Python-3.10-Premium/lib/python3.10/site-packages (from lightgbm) (1.1.1)\n",
      "Collecting requests<3.0,>=2.0 (from ibm_aigov_facts_client)\n",
      "  Obtaining dependency information for requests<3.0,>=2.0 from https://files.pythonhosted.org/packages/70/8e/0e2d847013cb52cd35b38c009bb167a1a26b2ce6cd6965bf26b47bc0bf44/requests-2.31.0-py3-none-any.whl.metadata\n",
      "  Downloading requests-2.31.0-py3-none-any.whl.metadata (4.6 kB)\n",
      "Requirement already satisfied: PyJWT<3.0.0,>=2.4.0 in /opt/conda/envs/Python-3.10-Premium/lib/python3.10/site-packages (from ibm-cloud-sdk-core>=3.5.2->ibm_aigov_facts_client) (2.4.0)\n",
      "Requirement already satisfied: zipp>=0.5 in /opt/conda/envs/Python-3.10-Premium/lib/python3.10/site-packages (from importlib-metadata!=4.7.0,<5,>=3.7.0->mlflow-skinny==1.28.0->ibm_aigov_facts_client) (3.8.0)\n",
      "Requirement already satisfied: pyparsing!=3.0.5,>=2.0.2 in /opt/conda/envs/Python-3.10-Premium/lib/python3.10/site-packages (from packaging<22->mlflow-skinny==1.28.0->ibm_aigov_facts_client) (3.0.9)\n",
      "Requirement already satisfied: iniconfig in /opt/conda/envs/Python-3.10-Premium/lib/python3.10/site-packages (from pytest>=6.2.5->ibm_watson_studio_pipelines) (1.1.1)\n",
      "Requirement already satisfied: pluggy<2.0,>=0.12 in /opt/conda/envs/Python-3.10-Premium/lib/python3.10/site-packages (from pytest>=6.2.5->ibm_watson_studio_pipelines) (1.0.0)\n",
      "Requirement already satisfied: py>=1.8.2 in /opt/conda/envs/Python-3.10-Premium/lib/python3.10/site-packages (from pytest>=6.2.5->ibm_watson_studio_pipelines) (1.11.0)\n",
      "Requirement already satisfied: tomli>=1.0.0 in /opt/conda/envs/Python-3.10-Premium/lib/python3.10/site-packages (from pytest>=6.2.5->ibm_watson_studio_pipelines) (2.0.1)\n",
      "Requirement already satisfied: charset-normalizer<4,>=2 in /opt/conda/envs/Python-3.10-Premium/lib/python3.10/site-packages (from requests<3.0,>=2.0->ibm_aigov_facts_client) (2.0.4)\n",
      "Requirement already satisfied: idna<4,>=2.5 in /opt/conda/envs/Python-3.10-Premium/lib/python3.10/site-packages (from requests<3.0,>=2.0->ibm_aigov_facts_client) (3.3)\n",
      "Collecting types-PyYAML (from responses>=0.13.4->ibm_watson_studio_pipelines)\n",
      "  Obtaining dependency information for types-PyYAML from https://files.pythonhosted.org/packages/da/14/7ee3c82b073aa56ba51a7c61e1c37045171fde3d7e60a6e2b1763bdb455c/types_PyYAML-6.0.12.11-py3-none-any.whl.metadata\n",
      "  Downloading types_PyYAML-6.0.12.11-py3-none-any.whl.metadata (1.4 kB)\n",
      "Requirement already satisfied: joblib>=1.0.0 in /opt/conda/envs/Python-3.10-Premium/lib/python3.10/site-packages (from scikit-learn!=0.22.0->lightgbm) (1.1.1)\n",
      "Requirement already satisfied: threadpoolctl>=2.0.0 in /opt/conda/envs/Python-3.10-Premium/lib/python3.10/site-packages (from scikit-learn!=0.22.0->lightgbm) (2.2.0)\n",
      "Requirement already satisfied: oauthlib>=3.1.0 in /opt/conda/envs/Python-3.10-Premium/lib/python3.10/site-packages (from databricks-cli<1,>=0.8.7->mlflow-skinny==1.28.0->ibm_aigov_facts_client) (3.2.2)\n",
      "Collecting gitdb<5,>=4.0.1 (from gitpython<4,>=2.1.0->mlflow-skinny==1.28.0->ibm_aigov_facts_client)\n",
      "  Downloading gitdb-4.0.10-py3-none-any.whl (62 kB)\n",
      "\u001b[2K     \u001b[90m━━━━━━━━━━━━━━━━━━━━━━━━━━━━━━━━━━━━━━━━\u001b[0m \u001b[32m62.7/62.7 kB\u001b[0m \u001b[31m15.8 MB/s\u001b[0m eta \u001b[36m0:00:00\u001b[0m\n",
      "\u001b[?25hCollecting smmap<6,>=3.0.1 (from gitdb<5,>=4.0.1->gitpython<4,>=2.1.0->mlflow-skinny==1.28.0->ibm_aigov_facts_client)\n",
      "  Downloading smmap-5.0.0-py3-none-any.whl (24 kB)\n",
      "Downloading ibm_aigov_facts_client-1.0.59-py3-none-any.whl (171 kB)\n",
      "\u001b[2K   \u001b[90m━━━━━━━━━━━━━━━━━━━━━━━━━━━━━━━━━━━━━━━━\u001b[0m \u001b[32m171.1/171.1 kB\u001b[0m \u001b[31m40.9 MB/s\u001b[0m eta \u001b[36m0:00:00\u001b[0m\n",
      "\u001b[?25hDownloading requests-2.31.0-py3-none-any.whl (62 kB)\n",
      "\u001b[2K   \u001b[90m━━━━━━━━━━━━━━━━━━━━━━━━━━━━━━━━━━━━━━━━\u001b[0m \u001b[32m62.6/62.6 kB\u001b[0m \u001b[31m17.0 MB/s\u001b[0m eta \u001b[36m0:00:00\u001b[0m\n",
      "\u001b[?25hDownloading responses-0.23.3-py3-none-any.whl (52 kB)\n",
      "\u001b[2K   \u001b[90m━━━━━━━━━━━━━━━━━━━━━━━━━━━━━━━━━━━━━━━━\u001b[0m \u001b[32m52.7/52.7 kB\u001b[0m \u001b[31m12.3 MB/s\u001b[0m eta \u001b[36m0:00:00\u001b[0m\n",
      "\u001b[?25hDownloading GitPython-3.1.32-py3-none-any.whl (188 kB)\n",
      "\u001b[2K   \u001b[90m━━━━━━━━━━━━━━━━━━━━━━━━━━━━━━━━━━━━━━━━\u001b[0m \u001b[32m188.5/188.5 kB\u001b[0m \u001b[31m38.4 MB/s\u001b[0m eta \u001b[36m0:00:00\u001b[0m\n",
      "\u001b[?25hDownloading types_PyYAML-6.0.12.11-py3-none-any.whl (14 kB)\n",
      "Building wheels for collected packages: ibm-cloud-sdk-core, timeout-decorator, databricks-cli\n",
      "  Building wheel for ibm-cloud-sdk-core (pyproject.toml) ... \u001b[?25ldone\n",
      "\u001b[?25h  Created wheel for ibm-cloud-sdk-core: filename=ibm_cloud_sdk_core-3.16.7-py3-none-any.whl size=85627 sha256=c26d9a6ea99a3cdf5745a05c871f8d2d51d91b2867267d0c3e04d765e51b361b\n",
      "  Stored in directory: /tmp/1000710000/.cache/pip/wheels/57/9c/ed/611f998db826deaeedadd824c8a0427a677136325358d79fdc\n",
      "  Building wheel for timeout-decorator (setup.py) ... \u001b[?25ldone\n",
      "\u001b[?25h  Created wheel for timeout-decorator: filename=timeout_decorator-0.5.0-py3-none-any.whl size=5026 sha256=f871f32da2202243a1bbf4e27fd223ffe49f811390c032cda18ef60debf29350\n",
      "  Stored in directory: /tmp/1000710000/.cache/pip/wheels/68/2f/bc/76f1192d474666d41ae6f09813fccbd00fe3f07e8261c4cff5\n",
      "  Building wheel for databricks-cli (setup.py) ... \u001b[?25ldone\n",
      "\u001b[?25h  Created wheel for databricks-cli: filename=databricks_cli-0.17.7-py3-none-any.whl size=143876 sha256=568f46957ca7338b92b8a0aa4c446cfb93e7461d889e15de3a95ad4353d640d5\n",
      "  Stored in directory: /tmp/1000710000/.cache/pip/wheels/ae/63/93/5402c1a09c1868a59d0b05013484e07af97a9d7b3dbd5bd39a\n",
      "Successfully built ibm-cloud-sdk-core timeout-decorator databricks-cli\n",
      "\u001b[33mDEPRECATION: pytorch-lightning 1.6.5 has a non-standard dependency specifier torch>=1.8.*. pip 23.3 will enforce this behaviour change. A possible replacement is to upgrade to a newer version of pytorch-lightning or contact the author to suggest that they release a version with a conforming dependency specifiers. Discussion can be found at https://github.com/pypa/pip/issues/12063\u001b[0m\u001b[33m\n",
      "\u001b[0mInstalling collected packages: types-PyYAML, timeout-decorator, sqlparse, smmap, requests, python-magic, docutils, responses, ibm-cloud-sdk-core, gitdb, databricks-cli, gitpython, mlflow-skinny, ibm_watson_studio_pipelines, ibm_aigov_facts_client\n",
      "  Attempting uninstall: requests\n",
      "    Found existing installation: requests 2.28.1\n",
      "    Uninstalling requests-2.28.1:\n",
      "      Successfully uninstalled requests-2.28.1\n",
      "  Attempting uninstall: ibm-cloud-sdk-core\n",
      "    Found existing installation: ibm-cloud-sdk-core 3.10.1\n",
      "    Uninstalling ibm-cloud-sdk-core-3.10.1:\n",
      "      Successfully uninstalled ibm-cloud-sdk-core-3.10.1\n",
      "\u001b[31mERROR: pip's dependency resolver does not currently take into account all the packages that are installed. This behaviour is the source of the following dependency conflicts.\n",
      "ibm-watson-openscale 3.0.28 requires ibm-cloud-sdk-core==3.10.1, but you have ibm-cloud-sdk-core 3.16.7 which is incompatible.\u001b[0m\u001b[31m\n",
      "\u001b[0mSuccessfully installed databricks-cli-0.17.7 docutils-0.15.2 gitdb-4.0.10 gitpython-3.1.32 ibm-cloud-sdk-core-3.16.7 ibm_aigov_facts_client-1.0.59 ibm_watson_studio_pipelines-0.2.12 mlflow-skinny-1.28.0 python-magic-0.4.27 requests-2.31.0 responses-0.23.3 smmap-5.0.0 sqlparse-0.4.4 timeout-decorator-0.5.0 types-PyYAML-6.0.12.11\n"
     ]
    }
   ],
   "source": [
    "!pip install hyperopt ibm_aigov_facts_client ibm_watson_machine_learning ibm_watson_studio_pipelines lightgbm"
   ]
  },
  {
   "cell_type": "code",
   "execution_count": 3,
   "metadata": {
    "id": "d600fa56-ad81-4587-95c4-3f6c67e211c4",
    "tags": []
   },
   "outputs": [],
   "source": [
    "from ibm_cloud_sdk_core.authenticators import IAMAuthenticator\n",
    "from ibm_watson_machine_learning import APIClient\n",
    "from ibm_aigov_facts_client import AIGovFactsClient\n",
    "from ibm_watson_studio_pipelines import WSPipelines\n",
    "from botocore.client import Config\n",
    "import ibm_boto3\n",
    "import pandas as pd\n",
    "import json\n",
    "import os\n",
    "import requests\n",
    "import pickle\n",
    "\n",
    "from os.path import exists\n",
    "if exists(\"utils/fs_utils.py\") and exists(\"utils/catalog_utils.py\"):\n",
    "    from utils import fs_utils,catalog_utils\n",
    "else:\n",
    "    # If utils/fs_utils.py and utils/catalog_utils.py do not exist, we assume that you are running on CPDaaS\n",
    "    # and will therefore import scripts from the freshly cloned repository\n",
    "    from MLOps_CPD.utils import fs_utils, catalog_utils"
   ]
  },
  {
   "cell_type": "markdown",
   "metadata": {
    "id": "c687c0bd-39c9-4688-8fb7-6f650b58b83a"
   },
   "source": [
    "## Succeeding cell contains the credentials for MLOps COS\n",
    "```\n",
    "## PROJECT COS \n",
    "AUTH_ENDPOINT = \"https://iam.cloud.ibm.com/oidc/token\"\n",
    "ENDPOINT_URL = \"https://s3.private.us.cloud-object-storage.appdomain.cloud\"\n",
    "API_KEY_COS = \"xxx\"\n",
    "BUCKET_PROJECT_COS = \"mlops-donotdelete-pr-qxxcecxi1dtw94\"\n",
    "\n",
    "## MLOPS COS\n",
    "ENDPOINT_URL_MLOPS = \"https://s3.jp-tok.cloud-object-storage.appdomain.cloud\"\n",
    "API_KEY_MLOPS = \"xxx\"\n",
    "CRN_MLOPS = \"xxx\"\n",
    "BUCKET_MLOPS  = \"mlops-asset\"\n",
    "\n",
    "## CATALOG\n",
    "CATALOG_NAME = \"MLOps-ns\"\n",
    "```"
   ]
  },
  {
   "cell_type": "markdown",
   "metadata": {
    "id": "ae5ae0b0-33f5-406c-8817-471f1f76d182"
   },
   "source": [
    "## Pipeline Params"
   ]
  },
  {
   "cell_type": "code",
   "execution_count": 14,
   "metadata": {},
   "outputs": [],
   "source": [
    "test_data_filename = \"test_gcr.csv\"\n",
    "path = \"mlops-dir\""
   ]
  },
  {
   "cell_type": "code",
   "execution_count": 15,
   "metadata": {
    "id": "2eaec162-d6b3-4d0b-a5bc-de8341d6ed65"
   },
   "outputs": [],
   "source": [
    "## REMOTE AUTH\n",
    "\n",
    "TOKEN = os.getenv(\"USER_ACCESS_TOKEN\")\n",
    "\n",
    "\n",
    "## LOCAL FS\n",
    "\n",
    "path = os.getenv(\"path\")\n",
    "test_data_filename = os.getenv(\"test_data_filename\")\n",
    "\n",
    "model_path = os.getenv(\"model_path\")\n",
    "\n",
    "## WML / Factsheets\n",
    "\n",
    "SPACE_ID = os.getenv(\"SPACE_ID\")\n",
    "MODEL_NAME = os.getenv(\"model_name\")\n",
    "DEPLOYMENT_NAME = os.getenv(\"deployment_name\")"
   ]
  },
  {
   "cell_type": "markdown",
   "metadata": {
    "id": "c892c8cd-46b7-4a16-85cf-0ac039fd8a61"
   },
   "source": [
    "## Instantiate WML Client"
   ]
  },
  {
   "cell_type": "code",
   "execution_count": 21,
   "metadata": {
    "id": "6a324dbf-3194-4a1b-897e-3a74d7ec1346",
    "tags": []
   },
   "outputs": [
    {
     "data": {
      "text/plain": [
       "'1.0.286'"
      ]
     },
     "execution_count": 21,
     "metadata": {},
     "output_type": "execute_result"
    }
   ],
   "source": [
    "WML_CREDENTIALS = {\n",
    "   \"token\": TOKEN,\n",
    "   \"instance_id\" : \"openshift\",\n",
    "   \"url\": os.environ['RUNTIME_ENV_APSX_URL'],\n",
    "   \"version\": \"4.6\"\n",
    "}\n",
    "\n",
    "wml_client = APIClient(WML_CREDENTIALS)"
   ]
  },
  {
   "cell_type": "code",
   "execution_count": 28,
   "metadata": {
    "id": "08df0fad-f279-483f-87dc-e0b8d96f14bf",
    "tags": []
   },
   "outputs": [
    {
     "data": {
      "text/plain": [
       "'SUCCESS'"
      ]
     },
     "execution_count": 28,
     "metadata": {},
     "output_type": "execute_result"
    }
   ],
   "source": [
    "wml_client.set.default_space(SPACE_ID)"
   ]
  },
  {
   "cell_type": "markdown",
   "metadata": {
    "id": "9e202e3a-5fd8-4238-9c34-d5246cb11ab6"
   },
   "source": [
    "### Helper Methods"
   ]
  },
  {
   "cell_type": "code",
   "execution_count": 29,
   "metadata": {
    "id": "47ae209e-1e37-4e43-a133-a47ec31786ad",
    "tags": []
   },
   "outputs": [],
   "source": [
    "def check_for_file_in_filesystem(path):\n",
    "    \"\"\"\n",
    "    Check existence of path in filesystem\n",
    "    \"\"\"\n",
    "    if os.path.exists(path):\n",
    "        return True\n",
    "    else:\n",
    "        print(\"File not found in specified path.\")\n",
    "        return False     \n",
    "\n",
    "\n",
    "def load_data_from_filesystem(path):\n",
    "    \"\"\"\n",
    "    Check existence of path in filesystem.\n",
    "    If it does exist, loads csv via path\n",
    "    If it does NOT exist, try to load data from Db2\n",
    "    \"\"\"\n",
    "    body = check_for_file_in_filesystem(path)\n",
    "    if body:\n",
    "        suffix = path[-3:]\n",
    "        # Check whether path ends on csv\n",
    "        if suffix == \"csv\":\n",
    "            gcf_df = pd.read_csv(path)\n",
    "        else:\n",
    "            with open(path) as f:\n",
    "                gcf_df = pickle.load(f)\n",
    "        return gcf_df"
   ]
  },
  {
   "cell_type": "markdown",
   "metadata": {
    "id": "288ce55e-9b82-4185-8297-a399f1648cea",
    "tags": []
   },
   "source": [
    "# Deserialize model\n",
    "\n",
    "TODO: Later get model from model inventory instead"
   ]
  },
  {
   "cell_type": "code",
   "execution_count": 30,
   "metadata": {
    "id": "e5bd323f-cf79-4ab1-ae8c-c81a14d81f3b",
    "tags": []
   },
   "outputs": [],
   "source": [
    "with open(model_path, 'rb') as f:\n",
    "    model = pickle.load(f)"
   ]
  },
  {
   "cell_type": "markdown",
   "metadata": {
    "id": "40fc914b-9675-46a3-ad8f-e6f53dc72437"
   },
   "source": [
    "### Load Sample Data "
   ]
  },
  {
   "cell_type": "code",
   "execution_count": 31,
   "metadata": {
    "id": "1f16e30e-c9cb-4581-bead-352c127018d4",
    "tags": []
   },
   "outputs": [
    {
     "data": {
      "text/plain": [
       "'{\"input_data\": [{\"fields\": [\"LoanDuration\", \"LoanAmount\", \"InstallmentPercent\", \"CurrentResidenceDuration\", \"Age\", \"ExistingCreditsCount\", \"Dependents\", \"Telephone\", \"OthersOnLoan\", \"ExistingSavings\", \"Job\", \"LoanPurpose\", \"CheckingStatus\", \"CreditHistory\", \"OwnsProperty\", \"Housing\", \"EmploymentDuration\", \"Sex\"], \"values\": [[31, 1889, 3, 3, 32, 1, 1, \"none\", \"none\", \"100_to_500\", \"skilled\", \"other\", \"0_to_200\", \"credits_paid_to_date\", \"savings_insurance\", \"own\", \"less_1\", \"female\"]]}]}'"
      ]
     },
     "execution_count": 31,
     "metadata": {},
     "output_type": "execute_result"
    }
   ],
   "source": [
    "payload_data = load_data_from_filesystem(test_data_path)\n",
    "payload_data = payload_data.drop('Risk',axis=1)\n",
    "fields = payload_data.columns.tolist()\n",
    "values = [payload_data.values.tolist()[0]]\n",
    "\n",
    "payload_scoring = {\"input_data\": [{\"fields\": fields, \"values\": values}]}\n",
    "json.dumps(payload_scoring)"
   ]
  },
  {
   "cell_type": "code",
   "execution_count": 32,
   "metadata": {
    "id": "eb8a1006-f0a0-4223-8c67-2f4aafe610dd",
    "tags": []
   },
   "outputs": [
    {
     "name": "stdout",
     "output_type": "stream",
     "text": [
      "{'entity': {'hybrid_pipeline_software_specs': [], 'label_column': 'l0', 'schemas': {'input': [{'fields': [{'name': 'f1', 'type': 'str'}], 'id': '1', 'type': 'struct'}], 'output': []}, 'software_spec': {'id': 'b56101f1-309d-549b-a849-eaa63f77b2fb', 'name': 'runtime-22.2-py3.10'}, 'training_data_references': [{'id': '1', 'location': {}, 'schema': {'fields': [{'name': 'f1', 'type': 'str'}], 'id': '1', 'type': 'list'}, 'type': 'fs'}], 'type': 'scikit-learn_1.1'}, 'metadata': {'created_at': '2023-08-01T17:02:12.179Z', 'description': 'test-model-lgbm', 'id': 'dfcfe9c3-432a-4f51-9aa4-8f720e028ac9', 'modified_at': '2023-08-01T17:02:13.287Z', 'name': 'test-model-lgbm', 'owner': '1000331062', 'resource_key': '797402f8-1aed-4463-a51c-14e0f0934bd6', 'space_id': '47e8a623-3312-4ccf-96c8-799a55c2b711'}, 'system': {'warnings': []}}\n"
     ]
    }
   ],
   "source": [
    "# TODO: Move to notebook 3 and skip (de)serialization process\n",
    "software_spec_uid = wml_client.software_specifications.get_id_by_name(\"runtime-22.2-py3.10\")\n",
    "model_props_gbt = {\n",
    "    wml_client.repository.ModelMetaNames.NAME: MODEL_NAME,\n",
    "    wml_client.repository.ModelMetaNames.DESCRIPTION: MODEL_NAME,\n",
    "    wml_client.repository.ModelMetaNames.SOFTWARE_SPEC_UID: software_spec_uid,\n",
    "    wml_client.repository.ModelMetaNames.TYPE: \"scikit-learn_1.1\"\n",
    "}\n",
    "\n",
    "published_model_details = wml_client.repository.store_model(model=model, meta_props=model_props_gbt, training_data=fields,training_target=values)\n",
    "print(published_model_details)"
   ]
  },
  {
   "cell_type": "code",
   "execution_count": 33,
   "metadata": {
    "id": "920713be-ff4d-4fa3-8dd8-81623801b641",
    "tags": []
   },
   "outputs": [
    {
     "data": {
      "text/plain": [
       "'dfcfe9c3-432a-4f51-9aa4-8f720e028ac9'"
      ]
     },
     "execution_count": 33,
     "metadata": {},
     "output_type": "execute_result"
    }
   ],
   "source": [
    "model_id = wml_client.repository.get_model_id(published_model_details)\n",
    "model_id"
   ]
  },
  {
   "cell_type": "markdown",
   "metadata": {
    "id": "ad6fe0e3-d01e-4363-83c0-4ac57bd9e3dc"
   },
   "source": [
    "## Promote the Model to deployment space and Deploy the Model"
   ]
  },
  {
   "cell_type": "code",
   "execution_count": 34,
   "metadata": {
    "id": "d25ed89c-62dd-4bc8-8644-3439c9586f8b",
    "tags": []
   },
   "outputs": [
    {
     "name": "stdout",
     "output_type": "stream",
     "text": [
      "\n",
      "\n",
      "#######################################################################################\n",
      "\n",
      "Synchronous deployment creation for uid: 'dfcfe9c3-432a-4f51-9aa4-8f720e028ac9' started\n",
      "\n",
      "#######################################################################################\n",
      "\n",
      "\n",
      "initializing\n",
      "Note: online_url is deprecated and will be removed in a future release. Use serving_urls instead.\n",
      "\n",
      "ready\n",
      "\n",
      "\n",
      "------------------------------------------------------------------------------------------------\n",
      "Successfully finished deployment creation, deployment_uid='90893f6b-e625-4abd-8c49-b94423f418d3'\n",
      "------------------------------------------------------------------------------------------------\n",
      "\n",
      "\n"
     ]
    }
   ],
   "source": [
    "meta_data = {\n",
    "    wml_client.deployments.ConfigurationMetaNames.NAME: DEPLOYMENT_NAME,\n",
    "    wml_client.deployments.ConfigurationMetaNames.ONLINE: {},\n",
    "    wml_client.deployments.ConfigurationMetaNames.HARDWARE_SPEC: {\n",
    "        \"name\": \"S\",\n",
    "        \"num_nodes\": 1,\n",
    "    }\n",
    "}\n",
    "\n",
    "deployment_details = wml_client.deployments.create(model_id, meta_props=meta_data)"
   ]
  },
  {
   "cell_type": "code",
   "execution_count": 35,
   "metadata": {
    "id": "4802233a-fbc2-458e-91b0-a859a2f57d66",
    "tags": []
   },
   "outputs": [
    {
     "data": {
      "text/plain": [
       "'90893f6b-e625-4abd-8c49-b94423f418d3'"
      ]
     },
     "execution_count": 35,
     "metadata": {},
     "output_type": "execute_result"
    }
   ],
   "source": [
    "deployment_uid = wml_client.deployments.get_id(deployment_details)\n",
    "deployment_uid"
   ]
  },
  {
   "cell_type": "markdown",
   "metadata": {
    "id": "728d19a0-395f-4b11-a5cd-df099ea4abdb",
    "tags": []
   },
   "source": [
    "## Score the Endpoint"
   ]
  },
  {
   "cell_type": "markdown",
   "metadata": {
    "id": "5f93a3a4-aaa5-4304-a513-e887619e6079"
   },
   "source": [
    "### Model Testing on the Serving Endpoint\n",
    "\n"
   ]
  },
  {
   "cell_type": "code",
   "execution_count": 36,
   "metadata": {
    "id": "cb6e54f2-aed6-4f1e-8ec9-8297454f6a07",
    "tags": []
   },
   "outputs": [
    {
     "data": {
      "text/plain": [
       "{'predictions': [{'fields': ['prediction', 'probability'],\n",
       "   'values': [[0, [0.8620280281906896, 0.1379719718093104]]]}]}"
      ]
     },
     "execution_count": 36,
     "metadata": {},
     "output_type": "execute_result"
    }
   ],
   "source": [
    "predictions = wml_client.deployments.score(deployment_uid, payload_scoring)\n",
    "predictions"
   ]
  },
  {
   "cell_type": "markdown",
   "metadata": {
    "id": "cff76dc2-be3f-48a6-a583-a75d6583e1da"
   },
   "source": [
    "### Test for Downstream Apps without using WML SDK."
   ]
  },
  {
   "cell_type": "code",
   "execution_count": 37,
   "metadata": {
    "id": "ff65ef37-ba78-4149-9f06-6d2744b1a668",
    "tags": []
   },
   "outputs": [],
   "source": [
    "# Rework test for local WML\n",
    "#deploy_done = test_deployment(CLOUD_API_KEY, deployment_uid)\n",
    "#deploy_done\n",
    "deploy_done = True"
   ]
  },
  {
   "cell_type": "markdown",
   "metadata": {
    "id": "a4032cce-515e-4509-810d-51d216ed9ac3"
   },
   "source": [
    "## Save Params in WS Pipeline"
   ]
  },
  {
   "cell_type": "code",
   "execution_count": 40,
   "metadata": {
    "id": "96ccb5fc-9d30-42c8-ac75-4141e7c663df",
    "tags": []
   },
   "outputs": [],
   "source": [
    "deployment_done = {}\n",
    "deployment_done['deployment_status'] = deploy_done\n",
    "deployment_done['deployment_id'] = deployment_uid\n",
    "deployment_done['model_id'] = model_id\n",
    "deployment_done['space_id'] = SPACE_ID"
   ]
  },
  {
   "cell_type": "code",
   "execution_count": 41,
   "metadata": {
    "id": "6d30cceb-6f2c-4031-a8f3-7c764aeb04c6",
    "tags": []
   },
   "outputs": [
    {
     "name": "stdout",
     "output_type": "stream",
     "text": [
      "Running outside of Watson Studio Pipeline - storing results in the local filesystem for testing purposes...\n",
      "\n",
      "  output paths:\n",
      "    - \"deployment_status\": .ibm_watson_studio_pipelines/results/deployment_status\n",
      "    - \"deployment_id\": .ibm_watson_studio_pipelines/results/deployment_id\n",
      "    - \"model_id\": .ibm_watson_studio_pipelines/results/model_id\n",
      "    - \"space_id\": .ibm_watson_studio_pipelines/results/space_id\n"
     ]
    },
    {
     "data": {
      "text/plain": [
       "<ibm_cloud_sdk_core.detailed_response.DetailedResponse at 0x7f15c92eb5b0>"
      ]
     },
     "execution_count": 41,
     "metadata": {},
     "output_type": "execute_result"
    }
   ],
   "source": [
    "pipelines_client = WSPipelines.from_token(TOKEN)\n",
    "pipelines_client.store_results(deployment_done)"
   ]
  }
 ],
 "metadata": {
  "kernelspec": {
   "display_name": "Python 3.10",
   "language": "python",
   "name": "python3"
  },
  "language_info": {
   "codemirror_mode": {
    "name": "ipython",
    "version": 3
   },
   "file_extension": ".py",
   "mimetype": "text/x-python",
   "name": "python",
   "nbconvert_exporter": "python",
   "pygments_lexer": "ipython3",
   "version": "3.10.6"
  },
  "vscode": {
   "interpreter": {
    "hash": "bd385fe162c5ca0c84973b7dd5c518456272446b2b64e67c2a69f949ca7a1754"
   }
  }
 },
 "nbformat": 4,
 "nbformat_minor": 4
}
