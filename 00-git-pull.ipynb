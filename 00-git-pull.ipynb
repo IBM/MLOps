{
 "cells": [
  {
   "cell_type": "markdown",
   "id": "4c4febc4-bc42-48cb-a226-e8a352003011",
   "metadata": {
    "id": "1c9ea256-70b7-4d27-9628-ef9f55978309",
    "tags": []
   },
   "source": [
    "## Pulling changes from git\n",
    "\n",
    "This notebook will pull the current state from a given git repository.\n",
    "This is necessary so Watson Pipelines will always execute the newest changes!\n",
    "\n",
    "You might have to open a terminal to create the .env file since jupyterlab does not show .env files by defaul "
   ]
  },
  {
   "cell_type": "code",
   "execution_count": null,
   "id": "76dc108f-1be7-4618-b9c8-425ff448c732",
   "metadata": {
    "id": "76dc108f-1be7-4618-b9c8-425ff448c732",
    "tags": []
   },
   "outputs": [],
   "source": [
    "import os\n",
    "from dotenv import load_dotenv\n",
    "\n",
    "load_dotenv()\n",
    "\n",
    "repo_adresse = os.getenv('repo_adresse') # without https://\n",
    "personal_access_token=os.getenv('personal_access_token') # generate this in github \n",
    "branch_name = os.getenv('branch_name') # should match the branch that is currently checked out within this project\n"
   ]
  },
  {
   "cell_type": "markdown",
   "id": "2d9e7962-d85a-4f20-8593-9e0ca93bdb2c",
   "metadata": {
    "id": "e9e0d7ad-e7a0-4ef5-b008-b6474d0449f1"
   },
   "source": [
    "#### setting personal access token --> TODO: get this from a secret vault!"
   ]
  },
  {
   "cell_type": "markdown",
   "id": "d52fe0de-10de-45e6-a69a-1528cee38c40",
   "metadata": {
    "id": "e37c810c-8b5d-448c-be88-bfac1dc21619"
   },
   "source": [
    "ditching all possibly existing local changes"
   ]
  },
  {
   "cell_type": "code",
   "execution_count": null,
   "id": "ba1edbf0-504c-475d-9bf4-a5e7b8ee9383",
   "metadata": {
    "id": "ba1edbf0-504c-475d-9bf4-a5e7b8ee9383",
    "tags": []
   },
   "outputs": [],
   "source": [
    "!git reset --hard HEAD"
   ]
  },
  {
   "cell_type": "markdown",
   "id": "eeaf8fb6-23b8-48c3-9fd8-a92203eb80e3",
   "metadata": {
    "id": "5ac99cf8-ce89-49c0-b397-0ab66c60a2ce"
   },
   "source": [
    "removing current origin to replace it with an origin with explicit credentials"
   ]
  },
  {
   "cell_type": "code",
   "execution_count": null,
   "id": "23055252-3170-41fe-918a-9025af772ab8",
   "metadata": {
    "id": "23055252-3170-41fe-918a-9025af772ab8",
    "tags": []
   },
   "outputs": [],
   "source": [
    "import os\n",
    "\n",
    "exit_code = os.system(\"git remote remove origin\")\n",
    "if exit_code != 0:\n",
    "    print(\"An error occurred.\")"
   ]
  },
  {
   "cell_type": "code",
   "execution_count": null,
   "id": "dd53ddaf-3621-4ac1-8026-e35e713fceda",
   "metadata": {
    "id": "dd53ddaf-3621-4ac1-8026-e35e713fceda",
    "tags": []
   },
   "outputs": [],
   "source": [
    "command=\"git remote add origin https://\"+personal_access_token+\"@\"+repo_adresse\n",
    "!{command}"
   ]
  },
  {
   "cell_type": "code",
   "execution_count": null,
   "id": "162fa803-c479-4c06-81fa-76f5af9d3b28",
   "metadata": {
    "id": "11465116-165a-4af5-bfbc-5fef6cda7d73",
    "tags": []
   },
   "outputs": [],
   "source": [
    "!git fetch "
   ]
  },
  {
   "cell_type": "markdown",
   "id": "62cb29ec-2115-4cc1-b6bd-58bbbac00934",
   "metadata": {
    "id": "04850200-69cf-4031-8c09-44e75f6e5371"
   },
   "source": [
    "for some reason git forgets which branch it is looking at right now --> have to set it explicity"
   ]
  },
  {
   "cell_type": "code",
   "execution_count": null,
   "id": "934d5b9f-a8e5-484e-a770-cfa8ff4f17f2",
   "metadata": {
    "id": "934d5b9f-a8e5-484e-a770-cfa8ff4f17f2",
    "tags": []
   },
   "outputs": [],
   "source": [
    "command=\"git branch --set-upstream-to=origin/\"+branch_name\n",
    "!{command}"
   ]
  },
  {
   "cell_type": "code",
   "execution_count": null,
   "id": "db3e6c1a-7465-4cf5-aab5-a5cb7ddb7340",
   "metadata": {
    "id": "db3e6c1a-7465-4cf5-aab5-a5cb7ddb7340",
    "tags": []
   },
   "outputs": [],
   "source": [
    "!git pull "
   ]
  },
  {
   "cell_type": "code",
   "execution_count": null,
   "id": "6e1ff175-8c04-4c19-9bc8-0f5c0b9d1262",
   "metadata": {
    "id": "6e1ff175-8c04-4c19-9bc8-0f5c0b9d1262"
   },
   "outputs": [],
   "source": [
    "!pip install --upgrade pip\n",
    "!pip install -r requirements.txt"
   ]
  },
  {
   "cell_type": "code",
   "execution_count": 2,
   "id": "283e1d1c",
   "metadata": {},
   "outputs": [
    {
     "name": "stdout",
     "output_type": "stream",
     "text": [
      "DSX_GPU_REQUEST=-1\n",
      "CONDA_SHLVL=5\n",
      "DSX_JUPYTER_BASE_ROUTE=dsx-jupyter-231l-py\n",
      "LC_ALL=en_US.UTF-8\n",
      "LD_LIBRARY_PATH=/opt/ibm/dsdriver/lib:/opt/oracle/lib:/opt/conda/envs/Python-RT23.1-Premium/lib/python3.10/site-packages/tensorflow\n",
      "CONDA_EXE=/opt/conda/bin/conda\n",
      "REQUESTS_CA_BUNDLE=/etc/pki/ca-trust/extracted/openssl/ca-bundle.trust.crt\n",
      "APP_ENV_ENABLE_VSCODE_INTEGRATION=true\n",
      "PROJECT_NAME=00-datascience-playground\n",
      "RUNTIME_FLIGHT_SERVICE_URL=grpc+tls://wdp-connect-flight.cp4d.svc.cluster.local:443\n",
      "DSX_CPU_LIMIT=2000\n",
      "DSX_NAMESPACE=cp4d\n",
      "APP_ENV_NOTEBOOKS_API_V2=internal-nginx-svc.cp4d.svc.cluster.local:12443\n",
      "DSX_GPU_LIMIT=-1\n",
      "RUNTIME_TRAIN=23.1\n",
      "LANG=en_US.UTF-8\n",
      "TZ=UTC\n",
      "HOSTNAME=jupyter-231l-py-fdf1275a-fe2f-4b9e-9140-83b5aebc7a42-585c5d9s2j\n",
      "DSX_RUNTIME_DISPLAY_NAME=python_for_vscode_extension\n",
      "DSX_EVENT_FILTERS=[{\"action\":\"ignore\",\"reasons\":[\"DNSConfigForming\",\"ErrorAddingLogicalPort\"]}]\n",
      "OLDPWD=/home/wsuser\n",
      "DSX_LOG_DIR=/var/ibm/logs\n",
      "DSX_ENVIRONMENT_ID=environment.pythonforvscodeextension\n",
      "CONDA_HOME=/opt/conda\n",
      "DSX_SYSTEM_CONDENV=IBM-WS-System\n",
      "DSX_TLS_KEY=/var/ibm/tls/jupyter-key.pem\n",
      "DSX_VAR_DIR=/var/ibm\n",
      "CONDA_PREFIX=/opt/conda/envs/Python-RT23.1-Premium\n",
      "JAVA_HOME=/etc/alternatives/java_sdk_openjdk\n",
      "DSX_PROJECT_ID=5e8e49ef-6310-4cd5-82c0-4722a38b9550\n",
      "JUPYTER_DATA_DIR=/tmp/1000800000/jupyter-data-qmgcAGeg\n",
      "APP_ENV_VOLUMES_CONNECTIONS=[]\n",
      "LOAD_PATH=/opt/ibm/nlpmodels\n",
      "USER_ACCESS_TOKEN=eyJhbGciOiJSUzI1NiIsInR5cCI6IkpXVCIsImtpZCI6Ik90clNOcWRuQVAwYi1EWThuU3lRc25CbEMyc3N1X0dCcGdLODI2ZklELWMifQ.eyJ1aWQiOiIxMDAwMzMxMDE4IiwidXNlcm5hbWUiOiJtamVzY2giLCJyb2xlIjoiVXNlciIsInBlcm1pc3Npb25zIjpbImFjY2Vzc19jYXRhbG9nIiwidmlld19nb3Zlcm5hbmNlX2FydGlmYWN0cyIsIm1hbmFnZV9jYXRhbG9nIiwiY3JlYXRlX3NwYWNlIiwibWFuYWdlX3NwYWNlIiwibW9uaXRvcl9zcGFjZSIsIm1hbmFnZV9kaXNjb3ZlcnkiLCJnbG9zc2FyeV9hZG1pbiIsImF1dGhvcl9nb3Zlcm5hbmNlX2FydGlmYWN0cyIsIm1hbmFnZV9nbG9zc2FyeSIsIm1hbmFnZV9jYXRlZ29yaWVzIiwiYWNjZXNzX2RhdGFfcXVhbGl0eV9hc3NldF90eXBlcyIsImNyZWF0ZV9wcm9qZWN0IiwibWFuYWdlX3Byb2plY3QiLCJtb25pdG9yX3Byb2plY3QiLCJ2aWV3X3BsYXRmb3JtX2hlYWx0aCIsImFkZF92YXVsdHMiLCJtYW5hZ2VfdmF1bHRzX2FuZF9zZWNyZXRzIiwic2hhcmVfc2VjcmV0cyIsIm1hbmFnZV9nb3Zlcm5hbmNlX3dvcmtmbG93Il0sImdyb3VwcyI6WzEwMDAxLDEwMDAwXSwic3ViIjoibWplc2NoIiwiaXNzIjoiS05PWFNTTyIsImF1ZCI6IkRTWCIsImFwaV9yZXF1ZXN0Ijp0cnVlLCJpYXQiOjE2OTgxNDY0NjAsImV4cCI6NTI5ODE0Mjg2MH0.wmLcjNx0MBRCzk5U_LaUoN9uEHIQt5gXmgGnt9DU6qyiicP05suy9dyhnIw21kYtJGkZ2-rdQLO_2glSRb7lWHxkagJTmFIX4orE637nt7jo67ycKE2Vvap3rPcAHtnTRnv-ovdKPEru1sEQcqxnl04N1hw4ebANE5umJOAlok7lp9Uq1QCzs_TtMsYzU_bmyacjFKhhRYMHu2ZEH2ReI820H3s1gE1m30OS1RnfhfPW0tJR9qTLYkwI5tJR4nZ5srO355-X7ib70aYtSBBa_AyLCNY6Svp73xH4NC7qnLM1BqNtdQagBdCPv6o3CmGmnZ7sk7-1QRtUNQhPGZ51Xg\n",
      "DSX_USER_ID=1000331018\n",
      "_CE_M=\n",
      "CLASSPATH=/home/wsuser/jars/*:/user-home/_global_/dbdrivers/*:/user-home/_global_/dbdrivers/jdbc/*:/opt/jdbc/*:/user-home/_global_/dbdrivers/jdbc/default/*\n",
      "DSX_VARIANT=wslocal\n",
      "DSX_SCOPE_TYPE=project\n",
      "CURL_CA_BUNDLE=/opt/conda/envs/Python-RT23.1-Premium/ssl/cacert.pem\n",
      "DSX_SHARED_MEM_LIMIT=-1\n",
      "CONDA_PREFIX_1=/opt/conda/envs/IBM-WS-System\n",
      "CONDA_PREFIX_2=/opt/conda\n",
      "GRPC_SSL_CIPHER_SUITES=ECDHE-RSA-AES128-SHA256:ECDHE-RSA-AES128-GCM-SHA256:ECDHE-RSA-AES256-GCM-SHA384\n",
      "RUNTIME_ENV_ACCESS_TOKEN_FILE=/etc/cp4d/credentials/client-dsi//DSX_TOKEN\n",
      "DSX_CUSTOM_LABELS=notebooks/runtimeType,notebooks/tool,app.kubernetes.io/instance,icpdsupport/app,velero.io/exclude-from-backup,notebooks/kernelType,app.kubernetes.io/version,icpdsupport/addOnId,icpdsupport/ignore-on-nd-backup,app.kubernetes.io/name\n",
      "JOBLIB_TEMP_FOLDER=/tmp/1000800000\n",
      "IBM_DB_HOME=/opt/ibm/dsdriver\n",
      "PWD=/userfs\n",
      "APP_ENV_NOTEBOOKS_USER=1000331018\n",
      "HOME=/home/wsuser\n",
      "CONDA_PYTHON_EXE=/opt/conda/bin/python\n",
      "DSX_RUNTIME_ASSEMBLY_ID=57297f06-81ef-439e-b105-3d57c458584b\n",
      "DSX_USERNAME=wsuser\n",
      "DSX_SCOPE_NAME=00-datascience-playground\n",
      "AX_EXT_DEPLOYMENT_TYPE=icp\n",
      "OPAL_PREFIX=/opt/conda/envs/Python-RT23.1-Premium\n",
      "TF_NUM_INTEROP_THREADS=2\n",
      "APP_ENV_KG_REQUEST_TIMOUT=600\n",
      "APP_ENV_NOTEBOOKS_JOB_MANAGER=internal-nginx-svc.cp4d.svc.cluster.local:12443\n",
      "USER_ID=1000331018\n",
      "ELYRA_METADATA_PATH=/home/wsuser/.jupyter/lab/user-settings\n",
      "APP_ENV_IAM_KEYS_ENDPOINT=https://internal-nginx-svc.cp4d.svc.cluster.local:12443/auth/jwtpublic\n",
      "DSX_CUSTOMIZATION_LOG=/var/ibm/logs/customization-20231024_112110.log\n",
      "DSX_PROVIDES_WATSON_NLP=4.1\n",
      "SSL_CERT_FILE=/etc/pki/ca-trust/extracted/openssl/ca-bundle.trust.crt\n",
      "KERNEL_CONDENV=Python-RT23.1-Premium\n",
      "_CE_CONDA=\n",
      "RUNTIME_ENV_GIT_USER_TOKEN_FILE=/etc/cp4d/credentials/client-dsi//APP_ENV_JUPYTERLAB_GIT_USER_TOKEN\n",
      "DSX_PROJECT_NAME=00-datascience-playground\n",
      "DSX_RUNTIME_TYPE=jupyter-231l-py\n",
      "DSX_SERVICE_NAME=jupyter-231l-py-fdf1275a-fe2f-4b9e-9140-83b5aebc7a42\n",
      "DSX_RUNTIME_ENV_ID=environment.pythonforvscodeextension\n",
      "DSX_MAIN_CONTAINER=jupyter-231l-py-fdf1275a-fe2f-4b9e-9140-83b5aebc7a42-c\n",
      "TMPDIR=/tmp/1000800000\n",
      "APP_ENV_APSX_API=internal-nginx-svc.cp4d.svc.cluster.local:12443\n",
      "DSX_MEM_REQUEST=4294967296\n",
      "DSX_CONFIG=wslocal-lab\n",
      "APP_ENV_KG_CONNECT_TIMOUT=600\n",
      "DSX_NOTEBOOK_VERSION=6.5\n",
      "DSX_SHARED_MEM_ENABLED=0\n",
      "CONDA_PROMPT_MODIFIER=(Python-RT23.1-Premium) \n",
      "RUNTIME_ENV_APSX_URL=https://internal-nginx-svc.cp4d.svc.cluster.local:12443\n",
      "DSX_SCOPE_ID=5e8e49ef-6310-4cd5-82c0-4722a38b9550\n",
      "APP_ENV_JUPYTERLAB_LAUNCH_CONTEXT=userfs\n",
      "DSX_SHELLD_KEYS_MOUNT_PATH=/etc/cp4d/keys\n",
      "DSX_JUPYTERLAB_VERSION=3.6\n",
      "DSX_KERNEL_CONDENV=Python-RT23.1-Premium\n",
      "APP_ENV_IDLE_LINGER_SECS=64800\n",
      "DSX_RTA_SPEC_HASH=9890269166200148122\n",
      "TERM=xterm-color\n",
      "SHELL=/usr/bin/bash\n",
      "DSX_CPU_REQUEST=2000\n",
      "DSX_EPH_REQUEST=-1\n",
      "TORCH_CUDA_ARCH_LIST=\n",
      "DSX_NGINX_SVC_URL=https://internal-nginx-svc.cp4d.svc:12443\n",
      "APP_ENV_TENANT_MANAGER_TIMEOUT=10\n",
      "DSX_EPH_LIMIT=-1\n",
      "CONDA_ROOT=/opt/conda\n",
      "DSX_COMPONENT=jupyter-231l-py\n",
      "SHLVL=7\n",
      "PYTHONPATH=/var/ibm/.ws/ax-ext/lib\n",
      "GIT_PYTHON_REFRESH=quiet\n",
      "APP_ENV_CDSX_NOTEBOOKS_API=internal-nginx-svc.cp4d.svc.cluster.local:12443\n",
      "DSX_JUPYTER_CONDENV=IBM-WS-System\n",
      "APP_ENV_JUPYTERLAB_WORK_DIR=/userfs\n",
      "VSCODE_AGENT_FOLDER=/home/wsuser/.vscode-server\n",
      "JUPYTERLAB_WORKSPACES_DIR=/home/wsuser/.jupyter/lab/workspaces\n",
      "TF_NUM_INTRAOP_THREADS=2\n",
      "RUNTIME_HARDWARE_SPEC={\"num_cpu\": \"2\", \"mem\": \"4\"}\n",
      "DSX_PROVIDES_PYTHON=3.10\n",
      "JUPYTERLAB_SETTINGS_DIR=/home/wsuser/.jupyter/lab/user-settings\n",
      "APP_ENV_AX_PROJECTS_API=internal-nginx-svc.cp4d.svc.cluster.local:12443\n",
      "PATH=/opt/conda/envs/Python-RT23.1-Premium/bin:/tools-data/vscode-remote/bin/f1b07bd25dfad64b0167beb15359ae573aecd2cc/bin/remote-cli:/opt/conda/envs/Python-RT23.1-Premium/bin:/opt/conda/condabin:/opt/conda/bin:/usr/local/sbin:/usr/local/bin:/usr/sbin:/usr/bin:/sbin:/bin:/opt/ibm/dsdriver/bin\n",
      "JUPYTER_CONFIG_DIR=/home/wsuser/.jupyter/lab/workspaces\n",
      "TF_LIBRARY_DIR=/opt/conda/envs/Python-RT23.1-Premium/lib/python3.10/site-packages/tensorflow\n",
      "DSX_SETTING=Local\n",
      "CONDA_DEFAULT_ENV=Python-RT23.1-Premium\n",
      "ENVIRONMENT_GUID=environment.pythonforvscodeextension\n",
      "DSX_MEM_LIMIT=4294967296\n",
      "TF_INCLUDE_DIR=/opt/conda/envs/Python-RT23.1-Premium/lib/python3.10/site-packages/tensorflow/include\n",
      "APP_ENV_DEPLOYMENT_TARGET=icp4data\n",
      "DSX_SCOPE_STORAGE_TYPE=local_git_storage\n",
      "PROJECT_ID=5e8e49ef-6310-4cd5-82c0-4722a38b9550\n",
      "MPI_ROOT=/opt/conda/envs/Python-RT23.1-Premium\n",
      "OMP_NUM_THREADS=16\n",
      "DSX_CLIENT_DSI_MOUNT_PATH=/etc/cp4d/credentials/client-dsi/\n",
      "_=/opt/conda/envs/Python-RT23.1-Premium/bin/python\n",
      "VSCODE_HANDLES_SIGPIPE=true\n",
      "HISTCONTROL=ignoredups\n",
      "which_declare=declare -f\n",
      "USER=1000800000\n",
      "MAIL=/var/spool/mail/1000800000\n",
      "LOGNAME=1000800000\n",
      "HISTSIZE=1000\n",
      "LESSOPEN=||/usr/bin/lesspipe.sh %s\n",
      "BASH_FUNC_which%%=() {  ( alias;\n",
      " eval ${which_declare} ) | /usr/bin/which --tty-only --read-alias --read-functions --show-tilde --show-dot $@\n",
      "}\n",
      "VSCODE_AMD_ENTRYPOINT=vs/workbench/api/node/extensionHostProcess\n",
      "VSCODE_HANDLES_UNCAUGHT_ERRORS=true\n",
      "VSCODE_NLS_CONFIG={\"locale\":\"en\",\"osLocale\":\"en\",\"availableLanguages\":{}}\n",
      "BROWSER=/tools-data/vscode-remote/bin/f1b07bd25dfad64b0167beb15359ae573aecd2cc/bin/helpers/browser.sh\n",
      "VSCODE_CWD=/userfs\n",
      "ELECTRON_RUN_AS_NODE=1\n",
      "VSCODE_IPC_HOOK_CLI=/tmp/1000800000/vscode-ipc-234f4526-9eab-4743-b869-46c1f91c0e11.sock\n",
      "VSCODE_L10N_BUNDLE_LOCATION=\n",
      "PYTHONUNBUFFERED=1\n",
      "PYTHONIOENCODING=utf-8\n",
      "CONDA_PREFIX_4=/opt/conda\n",
      "CONDA_PREFIX_3=/opt/conda/envs/Python-RT23.1-Premium\n",
      "PYDEVD_IPYTHON_COMPATIBLE_DEBUGGING=1\n",
      "PYDEVD_USE_FRAME_EVAL=NO\n",
      "CLICOLOR=1\n",
      "FORCE_COLOR=1\n",
      "CLICOLOR_FORCE=1\n",
      "PAGER=cat\n",
      "GIT_PAGER=cat\n",
      "MPLBACKEND=module://matplotlib_inline.backend_inline\n"
     ]
    }
   ],
   "source": [
    "import os\n",
    "#TODO: remove this --> potentially leaking secrets\n",
    "for key, value in os.environ.items():\n",
    "    print(f\"{key}={value}\")"
   ]
  }
 ],
 "metadata": {
  "kernelspec": {
   "display_name": "Python 3.10",
   "language": "python",
   "name": "python3"
  },
  "language_info": {
   "codemirror_mode": {
    "name": "ipython",
    "version": 3
   },
   "file_extension": ".py",
   "mimetype": "text/x-python",
   "name": "python",
   "nbconvert_exporter": "python",
   "pygments_lexer": "ipython3",
   "version": "3.10.10"
  }
 },
 "nbformat": 4,
 "nbformat_minor": 5
}
