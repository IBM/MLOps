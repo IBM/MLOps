{
 "cells": [
  {
   "cell_type": "code",
   "execution_count": null,
   "id": "30bbd1b4-414f-48d7-8b64-642dde31bddd",
   "metadata": {
    "id": "30bbd1b4-414f-48d7-8b64-642dde31bddd"
   },
   "outputs": [],
   "source": [
    "!pip install python-dotenv # this is ugly. How do I add this to the enviroment?"
   ]
  },
  {
   "cell_type": "markdown",
   "id": "4c4febc4-bc42-48cb-a226-e8a352003011",
   "metadata": {
    "id": "1c9ea256-70b7-4d27-9628-ef9f55978309",
    "tags": []
   },
   "source": [
    "## Pulling changes from git\n",
    "\n",
    "This notebook will pull the current state from a given git repository.\n",
    "This is necessary so Watson Pipelines will always execute the newest changes!\n",
    "\n",
    "You might have to open a terminal to create the .env file since jupyterlab does not show .env files by defaul "
   ]
  },
  {
   "cell_type": "code",
   "execution_count": null,
   "id": "76dc108f-1be7-4618-b9c8-425ff448c732",
   "metadata": {
    "id": "76dc108f-1be7-4618-b9c8-425ff448c732",
    "tags": []
   },
   "outputs": [],
   "source": [
    "import os\n",
    "from dotenv import load_dotenv\n",
    "\n",
    "load_dotenv()\n",
    "\n",
    "repo_adresse = os.getenv('repo_adresse') # without https://\n",
    "personal_access_token=os.getenv('personal_access_token') # generate this in github \n",
    "branch_name = os.getenv('branch_name') # should match the branch that is currently checked out within this project\n"
   ]
  },
  {
   "cell_type": "markdown",
   "id": "2d9e7962-d85a-4f20-8593-9e0ca93bdb2c",
   "metadata": {
    "id": "e9e0d7ad-e7a0-4ef5-b008-b6474d0449f1"
   },
   "source": [
    "#### setting personal access token --> TODO: get this from a secret vault!"
   ]
  },
  {
   "cell_type": "markdown",
   "id": "d52fe0de-10de-45e6-a69a-1528cee38c40",
   "metadata": {
    "id": "e37c810c-8b5d-448c-be88-bfac1dc21619"
   },
   "source": [
    "ditching all possibly existing local changes"
   ]
  },
  {
   "cell_type": "code",
   "execution_count": null,
   "id": "ba1edbf0-504c-475d-9bf4-a5e7b8ee9383",
   "metadata": {
    "id": "ba1edbf0-504c-475d-9bf4-a5e7b8ee9383",
    "tags": []
   },
   "outputs": [],
   "source": [
    "!git reset --hard HEAD"
   ]
  },
  {
   "cell_type": "markdown",
   "id": "eeaf8fb6-23b8-48c3-9fd8-a92203eb80e3",
   "metadata": {
    "id": "5ac99cf8-ce89-49c0-b397-0ab66c60a2ce"
   },
   "source": [
    "removing current origin to replace it with an origin with explicit credentials"
   ]
  },
  {
   "cell_type": "code",
   "execution_count": null,
   "id": "23055252-3170-41fe-918a-9025af772ab8",
   "metadata": {
    "id": "23055252-3170-41fe-918a-9025af772ab8",
    "tags": []
   },
   "outputs": [],
   "source": [
    "import os\n",
    "\n",
    "exit_code = os.system(\"git remote remove origin\")\n",
    "if exit_code != 0:\n",
    "    print(\"An error occurred.\")"
   ]
  },
  {
   "cell_type": "code",
   "execution_count": null,
   "id": "dd53ddaf-3621-4ac1-8026-e35e713fceda",
   "metadata": {
    "id": "dd53ddaf-3621-4ac1-8026-e35e713fceda",
    "tags": []
   },
   "outputs": [],
   "source": [
    "command=\"git remote add origin https://\"+personal_access_token+\"@\"+repo_adresse\n",
    "!{command}"
   ]
  },
  {
   "cell_type": "code",
   "execution_count": null,
   "id": "162fa803-c479-4c06-81fa-76f5af9d3b28",
   "metadata": {
    "id": "11465116-165a-4af5-bfbc-5fef6cda7d73",
    "tags": []
   },
   "outputs": [],
   "source": [
    "!git fetch "
   ]
  },
  {
   "cell_type": "markdown",
   "id": "62cb29ec-2115-4cc1-b6bd-58bbbac00934",
   "metadata": {
    "id": "04850200-69cf-4031-8c09-44e75f6e5371"
   },
   "source": [
    "for some reason git forgets which branch it is looking at right now --> have to set it explicity"
   ]
  },
  {
   "cell_type": "code",
   "execution_count": null,
   "id": "934d5b9f-a8e5-484e-a770-cfa8ff4f17f2",
   "metadata": {
    "id": "934d5b9f-a8e5-484e-a770-cfa8ff4f17f2",
    "tags": []
   },
   "outputs": [],
   "source": [
    "command=\"git branch --set-upstream-to=origin/\"+branch_name\n",
    "!{command}"
   ]
  },
  {
   "cell_type": "code",
   "execution_count": null,
   "id": "db3e6c1a-7465-4cf5-aab5-a5cb7ddb7340",
   "metadata": {
    "id": "db3e6c1a-7465-4cf5-aab5-a5cb7ddb7340",
    "tags": []
   },
   "outputs": [],
   "source": [
    "!git pull "
   ]
  },
  {
   "cell_type": "code",
   "execution_count": null,
   "id": "6e1ff175-8c04-4c19-9bc8-0f5c0b9d1262",
   "metadata": {
    "id": "6e1ff175-8c04-4c19-9bc8-0f5c0b9d1262"
   },
   "outputs": [],
   "source": []
  }
 ],
 "metadata": {
  "kernelspec": {
   "display_name": "Python 3.10",
   "language": "python",
   "name": "python3"
  },
  "language_info": {
   "codemirror_mode": {
    "name": "ipython",
    "version": 3
   },
   "file_extension": ".py",
   "mimetype": "text/x-python",
   "name": "python",
   "nbconvert_exporter": "python",
   "pygments_lexer": "ipython3",
   "version": "3.10.6"
  }
 },
 "nbformat": 4,
 "nbformat_minor": 5
}
